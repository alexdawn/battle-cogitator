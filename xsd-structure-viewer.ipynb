{
 "cells": [
  {
   "cell_type": "code",
   "execution_count": 15,
   "metadata": {
    "scrolled": true
   },
   "outputs": [],
   "source": [
    "import requests\n",
    "from itertools import chain\n",
    "from collections import namedtuple\n",
    "import logging\n",
    "\n",
    "from lxml import etree\n",
    "from pprint import pprint\n",
    "from IPython.core.display import display, HTML\n",
    "\n",
    "from graphviz import Digraph"
   ]
  },
  {
   "cell_type": "code",
   "execution_count": 26,
   "metadata": {
    "scrolled": true
   },
   "outputs": [
    {
     "name": "stderr",
     "output_type": "stream",
     "text": [
      "/home/alex/projects/battle-cognitator/venv/lib/python3.7/site-packages/ipykernel_launcher.py:60: FutureWarning: The behavior of this method will change in future versions. Use specific 'len(elem)' or 'elem is not None' test instead.\n",
      "/home/alex/projects/battle-cognitator/venv/lib/python3.7/site-packages/ipykernel_launcher.py:73: FutureWarning: The behavior of this method will change in future versions. Use specific 'len(elem)' or 'elem is not None' test instead.\n"
     ]
    }
   ],
   "source": [
    "with open('src/battlescribe/catelogue_schema.xsd', 'rb') as fh:\n",
    "    catelogue_schema = etree.fromstring(fh.read())\n",
    "\n",
    "avoids = ('roster', 'gameSystem', 'comment')\n",
    "types_lookup = {}\n",
    "for x in catelogue_schema:\n",
    "    if x.tag in (\n",
    "        '{http://www.w3.org/2001/XMLSchema}complexType', \n",
    "        '{http://www.w3.org/2001/XMLSchema}simpleType',\n",
    "        '{http://www.w3.org/2001/XMLSchema}attributeGroup',\n",
    "        '{http://www.w3.org/2001/XMLSchema}group'):\n",
    "        assert x.attrib['name'] not in types_lookup.keys()\n",
    "        types_lookup[x.attrib['name']] = x\n",
    "\n",
    "        \n",
    "def find_type(typename, default):\n",
    "    return types_lookup.get(typename.split(':')[1], default)\n",
    "\n",
    "\n",
    "def sequence_search(dot, parent, sequence, level, found_types):\n",
    "    for z in sequence:\n",
    "        if z.tag in ('{http://www.w3.org/2001/XMLSchema}element'):\n",
    "            element_search(dot, parent, z, level+1, found_types)\n",
    "        if z.tag in ('{http://www.w3.org/2001/XMLSchema}group'):\n",
    "            complex_element_search(dot, parent, level+1, found_types, z.attrib['ref'])\n",
    "            \n",
    "\n",
    "def complex_element_search(dot, element, level, found_types, typename):\n",
    "    for y in find_type(typename, []):\n",
    "            if y.tag in ('{http://www.w3.org/2001/XMLSchema}sequence'):\n",
    "                sequence_search(dot, element, y, level, found_types)\n",
    "            if y.tag in ('{http://www.w3.org/2001/XMLSchema}complexContent'):\n",
    "                for z in y:\n",
    "                    if z.tag in ('{http://www.w3.org/2001/XMLSchema}extension'):\n",
    "                        complex_element_search(dot, element, level, found_types, z.attrib['base'])\n",
    "                        for a in z:\n",
    "                            if a.tag in ('{http://www.w3.org/2001/XMLSchema}sequence'):\n",
    "                                sequence_search(dot, element, a, level, found_types)\n",
    "            \n",
    "\n",
    "def element_search(dot, parent, element, level, found_types):\n",
    "    if element.attrib['name'] not in avoids:\n",
    "        dot.node(element.attrib['name'], node_label(element))\n",
    "        if parent is not None:\n",
    "            dot.edge(\n",
    "                parent.attrib.get('name'), \n",
    "                element.attrib.get('name'),\n",
    "                label='{}..{}'.format(\n",
    "                    element.attrib.get('minOccurs', '1'), \n",
    "                    '*' if element.attrib.get('maxOccurs', '1') == 'unbounded'\n",
    "                    else element.attrib.get('maxOccurs', '1')))\n",
    "        if element.attrib.get('type') and (element.attrib['name'], element.attrib['type']) not in found_types:\n",
    "            found_types.add((element.attrib['name'], element.attrib['type']))\n",
    "            #print(\"  \" * level + element.attrib.get('type'))\n",
    "            complex_element_search(dot, element, level, found_types, element.attrib['type'])\n",
    "\n",
    "def get_attributes(element_name):\n",
    "    \"\"\"Handles attributeGroup\"\"\"\n",
    "    find_ref = find_type(element_name, None)\n",
    "    if find_ref:\n",
    "        extension = find_ref.find(\n",
    "            './/xs:complexContent/xs:extension[@base]',\n",
    "            namespaces={'xs': 'http://www.w3.org/2001/XMLSchema'})\n",
    "        attributes = [\n",
    "            x for x in find_ref.findall(\n",
    "                './/xs:attribute[@name]',\n",
    "                namespaces={'xs': 'http://www.w3.org/2001/XMLSchema'})] + \\\n",
    "        list(chain(\n",
    "            *[get_attributes(x.attrib['ref']) \n",
    "              for x in find_ref.findall(\n",
    "                  './/xs:attributeGroup[@ref]',\n",
    "                  namespaces={'xs': 'http://www.w3.org/2001/XMLSchema'})]))\n",
    "        if extension:\n",
    "            attributes.extend(get_attributes(extension.attrib['base']))\n",
    "        return attributes\n",
    "    return []\n",
    "        \n",
    "def node_label(element):\n",
    "    attributes = [x.attrib for x in get_attributes(element.attrib['type'])]\n",
    "    return \"<<TABLE>\" + \\\n",
    "    \"<TR><TD><b>{}</b></TD></TR><TR><TD>\".format(element.attrib['name']) + \\\n",
    "    \"<br/>\".join(\n",
    "        [\"{} {} {}\".format(\n",
    "            a['type'].split(':')[1],\n",
    "            \"<b>{}</b>\".format(a['name'])\n",
    "            if a.get('use') == 'required'\n",
    "            else a['name'], '=' + a.get('default', '')) for a in attributes]) + \\\n",
    "    \"</TD></TR></TABLE>>\"\n",
    "\n",
    "def make_gv():                                \n",
    "    dot = Digraph(comment='BS Schema', node_attr={'shape': 'plaintext'})\n",
    "    found_types = set()\n",
    "    for x in catelogue_schema:\n",
    "        if x.tag == '{http://www.w3.org/2001/XMLSchema}element':\n",
    "            element_search(dot, None, x, 0, found_types)\n",
    "    return dot\n",
    "\n",
    "\n",
    "# try:\n",
    "dot = make_gv()\n",
    "# except:\n",
    "#     import pdb\n",
    "#     pdb.post_mortem()"
   ]
  },
  {
   "cell_type": "code",
   "execution_count": 27,
   "metadata": {},
   "outputs": [
    {
     "data": {
      "text/plain": [
       "'schema.gv.png'"
      ]
     },
     "execution_count": 27,
     "metadata": {},
     "output_type": "execute_result"
    }
   ],
   "source": [
    "dot.format = 'png'\n",
    "dot.render('schema.gv', view=True) "
   ]
  },
  {
   "cell_type": "code",
   "execution_count": null,
   "metadata": {},
   "outputs": [],
   "source": []
  }
 ],
 "metadata": {
  "kernelspec": {
   "display_name": "Python 3",
   "language": "python",
   "name": "python3"
  },
  "language_info": {
   "codemirror_mode": {
    "name": "ipython",
    "version": 3
   },
   "file_extension": ".py",
   "mimetype": "text/x-python",
   "name": "python",
   "nbconvert_exporter": "python",
   "pygments_lexer": "ipython3",
   "version": "3.7.6"
  }
 },
 "nbformat": 4,
 "nbformat_minor": 4
}
