{
 "cells": [
  {
   "cell_type": "code",
   "execution_count": 8,
   "metadata": {
    "scrolled": true
   },
   "outputs": [],
   "source": [
    "import requests\n",
    "from itertools import chain\n",
    "from collections import namedtuple\n",
    "import logging\n",
    "\n",
    "from lxml import etree\n",
    "from pprint import pprint\n",
    "from IPython.core.display import display, HTML\n",
    "from copy import deepcopy\n",
    "\n",
    "from io import StringIO"
   ]
  },
  {
   "cell_type": "code",
   "execution_count": 9,
   "metadata": {},
   "outputs": [],
   "source": [
    "url = f\"https://api.github.com/repos/BSData/wh40k/contents/\"\n",
    "files = requests.get(url).json()\n",
    "catalogues = []\n",
    "# \n",
    "for file in files:\n",
    "    if file['type'] == 'file' and file['name'][0] != '.':\n",
    "        catalogues.append(file['name'])"
   ]
  },
  {
   "cell_type": "code",
   "execution_count": 10,
   "metadata": {
    "scrolled": true
   },
   "outputs": [],
   "source": [
    "with open('src/battlescribe/game_schema.xsd', 'rb') as fh:\n",
    "    game_schema = etree.XMLSchema(etree.fromstring(fh.read()))\n",
    "with open('src/battlescribe/catelogue_schema.xsd', 'rb') as fh:\n",
    "    catelogue_schema = etree.XMLSchema(etree.fromstring(fh.read()))"
   ]
  },
  {
   "cell_type": "code",
   "execution_count": 11,
   "metadata": {},
   "outputs": [],
   "source": [
    "path = 'https://raw.githubusercontent.com/BSData/wh40k/master/{}'.format('Warhammer 40,000.gst')\n",
    "r = requests.get(path)\n",
    "base = etree.fromstring(\n",
    "    r.content, \n",
    "    etree.XMLParser(\n",
    "        remove_blank_text=True, schema = game_schema\n",
    "    )\n",
    ")"
   ]
  },
  {
   "cell_type": "code",
   "execution_count": 12,
   "metadata": {
    "scrolled": true
   },
   "outputs": [
    {
     "name": "stdout",
     "output_type": "stream",
     "text": [
      "Aeldari - Craftworlds\n",
      "Aeldari - Drukhari\n",
      "Aeldari - FW Corsairs\n",
      "Aeldari - Harlequins\n",
      "Aeldari - Ynnari\n",
      "Chaos - Chaos Knights\n",
      "Chaos - Chaos Space Marines\n",
      "Chaos - Daemons\n",
      "Chaos - Dark Mechanicum\n",
      "Chaos - Death Guard\n",
      "Chaos - FW Heretic Astartes\n",
      "Chaos - FW Renegade and Heretics\n",
      "Chaos - Gellerpox Infected\n",
      "Chaos - Servants of the Abyss\n",
      "Chaos - Thousand Sons\n",
      "Chaos - Titanicus Traitoris\n",
      "Fallen\n",
      "Imperium - Adepta Sororitas\n",
      "Imperium - Adeptus Astra Telepathica\n",
      "Imperium - Adeptus Custodes\n",
      "Imperium - Adeptus Mechanicus\n",
      "Imperium - Astra Militarum - Library\n",
      "Imperium - Astra Militarum\n",
      "Imperium - Black Templars\n",
      "Imperium - Blackstone Fortress\n",
      "Imperium - Blood Angels\n",
      "Imperium - Dark Angels\n",
      "Imperium - Deathwatch\n",
      "Imperium - Elucidian Starstriders\n",
      "Imperium - FW Adeptus Astartes\n",
      "Imperium - FW Death Korps of Krieg\n",
      "Imperium - FW Elysians\n",
      "Imperium - Grey Knights\n",
      "Imperium - Imperial Fists\n",
      "Imperium - Imperial Knights\n",
      "Imperium - Inquisition\n",
      "Imperium - Iron Hands\n",
      "Imperium - Legion of the Damned\n",
      "Imperium - Officio Assassinorum\n",
      "Imperium - Raven Guard\n",
      "Imperium - Salamanders\n",
      "Imperium - Sisters of Silence\n",
      "Imperium - Space Marines\n",
      "Imperium - Space Wolves\n",
      "Imperium - Titan Legions\n",
      "Imperium - Ultramarines\n",
      "Imperium - White Scars\n",
      "Necrons\n",
      "Orks\n",
      "T'au Empire\n",
      "Tyranids - Genestealer Cults\n",
      "Tyranids\n",
      "Unaligned - Monsters and Gribblies\n"
     ]
    }
   ],
   "source": [
    "for catalogue in catalogues:\n",
    "    name, ext = catalogue.split(\".\")\n",
    "    if ext == 'cat':\n",
    "        print(name)\n",
    "        path = 'https://raw.githubusercontent.com/BSData/wh40k/master/{}'.format(\n",
    "        catalogue)\n",
    "        r = requests.get(path)\n",
    "        cat = etree.fromstring(\n",
    "            r.content, \n",
    "            etree.XMLParser(\n",
    "                remove_blank_text=True, schema = catelogue_schema\n",
    "            )\n",
    "        )\n",
    "        base_copy = deepcopy(base)\n",
    "        for x in cat:\n",
    "            base_copy.append(x)\n",
    "        with open(\"src/battlescribe/catelogue.xslt\", \"r\") as f:\n",
    "            xslt_root = etree.XML(f.read())\n",
    "        transform = etree.XSLT(xslt_root)\n",
    "        result_tree = transform(base_copy)\n",
    "        with open(\"src/battlescribe/{}.html\".format(name), \"w\") as f:\n",
    "            f.write(str(result_tree))\n",
    "        #HTML(str(result_tree))"
   ]
  },
  {
   "cell_type": "code",
   "execution_count": 13,
   "metadata": {
    "scrolled": true
   },
   "outputs": [],
   "source": [
    "for y in base.xpath(\n",
    "    \"//cat:*[@name = 'Storm Guardians']\", \n",
    "    namespaces={\n",
    "        'gc': 'http://www.battlescribe.net/schema/gameSystemSchema',\n",
    "        'cat': 'http://www.battlescribe.net/schema/catalogueSchema'}):\n",
    "    for line in str(etree.tostring(y, pretty_print=True)).split('\\\\n'):\n",
    "        print(line)\n",
    "    print()"
   ]
  },
  {
   "cell_type": "code",
   "execution_count": 11,
   "metadata": {},
   "outputs": [],
   "source": [
    "# group profiles within an entry\n",
    "# group entries by category HQ, ELite etec..."
   ]
  }
 ],
 "metadata": {
  "kernelspec": {
   "display_name": "Python 3",
   "language": "python",
   "name": "python3"
  },
  "language_info": {
   "codemirror_mode": {
    "name": "ipython",
    "version": 3
   },
   "file_extension": ".py",
   "mimetype": "text/x-python",
   "name": "python",
   "nbconvert_exporter": "python",
   "pygments_lexer": "ipython3",
   "version": "3.7.6"
  }
 },
 "nbformat": 4,
 "nbformat_minor": 4
}
