{
 "cells": [
  {
   "cell_type": "code",
   "execution_count": 1,
   "metadata": {
    "scrolled": true
   },
   "outputs": [],
   "source": [
    "import requests\n",
    "from itertools import chain\n",
    "from collections import namedtuple\n",
    "import logging\n",
    "\n",
    "from lxml import etree\n",
    "from pprint import pprint\n",
    "from IPython.core.display import display, HTML\n",
    "\n",
    "\n",
    "url = f\"https://api.github.com/repos/BSData/wh40k/contents/\"\n",
    "files = requests.get(url).json()\n",
    "catalogues = []\n",
    "# \n",
    "for file in files:\n",
    "    if file['type'] == 'file' and file['name'][0] != '.':\n",
    "        catalogues.append(file['name'])"
   ]
  },
  {
   "cell_type": "code",
   "execution_count": 2,
   "metadata": {},
   "outputs": [],
   "source": [
    "with open('src/battlescribe/gamesystem_schema.xsd') as fh:\n",
    "    gamesystem_schema = etree.XMLSchema(etree.fromstring('\\n'.join(fh.readlines())))"
   ]
  },
  {
   "cell_type": "code",
   "execution_count": 3,
   "metadata": {},
   "outputs": [],
   "source": [
    "path = 'https://raw.githubusercontent.com/BSData/wh40k/master/{}'.format('Warhammer 40,000.gst')\n",
    "r = requests.get(path)\n",
    "base = etree.fromstring(r.content, etree.XMLParser(remove_blank_text=True, schema = None))"
   ]
  },
  {
   "cell_type": "code",
   "execution_count": 4,
   "metadata": {},
   "outputs": [],
   "source": [
    "# look at other cats for better undestanding of sharedSelectionEntryGroups\n",
    "# handle unit types from main rules, restrictions (min, max)\n",
    "# print unit compositions unit (min, max), equipments (min, max)\n",
    "\n",
    "# work with more cats:\n",
    "# profileTypes, selectionEntries, forceEntries, rules, sharedRules, infoLinks, catalogueLinks, sharedInfoGroups, costTypes\n",
    "# work with more of the base rules"
   ]
  },
  {
   "cell_type": "code",
   "execution_count": 5,
   "metadata": {},
   "outputs": [],
   "source": [
    "def load_catalogue(root, base):\n",
    "    sanity_check(root)\n",
    "    namespace = {\n",
    "        'c': 'http://www.battlescribe.net/schema/catalogueSchema',\n",
    "        'gs': 'http://www.battlescribe.net/schema/gameSystemSchema'}\n",
    "    data = {}\n",
    "    data[root.attrib['id']] = {'type': 'catalogue_attributes', **root.attrib}\n",
    "    \n",
    "    convert_publications(root, data, namespace)\n",
    "    convert_categories(root, base, data, namespace)\n",
    "    convert_entries(root, data, namespace)\n",
    "    convert_shared_selection_entries(root, data, namespace)\n",
    "    convert_shared_profile(root, base, data, namespace)\n",
    "    convert_shared_selection_entry_groups(root, data, namespace)\n",
    "\n",
    "    return display_profiles(data)"
   ]
  },
  {
   "cell_type": "code",
   "execution_count": 6,
   "metadata": {},
   "outputs": [],
   "source": [
    "def convert_publications(root, data, namespace):\n",
    "    data['publications'] = {\n",
    "        entry.attrib['id']: entry.attrib['name'] \n",
    "        for entry in root.xpath(\"/c:catalogue/c:publications/c:publication\", namespaces=namespace)}"
   ]
  },
  {
   "cell_type": "code",
   "execution_count": 7,
   "metadata": {
    "scrolled": false
   },
   "outputs": [],
   "source": [
    "def convert_categories(root, base, data, namespace):\n",
    "    data['categories'] = {\n",
    "        entry.attrib['id']: entry.attrib['name']\n",
    "        for entry in root.xpath(\"/c:catalogue/c:categoryEntries/c:categoryEntry\", namespaces=namespace)}\n",
    "\n",
    "    data['categories'].update({\n",
    "        entry.attrib['id']: entry.attrib['name']\n",
    "        for entry in base.xpath(\"/gs:gameSystem/gs:categoryEntries/gs:categoryEntry\", namespaces=namespace)\n",
    "    })"
   ]
  },
  {
   "cell_type": "code",
   "execution_count": 8,
   "metadata": {
    "scrolled": true
   },
   "outputs": [],
   "source": [
    "def convert_entries(root, data, namespace):\n",
    "    data['entries'] = {\n",
    "        entry.attrib['id']: {\n",
    "            **entry.attrib, \n",
    "            \"links\": [link.attrib for link in entry.xpath(\"c:categoryLinks/c:categoryLink\", namespaces=namespace)],\n",
    "            \"modifiers\": [{**m.attrib} for m in entry.xpath(\"c:modifiers/c:modifier\", namespaces=namespace)]}\n",
    "        for entry in root.xpath(\"/c:catalogue/c:entryLinks/c:entryLink\", namespaces=namespace)}"
   ]
  },
  {
   "cell_type": "code",
   "execution_count": 9,
   "metadata": {},
   "outputs": [],
   "source": [
    "def extract_characterstics(p, schema, namespace):\n",
    "    type_select = {\n",
    "        'Unit': (Model, model_labels),\n",
    "        'Weapon': (Weapon, weapon_labels),\n",
    "        'Abilities': (Ability, ability_labels),\n",
    "        'Psyker': (Psyker, psyker_label),\n",
    "        'Psychic Power': (Power, power_labels),\n",
    "        'Keywords': (Keywords, keywords_labels),\n",
    "        'Wound Track': (WoundTrack, wound_track_labels),\n",
    "        'Transport': (Transport, transport_labels),\n",
    "        'Distort Fields': (DistortFields, distort_fields_labels)\n",
    "    }\n",
    "    \n",
    "    struc, label_lookup = type_select[p.attrib['typeName']]\n",
    "    if type_select.get(p.attrib['typeName']):\n",
    "        return struc(name=p.attrib['name'],\n",
    "            **{\n",
    "                label_lookup[c.attrib['name']]: c.text \n",
    "                for c in p.xpath(\"{0}:characteristics/{0}:characteristic\".format(schema), namespaces=namespace)\n",
    "            })\n",
    "    else:\n",
    "        logging.warning(\"Unknown type {}\".format(p.attrib['typeName']))"
   ]
  },
  {
   "cell_type": "code",
   "execution_count": 10,
   "metadata": {},
   "outputs": [],
   "source": [
    "def make_selection_entry(entry, namespace):\n",
    "    return {\n",
    "        **entry.attrib,\n",
    "        \"profiles\": [extract_characterstics(p, 'c', namespace) for p in entry.xpath(\"c:profiles/c:profile\", namespaces=namespace)],\n",
    "        \"constraints\": [c.attrib for c in entry.xpath(\"c:constraints/c:constraint\", namespaces=namespace)],\n",
    "        \"info_links\": [link.attrib for link in entry.xpath(\"c:infoLinks/c:infoLink\", namespaces=namespace)],\n",
    "        \"selection_entries\": [make_selection_entry(e, namespace) for e in entry.xpath(\"c:selectionEntries/c:selectionEntry\", namespaces=namespace)],\n",
    "        \"entry_links\": [c.attrib for c in entry.xpath(\"c:entryLinks/c:entryLink\", namespaces=namespace)],\n",
    "        \"costs\": [(c.attrib['name'], c.attrib['value']) for c in entry.xpath(\"c:costs/c:cost\", namespaces=namespace) if float(c.attrib['value']) > 0],\n",
    "        \"category_links\": [link.attrib for link in entry.xpath(\"c:categoryLinks/c:categoryLink\", namespaces=namespace)],\n",
    "    }"
   ]
  },
  {
   "cell_type": "code",
   "execution_count": 11,
   "metadata": {},
   "outputs": [],
   "source": [
    "# Need Transport and Vehicle stats\n",
    "# Keywords, Wound Track, Transport. Distort Fields\n",
    "model_labels = {\n",
    "    'M': 'movement', \n",
    "    'WS': 'weapon_skill', \n",
    "    'BS': 'ballistic_skill', \n",
    "    'S': 'strength', \n",
    "    'T': 'toughness', \n",
    "    'W': 'wounds', \n",
    "    'A': 'attacks', \n",
    "    'Ld': 'leadership', \n",
    "    'Save': 'armour'}\n",
    "\n",
    "weapon_labels = {\n",
    "    'Range': 'range', \n",
    "    'Type': 'type', \n",
    "    'S': 'strength', \n",
    "    'AP': 'armour_piercing', \n",
    "    'D': 'damage', \n",
    "    'Abilities': 'abilities'\n",
    "}\n",
    "\n",
    "ability_labels = {\n",
    "    'Description': 'description'\n",
    "}\n",
    "\n",
    "psyker_label = {\n",
    "    \"Cast\": \"cast\",\n",
    "    \"Deny\": \"deny\",\n",
    "    \"Powers Known\": \"known_powers\",\n",
    "    \"Other\": \"other\",\n",
    "}\n",
    "\n",
    "power_labels = {\n",
    "    \"Warp Charge\": \"warp_charge\",\n",
    "    \"Range\": \"range\",\n",
    "    \"Details\": \"details\",\n",
    "}\n",
    "\n",
    "keywords_labels = {\n",
    "    'Keywords (Faction)': 'faction_keywords',\n",
    "    'Keywords (Basic)': 'basic_keywords',\n",
    "}\n",
    "\n",
    "wound_track_labels = {\n",
    "    \"Remaining W\": \"remaining_wounds\",\n",
    "    \"Characteristic 1\": \"characteristic1\",\n",
    "    \"Characteristic 2\": \"characteristic2\",\n",
    "    \"Characteristic 3\": \"characteristic3\",\n",
    "}\n",
    "\n",
    "transport_labels = {\n",
    "    'Capacity': 'capacity'\n",
    "}\n",
    "\n",
    "distort_fields_labels = {\n",
    "    \"Distance Moved\": \"distance_moved\",\n",
    "    \"Invulnerable Save\": \"invulnerable_save\",\n",
    "}\n",
    "\n",
    "Model = namedtuple(\n",
    "    'Model', ['name', 'movement', 'weapon_skill', 'ballistic_skill', 'strength', 'toughness', 'wounds', 'attacks', 'leadership', 'armour'])\n",
    "Weapon = namedtuple(\n",
    "    'Weapon', ['name', 'range', 'type', 'strength', 'armour_piercing', 'damage', 'abilities'])\n",
    "Ability = namedtuple(\n",
    "    'Ability', ['name', 'description'])\n",
    "Psyker = namedtuple(\n",
    "    'Psyker', ['name', 'cast', 'deny', 'known_powers', 'other'])\n",
    "Power = namedtuple(\n",
    "    'Power', ['name', 'warp_charge', 'range', 'details']\n",
    ")\n",
    "Keywords = namedtuple(\n",
    "    'Keywords', ['name', 'faction_keywords', 'basic_keywords']\n",
    ")\n",
    "WoundTrack = namedtuple(\n",
    "    'WoundTrack', ['name', 'remaining_wounds', 'characteristic1', 'characteristic2', 'characteristic3']\n",
    ")\n",
    "Transport = namedtuple(\n",
    "    'Transport', ['name', 'capacity']\n",
    ")\n",
    "DistortFields = namedtuple(\n",
    "    'DistortFields', ['name', 'distance_moved', 'invulnerable_save']\n",
    ")"
   ]
  },
  {
   "cell_type": "code",
   "execution_count": 12,
   "metadata": {},
   "outputs": [],
   "source": [
    "def convert_shared_selection_entries(root, data, namespace):\n",
    "    data['shared_selection_entries'] = {\n",
    "        entry.attrib['id']: make_selection_entry(entry, namespace)\n",
    "        for entry in root.xpath(\"/c:catalogue/c:sharedSelectionEntries/c:selectionEntry\", namespaces=namespace)}"
   ]
  },
  {
   "cell_type": "code",
   "execution_count": 13,
   "metadata": {},
   "outputs": [],
   "source": [
    "def convert_shared_selection_entry_groups(root, data, namespace):\n",
    "    data['shared_selection_entry_groups'] = {\n",
    "        shared_group.attrib['id']: {\n",
    "            **shared_group.attrib,\n",
    "            'selection_entries': [\n",
    "                make_selection_entry(entry, namespace)\n",
    "                for entry in shared_group.xpath(\"c:selectionEntries/c:selectionEntry\", namespaces=namespace)],\n",
    "            'links': [\n",
    "                {**link.attrib, 'constraints': [c.attrib for c in link.xpath(\"c:constraints/c:constraint\", namespaces=namespace)]}\n",
    "                for link in shared_group.xpath(\"c:entryLinks/c:entryLink\", namespaces=namespace)\n",
    "            ]\n",
    "        }\n",
    "        for shared_group in root.xpath(\"/c:catalogue/c:sharedSelectionEntryGroups/c:selectionEntryGroup\", namespaces=namespace)}"
   ]
  },
  {
   "cell_type": "code",
   "execution_count": 14,
   "metadata": {},
   "outputs": [],
   "source": [
    "def convert_shared_profile(root, base, data, namespace):\n",
    "    data['shared_profile'] = {\n",
    "        shared_profile.attrib['id']: {\n",
    "            'name': shared_profile.attrib['name'], \n",
    "            'type': shared_profile.attrib['typeName'],\n",
    "            'characteristics': extract_characterstics(shared_profile, 'c', namespace)}\n",
    "        for shared_profile in root.xpath(\"/c:catalogue/c:sharedProfiles/c:profile\", namespaces=namespace)}\n",
    "\n",
    "    data['shared_profile'].update({\n",
    "        shared_profile.attrib['id']: {\n",
    "            'name': shared_profile.attrib['name'], \n",
    "            'type': shared_profile.attrib['typeName'],\n",
    "            'characteristics': extract_characterstics(shared_profile, 'gs', namespace)}\n",
    "        for shared_profile in base.xpath(\"/gs:gameSystem/gs:sharedProfiles/gs:profile\", namespaces=namespace)})"
   ]
  },
  {
   "cell_type": "code",
   "execution_count": 15,
   "metadata": {},
   "outputs": [],
   "source": [
    "def profile_search(data, entry):\n",
    "    \"\"\"Searches for all the parts of a selection entry for child seleciton entries and profiles and entry_links\"\"\"\n",
    "    if len(entry.get('selection_entries', [])) > 0:\n",
    "        for y in entry['selection_entries']:\n",
    "            for x in profile_search(data, y):\n",
    "                yield x\n",
    "    for p in entry.get('profiles', []):\n",
    "        yield p\n",
    "    for il in entry.get('info_links', []):\n",
    "        if il['type'] == 'profile':\n",
    "            yield data['shared_profile'][il['targetId']]['characteristics']\n",
    "        else:\n",
    "            logging.warning(\"Unknown info link type {}\".format(il['type']))\n",
    "    for l in entry.get('entry_links', []):\n",
    "        if l['type'] == 'selectionEntry':\n",
    "            target = data['shared_selection_entries'].get(l['targetId'])\n",
    "            if target:\n",
    "                for p in target['profiles']:\n",
    "                    yield p\n",
    "                for il in target['info_links']:\n",
    "                    if il['type'] == 'profile':\n",
    "                        yield data['shared_profile'][il['targetId']]['characteristics']\n",
    "                    else:\n",
    "                        logging.warning(\"Unknown info link type {}\".format(il['type']))\n",
    "            else:\n",
    "                logging.warning(\"Unknown reference {} {} {}\".format(l['type'], l.get('name', '<no-name>'), l['targetId']))\n",
    "        elif l['type'] == 'selectionEntryGroup':\n",
    "            shared_entry = data['shared_selection_entry_groups'].get(l['targetId'])\n",
    "            if shared_entry:\n",
    "                for ge in profile_search(data, shared_entry):\n",
    "                    yield ge\n",
    "            else:\n",
    "                logging.warning(\"Unknown reference {} {} {}\".format(l['type'], l.get('name', '<no-name>'), l['targetId']))\n",
    "        else:\n",
    "            logging.warning(\"Unknown type {}\".format(l['type']))"
   ]
  },
  {
   "cell_type": "code",
   "execution_count": 16,
   "metadata": {},
   "outputs": [],
   "source": [
    "def get_restrictions(entry):\n",
    "    constraints = {}\n",
    "    for c in entry['constraints']:\n",
    "        assert c['field'] in ('selections', 'roster'), \"Unknown field type {}\".format(c)\n",
    "        assert c['scope'] in ('force', 'roster'), \"Unknown scope type {}\".format(c)\n",
    "        constraints[c['type']] = int(float(c['value']))\n",
    "    if 'min' in constraints.keys() or 'max' in constraints.keys():\n",
    "        return \"{}-{}\".format(constraints.get('min', 0), constraints.get('max', 'inf'))\n",
    "    else:\n",
    "        return ''"
   ]
  },
  {
   "cell_type": "code",
   "execution_count": 17,
   "metadata": {},
   "outputs": [],
   "source": [
    "def find_troop_type(v, keywords):\n",
    "    \"\"\"Some units don't seem to have type listed as a category, only as a keyword\"\"\"\n",
    "    for k in keywords:\n",
    "        if k in (\n",
    "            'HQ', 'Elites', 'Troops', 'Fast Attack', 'Heavy Support', \n",
    "            'Dedicated Transport', 'Flyer', 'Lord of War'):\n",
    "            return k\n",
    "    logging.warning(\"Could not get troop type {}\".format(v['links']))\n",
    "    return 'unknown'"
   ]
  },
  {
   "cell_type": "code",
   "execution_count": 18,
   "metadata": {},
   "outputs": [],
   "source": [
    "def print_vehicle_wound_track(models, wound_track):\n",
    "    if wound_track:\n",
    "        characterstics = ['Name', 'Remaining Wounds']\n",
    "        for attribute, value in zip(models[0]._fields, list(models[0])):\n",
    "            if value == '*':\n",
    "                characterstics.append(attribute)\n",
    "        return format_table(\n",
    "            characterstics, len(characterstics) * [1 / len(characterstics)], wound_track)\n",
    "    else:\n",
    "        return ''"
   ]
  },
  {
   "cell_type": "code",
   "execution_count": 19,
   "metadata": {},
   "outputs": [],
   "source": [
    "# format to be displayed in tables\n",
    "model_attributes = ['Name', 'Move', 'WS', 'BS', 'S', 'T', 'W', 'A', 'L', 'Sv']\n",
    "model_widths = [0.3, 0.1, 0.075, 0.075, 0.075, 0.075, 0.075, 0.075, 0.075, 0.075]\n",
    "weapon_attributes = ['Weapon', 'Range', 'Type', 'S', 'AP', 'D', 'Abilities']\n",
    "weapon_widths = [0.3, 0.05, 0.1, 0.05, 0.05, 0.05, 0.4]\n",
    "#assert sum(model_widths) == 1\n",
    "assert sum(weapon_widths) == 1, \"width is {}\".format(sum(weapon_widths))\n",
    "\n",
    "def format_table(column_names, column_widths, entries):\n",
    "        if entries:\n",
    "            return '''\n",
    "        <table style=\"width:75%\">\n",
    "            <tr>\n",
    "                {}\n",
    "            </tr>\n",
    "            {}\n",
    "        </table> '''.format(\n",
    "                ''.join(\n",
    "                    '<th style=\"width: {w}%;\"><b>{x}</b></th>'.format(x=x, w=w*100)\n",
    "                    for x, w in zip(column_names, column_widths)),\n",
    "                ''.join('<tr>{}</tr>'.format(\n",
    "                    ''.join('<td>{}</td>'.format(i) for i in list(row) if i)) for row in entries))\n",
    "        else:\n",
    "            return ''"
   ]
  },
  {
   "cell_type": "code",
   "execution_count": 20,
   "metadata": {
    "scrolled": false
   },
   "outputs": [],
   "source": [
    "def display_profiles(data):\n",
    "    names = []\n",
    "    datasheets = []\n",
    "    for k, v in data['entries'].items():\n",
    "        entry = data['shared_selection_entries'].get(v['targetId'])\n",
    "        if entry:\n",
    "            if entry['hidden'] == 'false':\n",
    "                name = v['name'] or entry['name']\n",
    "                keywords = [data['categories'].get(l['targetId'], l.get('name', 'unknown')) for l in entry['category_links']]\n",
    "                faction = [x.split(\"Faction: \")[1] for x in keywords if 'Faction' in x]\n",
    "                other_keywords = [x for x in keywords if not 'Faction' in x]\n",
    "                items = list(profile_search(data, entry))\n",
    "                models = set(i for i in items if type(i) == Model)\n",
    "                weapons = set(i for i in items if type(i) == Weapon)\n",
    "                abilities = [i for i in items if type(i) == Ability]\n",
    "                psyker = [i for i in items if type(i) == Psyker]\n",
    "                power = [i for i in items if type(i) == Power]\n",
    "                keywords = [i for i in items if type(i) == Keywords]\n",
    "                wound_track = [i for i in items if type(i) == WoundTrack]\n",
    "                transport = [i for i in items if type(i) == Transport]\n",
    "                distort_field = [i for i in items if type(i) == DistortFields] # custom eldar thing\n",
    "\n",
    "                try:\n",
    "                    troop_type = data['categories'][[x for x in v['links'] if x['primary'] == 'true'][0]['targetId']]\n",
    "                except:\n",
    "                    troop_type = find_troop_type(v, other_keywords)\n",
    "\n",
    "                entry_html = [\n",
    "            entry['type'],\n",
    "            '<h1>{} {}</h1>'.format(name, get_restrictions(entry)),\n",
    "            '<p>{} [{}]</p>'.format('[{}]'.format(troop_type), \", \".join(\"{}:{}\".format(x[0], int(float(x[1]))) for x in entry['costs'])),\n",
    "            format_table(model_attributes, model_widths, models),\n",
    "            print_vehicle_wound_track(list(models), wound_track),\n",
    "            'Unit contains x of y, x of y with a,b,c<br>',\n",
    "            format_table(weapon_attributes, weapon_widths, weapons),\n",
    "            format_table([], [], transport),\n",
    "            '<b>Abilities:</b><ul>{}</ul>'.format(\"<br>\".join([\"<li><b>{}</b> {}</li>\".format(a.name, a.description) for a in abilities])),\n",
    "            '<b>Faction Keywords:</b> {}<br>'.format(\", \".join(faction)),\n",
    "            '<b>Keywords:</b> {}'.format(\", \".join(other_keywords))\n",
    "                ]\n",
    "                names.append(name)\n",
    "                datasheets.append(widgets.HTML(\"\".join(entry_html)))\n",
    "            elif entry['hidden'] == 'true':\n",
    "                logging.warning(\"Hidden Entry\")\n",
    "        else:\n",
    "            logging.warning(\"No Entry {}\".format(v.get('name', v)))\n",
    "    accordion = widgets.Accordion(children=datasheets)\n",
    "    for i, name in enumerate(names):\n",
    "        accordion.set_title(i, name)\n",
    "    return accordion"
   ]
  },
  {
   "cell_type": "code",
   "execution_count": 21,
   "metadata": {},
   "outputs": [],
   "source": [
    "def download_catalogue(filename, catelogue_schema):\n",
    "    path = 'https://raw.githubusercontent.com/BSData/wh40k/master/{}'.format(filename)\n",
    "    r = requests.get(path)\n",
    "#     root = etree.fromstring(r.content, etree.XMLParser(\n",
    "#         remove_blank_text=True, compact=False, schema=catelogue_schema))\n",
    "    return r.content\n",
    "\n",
    "def convert_catalogue(filename):\n",
    "    root = download_catalogue(filename)\n",
    "    return load_catalogue(root, base)"
   ]
  },
  {
   "cell_type": "code",
   "execution_count": 22,
   "metadata": {},
   "outputs": [],
   "source": [
    "# import lxml\n",
    "\n",
    "# def merge_xml(filenames):\n",
    "#     \"\"\"This merges the cat files in each of the top level tags\"\"\"\n",
    "#     merged = lxml.etree.fromstring(\"\"\"\n",
    "# <catalogue id=\"30b2-6f64-b85e-b4dc\" name=\"Aeldari - Craftworlds\" revision=\"97\" battleScribeVersion=\"2.03\" authorName=\"BSData Developers\" authorContact=\"@FarseerV @WindstormSCR\" authorUrl=\"https://discord.gg/KqPVhds\" library=\"false\" gameSystemId=\"28ec-711c-d87f-3aeb\" gameSystemRevision=\"134\" xmlns=\"http://www.battlescribe.net/schema/catalogueSchema\">\n",
    "# </catalogue>\n",
    "#     \"\"\")\n",
    "#     for filename in filenames:\n",
    "#         print(filename)\n",
    "#         path = 'https://raw.githubusercontent.com/BSData/wh40k/master/{}'.format(filename)\n",
    "#         r = requests.get(path)\n",
    "#         for element in lxml.etree.fromstring(r.content):\n",
    "#             for child in element:\n",
    "#                 section = next(merged.iter(element.tag), None)\n",
    "#                 if not section:\n",
    "#                     section = etree.SubElement(merged, element.tag)\n",
    "#                 section.append(child)\n",
    "#     return merged\n",
    "    \n",
    "# merged = merge_xml([c for c in catalogues if '.cat' in c])\n",
    "# with open(\"merged.xml\", \"wb\") as output:\n",
    "#     output.write(etree.tostring(merged, pretty_print=True))"
   ]
  },
  {
   "cell_type": "code",
   "execution_count": 23,
   "metadata": {},
   "outputs": [
    {
     "name": "stdout",
     "output_type": "stream",
     "text": [
      "Success Aeldari - Craftworlds.cat\n",
      "Success Aeldari - Drukhari.cat\n",
      "Success Aeldari - FW Corsairs.cat\n",
      "Success Aeldari - Harlequins.cat\n",
      "Success Aeldari - Ynnari.cat\n",
      "Success Chaos - Chaos Knights.cat\n",
      "Success Chaos - Chaos Space Marines.cat\n",
      "Success Chaos - Daemons.cat\n",
      "Success Chaos - Dark Mechanicum.cat\n",
      "Success Chaos - Death Guard.cat\n",
      "Success Chaos - FW Heretic Astartes.cat\n",
      "Success Chaos - FW Renegade and Heretics.cat\n",
      "Success Chaos - Gellerpox Infected.cat\n",
      "Success Chaos - Servants of the Abyss.cat\n",
      "Success Chaos - Thousand Sons.cat\n",
      "Success Chaos - Titanicus Traitoris.cat\n",
      "Success Fallen.cat\n",
      "Success Imperium - Adepta Sororitas.cat\n",
      "Success Imperium - Adeptus Astra Telepathica.cat\n",
      "Success Imperium - Adeptus Custodes.cat\n",
      "Success Imperium - Adeptus Mechanicus.cat\n",
      "Success Imperium - Astra Militarum - Library.cat\n",
      "Success Imperium - Astra Militarum.cat\n",
      "Success Imperium - Black Templars.cat\n",
      "Success Imperium - Blackstone Fortress.cat\n",
      "Success Imperium - Blood Angels.cat\n",
      "Success Imperium - Dark Angels.cat\n",
      "Success Imperium - Deathwatch.cat\n",
      "Success Imperium - Elucidian Starstriders.cat\n",
      "Success Imperium - FW Adeptus Astartes.cat\n",
      "Success Imperium - FW Death Korps of Krieg.cat\n",
      "Success Imperium - FW Elysians.cat\n",
      "Success Imperium - Grey Knights.cat\n",
      "Success Imperium - Imperial Fists.cat\n",
      "Success Imperium - Imperial Knights.cat\n",
      "Success Imperium - Inquisition.cat\n",
      "Success Imperium - Iron Hands.cat\n",
      "Success Imperium - Legion of the Damned.cat\n",
      "Success Imperium - Officio Assassinorum.cat\n",
      "Success Imperium - Raven Guard.cat\n",
      "Success Imperium - Salamanders.cat\n",
      "Success Imperium - Sisters of Silence.cat\n",
      "Success Imperium - Space Marines.cat\n",
      "Success Imperium - Space Wolves.cat\n",
      "Success Imperium - Titan Legions.cat\n",
      "Success Imperium - Ultramarines.cat\n",
      "Success Imperium - White Scars.cat\n",
      "Success Necrons.cat\n",
      "Success Orks.cat\n",
      "Success T'au Empire.cat\n",
      "Success Tyranids - Genestealer Cults.cat\n",
      "Success Tyranids.cat\n",
      "Success Unaligned - Monsters and Gribblies.cat\n"
     ]
    }
   ],
   "source": [
    "with open('src/battlescribe/catelogue_schema.xsd', 'rb') as fh:\n",
    "    catelogue_schema = etree.XMLSchema(etree.fromstring(fh.read()))\n",
    "\n",
    "\n",
    "for c in catalogues:\n",
    "    if '.cat' in c:\n",
    "        try:\n",
    "            download_catalogue(c, catelogue_schema)\n",
    "            print(\"Success\", c)\n",
    "        except Exception as e:\n",
    "            print(\"Failed\", c)\n",
    "            print(e)"
   ]
  },
  {
   "cell_type": "code",
   "execution_count": 24,
   "metadata": {
    "scrolled": true
   },
   "outputs": [
    {
     "data": {
      "application/vnd.jupyter.widget-view+json": {
       "model_id": "61ce36e7155749f7a6c70fa477b986ce",
       "version_major": 2,
       "version_minor": 0
      },
      "text/plain": [
       "Dropdown(description='Catelogue:', options=('Aeldari - Craftworlds.cat', 'Aeldari - Drukhari.cat', 'Aeldari - …"
      ]
     },
     "metadata": {},
     "output_type": "display_data"
    },
    {
     "data": {
      "application/vnd.jupyter.widget-view+json": {
       "model_id": "a35b1d4343a543aaaaafe8aec79330eb",
       "version_major": 2,
       "version_minor": 0
      },
      "text/plain": [
       "Output()"
      ]
     },
     "metadata": {},
     "output_type": "display_data"
    },
    {
     "data": {
      "application/vnd.jupyter.widget-view+json": {
       "model_id": "c974e983a557435287d0a5eb8de5d46c",
       "version_major": 2,
       "version_minor": 0
      },
      "text/plain": [
       "HTML(value='<h1>Aeldari - Craftworlds.cat</h1>')"
      ]
     },
     "metadata": {},
     "output_type": "display_data"
    },
    {
     "ename": "TypeError",
     "evalue": "download_catalogue() missing 1 required positional argument: 'catelogue_schema'",
     "output_type": "error",
     "traceback": [
      "\u001b[0;31m---------------------------------------------------------------------------\u001b[0m",
      "\u001b[0;31mTypeError\u001b[0m                                 Traceback (most recent call last)",
      "\u001b[0;32m<ipython-input-24-d875ef2d35d8>\u001b[0m in \u001b[0;36m<module>\u001b[0;34m\u001b[0m\n\u001b[1;32m     16\u001b[0m \u001b[0;34m\u001b[0m\u001b[0m\n\u001b[1;32m     17\u001b[0m \u001b[0mdropdown\u001b[0m\u001b[0;34m.\u001b[0m\u001b[0mobserve\u001b[0m\u001b[0;34m(\u001b[0m\u001b[0mon_value_change\u001b[0m\u001b[0;34m,\u001b[0m \u001b[0mnames\u001b[0m\u001b[0;34m=\u001b[0m\u001b[0;34m'value'\u001b[0m\u001b[0;34m)\u001b[0m\u001b[0;34m\u001b[0m\u001b[0;34m\u001b[0m\u001b[0m\n\u001b[0;32m---> 18\u001b[0;31m \u001b[0mon_value_change\u001b[0m\u001b[0;34m(\u001b[0m\u001b[0;34m{\u001b[0m\u001b[0;34m'new'\u001b[0m\u001b[0;34m:\u001b[0m \u001b[0mcatalogues\u001b[0m\u001b[0;34m[\u001b[0m\u001b[0;36m0\u001b[0m\u001b[0;34m]\u001b[0m\u001b[0;34m}\u001b[0m\u001b[0;34m)\u001b[0m\u001b[0;34m\u001b[0m\u001b[0;34m\u001b[0m\u001b[0m\n\u001b[0m",
      "\u001b[0;32m<ipython-input-24-d875ef2d35d8>\u001b[0m in \u001b[0;36mon_value_change\u001b[0;34m(change)\u001b[0m\n\u001b[1;32m     13\u001b[0m     \u001b[0moutput2\u001b[0m\u001b[0;34m.\u001b[0m\u001b[0mclear_output\u001b[0m\u001b[0;34m(\u001b[0m\u001b[0;34m)\u001b[0m\u001b[0;34m\u001b[0m\u001b[0;34m\u001b[0m\u001b[0m\n\u001b[1;32m     14\u001b[0m     \u001b[0moutput2\u001b[0m\u001b[0;34m.\u001b[0m\u001b[0mappend_display_data\u001b[0m\u001b[0;34m(\u001b[0m\u001b[0mwidgets\u001b[0m\u001b[0;34m.\u001b[0m\u001b[0mHTML\u001b[0m\u001b[0;34m(\u001b[0m\u001b[0;34m\"<h1>{}</h1>\"\u001b[0m\u001b[0;34m.\u001b[0m\u001b[0mformat\u001b[0m\u001b[0;34m(\u001b[0m\u001b[0mchange\u001b[0m\u001b[0;34m[\u001b[0m\u001b[0;34m'new'\u001b[0m\u001b[0;34m]\u001b[0m\u001b[0;34m)\u001b[0m\u001b[0;34m)\u001b[0m\u001b[0;34m)\u001b[0m\u001b[0;34m\u001b[0m\u001b[0;34m\u001b[0m\u001b[0m\n\u001b[0;32m---> 15\u001b[0;31m     \u001b[0moutput2\u001b[0m\u001b[0;34m.\u001b[0m\u001b[0mappend_display_data\u001b[0m\u001b[0;34m(\u001b[0m\u001b[0mdownload_catalogue\u001b[0m\u001b[0;34m(\u001b[0m\u001b[0mchange\u001b[0m\u001b[0;34m[\u001b[0m\u001b[0;34m'new'\u001b[0m\u001b[0;34m]\u001b[0m\u001b[0;34m)\u001b[0m\u001b[0;34m)\u001b[0m\u001b[0;34m\u001b[0m\u001b[0;34m\u001b[0m\u001b[0m\n\u001b[0m\u001b[1;32m     16\u001b[0m \u001b[0;34m\u001b[0m\u001b[0m\n\u001b[1;32m     17\u001b[0m \u001b[0mdropdown\u001b[0m\u001b[0;34m.\u001b[0m\u001b[0mobserve\u001b[0m\u001b[0;34m(\u001b[0m\u001b[0mon_value_change\u001b[0m\u001b[0;34m,\u001b[0m \u001b[0mnames\u001b[0m\u001b[0;34m=\u001b[0m\u001b[0;34m'value'\u001b[0m\u001b[0;34m)\u001b[0m\u001b[0;34m\u001b[0m\u001b[0;34m\u001b[0m\u001b[0m\n",
      "\u001b[0;31mTypeError\u001b[0m: download_catalogue() missing 1 required positional argument: 'catelogue_schema'"
     ]
    }
   ],
   "source": [
    "import ipywidgets as widgets\n",
    "\n",
    "dropdown = widgets.Dropdown(\n",
    "    options=catalogues,\n",
    "    value=catalogues[0],\n",
    "    description='Catelogue:',\n",
    "    disabled=False,\n",
    ")\n",
    "output2 = widgets.Output()\n",
    "display(dropdown, output2)\n",
    "\n",
    "def on_value_change(change):\n",
    "    output2.clear_output()\n",
    "    output2.append_display_data(widgets.HTML(\"<h1>{}</h1>\".format(change['new'])))\n",
    "    output2.append_display_data(download_catalogue(change['new']))\n",
    "\n",
    "dropdown.observe(on_value_change, names='value')\n",
    "on_value_change({'new': catalogues[0]})"
   ]
  },
  {
   "cell_type": "code",
   "execution_count": null,
   "metadata": {},
   "outputs": [],
   "source": []
  }
 ],
 "metadata": {
  "kernelspec": {
   "display_name": "Python 3",
   "language": "python",
   "name": "python3"
  },
  "language_info": {
   "codemirror_mode": {
    "name": "ipython",
    "version": 3
   },
   "file_extension": ".py",
   "mimetype": "text/x-python",
   "name": "python",
   "nbconvert_exporter": "python",
   "pygments_lexer": "ipython3",
   "version": "3.7.6"
  }
 },
 "nbformat": 4,
 "nbformat_minor": 4
}
