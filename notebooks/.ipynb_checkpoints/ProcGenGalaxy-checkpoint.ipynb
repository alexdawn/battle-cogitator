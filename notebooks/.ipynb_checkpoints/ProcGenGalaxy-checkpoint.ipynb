{
 "cells": [
  {
   "cell_type": "code",
   "execution_count": 48,
   "metadata": {
    "scrolled": true
   },
   "outputs": [
    {
     "name": "stdout",
     "output_type": "stream",
     "text": [
      "x**3/2\n",
      "x**4/8\n",
      "Intersection(FiniteSet(2**(1/3)*Abs(x)**(1/3)*sign(x)), Reals)\n",
      "Intersection(FiniteSet(2**(3/4)*x**(1/4), -2**(3/4)*x**(1/4)), Reals)\n"
     ]
    }
   ],
   "source": [
    "import sympy as s\n",
    "import matplotlib\n",
    "\n",
    "x, x0, y, z = s.symbols('x x0 y z', type=s.S.Reals)\n",
    "my_func = s.Rational(1, 2) * x ** 3\n",
    "print(my_func)\n",
    "\n",
    "integral = s.integrate(my_func, x)\n",
    "print(integral)\n",
    "cdf = integral\n",
    "\n",
    "inv = s.solveset(\n",
    "    s.Eq(my_func.subs(x, y), x), y, domain=s.S.Reals)\n",
    "\n",
    "inv_cdf = s.solveset(\n",
    "    s.Eq(cdf.subs(x, y), x), y, domain=s.S.Reals)\n",
    "\n",
    "print(inv)\n",
    "print(inv_cdf)"
   ]
  },
  {
   "cell_type": "code",
   "execution_count": 49,
   "metadata": {},
   "outputs": [
    {
     "data": {
      "text/plain": [
       "(sympy.core.mul.Mul, sympy.sets.sets.Intersection)"
      ]
     },
     "execution_count": 49,
     "metadata": {},
     "output_type": "execute_result"
    }
   ],
   "source": [
    "type(cdf), type(inv_cdf)"
   ]
  },
  {
   "cell_type": "code",
   "execution_count": 50,
   "metadata": {},
   "outputs": [],
   "source": [
    "m_value = 2\n",
    "\n",
    "def evaluate_func(value):\n",
    "    return float(my_func.subs({x: value, m: m_value}).evalf())\n",
    "\n",
    "\n",
    "def evaluate_inverse(value):\n",
    "    res = max(a for a in inv_cdf.subs({x: value, m: m_value}).evalf())\n",
    "    return float(res)"
   ]
  },
  {
   "cell_type": "code",
   "execution_count": 51,
   "metadata": {},
   "outputs": [],
   "source": [
    "def array_map(f, x):\n",
    "    return np.array(list(map(f, x)))"
   ]
  },
  {
   "cell_type": "code",
   "execution_count": 52,
   "metadata": {},
   "outputs": [
    {
     "name": "stdout",
     "output_type": "stream",
     "text": [
      "-0.0 500.0\n"
     ]
    },
    {
     "data": {
      "image/png": "[encoded data removed]",
      "text/plain": [
       "<Figure size 432x288 with 1 Axes>"
      ]
     },
     "metadata": {
      "needs_background": "light"
     },
     "output_type": "display_data"
    },
    {
     "data": {
      "image/png": "[encoded data removed]",
      "text/plain": [
       "<Figure size 432x288 with 1 Axes>"
      ]
     },
     "metadata": {
      "needs_background": "light"
     },
     "output_type": "display_data"
    }
   ],
   "source": [
    "from matplotlib import pyplot as plt\n",
    "import numpy as np\n",
    "\n",
    "\n",
    "MIN, MAX = -evaluate_func(0), evaluate_func(10)\n",
    "print(MIN, MAX)\n",
    "\n",
    "xs, y1s, y2s = [], [], []\n",
    "\n",
    "\n",
    "for _ in range(10):\n",
    "    x0 = MIN + np.random.random() * (MAX - MIN)\n",
    "    y0 = evaluate_inverse(x0)\n",
    "    \n",
    "    xs.append(x0)\n",
    "    y2s.append(y0)\n",
    "    y1s.append(evaluate_func(y0))\n",
    "\n",
    "    \n",
    "def map_func(y2s, y1s):\n",
    "    x = np.arange(-10, 10, 0.1)\n",
    "    y= array_map(evaluate_func, x)\n",
    "    plt.plot(x,y)\n",
    "  \n",
    "    plt.scatter(y2s, y1s)\n",
    "    plt.show()\n",
    "    \n",
    "    \n",
    "def map_inv(xs, y2s):\n",
    "    x = np.arange(MIN, MAX, 0.01 * (MAX - MIN))\n",
    "    y = array_map(evaluate_inverse, x)\n",
    "    plt.plot(x,y)\n",
    "    \n",
    "    plt.scatter(xs, y2s)\n",
    "    plt.show()\n",
    "    \n",
    "    \n",
    "map_func(y2s, y1s)\n",
    "map_inv(xs, y2s)"
   ]
  },
  {
   "cell_type": "code",
   "execution_count": null,
   "metadata": {},
   "outputs": [],
   "source": []
  }
 ],
 "metadata": {
  "kernelspec": {
   "display_name": "Python 3.7.6 64-bit ('venv': venv)",
   "language": "python",
   "name": "python37664bitvenvvenv799ad9401fb04c86b1448b9d7565ae37"
  },
  "language_info": {
   "codemirror_mode": {
    "name": "ipython",
    "version": 3
   },
   "file_extension": ".py",
   "mimetype": "text/x-python",
   "name": "python",
   "nbconvert_exporter": "python",
   "pygments_lexer": "ipython3",
   "version": "3.7.6"
  }
 },
 "nbformat": 4,
 "nbformat_minor": 4
}
