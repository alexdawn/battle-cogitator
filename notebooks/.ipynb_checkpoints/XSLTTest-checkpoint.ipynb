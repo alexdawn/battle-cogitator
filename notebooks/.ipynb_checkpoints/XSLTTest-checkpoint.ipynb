{
 "cells": [
  {
   "cell_type": "code",
   "execution_count": 6,
   "metadata": {
    "scrolled": true
   },
   "outputs": [],
   "source": [
    "import requests\n",
    "from itertools import chain\n",
    "from collections import namedtuple\n",
    "import logging\n",
    "import os\n",
    "from copy import deepcopy\n",
    "from io import StringIO\n",
    "\n",
    "from lxml import etree\n",
    "from pprint import pprint\n",
    "from IPython.core.display import display, HTML\n",
    "\n",
    "URL = 'https://api.github.com/repos/BSData/wh40k/contents/'\n",
    "CONTENT_URL = 'https://raw.githubusercontent.com/BSData/wh40k/master/'\n",
    "GAME_SCHEMA = 'battlescribe/game_schema.xsd'\n",
    "CAT_SCHEMA = 'battlescribe/catelogue_schema.xsd'\n",
    "CACHE = 'battlescribe/cache'"
   ]
  },
  {
   "cell_type": "code",
   "execution_count": 7,
   "metadata": {},
   "outputs": [],
   "source": [
    "files = requests.get(URL).json()\n",
    "\n",
    "catalogues = []\n",
    "for file in files:\n",
    "    if file['type'] == 'file' and file['name'][0] != '.':\n",
    "        catalogues.append(file['name'])"
   ]
  },
  {
   "cell_type": "code",
   "execution_count": 8,
   "metadata": {
    "scrolled": true
   },
   "outputs": [],
   "source": [
    "with open(GAME_SCHEMA, 'rb') as fh:\n",
    "    game_schema = etree.XMLSchema(etree.fromstring(fh.read()))\n",
    "with open(CAT_SCHEMA, 'rb') as fh:\n",
    "    catelogue_schema = etree.XMLSchema(etree.fromstring(fh.read()))"
   ]
  },
  {
   "cell_type": "code",
   "execution_count": 14,
   "metadata": {},
   "outputs": [],
   "source": [
    "def get_cache_if_possible(filename):\n",
    "    \"\"\"Try and load filename from CACHE path, otherwise load from CONTENT_URL\"\"\"\n",
    "    pathname = os.path.join(CACHE, filename)\n",
    "    if not os.path.isfile(pathname):\n",
    "        path = CONTENT_URL + filename\n",
    "        text = requests.get(path).content\n",
    "        if not os.path.exists(CACHE):\n",
    "            os.makedirs(CACHE)\n",
    "        with open(pathname, 'wb') as f:\n",
    "            f.write(text)\n",
    "    else:\n",
    "        with open(pathname, 'rb') as f:\n",
    "            text = f.read()\n",
    "    return text"
   ]
  },
  {
   "cell_type": "code",
   "execution_count": 15,
   "metadata": {},
   "outputs": [],
   "source": [
    "base = etree.fromstring(\n",
    "    get_cache_if_possible('Warhammer 40,000.gst'), \n",
    "    etree.XMLParser(\n",
    "        remove_blank_text=True, schema = game_schema\n",
    "    )\n",
    ")"
   ]
  },
  {
   "cell_type": "code",
   "execution_count": null,
   "metadata": {
    "scrolled": false
   },
   "outputs": [
    {
     "name": "stdout",
     "output_type": "stream",
     "text": [
      "Aeldari - Craftworlds\n"
     ]
    },
    {
     "name": "stderr",
     "output_type": "stream",
     "text": [
      "WARNING:root:Aeldari - Craftworlds has catalogue Link to ['Aeldari - Ynnari']\n"
     ]
    }
   ],
   "source": [
    "namespaces = {\n",
    "    'gc': 'http://www.battlescribe.net/schema/gameSystemSchema',\n",
    "    'cat': 'http://www.battlescribe.net/schema/catalogueSchema'\n",
    "}\n",
    "\n",
    "\n",
    "if not os.path.exists('battlescribe/outputs'):\n",
    "    os.mkdir('battlescribe/outputs')\n",
    "\n",
    "    \n",
    "def convert_catalogue(catalogue):\n",
    "    name, ext = catalogue.split(\".\")\n",
    "    if ext == 'cat':\n",
    "        print(name)\n",
    "        path = os.path.join(CONTENT_URL, catalogue)\n",
    "        r = requests.get(path)\n",
    "        cat = etree.fromstring(\n",
    "            get_cache_if_possible(catalogue), \n",
    "            etree.XMLParser(\n",
    "                remove_blank_text=True, schema = catelogue_schema\n",
    "            )\n",
    "        )\n",
    "\n",
    "\n",
    "        # warn about cat links at the moment do nothing about them\n",
    "        link = cat.xpath(\"//cat:catalogueLink\", \n",
    "            namespaces=namespaces)\n",
    "        for x in link:\n",
    "            logging.warning(\"{} has catalogue Link to {}\".format(name, x.xpath('@name')))\n",
    "\n",
    "        # merge cat into gst for all the needed links\n",
    "        base_copy = deepcopy(base)\n",
    "        for x in cat:\n",
    "            base_copy.append(x)\n",
    "\n",
    "        # escape things which are not valid json (not so easy in XSLT 1.0)\n",
    "        for x in base_copy.xpath(\n",
    "            \"//cat:*|//gc:*\", namespaces=namespaces):\n",
    "            if x.text:\n",
    "                x.text = x.text.replace('\\\\', '\\\\\\\\').replace('\"', '\\\\\"').replace('\\r', '\\\\r').replace('\\n', '\\\\n')\n",
    "\n",
    "\n",
    "        with open(\"battlescribe/catelogue to_json.xslt\", \"r\") as f:\n",
    "            xslt_root = etree.XML(f.read())\n",
    "        transform = etree.XSLT(xslt_root)\n",
    "        result_tree = transform(base_copy)\n",
    "        with open(\"battlescribe/outputs/{}.json\".format(name), \"w\") as f:\n",
    "            f.write(str(result_tree))\n",
    "\n",
    "for catalogue in catalogues:\n",
    "    convert_catalogue(catalogue)\n",
    "# a very lazy multicore implementation, lxml is pretty processor heavy\n",
    "# from multiprocessing import Pool\n",
    "# pool = Pool()\n",
    "# pool.map(convert_catalogue, catalogues)\n",
    "# pool.close()\n",
    "# pool.join()"
   ]
  },
  {
   "cell_type": "code",
   "execution_count": null,
   "metadata": {},
   "outputs": [],
   "source": []
  },
  {
   "cell_type": "code",
   "execution_count": null,
   "metadata": {},
   "outputs": [],
   "source": []
  }
 ],
 "metadata": {
  "kernelspec": {
   "display_name": "Python 3.7.6 64-bit ('venv': venv)",
   "language": "python",
   "name": "python37664bitvenvvenv799ad9401fb04c86b1448b9d7565ae37"
  },
  "language_info": {
   "codemirror_mode": {
    "name": "ipython",
    "version": 3
   },
   "file_extension": ".py",
   "mimetype": "text/x-python",
   "name": "python",
   "nbconvert_exporter": "python",
   "pygments_lexer": "ipython3",
   "version": "3.7.6"
  }
 },
 "nbformat": 4,
 "nbformat_minor": 4
}
