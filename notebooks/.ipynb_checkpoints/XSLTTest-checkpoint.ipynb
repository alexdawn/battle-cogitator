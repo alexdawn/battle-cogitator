{
 "cells": [
  {
   "cell_type": "code",
   "execution_count": 6,
   "metadata": {
    "scrolled": true
   },
   "outputs": [],
   "source": [
    "import requests\n",
    "from itertools import chain\n",
    "from collections import namedtuple\n",
    "import logging\n",
    "import os\n",
    "from copy import deepcopy\n",
    "from io import StringIO\n",
    "\n",
    "from lxml import etree\n",
    "from pprint import pprint\n",
    "from IPython.core.display import display, HTML\n",
    "\n",
    "URL = 'https://api.github.com/repos/BSData/wh40k/contents/'\n",
    "CONTENT_URL = 'https://raw.githubusercontent.com/BSData/wh40k/master/'\n",
    "GAME_SCHEMA = 'battlescribe/game_schema.xsd'\n",
    "CAT_SCHEMA = 'battlescribe/catelogue_schema.xsd'\n",
    "CACHE = 'battlescribe/cache'"
   ]
  },
  {
   "cell_type": "code",
   "execution_count": 7,
   "metadata": {},
   "outputs": [],
   "source": [
    "files = requests.get(URL).json()\n",
    "\n",
    "catalogues = []\n",
    "for file in files:\n",
    "    if file['type'] == 'file' and file['name'][0] != '.':\n",
    "        catalogues.append(file['name'])"
   ]
  },
  {
   "cell_type": "code",
   "execution_count": 8,
   "metadata": {
    "scrolled": true
   },
   "outputs": [],
   "source": [
    "with open(GAME_SCHEMA, 'rb') as fh:\n",
    "    game_schema = etree.XMLSchema(etree.fromstring(fh.read()))\n",
    "with open(CAT_SCHEMA, 'rb') as fh:\n",
    "    catelogue_schema = etree.XMLSchema(etree.fromstring(fh.read()))"
   ]
  },
  {
   "cell_type": "code",
   "execution_count": 14,
   "metadata": {},
   "outputs": [],
   "source": [
    "def get_cache_if_possible(filename):\n",
    "    \"\"\"Try and load filename from CACHE path, otherwise load from CONTENT_URL\"\"\"\n",
    "    pathname = os.path.join(CACHE, filename)\n",
    "    if not os.path.isfile(pathname):\n",
    "        path = CONTENT_URL + filename\n",
    "        text = requests.get(path).content\n",
    "        if not os.path.exists(CACHE):\n",
    "            os.makedirs(CACHE)\n",
    "        with open(pathname, 'wb') as f:\n",
    "            f.write(text)\n",
    "    else:\n",
    "        with open(pathname, 'rb') as f:\n",
    "            text = f.read()\n",
    "    return text"
   ]
  },
  {
   "cell_type": "code",
   "execution_count": 15,
   "metadata": {},
   "outputs": [],
   "source": [
    "base = etree.fromstring(\n",
    "    get_cache_if_possible('Warhammer 40,000.gst'), \n",
    "    etree.XMLParser(\n",
    "        remove_blank_text=True, schema = game_schema\n",
    "    )\n",
    ")"
   ]
  },
  {
   "cell_type": "code",
   "execution_count": 37,
   "metadata": {
    "scrolled": false
   },
   "outputs": [
    {
     "name": "stdout",
     "output_type": "stream",
     "text": [
      "Aeldari - Craftworlds\n"
     ]
    },
    {
     "name": "stderr",
     "output_type": "stream",
     "text": [
      "WARNING:root:Aeldari - Craftworlds has catalogue Link to ['Aeldari - Ynnari']\n"
     ]
    },
    {
     "name": "stdout",
     "output_type": "stream",
     "text": [
      "Aeldari - Drukhari\n"
     ]
    },
    {
     "name": "stderr",
     "output_type": "stream",
     "text": [
      "WARNING:root:Aeldari - Drukhari has catalogue Link to ['Aeldari - Ynnari']\n"
     ]
    },
    {
     "name": "stdout",
     "output_type": "stream",
     "text": [
      "Aeldari - FW Corsairs\n"
     ]
    },
    {
     "name": "stderr",
     "output_type": "stream",
     "text": [
      "WARNING:root:Aeldari - FW Corsairs has catalogue Link to ['Aeldari - Ynnari']\n"
     ]
    },
    {
     "name": "stdout",
     "output_type": "stream",
     "text": [
      "Aeldari - Harlequins\n"
     ]
    },
    {
     "name": "stderr",
     "output_type": "stream",
     "text": [
      "WARNING:root:Aeldari - Harlequins has catalogue Link to ['Aeldari - Ynnari']\n"
     ]
    },
    {
     "name": "stdout",
     "output_type": "stream",
     "text": [
      "Aeldari - Ynnari\n",
      "Chaos - Chaos Knights\n",
      "Chaos - Chaos Space Marines\n"
     ]
    },
    {
     "name": "stderr",
     "output_type": "stream",
     "text": [
      "WARNING:root:Chaos - Chaos Space Marines has catalogue Link to ['Chaos - FW Heretic Astartes']\n"
     ]
    },
    {
     "name": "stdout",
     "output_type": "stream",
     "text": [
      "Chaos - Daemons\n",
      "Chaos - Death Guard\n"
     ]
    },
    {
     "name": "stderr",
     "output_type": "stream",
     "text": [
      "WARNING:root:Chaos - Death Guard has catalogue Link to ['Chaos - FW Heretic Astartes']\n"
     ]
    },
    {
     "name": "stdout",
     "output_type": "stream",
     "text": [
      "Chaos - FW Heretic Astartes\n",
      "Chaos - FW Renegade and Heretics\n"
     ]
    },
    {
     "name": "stderr",
     "output_type": "stream",
     "text": [
      "WARNING:root:Chaos - FW Renegade and Heretics has catalogue Link to ['Imperium - Astra Militarum - Library']\n"
     ]
    },
    {
     "name": "stdout",
     "output_type": "stream",
     "text": [
      "Chaos - Gellerpox Infected\n",
      "Chaos - Servants of the Abyss\n",
      "Chaos - Thousand Sons\n"
     ]
    },
    {
     "name": "stderr",
     "output_type": "stream",
     "text": [
      "WARNING:root:Chaos - Thousand Sons has catalogue Link to ['Chaos - FW Heretic Astartes']\n"
     ]
    },
    {
     "name": "stdout",
     "output_type": "stream",
     "text": [
      "Chaos - Titanicus Traitoris\n",
      "Fallen\n",
      "Imperium - Adepta Sororitas\n"
     ]
    },
    {
     "name": "stderr",
     "output_type": "stream",
     "text": [
      "WARNING:root:Imperium - Adepta Sororitas has catalogue Link to ['Imperium - Inquisition']\n",
      "WARNING:root:Imperium - Adepta Sororitas has catalogue Link to ['Imperium - Officio Assassinorum']\n"
     ]
    },
    {
     "name": "stdout",
     "output_type": "stream",
     "text": [
      "Imperium - Adeptus Astra Telepathica\n"
     ]
    },
    {
     "name": "stderr",
     "output_type": "stream",
     "text": [
      "WARNING:root:Imperium - Adeptus Astra Telepathica has catalogue Link to ['Imperium - Officio Assassinorum']\n",
      "WARNING:root:Imperium - Adeptus Astra Telepathica has catalogue Link to ['Imperium - Astra Militarum']\n"
     ]
    },
    {
     "name": "stdout",
     "output_type": "stream",
     "text": [
      "Imperium - Adeptus Custodes\n"
     ]
    },
    {
     "name": "stderr",
     "output_type": "stream",
     "text": [
      "WARNING:root:Imperium - Adeptus Custodes has catalogue Link to ['Imperium - Inquisition']\n",
      "WARNING:root:Imperium - Adeptus Custodes has catalogue Link to ['Imperium - Officio Assassinorum']\n",
      "WARNING:root:Imperium - Adeptus Custodes has catalogue Link to ['Imperium - Sisters of Silence']\n"
     ]
    },
    {
     "name": "stdout",
     "output_type": "stream",
     "text": [
      "Imperium - Adeptus Mechanicus\n"
     ]
    },
    {
     "name": "stderr",
     "output_type": "stream",
     "text": [
      "WARNING:root:Imperium - Adeptus Mechanicus has catalogue Link to ['Imperium - Inquisition']\n",
      "WARNING:root:Imperium - Adeptus Mechanicus has catalogue Link to ['Imperium - Officio Assassinorum']\n"
     ]
    },
    {
     "name": "stdout",
     "output_type": "stream",
     "text": [
      "Imperium - Astra Militarum - Library\n"
     ]
    },
    {
     "name": "stderr",
     "output_type": "stream",
     "text": [
      "WARNING:root:Imperium - Astra Militarum - Library has catalogue Link to ['Imperium - Inquisition']\n"
     ]
    },
    {
     "name": "stdout",
     "output_type": "stream",
     "text": [
      "Imperium - Astra Militarum\n"
     ]
    },
    {
     "name": "stderr",
     "output_type": "stream",
     "text": [
      "WARNING:root:Imperium - Astra Militarum has catalogue Link to ['Imperium - Astra Militarum - Library']\n",
      "WARNING:root:Imperium - Astra Militarum has catalogue Link to ['Imperium - Officio Assassinorum']\n"
     ]
    },
    {
     "name": "stdout",
     "output_type": "stream",
     "text": [
      "Imperium - Black Templars\n"
     ]
    },
    {
     "name": "stderr",
     "output_type": "stream",
     "text": [
      "WARNING:root:Imperium - Black Templars has catalogue Link to ['Imperium - Space Marines']\n",
      "WARNING:root:Imperium - Black Templars has catalogue Link to ['Imperium - Inquisition']\n",
      "WARNING:root:Imperium - Black Templars has catalogue Link to ['Imperium - Officio Assassinorum']\n"
     ]
    },
    {
     "name": "stdout",
     "output_type": "stream",
     "text": [
      "Imperium - Blackstone Fortress\n",
      "Imperium - Blood Angels\n"
     ]
    },
    {
     "name": "stderr",
     "output_type": "stream",
     "text": [
      "WARNING:root:Imperium - Blood Angels has catalogue Link to ['Imperium - Space Marines']\n",
      "WARNING:root:Imperium - Blood Angels has catalogue Link to ['Imperium - FW Adeptus Astartes']\n",
      "WARNING:root:Imperium - Blood Angels has catalogue Link to ['Imperium - Inquisition']\n",
      "WARNING:root:Imperium - Blood Angels has catalogue Link to ['Imperium - Officio Assassinorum']\n"
     ]
    },
    {
     "name": "stdout",
     "output_type": "stream",
     "text": [
      "Imperium - Dark Angels\n"
     ]
    },
    {
     "name": "stderr",
     "output_type": "stream",
     "text": [
      "WARNING:root:Imperium - Dark Angels has catalogue Link to ['Imperium - FW Adeptus Astartes']\n",
      "WARNING:root:Imperium - Dark Angels has catalogue Link to ['Imperium - Inquisition']\n",
      "WARNING:root:Imperium - Dark Angels has catalogue Link to ['Imperium - Officio Assassinorum']\n",
      "WARNING:root:Imperium - Dark Angels has catalogue Link to ['Imperium - Space Marines']\n"
     ]
    },
    {
     "name": "stdout",
     "output_type": "stream",
     "text": [
      "Imperium - Deathwatch\n"
     ]
    },
    {
     "name": "stderr",
     "output_type": "stream",
     "text": [
      "WARNING:root:Imperium - Deathwatch has catalogue Link to ['Imperium - FW Adeptus Astartes']\n",
      "WARNING:root:Imperium - Deathwatch has catalogue Link to ['Imperium - Inquisition']\n",
      "WARNING:root:Imperium - Deathwatch has catalogue Link to ['Imperium - Officio Assassinorum']\n",
      "WARNING:root:Imperium - Deathwatch has catalogue Link to ['Imperium - Space Marines']\n"
     ]
    },
    {
     "name": "stdout",
     "output_type": "stream",
     "text": [
      "Imperium - Elucidian Starstriders\n"
     ]
    },
    {
     "name": "stderr",
     "output_type": "stream",
     "text": [
      "WARNING:root:Imperium - Elucidian Starstriders has catalogue Link to ['Imperium - Inquisition']\n",
      "WARNING:root:Imperium - Elucidian Starstriders has catalogue Link to ['Imperium - Officio Assassinorum']\n"
     ]
    },
    {
     "name": "stdout",
     "output_type": "stream",
     "text": [
      "Imperium - FW Adeptus Astartes\n",
      "Imperium - FW Death Korps of Krieg\n"
     ]
    },
    {
     "name": "stderr",
     "output_type": "stream",
     "text": [
      "WARNING:root:Imperium - FW Death Korps of Krieg has catalogue Link to ['Imperium - Inquisition']\n",
      "WARNING:root:Imperium - FW Death Korps of Krieg has catalogue Link to ['Imperium - Astra Militarum - Library']\n",
      "WARNING:root:Imperium - FW Death Korps of Krieg has catalogue Link to ['Imperium - Officio Assassinorum']\n"
     ]
    },
    {
     "name": "stdout",
     "output_type": "stream",
     "text": [
      "Imperium - FW Elysians\n"
     ]
    },
    {
     "name": "stderr",
     "output_type": "stream",
     "text": [
      "WARNING:root:Imperium - FW Elysians has catalogue Link to ['Imperium - Inquisition']\n",
      "WARNING:root:Imperium - FW Elysians has catalogue Link to ['Imperium - Astra Militarum - Library']\n",
      "WARNING:root:Imperium - FW Elysians has catalogue Link to ['Imperium - Officio Assassinorum']\n"
     ]
    },
    {
     "name": "stdout",
     "output_type": "stream",
     "text": [
      "Imperium - Grey Knights\n"
     ]
    },
    {
     "name": "stderr",
     "output_type": "stream",
     "text": [
      "WARNING:root:Imperium - Grey Knights has catalogue Link to ['Imperium - Inquisition']\n",
      "WARNING:root:Imperium - Grey Knights has catalogue Link to ['Imperium - Officio Assassinorum']\n"
     ]
    },
    {
     "name": "stdout",
     "output_type": "stream",
     "text": [
      "Imperium - Imperial Fists\n"
     ]
    },
    {
     "name": "stderr",
     "output_type": "stream",
     "text": [
      "WARNING:root:Imperium - Imperial Fists has catalogue Link to ['Imperium - Space Marines']\n",
      "WARNING:root:Imperium - Imperial Fists has catalogue Link to ['Imperium - Inquisition']\n",
      "WARNING:root:Imperium - Imperial Fists has catalogue Link to ['Imperium - Officio Assassinorum']\n"
     ]
    },
    {
     "name": "stdout",
     "output_type": "stream",
     "text": [
      "Imperium - Imperial Knights\n",
      "Imperium - Inquisition\n"
     ]
    },
    {
     "name": "stderr",
     "output_type": "stream",
     "text": [
      "WARNING:root:Imperium - Inquisition has catalogue Link to ['Imperium - Officio Assassinorum']\n"
     ]
    },
    {
     "name": "stdout",
     "output_type": "stream",
     "text": [
      "Imperium - Iron Hands\n"
     ]
    },
    {
     "name": "stderr",
     "output_type": "stream",
     "text": [
      "WARNING:root:Imperium - Iron Hands has catalogue Link to ['Imperium - Space Marines']\n",
      "WARNING:root:Imperium - Iron Hands has catalogue Link to ['Imperium - Inquisition']\n",
      "WARNING:root:Imperium - Iron Hands has catalogue Link to ['Imperium - Officio Assassinorum']\n"
     ]
    },
    {
     "name": "stdout",
     "output_type": "stream",
     "text": [
      "Imperium - Legion of the Damned\n",
      "Imperium - Officio Assassinorum\n",
      "Imperium - Raven Guard\n"
     ]
    },
    {
     "name": "stderr",
     "output_type": "stream",
     "text": [
      "WARNING:root:Imperium - Raven Guard has catalogue Link to ['Imperium - Space Marines']\n",
      "WARNING:root:Imperium - Raven Guard has catalogue Link to ['Imperium - Inquisition']\n",
      "WARNING:root:Imperium - Raven Guard has catalogue Link to ['Imperium - Officio Assassinorum']\n"
     ]
    },
    {
     "name": "stdout",
     "output_type": "stream",
     "text": [
      "Imperium - Salamanders\n"
     ]
    },
    {
     "name": "stderr",
     "output_type": "stream",
     "text": [
      "WARNING:root:Imperium - Salamanders has catalogue Link to ['Imperium - Space Marines']\n",
      "WARNING:root:Imperium - Salamanders has catalogue Link to ['Imperium - Inquisition']\n",
      "WARNING:root:Imperium - Salamanders has catalogue Link to ['Imperium - Officio Assassinorum']\n"
     ]
    },
    {
     "name": "stdout",
     "output_type": "stream",
     "text": [
      "Imperium - Sisters of Silence\n"
     ]
    },
    {
     "name": "stderr",
     "output_type": "stream",
     "text": [
      "WARNING:root:Imperium - Sisters of Silence has catalogue Link to ['Imperium - Inquisition']\n"
     ]
    },
    {
     "name": "stdout",
     "output_type": "stream",
     "text": [
      "Imperium - Space Marines\n"
     ]
    },
    {
     "name": "stderr",
     "output_type": "stream",
     "text": [
      "WARNING:root:Imperium - Space Marines has catalogue Link to ['Imperium - FW Adeptus Astartes']\n"
     ]
    },
    {
     "name": "stdout",
     "output_type": "stream",
     "text": [
      "Imperium - Space Wolves\n"
     ]
    },
    {
     "name": "stderr",
     "output_type": "stream",
     "text": [
      "WARNING:root:Imperium - Space Wolves has catalogue Link to ['Imperium - FW Adeptus Astartes']\n",
      "WARNING:root:Imperium - Space Wolves has catalogue Link to ['Imperium - Inquisition']\n",
      "WARNING:root:Imperium - Space Wolves has catalogue Link to ['Imperium - Officio Assassinorum']\n",
      "WARNING:root:Imperium - Space Wolves has catalogue Link to ['Imperium - Space Marines']\n"
     ]
    },
    {
     "name": "stdout",
     "output_type": "stream",
     "text": [
      "Imperium - Titan Legions\n"
     ]
    },
    {
     "name": "stderr",
     "output_type": "stream",
     "text": [
      "WARNING:root:Imperium - Ultramarines has catalogue Link to ['Imperium - Space Marines']\n",
      "WARNING:root:Imperium - Ultramarines has catalogue Link to ['Imperium - Inquisition']\n",
      "WARNING:root:Imperium - Ultramarines has catalogue Link to ['Imperium - Officio Assassinorum']\n"
     ]
    },
    {
     "name": "stdout",
     "output_type": "stream",
     "text": [
      "Imperium - Ultramarines\n",
      "Imperium - White Scars\n"
     ]
    },
    {
     "name": "stderr",
     "output_type": "stream",
     "text": [
      "WARNING:root:Imperium - White Scars has catalogue Link to ['Imperium - Space Marines']\n",
      "WARNING:root:Imperium - White Scars has catalogue Link to ['Imperium - Inquisition']\n",
      "WARNING:root:Imperium - White Scars has catalogue Link to ['Imperium - Officio Assassinorum']\n"
     ]
    },
    {
     "name": "stdout",
     "output_type": "stream",
     "text": [
      "Necrons\n",
      "Orks\n",
      "T'au Empire\n",
      "Tyranids - Genestealer Cults\n",
      "Tyranids\n",
      "Unaligned - Monsters and Gribblies\n"
     ]
    }
   ],
   "source": [
    "namespaces = {\n",
    "    'gc': 'http://www.battlescribe.net/schema/gameSystemSchema',\n",
    "    'cat': 'http://www.battlescribe.net/schema/catalogueSchema'\n",
    "}\n",
    "\n",
    "\n",
    "if not os.path.exists('battlescribe/outputs'):\n",
    "    os.mkdir('battlescribe/outputs')\n",
    "\n",
    "    \n",
    "def convert_catalogue(catalogue):\n",
    "    name, ext = catalogue.split(\".\")\n",
    "    if ext == 'cat':\n",
    "        print(name)\n",
    "        path = os.path.join(CONTENT_URL, catalogue)\n",
    "        r = requests.get(path)\n",
    "        cat = etree.fromstring(\n",
    "            get_cache_if_possible(catalogue), \n",
    "            etree.XMLParser(\n",
    "                remove_blank_text=True, schema = catelogue_schema\n",
    "            )\n",
    "        )\n",
    "\n",
    "\n",
    "        # warn about cat links at the moment do nothing about them\n",
    "        link = cat.xpath(\"//cat:catalogueLink\", \n",
    "            namespaces=namespaces)\n",
    "        for x in link:\n",
    "            logging.warning(\"{} has catalogue Link to {}\".format(name, x.xpath('@name')))\n",
    "\n",
    "        # merge cat into gst for all the needed links\n",
    "        base_copy = deepcopy(base)\n",
    "        for x in cat:\n",
    "            base_copy.append(x)\n",
    "\n",
    "        # escape things which are not valid json (not so easy in XSLT 1.0)\n",
    "        for x in base_copy.xpath(\n",
    "            \"//cat:*|//gc:*\", namespaces=namespaces):\n",
    "            if x.text:\n",
    "                x.text = x.text.replace('\\\\', '\\\\\\\\').replace('\"', '\\\\\"').replace('\\r', '\\\\r').replace('\\n', '\\\\n')\n",
    "\n",
    "\n",
    "        with open(\"battlescribe/catelogue to_json.xslt\", \"r\") as f:\n",
    "            xslt_root = etree.XML(f.read())\n",
    "        transform = etree.XSLT(xslt_root)\n",
    "        result_tree = transform(base_copy)\n",
    "        with open(\"battlescribe/outputs/{}.json\".format(name), \"w\") as f:\n",
    "            f.write(str(result_tree))\n",
    "\n",
    "for catalogue in catalogues:\n",
    "    convert_catalogue(catalogue)\n",
    "# a very lazy multicore implementation, lxml is pretty processor heavy\n",
    "# from multiprocessing import Pool\n",
    "# pool = Pool()\n",
    "# pool.map(convert_catalogue, catalogues)\n",
    "# pool.close()\n",
    "# pool.join()"
   ]
  },
  {
   "cell_type": "code",
   "execution_count": null,
   "metadata": {},
   "outputs": [],
   "source": []
  },
  {
   "cell_type": "code",
   "execution_count": null,
   "metadata": {},
   "outputs": [],
   "source": []
  }
 ],
 "metadata": {
  "kernelspec": {
   "display_name": "Python 3.7.6 64-bit ('venv': venv)",
   "language": "python",
   "name": "python37664bitvenvvenv799ad9401fb04c86b1448b9d7565ae37"
  },
  "language_info": {
   "codemirror_mode": {
    "name": "ipython",
    "version": 3
   },
   "file_extension": ".py",
   "mimetype": "text/x-python",
   "name": "python",
   "nbconvert_exporter": "python",
   "pygments_lexer": "ipython3",
   "version": "3.7.6"
  }
 },
 "nbformat": 4,
 "nbformat_minor": 4
}
