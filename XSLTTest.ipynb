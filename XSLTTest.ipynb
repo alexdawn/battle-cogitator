{
 "cells": [
  {
   "cell_type": "code",
   "execution_count": 7,
   "metadata": {
    "scrolled": true
   },
   "outputs": [],
   "source": [
    "import requests\n",
    "from itertools import chain\n",
    "from collections import namedtuple\n",
    "import logging\n",
    "\n",
    "from lxml import etree\n",
    "from pprint import pprint\n",
    "from IPython.core.display import display, HTML\n",
    "\n",
    "from io import StringIO"
   ]
  },
  {
   "cell_type": "code",
   "execution_count": 8,
   "metadata": {
    "scrolled": true
   },
   "outputs": [],
   "source": [
    "with open('src/battlescribe/catelogue_schema.xsd', 'rb') as fh:\n",
    "    catelogue_schema = etree.XMLSchema(etree.fromstring(fh.read()))"
   ]
  },
  {
   "cell_type": "code",
   "execution_count": 9,
   "metadata": {},
   "outputs": [],
   "source": [
    "path = 'https://raw.githubusercontent.com/BSData/wh40k/master/{}'.format('Warhammer 40,000.gst')\n",
    "r = requests.get(path)\n",
    "base = etree.fromstring(r.content, etree.XMLParser(remove_blank_text=True, schema = None))"
   ]
  },
  {
   "cell_type": "code",
   "execution_count": 10,
   "metadata": {},
   "outputs": [
    {
     "name": "stdout",
     "output_type": "stream",
     "text": [
      "{http://www.battlescribe.net/schema/gameSystemSchema}readme 0\n",
      "{http://www.battlescribe.net/schema/gameSystemSchema}publications 28\n",
      "{http://www.battlescribe.net/schema/gameSystemSchema}costTypes 3\n",
      "{http://www.battlescribe.net/schema/gameSystemSchema}profileTypes 10\n",
      "{http://www.battlescribe.net/schema/gameSystemSchema}categoryEntries 68\n",
      "{http://www.battlescribe.net/schema/gameSystemSchema}forceEntries 13\n",
      "{http://www.battlescribe.net/schema/gameSystemSchema}entryLinks 20\n",
      "{http://www.battlescribe.net/schema/gameSystemSchema}sharedSelectionEntries 181\n",
      "{http://www.battlescribe.net/schema/gameSystemSchema}sharedSelectionEntryGroups 3\n",
      "{http://www.battlescribe.net/schema/gameSystemSchema}sharedRules 17\n",
      "{http://www.battlescribe.net/schema/gameSystemSchema}sharedProfiles 190\n"
     ]
    }
   ],
   "source": [
    "for x in base:\n",
    "    print(x.tag, len(x))"
   ]
  },
  {
   "cell_type": "code",
   "execution_count": 11,
   "metadata": {},
   "outputs": [
    {
     "data": {
      "text/plain": [
       "{'Abilities', 'Psychic Power', 'Unit', 'Weapon'}"
      ]
     },
     "execution_count": 11,
     "metadata": {},
     "output_type": "execute_result"
    }
   ],
   "source": [
    "set(y.attrib['typeName'] for y in\n",
    "    base.xpath(\n",
    "        \"gc:sharedProfiles/gc:profile\", \n",
    "        namespaces={'gc': 'http://www.battlescribe.net/schema/gameSystemSchema'}))"
   ]
  },
  {
   "cell_type": "code",
   "execution_count": 20,
   "metadata": {
    "scrolled": true
   },
   "outputs": [
    {
     "name": "stdout",
     "output_type": "stream",
     "text": [
      "{http://www.battlescribe.net/schema/gameSystemSchema}entryLinks {}\n",
      "{http://www.battlescribe.net/schema/gameSystemSchema}entryLink {'id': '46df-b154-20ff-cce1', 'name': 'Aegis Defence Line', 'hidden': 'false', 'collective': 'false', 'import': 'true', 'targetId': 'a505-05af-bd44-56b6', 'type': 'selectionEntry'}\n",
      "b'<entryLink xmlns=\"http://www.battlescribe.net/schema/gameSystemSchema\" id=\"46df-b154-20ff-cce1\" name=\"Aegis Defence Line\" hidden=\"false\" collective=\"false\" import=\"true\" targetId=\"a505-05af-bd44-56b6\" type=\"selectionEntry\"><categoryLinks><categoryLink id=\"46df-b154-20ff-cce1-d713cda3-5d0f-40d8-b621-69233263ec2a\" hidden=\"false\" targetId=\"d713cda3-5d0f-40d8-b621-69233263ec2a\" primary=\"true\"/></categoryLinks></entryLink>'\n",
      "\n",
      "{http://www.battlescribe.net/schema/gameSystemSchema}entryLink {'id': '8117-a765-8d79-07a8', 'name': 'Aquila Strongpoint', 'hidden': 'false', 'collective': 'false', 'import': 'true', 'targetId': '16d6-25c4-af92-4329', 'type': 'selectionEntry'}\n",
      "b'<entryLink xmlns=\"http://www.battlescribe.net/schema/gameSystemSchema\" id=\"8117-a765-8d79-07a8\" name=\"Aquila Strongpoint\" hidden=\"false\" collective=\"false\" import=\"true\" targetId=\"16d6-25c4-af92-4329\" type=\"selectionEntry\"><categoryLinks><categoryLink id=\"8117-a765-8d79-07a8-d713cda3-5d0f-40d8-b621-69233263ec2a\" hidden=\"false\" targetId=\"d713cda3-5d0f-40d8-b621-69233263ec2a\" primary=\"true\"/></categoryLinks></entryLink>'\n",
      "\n",
      "{http://www.battlescribe.net/schema/gameSystemSchema}entryLink {'id': 'c29f-1df8-f18e-ab3c', 'name': 'Firestorm Redoubt', 'hidden': 'false', 'collective': 'false', 'import': 'true', 'targetId': 'a172-78de-aaa6-2201', 'type': 'selectionEntry'}\n",
      "b'<entryLink xmlns=\"http://www.battlescribe.net/schema/gameSystemSchema\" id=\"c29f-1df8-f18e-ab3c\" name=\"Firestorm Redoubt\" hidden=\"false\" collective=\"false\" import=\"true\" targetId=\"a172-78de-aaa6-2201\" type=\"selectionEntry\"><categoryLinks><categoryLink id=\"c29f-1df8-f18e-ab3c-d713cda3-5d0f-40d8-b621-69233263ec2a\" hidden=\"false\" targetId=\"d713cda3-5d0f-40d8-b621-69233263ec2a\" primary=\"true\"/><categoryLink id=\"90f5-7b12-fac7-28b8\" name=\"New CategoryLink\" hidden=\"false\" targetId=\"8172-12c9-8092-0756\" primary=\"false\"/></categoryLinks></entryLink>'\n",
      "\n",
      "{http://www.battlescribe.net/schema/gameSystemSchema}entryLink {'id': '7c3e-a6e6-db7b-0c75', 'name': 'Fortress of Redemption', 'hidden': 'false', 'collective': 'false', 'import': 'true', 'targetId': '8300-7ced-aafd-2a27', 'type': 'selectionEntry'}\n",
      "b'<entryLink xmlns=\"http://www.battlescribe.net/schema/gameSystemSchema\" id=\"7c3e-a6e6-db7b-0c75\" name=\"Fortress of Redemption\" hidden=\"false\" collective=\"false\" import=\"true\" targetId=\"8300-7ced-aafd-2a27\" type=\"selectionEntry\"><categoryLinks><categoryLink id=\"7c3e-a6e6-db7b-0c75-d713cda3-5d0f-40d8-b621-69233263ec2a\" hidden=\"false\" targetId=\"d713cda3-5d0f-40d8-b621-69233263ec2a\" primary=\"true\"/></categoryLinks></entryLink>'\n",
      "\n",
      "{http://www.battlescribe.net/schema/gameSystemSchema}entryLink {'id': '812b-3a8b-59b1-89c7', 'name': 'Imperial Bastion', 'hidden': 'false', 'collective': 'false', 'import': 'true', 'targetId': '55c6-268b-357f-d070', 'type': 'selectionEntry'}\n",
      "b'<entryLink xmlns=\"http://www.battlescribe.net/schema/gameSystemSchema\" id=\"812b-3a8b-59b1-89c7\" name=\"Imperial Bastion\" hidden=\"false\" collective=\"false\" import=\"true\" targetId=\"55c6-268b-357f-d070\" type=\"selectionEntry\"><categoryLinks><categoryLink id=\"812b-3a8b-59b1-89c7-d713cda3-5d0f-40d8-b621-69233263ec2a\" hidden=\"false\" targetId=\"d713cda3-5d0f-40d8-b621-69233263ec2a\" primary=\"true\"/></categoryLinks></entryLink>'\n",
      "\n",
      "{http://www.battlescribe.net/schema/gameSystemSchema}entryLink {'id': '39b9-0a8a-8b41-1630', 'name': 'Imperial Bunker', 'hidden': 'false', 'collective': 'false', 'import': 'true', 'targetId': '0116-c81b-1c0f-251c', 'type': 'selectionEntry'}\n",
      "b'<entryLink xmlns=\"http://www.battlescribe.net/schema/gameSystemSchema\" id=\"39b9-0a8a-8b41-1630\" name=\"Imperial Bunker\" hidden=\"false\" collective=\"false\" import=\"true\" targetId=\"0116-c81b-1c0f-251c\" type=\"selectionEntry\"><categoryLinks><categoryLink id=\"39b9-0a8a-8b41-1630-d713cda3-5d0f-40d8-b621-69233263ec2a\" hidden=\"false\" targetId=\"d713cda3-5d0f-40d8-b621-69233263ec2a\" primary=\"true\"/><categoryLink id=\"d14f-6772-dac9-9cf1\" name=\"New CategoryLink\" hidden=\"false\" targetId=\"8172-12c9-8092-0756\" primary=\"false\"/></categoryLinks></entryLink>'\n",
      "\n",
      "{http://www.battlescribe.net/schema/gameSystemSchema}entryLink {'id': '8b8d-e363-fe4f-6af3', 'name': 'Imperial Defence Line', 'hidden': 'false', 'collective': 'false', 'import': 'true', 'targetId': '0f73-97f2-b832-f6d0', 'type': 'selectionEntry'}\n",
      "b'<entryLink xmlns=\"http://www.battlescribe.net/schema/gameSystemSchema\" id=\"8b8d-e363-fe4f-6af3\" name=\"Imperial Defence Line\" hidden=\"false\" collective=\"false\" import=\"true\" targetId=\"0f73-97f2-b832-f6d0\" type=\"selectionEntry\"><categoryLinks><categoryLink id=\"8b8d-e363-fe4f-6af3-d713cda3-5d0f-40d8-b621-69233263ec2a\" hidden=\"false\" targetId=\"d713cda3-5d0f-40d8-b621-69233263ec2a\" primary=\"true\"/><categoryLink id=\"1bb8-5b36-9eff-0d13\" name=\"New CategoryLink\" hidden=\"false\" targetId=\"8172-12c9-8092-0756\" primary=\"false\"/></categoryLinks></entryLink>'\n",
      "\n",
      "{http://www.battlescribe.net/schema/gameSystemSchema}entryLink {'id': '8c5d-2fb6-ad72-d364', 'name': 'Plasma Obliterator', 'hidden': 'false', 'collective': 'false', 'import': 'true', 'targetId': '47e8-03be-a35b-8329', 'type': 'selectionEntry'}\n",
      "b'<entryLink xmlns=\"http://www.battlescribe.net/schema/gameSystemSchema\" id=\"8c5d-2fb6-ad72-d364\" name=\"Plasma Obliterator\" hidden=\"false\" collective=\"false\" import=\"true\" targetId=\"47e8-03be-a35b-8329\" type=\"selectionEntry\"><categoryLinks><categoryLink id=\"8c5d-2fb6-ad72-d364-d713cda3-5d0f-40d8-b621-69233263ec2a\" hidden=\"false\" targetId=\"d713cda3-5d0f-40d8-b621-69233263ec2a\" primary=\"true\"/></categoryLinks></entryLink>'\n",
      "\n",
      "{http://www.battlescribe.net/schema/gameSystemSchema}entryLink {'id': '76fd-e440-28d8-9f29', 'name': 'Skyshield Landing Pad', 'hidden': 'false', 'collective': 'false', 'import': 'true', 'targetId': '5cdd-edbb-07c3-0ba5', 'type': 'selectionEntry'}\n",
      "b'<entryLink xmlns=\"http://www.battlescribe.net/schema/gameSystemSchema\" id=\"76fd-e440-28d8-9f29\" name=\"Skyshield Landing Pad\" hidden=\"false\" collective=\"false\" import=\"true\" targetId=\"5cdd-edbb-07c3-0ba5\" type=\"selectionEntry\"><categoryLinks><categoryLink id=\"76fd-e440-28d8-9f29-d713cda3-5d0f-40d8-b621-69233263ec2a\" hidden=\"false\" targetId=\"d713cda3-5d0f-40d8-b621-69233263ec2a\" primary=\"true\"/></categoryLinks></entryLink>'\n",
      "\n",
      "{http://www.battlescribe.net/schema/gameSystemSchema}entryLink {'id': 'c636-e01d-2d8a-0af4', 'name': 'Vengeance Weapon Batteries', 'hidden': 'false', 'collective': 'false', 'import': 'true', 'targetId': '04bf-6c22-19fb-4e46', 'type': 'selectionEntry'}\n",
      "b'<entryLink xmlns=\"http://www.battlescribe.net/schema/gameSystemSchema\" id=\"c636-e01d-2d8a-0af4\" name=\"Vengeance Weapon Batteries\" hidden=\"false\" collective=\"false\" import=\"true\" targetId=\"04bf-6c22-19fb-4e46\" type=\"selectionEntry\"><categoryLinks><categoryLink id=\"c636-e01d-2d8a-0af4-d713cda3-5d0f-40d8-b621-69233263ec2a\" hidden=\"false\" targetId=\"d713cda3-5d0f-40d8-b621-69233263ec2a\" primary=\"true\"/><categoryLink id=\"e2c0-267d-9059-79e2\" name=\"New CategoryLink\" hidden=\"false\" targetId=\"8172-12c9-8092-0756\" primary=\"false\"/></categoryLinks></entryLink>'\n",
      "\n",
      "{http://www.battlescribe.net/schema/gameSystemSchema}entryLink {'id': 'fa72-798c-d3d3-e55a', 'name': 'Void Shield Generator', 'hidden': 'false', 'collective': 'false', 'import': 'true', 'targetId': 'bbd4-5f41-35d1-6c5f', 'type': 'selectionEntry'}\n",
      "b'<entryLink xmlns=\"http://www.battlescribe.net/schema/gameSystemSchema\" id=\"fa72-798c-d3d3-e55a\" name=\"Void Shield Generator\" hidden=\"false\" collective=\"false\" import=\"true\" targetId=\"bbd4-5f41-35d1-6c5f\" type=\"selectionEntry\"><categoryLinks><categoryLink id=\"fa72-798c-d3d3-e55a-d713cda3-5d0f-40d8-b621-69233263ec2a\" hidden=\"false\" targetId=\"d713cda3-5d0f-40d8-b621-69233263ec2a\" primary=\"true\"/></categoryLinks></entryLink>'\n",
      "\n",
      "{http://www.battlescribe.net/schema/gameSystemSchema}entryLink {'id': '1f10-5251-06b1-0d67', 'name': 'Imperial Fortress Walls', 'hidden': 'false', 'collective': 'false', 'import': 'true', 'targetId': '6267-6959-b9ec-4a6b', 'type': 'selectionEntry'}\n",
      "b'<entryLink xmlns=\"http://www.battlescribe.net/schema/gameSystemSchema\" id=\"1f10-5251-06b1-0d67\" name=\"Imperial Fortress Walls\" hidden=\"false\" collective=\"false\" import=\"true\" targetId=\"6267-6959-b9ec-4a6b\" type=\"selectionEntry\"><categoryLinks><categoryLink id=\"c48d-e8d1-ecce-c4b9\" name=\"New CategoryLink\" hidden=\"false\" targetId=\"d713cda3-5d0f-40d8-b621-69233263ec2a\" primary=\"true\"/></categoryLinks></entryLink>'\n",
      "\n",
      "{http://www.battlescribe.net/schema/gameSystemSchema}entryLink {'id': '4bcc-b0f4-b425-f38e', 'name': 'Gametype', 'hidden': 'false', 'collective': 'false', 'import': 'true', 'targetId': 'bf09-85b2-c097-1071', 'type': 'selectionEntry'}\n",
      "b'<entryLink xmlns=\"http://www.battlescribe.net/schema/gameSystemSchema\" id=\"4bcc-b0f4-b425-f38e\" name=\"Gametype\" hidden=\"false\" collective=\"false\" import=\"true\" targetId=\"bf09-85b2-c097-1071\" type=\"selectionEntry\"><categoryLinks><categoryLink id=\"0c5c-0d15-790d-6f8c\" name=\"New CategoryLink\" hidden=\"false\" targetId=\"fcff-0f21-93e6-1ddc\" primary=\"true\"/></categoryLinks></entryLink>'\n",
      "\n",
      "{http://www.battlescribe.net/schema/gameSystemSchema}entryLink {'id': 'e860-827e-24e0-0bd8', 'name': 'Use Beta Rules', 'hidden': 'false', 'collective': 'false', 'import': 'true', 'targetId': '3cf4-7a43-f7a5-51cc', 'type': 'selectionEntry'}\n",
      "b'<entryLink xmlns=\"http://www.battlescribe.net/schema/gameSystemSchema\" id=\"e860-827e-24e0-0bd8\" name=\"Use Beta Rules\" hidden=\"false\" collective=\"false\" import=\"true\" targetId=\"3cf4-7a43-f7a5-51cc\" type=\"selectionEntry\"><categoryLinks><categoryLink id=\"f2d4-4c7c-a8d7-e844\" name=\"New CategoryLink\" hidden=\"false\" targetId=\"fcff-0f21-93e6-1ddc\" primary=\"true\"/></categoryLinks></entryLink>'\n",
      "\n",
      "{http://www.battlescribe.net/schema/gameSystemSchema}entryLink {'id': 'ec87-f19e-eee2-1ba8', 'name': 'Detachment CP', 'hidden': 'false', 'collective': 'false', 'import': 'true', 'targetId': '9d97-2793-9882-d48a', 'type': 'selectionEntry'}\n",
      "b'<entryLink xmlns=\"http://www.battlescribe.net/schema/gameSystemSchema\" id=\"ec87-f19e-eee2-1ba8\" name=\"Detachment CP\" hidden=\"false\" collective=\"false\" import=\"true\" targetId=\"9d97-2793-9882-d48a\" type=\"selectionEntry\"><categoryLinks><categoryLink id=\"56a3-e61a-895c-ce33\" name=\"New CategoryLink\" hidden=\"false\" targetId=\"fcff-0f21-93e6-1ddc\" primary=\"true\"/></categoryLinks></entryLink>'\n",
      "\n",
      "{http://www.battlescribe.net/schema/gameSystemSchema}entryLink {'id': '44e3-c224-ba82-1b55', 'name': 'Battle Size', 'hidden': 'false', 'collective': 'false', 'import': 'true', 'targetId': 'f29d-8a5d-18b6-a071', 'type': 'selectionEntry'}\n",
      "b'<entryLink xmlns=\"http://www.battlescribe.net/schema/gameSystemSchema\" id=\"44e3-c224-ba82-1b55\" name=\"Battle Size\" hidden=\"false\" collective=\"false\" import=\"true\" targetId=\"f29d-8a5d-18b6-a071\" type=\"selectionEntry\"><categoryLinks><categoryLink id=\"7518-f5d0-38d5-658f\" name=\"New CategoryLink\" hidden=\"false\" targetId=\"fcff-0f21-93e6-1ddc\" primary=\"true\"/></categoryLinks></entryLink>'\n",
      "\n",
      "{http://www.battlescribe.net/schema/gameSystemSchema}entryLink {'id': '074a-5af4-0bed-a6a7', 'name': 'Reinforcements', 'hidden': 'false', 'collective': 'false', 'import': 'true', 'targetId': 'af7a-d57e-4972-12d3', 'type': 'selectionEntry'}\n",
      "b'<entryLink xmlns=\"http://www.battlescribe.net/schema/gameSystemSchema\" id=\"074a-5af4-0bed-a6a7\" name=\"Reinforcements\" hidden=\"false\" collective=\"false\" import=\"true\" targetId=\"af7a-d57e-4972-12d3\" type=\"selectionEntry\"><categoryLinks><categoryLink id=\"d9f9-95c9-081c-f754\" name=\"New CategoryLink\" hidden=\"false\" targetId=\"7320-eafd-02c1-94da\" primary=\"true\"/></categoryLinks></entryLink>'\n",
      "\n",
      "{http://www.battlescribe.net/schema/gameSystemSchema}entryLink {'id': 'd692-f83a-aa11-a25a', 'name': 'Primus Redoubt', 'hidden': 'false', 'collective': 'false', 'import': 'true', 'targetId': 'b801-d1d1-7c34-facf', 'type': 'selectionEntry'}\n",
      "b'<entryLink xmlns=\"http://www.battlescribe.net/schema/gameSystemSchema\" id=\"d692-f83a-aa11-a25a\" name=\"Primus Redoubt\" hidden=\"false\" collective=\"false\" import=\"true\" targetId=\"b801-d1d1-7c34-facf\" type=\"selectionEntry\"><categoryLinks><categoryLink id=\"340b-ca49-5722-d355\" name=\"Fortification\" hidden=\"false\" targetId=\"d713cda3-5d0f-40d8-b621-69233263ec2a\" primary=\"true\"/></categoryLinks></entryLink>'\n",
      "\n",
      "{http://www.battlescribe.net/schema/gameSystemSchema}entryLink {'id': 'd3f8-6d8c-7e97-4c5a', 'name': 'Macro-cannon Aquila Strongpoint', 'hidden': 'false', 'collective': 'false', 'import': 'true', 'targetId': 'ec16-8c4f-7c32-2d58', 'type': 'selectionEntry'}\n",
      "b'<entryLink xmlns=\"http://www.battlescribe.net/schema/gameSystemSchema\" id=\"d3f8-6d8c-7e97-4c5a\" name=\"Macro-cannon Aquila Strongpoint\" hidden=\"false\" collective=\"false\" import=\"true\" targetId=\"ec16-8c4f-7c32-2d58\" type=\"selectionEntry\"><categoryLinks><categoryLink id=\"e3de-77d5-7c0d-4a2c\" name=\"New CategoryLink\" hidden=\"false\" targetId=\"d713cda3-5d0f-40d8-b621-69233263ec2a\" primary=\"true\"/></categoryLinks></entryLink>'\n",
      "\n",
      "{http://www.battlescribe.net/schema/gameSystemSchema}entryLink {'id': '1f4c-2aec-3f77-2f88', 'name': 'Vortex Missile Aquila Strongpoint', 'hidden': 'false', 'collective': 'false', 'import': 'true', 'targetId': '7fa0-59ee-8d71-e174', 'type': 'selectionEntry'}\n",
      "b'<entryLink xmlns=\"http://www.battlescribe.net/schema/gameSystemSchema\" id=\"1f4c-2aec-3f77-2f88\" name=\"Vortex Missile Aquila Strongpoint\" hidden=\"false\" collective=\"false\" import=\"true\" targetId=\"7fa0-59ee-8d71-e174\" type=\"selectionEntry\"><categoryLinks><categoryLink id=\"d031-d3e6-4fdc-0eba\" name=\"Fortification\" hidden=\"false\" targetId=\"d713cda3-5d0f-40d8-b621-69233263ec2a\" primary=\"true\"/></categoryLinks></entryLink>'\n",
      "\n"
     ]
    }
   ],
   "source": [
    "for y in base.xpath(\n",
    "    \"//gc:entryLinks\", \n",
    "    namespaces={'gc': 'http://www.battlescribe.net/schema/gameSystemSchema'})[:1]:\n",
    "    print(y.tag, y.attrib)\n",
    "    for x in y:\n",
    "        print(x.tag, x.attrib)\n",
    "        print(etree.tostring(x))\n",
    "        print()"
   ]
  },
  {
   "cell_type": "code",
   "execution_count": 13,
   "metadata": {},
   "outputs": [],
   "source": [
    "# remove duplicates within selection\n",
    "# group units weapons and abilities tables"
   ]
  },
  {
   "cell_type": "code",
   "execution_count": 28,
   "metadata": {
    "scrolled": false
   },
   "outputs": [],
   "source": [
    "with open(\"src/battlescribe/catelogue.xslt\", \"r\") as f:\n",
    "    xslt_root = etree.XML(f.read())\n",
    "transform = etree.XSLT(xslt_root)\n",
    "result_tree = transform(base)\n",
    "with open(\"src/battlescribe/test.html\", \"w\") as f:\n",
    "    f.write(str(result_tree))"
   ]
  },
  {
   "cell_type": "code",
   "execution_count": null,
   "metadata": {},
   "outputs": [],
   "source": []
  }
 ],
 "metadata": {
  "kernelspec": {
   "display_name": "Python 3",
   "language": "python",
   "name": "python3"
  },
  "language_info": {
   "codemirror_mode": {
    "name": "ipython",
    "version": 3
   },
   "file_extension": ".py",
   "mimetype": "text/x-python",
   "name": "python",
   "nbconvert_exporter": "python",
   "pygments_lexer": "ipython3",
   "version": "3.7.6"
  }
 },
 "nbformat": 4,
 "nbformat_minor": 4
}
