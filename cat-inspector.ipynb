{
 "cells": [
  {
   "cell_type": "code",
   "execution_count": 1,
   "metadata": {
    "scrolled": true
   },
   "outputs": [
    {
     "name": "stdout",
     "output_type": "stream",
     "text": [
      "['Aeldari - Craftworlds.cat', 'Aeldari - Drukhari.cat', 'Aeldari - FW Corsairs.cat', 'Aeldari - Harlequins.cat', 'Aeldari - Ynnari.cat', 'Chaos - Chaos Space Marines.cat', 'Chaos - Daemons.cat', 'Chaos - Dark Mechanicum.cat', 'Chaos - Death Guard.cat', 'Chaos - FW Heretic Astartes.cat', 'Chaos - FW Renegade and Heretics.cat', 'Chaos - Gellerpox Infected.cat', 'Chaos - Questor Traitoris.cat', 'Chaos - Servants of the Abyss.cat', 'Chaos - Thousand Sons.cat', 'Chaos - Titanicus Traitoris.cat', 'Fallen.cat', 'Imperium - Adeptus Astra Telepathica.cat', 'Imperium - Adeptus Custodes.cat', 'Imperium - Adeptus Mechanicus.cat', 'Imperium - Adeptus Ministorum.cat', 'Imperium - Adeptus Titanicus.cat', 'Imperium - Astra Militarum - Library.cat', 'Imperium - Astra Militarum.cat', 'Imperium - Black Templars.cat', 'Imperium - Blackstone Fortress.cat', 'Imperium - Blood Angels.cat', 'Imperium - Dark Angels.cat', 'Imperium - Deathwatch.cat', 'Imperium - Elucidian Starstriders.cat', 'Imperium - FW Adeptus Astartes.cat', 'Imperium - FW Death Korps of Krieg.cat', 'Imperium - FW Elysians.cat', 'Imperium - Grey Knights.cat', 'Imperium - Imperial Fists.cat', 'Imperium - Inquisition.cat', 'Imperium - Iron Hands.cat', 'Imperium - Legion of the Damned.cat', 'Imperium - Officio Assassinorum.cat', 'Imperium - Questor Imperialis.cat', 'Imperium - Raven Guard.cat', 'Imperium - Salamanders.cat', 'Imperium - Sisters of Silence.cat', 'Imperium - Space Marines.cat', 'Imperium - Space Wolves.cat', 'Imperium - Ultramarines.cat', 'Imperium - White_Scars.cat', 'Necrons.cat', 'Orks.cat', 'README.md', \"T'au Empire.cat\", 'Tyranids - Genestealer Cults.cat', 'Tyranids.cat', 'Unaligned - Monsters and Gribblies.cat', 'Warhammer 40,000 8th Edition.gst']\n"
     ]
    }
   ],
   "source": [
    "import requests\n",
    "from itertools import chain\n",
    "from collections import namedtuple\n",
    "import logging\n",
    "\n",
    "from lxml import etree\n",
    "from pprint import pprint\n",
    "from IPython.core.display import display, HTML\n",
    "\n",
    "\n",
    "url = f\"https://api.github.com/repos/BSData/wh40k/contents/\"\n",
    "files = requests.get(url).json()\n",
    "catalogues = []\n",
    "\n",
    "for file in files:\n",
    "    if file['type'] == 'file' and file['name'][0] != '.':\n",
    "        catalogues.append(file['name'])\n",
    "print(catalogues)"
   ]
  },
  {
   "cell_type": "code",
   "execution_count": 2,
   "metadata": {},
   "outputs": [],
   "source": [
    "path = 'https://raw.githubusercontent.com/BSData/wh40k/master/{}'.format('Warhammer 40,000 8th Edition.gst')\n",
    "r = requests.get(path)\n",
    "base = etree.fromstring(r.content, etree.XMLParser(remove_blank_text=True))"
   ]
  },
  {
   "cell_type": "code",
   "execution_count": 3,
   "metadata": {
    "scrolled": false
   },
   "outputs": [],
   "source": [
    "def sanity_check(root):\n",
    "    \"\"\"make sure there isn't any unspected tags\"\"\"\n",
    "    for child in root:\n",
    "        assert child.tag.split('}')[1] in (\n",
    "            'publications', 'categoryEntries', 'entryLinks', \n",
    "            'sharedSelectionEntries', 'sharedSelectionEntryGroups', 'sharedProfiles',\n",
    "            'profileTypes', 'selectionEntries', 'forceEntries', 'rules', 'sharedRules', 'infoLinks',\n",
    "            'catalogueLinks', 'sharedInfoGroups', 'costTypes'\n",
    "        ), \"Tag {} not seen before\".format(child.tag.split('}')[1])"
   ]
  },
  {
   "cell_type": "code",
   "execution_count": 4,
   "metadata": {},
   "outputs": [
    {
     "data": {
      "text/plain": [
       "6.773333333333333"
      ]
     },
     "execution_count": 4,
     "metadata": {},
     "output_type": "execute_result"
    }
   ],
   "source": [
    "# suggests a turn is around 5 or so seconds\n",
    "# allow for shooting and fighting too could be maybe 15-30 second per turn\n",
    "\n",
    "SCALE = 64\n",
    "INCH_TO_CM = 2.54\n",
    "\n",
    "def to_real_scale(value):\n",
    "    return value * SCALE * INCH_TO_CM / 100\n",
    "to_real_scale(7 + 6 + 2 * 6) / 6"
   ]
  },
  {
   "cell_type": "code",
   "execution_count": 5,
   "metadata": {},
   "outputs": [],
   "source": [
    "def pretty_print(x):\n",
    "    for x in str(etree.tostring(x, pretty_print=True)).split('\\\\n'):\n",
    "        print(x)"
   ]
  },
  {
   "cell_type": "code",
   "execution_count": 6,
   "metadata": {},
   "outputs": [],
   "source": [
    "# look at other cats for better undestanding of sharedSelectionEntryGroups\n",
    "# handle unit types from main rules, restrictions (min, max)\n",
    "# print unit compositions unit (min, max), equipments (min, max)\n",
    "\n",
    "# work with more cats:\n",
    "# profileTypes, selectionEntries, forceEntries, rules, sharedRules, infoLinks, catalogueLinks, sharedInfoGroups, costTypes\n",
    "# work with more of the base rules"
   ]
  },
  {
   "cell_type": "code",
   "execution_count": 7,
   "metadata": {},
   "outputs": [],
   "source": [
    "def load_catalogue(root, base):\n",
    "    sanity_check(root)\n",
    "    namespace = {\n",
    "        'c': 'http://www.battlescribe.net/schema/catalogueSchema',\n",
    "        'gs': 'http://www.battlescribe.net/schema/gameSystemSchema'}\n",
    "    data = {}\n",
    "    data[root.attrib['id']] = {'type': 'catalogue_attributes', **root.attrib}\n",
    "    \n",
    "    convert_publications(root, data, namespace)\n",
    "    convert_categories(root, base, data, namespace)\n",
    "    convert_entries(root, data, namespace)\n",
    "    convert_shared_selection_entries(root, data, namespace)\n",
    "    convert_shared_profile(root, base, data, namespace)\n",
    "    convert_shared_selection_entry_groups(root, data, namespace)\n",
    "\n",
    "    display_profiles(data)"
   ]
  },
  {
   "cell_type": "code",
   "execution_count": 8,
   "metadata": {},
   "outputs": [],
   "source": [
    "def convert_publications(root, data, namespace):\n",
    "    data['publications'] = {\n",
    "        entry.attrib['id']: entry.attrib['name'] \n",
    "        for entry in root.xpath(\"/c:catalogue/c:publications/c:publication\", namespaces=namespace)}"
   ]
  },
  {
   "cell_type": "code",
   "execution_count": 9,
   "metadata": {
    "scrolled": false
   },
   "outputs": [],
   "source": [
    "def convert_categories(root, base, data, namespace):\n",
    "    data['categories'] = {\n",
    "        entry.attrib['id']: entry.attrib['name']\n",
    "        for entry in root.xpath(\"/c:catalogue/c:categoryEntries/c:categoryEntry\", namespaces=namespace)}\n",
    "\n",
    "    data['categories'].update({\n",
    "        entry.attrib['id']: entry.attrib['name']\n",
    "        for entry in base.xpath(\"/gs:gameSystem/gs:categoryEntries/gs:categoryEntry\", namespaces=namespace)\n",
    "    })"
   ]
  },
  {
   "cell_type": "code",
   "execution_count": 10,
   "metadata": {
    "scrolled": true
   },
   "outputs": [],
   "source": [
    "def convert_entries(root, data, namespace):\n",
    "    data['entries'] = {\n",
    "        entry.attrib['id']: {\n",
    "            **entry.attrib, \n",
    "            \"links\": [link.attrib for link in entry.xpath(\"c:categoryLinks/c:categoryLink\", namespaces=namespace)],\n",
    "            \"modifiers\": [{**m.attrib} for m in entry.xpath(\"c:modifiers/c:modifier\", namespaces=namespace)]}\n",
    "        for entry in root.xpath(\"/c:catalogue/c:entryLinks/c:entryLink\", namespaces=namespace)}"
   ]
  },
  {
   "cell_type": "code",
   "execution_count": 11,
   "metadata": {},
   "outputs": [],
   "source": [
    "def extract_characterstics(p, schema, namespace):\n",
    "    type_select = {\n",
    "        'Unit': (Model, model_labels),\n",
    "        'Weapon': (Weapon, weapon_labels),\n",
    "        'Abilities': (Ability, ability_labels),\n",
    "        'Psyker': (Psyker, psyker_label),\n",
    "        'Psychic Power': (Power, power_labels),\n",
    "        'Keywords': (Keywords, keywords_labels),\n",
    "        'Wound Track': (WoundTrack, wound_track_labels),\n",
    "        'Transport': (Transport, transport_labels),\n",
    "        'Distort Fields': (DistortFields, distort_fields_labels)\n",
    "    }\n",
    "    \n",
    "    struc, label_lookup = type_select[p.attrib['typeName']]\n",
    "    if type_select.get(p.attrib['typeName']):\n",
    "        return struc(name=p.attrib['name'],\n",
    "            **{\n",
    "                label_lookup[c.attrib['name']]: c.text \n",
    "                for c in p.xpath(\"{0}:characteristics/{0}:characteristic\".format(schema), namespaces=namespace)\n",
    "            })\n",
    "    else:\n",
    "        logging.warning(\"Unknown type {}\".format(p.attrib['typeName']))"
   ]
  },
  {
   "cell_type": "code",
   "execution_count": 12,
   "metadata": {},
   "outputs": [],
   "source": [
    "def make_selection_entry(entry, namespace):\n",
    "    return {\n",
    "        **entry.attrib,\n",
    "        \"profiles\": [extract_characterstics(p, 'c', namespace) for p in entry.xpath(\"c:profiles/c:profile\", namespaces=namespace)],\n",
    "        \"constraints\": [c.attrib for c in entry.xpath(\"c:constraints/c:constraint\", namespaces=namespace)],\n",
    "        \"info_links\": [link.attrib for link in entry.xpath(\"c:infoLinks/c:infoLink\", namespaces=namespace)],\n",
    "        \"selection_entries\": [make_selection_entry(e, namespace) for e in entry.xpath(\"c:selectionEntries/c:selectionEntry\", namespaces=namespace)],\n",
    "        \"entry_links\": [c.attrib for c in entry.xpath(\"c:entryLinks/c:entryLink\", namespaces=namespace)],\n",
    "        \"costs\": [(c.attrib['name'], c.attrib['value']) for c in entry.xpath(\"c:costs/c:cost\", namespaces=namespace) if float(c.attrib['value']) > 0],\n",
    "        \"category_links\": [link.attrib for link in entry.xpath(\"c:categoryLinks/c:categoryLink\", namespaces=namespace)],\n",
    "    }"
   ]
  },
  {
   "cell_type": "code",
   "execution_count": 13,
   "metadata": {},
   "outputs": [],
   "source": [
    "# Need Transport and Vehicle stats\n",
    "# Keywords, Wound Track, Transport. Distort Fields\n",
    "model_labels = {\n",
    "    'M': 'movement', \n",
    "    'WS': 'weapon_skill', \n",
    "    'BS': 'ballistic_skill', \n",
    "    'S': 'strength', \n",
    "    'T': 'toughness', \n",
    "    'W': 'wounds', \n",
    "    'A': 'attacks', \n",
    "    'Ld': 'leadership', \n",
    "    'Save': 'armour'}\n",
    "\n",
    "weapon_labels = {\n",
    "    'Range': 'range', \n",
    "    'Type': 'type', \n",
    "    'S': 'strength', \n",
    "    'AP': 'armour_piercing', \n",
    "    'D': 'damage', \n",
    "    'Abilities': 'abilities'\n",
    "}\n",
    "\n",
    "ability_labels = {\n",
    "    'Description': 'description'\n",
    "}\n",
    "\n",
    "psyker_label = {\n",
    "    \"Cast\": \"cast\",\n",
    "    \"Deny\": \"deny\",\n",
    "    \"Powers Known\": \"known_powers\",\n",
    "    \"Other\": \"other\",\n",
    "}\n",
    "\n",
    "power_labels = {\n",
    "    \"Warp Charge\": \"warp_charge\",\n",
    "    \"Range\": \"range\",\n",
    "    \"Details\": \"details\",\n",
    "}\n",
    "\n",
    "keywords_labels = {\n",
    "    'Keywords (Faction)': 'faction_keywords',\n",
    "    'Keywords (Basic)': 'basic_keywords',\n",
    "}\n",
    "\n",
    "wound_track_labels = {\n",
    "    \"Remaining W\": \"remaining_wounds\",\n",
    "    \"Characteristic 1\": \"characteristic1\",\n",
    "    \"Characteristic 2\": \"characteristic2\",\n",
    "    \"Characteristic 3\": \"characteristic3\",\n",
    "}\n",
    "\n",
    "transport_labels = {\n",
    "    'Capacity': 'capacity'\n",
    "}\n",
    "\n",
    "distort_fields_labels = {\n",
    "    \"Distance Moved\": \"distance_moved\",\n",
    "    \"Invulnerable Save\": \"invulnerable_save\",\n",
    "}\n",
    "\n",
    "Model = namedtuple(\n",
    "    'Model', ['name', 'movement', 'weapon_skill', 'ballistic_skill', 'strength', 'toughness', 'wounds', 'attacks', 'leadership', 'armour'])\n",
    "Weapon = namedtuple(\n",
    "    'Weapon', ['name', 'range', 'type', 'strength', 'armour_piercing', 'damage', 'abilities'])\n",
    "Ability = namedtuple(\n",
    "    'Ability', ['name', 'description'])\n",
    "Psyker = namedtuple(\n",
    "    'Psyker', ['name', 'cast', 'deny', 'known_powers', 'other'])\n",
    "Power = namedtuple(\n",
    "    'Power', ['name', 'warp_charge', 'range', 'details']\n",
    ")\n",
    "Keywords = namedtuple(\n",
    "    'Keywords', ['name', 'faction_keywords', 'basic_keywords']\n",
    ")\n",
    "WoundTrack = namedtuple(\n",
    "    'WoundTrack', ['name', 'remaining_wounds', 'characteristic1', 'characteristic2', 'characteristic3']\n",
    ")\n",
    "Transport = namedtuple(\n",
    "    'Transport', ['name', 'capacity']\n",
    ")\n",
    "DistortFields = namedtuple(\n",
    "    'DistortFields', ['name', 'distance_moved', 'invulnerable_save']\n",
    ")"
   ]
  },
  {
   "cell_type": "code",
   "execution_count": 14,
   "metadata": {},
   "outputs": [],
   "source": [
    "def convert_shared_selection_entries(root, data, namespace):\n",
    "    data['shared_selection_entries'] = {\n",
    "        entry.attrib['id']: make_selection_entry(entry, namespace)\n",
    "        for entry in root.xpath(\"/c:catalogue/c:sharedSelectionEntries/c:selectionEntry\", namespaces=namespace)}"
   ]
  },
  {
   "cell_type": "code",
   "execution_count": 15,
   "metadata": {},
   "outputs": [],
   "source": [
    "def convert_shared_selection_entry_groups(root, data, namespace):\n",
    "    data['shared_selection_entry_groups'] = {\n",
    "        shared_group.attrib['id']: {\n",
    "            **shared_group.attrib,\n",
    "            'selection_entries': [\n",
    "                make_selection_entry(entry, namespace)\n",
    "                for entry in shared_group.xpath(\"c:selectionEntries/c:selectionEntry\", namespaces=namespace)],\n",
    "            'links': [\n",
    "                {**link.attrib, 'constraints': [c.attrib for c in link.xpath(\"c:constraints/c:constraint\", namespaces=namespace)]}\n",
    "                for link in shared_group.xpath(\"c:entryLinks/c:entryLink\", namespaces=namespace)\n",
    "            ]\n",
    "        }\n",
    "        for shared_group in root.xpath(\"/c:catalogue/c:sharedSelectionEntryGroups/c:selectionEntryGroup\", namespaces=namespace)}"
   ]
  },
  {
   "cell_type": "code",
   "execution_count": 16,
   "metadata": {},
   "outputs": [],
   "source": [
    "def convert_shared_profile(root, base, data, namespace):\n",
    "    data['shared_profile'] = {\n",
    "        shared_profile.attrib['id']: {\n",
    "            'name': shared_profile.attrib['name'], \n",
    "            'type': shared_profile.attrib['typeName'],\n",
    "            'characteristics': extract_characterstics(shared_profile, 'c', namespace)}\n",
    "        for shared_profile in root.xpath(\"/c:catalogue/c:sharedProfiles/c:profile\", namespaces=namespace)}\n",
    "\n",
    "    data['shared_profile'].update({\n",
    "        shared_profile.attrib['id']: {\n",
    "            'name': shared_profile.attrib['name'], \n",
    "            'type': shared_profile.attrib['typeName'],\n",
    "            'characteristics': extract_characterstics(shared_profile, 'gs', namespace)}\n",
    "        for shared_profile in base.xpath(\"/gs:gameSystem/gs:sharedProfiles/gs:profile\", namespaces=namespace)})"
   ]
  },
  {
   "cell_type": "code",
   "execution_count": 20,
   "metadata": {},
   "outputs": [],
   "source": [
    "def profile_search(data, entry):\n",
    "    \"\"\"Searches for all the parts of a selection entry for child seleciton entries and profiles and entry_links\"\"\"\n",
    "    if len(entry.get('selection_entries', [])) > 0:\n",
    "        for y in entry['selection_entries']:\n",
    "            for x in profile_search(data, y):\n",
    "                yield x\n",
    "    for p in entry.get('profiles', []):\n",
    "        yield p\n",
    "    for l in entry.get('entry_links', []):\n",
    "        if l['type'] == 'selectionEntry':\n",
    "            target = data['shared_selection_entries'].get(l['targetId'])\n",
    "            if target:\n",
    "                for p in target['profiles']:\n",
    "                    yield p\n",
    "                for il in target['info_links']:\n",
    "                    if il['type'] == 'profile':\n",
    "                        yield data['shared_profile'][il['targetId']]['characteristics']\n",
    "                    else:\n",
    "                        raise RuntimeError(\"Unknown info link type{}\".format(il['type']))\n",
    "            else:\n",
    "                logging.warning(\"Unknown reference {} {} {}\".format(l['type'], l.get('name', '<no-name>'), l['targetId']))\n",
    "        elif l['type'] == 'selectionEntryGroup':\n",
    "            shared_entry = data['shared_selection_entry_groups'].get(l['targetId'])\n",
    "            if shared_entry:\n",
    "                for ge in profile_search(data, shared_entry):\n",
    "                    yield ge\n",
    "            else:\n",
    "                logging.warning(\"Unknown reference {} {} {}\".format(l['type'], l.get('name', '<no-name>'), l['targetId']))\n",
    "        else:\n",
    "            raise RuntimeError(\"Unknown type {}\".format(l['type']))"
   ]
  },
  {
   "cell_type": "code",
   "execution_count": 21,
   "metadata": {
    "scrolled": false
   },
   "outputs": [],
   "source": [
    "def display_profiles(data):\n",
    "    page = []\n",
    "    # format to be displayed in tables\n",
    "    model_attributes = ['Name', 'Move', 'WS', 'BS', 'S', 'T', 'W', 'A', 'L', 'Sv']\n",
    "    model_widths = [0.3, 0.1, 0.075, 0.075, 0.075, 0.075, 0.075, 0.075, 0.075, 0.075]\n",
    "    weapon_attributes = ['Weapon', 'Range', 'Type', 'S', 'AP', 'D', 'Abilities']\n",
    "    weapon_widths = [0.3, 0.05, 0.1, 0.05, 0.05, 0.05, 0.4]\n",
    "    assert sum(weapon_widths) == 1, \"width is {}\".format(sum(weapon_widths))\n",
    "\n",
    "\n",
    "    def format_table(column_names, column_widths, entries):\n",
    "        return '''\n",
    "    <table style=\"width:75%\">\n",
    "        <tr>\n",
    "            {}\n",
    "        </tr>\n",
    "        {}\n",
    "    </table> '''.format(\n",
    "            ''.join(\n",
    "                '<th style=\"width: {w}%;\"><b>{x}</b></th>'.format(x=x, w=w*100)\n",
    "                for x, w in zip(column_names, column_widths)),\n",
    "            ''.join('<tr>{}</tr>'.format(\n",
    "                ''.join('<td>{}</td>'.format(i) for i in list(row))) for row in entries))\n",
    "\n",
    "\n",
    "    for k, v in data['entries'].items():\n",
    "        entry = data['shared_selection_entries'].get(v['targetId'])\n",
    "        if entry:\n",
    "            keywords = [data['categories'].get(l['targetId'], l.get('name', 'unknown')) for l in entry['category_links']]\n",
    "            faction = [x.split(\"Faction: \")[1] for x in keywords if 'Faction' in x]\n",
    "            other_keywords = [x for x in keywords if not 'Faction' in x]\n",
    "            items = list(profile_search(data, entry))\n",
    "            models = set(i for i in items if type(i) == Model)\n",
    "            weapons = set(i for i in items if type(i) == Weapon)\n",
    "            abilities = [i for i in items if type(i) == Ability]\n",
    "            try:\n",
    "                troop_type = data['categories'][[x for x in v['links'] if x['primary'] == 'true'][0]['targetId']]\n",
    "            except:\n",
    "                troop_type = 'unknown'\n",
    "                logging.warning(\"Could not get troop type {}\".format(v['links']))\n",
    "            entry = [\n",
    "        '<h1>{}</h1>'.format(v['name'] or entry['name']),\n",
    "        '<p>{} [{}]</p>'.format('[{}]'.format(troop_type), \", \".join(\"{}:{}\".format(x[0], int(float(x[1]))) for x in entry['costs'])),\n",
    "        format_table(model_attributes, model_widths, models),\n",
    "        'Unit contains x of y, x of y with a,b,c<br>',\n",
    "        format_table(weapon_attributes, weapon_widths, weapons),\n",
    "        '<b>Abilities:</b><ul>{}</ul>'.format(\"<br>\".join([\"<li><b>{}</b> {}</li>\".format(a.name, a.description) for a in abilities])),\n",
    "        '<b>Faction Keywords:</b> {}<br>'.format(\", \".join(faction)),\n",
    "        '<b>Keywords:</b> {}'.format(\", \".join(other_keywords))\n",
    "            ]\n",
    "\n",
    "            display(HTML(\"\".join(entry)))"
   ]
  },
  {
   "cell_type": "code",
   "execution_count": 22,
   "metadata": {
    "scrolled": true
   },
   "outputs": [
    {
     "data": {
      "text/html": [
       "<h1>Eldrad Ulthran</h1><p>[HQ] [ PL:8, pts:145]</p>\n",
       "    <table style=\"width:75%\">\n",
       "        <tr>\n",
       "            <th style=\"width: 30.0%;\"><b>Name</b></th><th style=\"width: 10.0%;\"><b>Move</b></th><th style=\"width: 7.5%;\"><b>WS</b></th><th style=\"width: 7.5%;\"><b>BS</b></th><th style=\"width: 7.5%;\"><b>S</b></th><th style=\"width: 7.5%;\"><b>T</b></th><th style=\"width: 7.5%;\"><b>W</b></th><th style=\"width: 7.5%;\"><b>A</b></th><th style=\"width: 7.5%;\"><b>L</b></th><th style=\"width: 7.5%;\"><b>Sv</b></th>\n",
       "        </tr>\n",
       "        <tr><td>Eldrad Ulthran</td><td>7\"</td><td>2+</td><td>2+</td><td>3</td><td>4</td><td>6</td><td>2</td><td>9</td><td>6+</td></tr>\n",
       "    </table> Unit contains x of y, x of y with a,b,c<br>\n",
       "    <table style=\"width:75%\">\n",
       "        <tr>\n",
       "            <th style=\"width: 30.0%;\"><b>Weapon</b></th><th style=\"width: 5.0%;\"><b>Range</b></th><th style=\"width: 10.0%;\"><b>Type</b></th><th style=\"width: 5.0%;\"><b>S</b></th><th style=\"width: 5.0%;\"><b>AP</b></th><th style=\"width: 5.0%;\"><b>D</b></th><th style=\"width: 40.0%;\"><b>Abilities</b></th>\n",
       "        </tr>\n",
       "        <tr><td>Shuriken pistol</td><td>12\"</td><td>Pistol 1</td><td>4</td><td>0</td><td>1</td><td>Each time you make a wound roll of 6+ for this weapon, that hit is resolved with an AP of -3 instead of 0.</td></tr><tr><td>Staff of Ulthamar</td><td>Melee</td><td>Melee</td><td>+2</td><td>-2</td><td>D3</td><td>-</td></tr>\n",
       "    </table> <b>Abilities:</b><ul><li><b>Armour of Last Runes</b> Eldrad Ulthran has a 3+ invulnerable save.</li><br><li><b>Spiritlink</b> Whenever you pass a Psychic test for Eldrad Ulthran, you can add 1 to the next Psychic test you take for him until the end of the phase. </li><br><li><b>Ghosthelm</b> Roll a D6 whenever this model suffers a mortal wound, adding 3 to the roll if the mortal wound was inflicted as a result of the psyker suffering Perils of the Warp. On a roll of 5+, that wound is ignored.</li><br><li><b>Runes of the Farseer</b> Once in each Psychic phase, you can re-roll any number of dice used for this model's attempt to manifest or deny a psychic power.</li><br><li><b>Ulthwe: Fate Reader</b> If your army is Battle-forged and your Warlord is on the battlefield, roll a D6 at the start of each turn (yours and your opponent’s). On a 6 you gain a Command Point.</li></ul><b>Faction Keywords:</b> Aeldari, Warhost, Ulthwe<br><b>Keywords:</b> Psyker, Infantry, Character, Eldrad Ulthran, Farseer"
      ],
      "text/plain": [
       "<IPython.core.display.HTML object>"
      ]
     },
     "metadata": {},
     "output_type": "display_data"
    },
    {
     "data": {
      "text/html": [
       "<h1>Prince Yriel</h1><p>[HQ] [ PL:5, pts:70]</p>\n",
       "    <table style=\"width:75%\">\n",
       "        <tr>\n",
       "            <th style=\"width: 30.0%;\"><b>Name</b></th><th style=\"width: 10.0%;\"><b>Move</b></th><th style=\"width: 7.5%;\"><b>WS</b></th><th style=\"width: 7.5%;\"><b>BS</b></th><th style=\"width: 7.5%;\"><b>S</b></th><th style=\"width: 7.5%;\"><b>T</b></th><th style=\"width: 7.5%;\"><b>W</b></th><th style=\"width: 7.5%;\"><b>A</b></th><th style=\"width: 7.5%;\"><b>L</b></th><th style=\"width: 7.5%;\"><b>Sv</b></th>\n",
       "        </tr>\n",
       "        <tr><td>Prince Yriel</td><td>7\"</td><td>2+</td><td>2+</td><td>3</td><td>3</td><td>6</td><td>4</td><td>9</td><td>3+</td></tr>\n",
       "    </table> Unit contains x of y, x of y with a,b,c<br>\n",
       "    <table style=\"width:75%\">\n",
       "        <tr>\n",
       "            <th style=\"width: 30.0%;\"><b>Weapon</b></th><th style=\"width: 5.0%;\"><b>Range</b></th><th style=\"width: 10.0%;\"><b>Type</b></th><th style=\"width: 5.0%;\"><b>S</b></th><th style=\"width: 5.0%;\"><b>AP</b></th><th style=\"width: 5.0%;\"><b>D</b></th><th style=\"width: 40.0%;\"><b>Abilities</b></th>\n",
       "        </tr>\n",
       "        <tr><td>The Eye of Wrath</td><td>3\"</td><td>Pistol D6</td><td>6</td><td>-2</td><td>1</td><td>This weapon can only be fired once per battle.</td></tr><tr><td>Plasma Grenade</td><td>6\"</td><td>Grenade D6</td><td>4</td><td>-1</td><td>1</td><td>-</td></tr><tr><td>The Spear of Twilight</td><td>Melee</td><td>Melee</td><td>User</td><td>-2</td><td>D3</td><td>This weapon always wounds on a roll of 2+</td></tr>\n",
       "    </table> <b>Abilities:</b><ul><li><b>Cursed</b> You must re-roll saving throws of 6 for Prince Yriel in the Fight phase.</li><br><li><b>Iyanden: Enduring Resolve</b> Your Warlord can attempt to deny one psychic power in each enemy Psychic phase (if your Warlord is a PSYKER, they can attempt to deny one psychic power more than usual).</li></ul><b>Faction Keywords:</b> Aeldari, Asuryani, Warhost, Iyanden<br><b>Keywords:</b> Infantry, Character, Prince Yriel"
      ],
      "text/plain": [
       "<IPython.core.display.HTML object>"
      ]
     },
     "metadata": {},
     "output_type": "display_data"
    },
    {
     "name": "stderr",
     "output_type": "stream",
     "text": [
      "WARNING:root:Unknown reference selectionEntry  bc9e-551d-9afb-78d5\n"
     ]
    },
    {
     "data": {
      "text/html": [
       "<h1>Illic Nightspear</h1><p>[HQ] [ PL:4, pts:65]</p>\n",
       "    <table style=\"width:75%\">\n",
       "        <tr>\n",
       "            <th style=\"width: 30.0%;\"><b>Name</b></th><th style=\"width: 10.0%;\"><b>Move</b></th><th style=\"width: 7.5%;\"><b>WS</b></th><th style=\"width: 7.5%;\"><b>BS</b></th><th style=\"width: 7.5%;\"><b>S</b></th><th style=\"width: 7.5%;\"><b>T</b></th><th style=\"width: 7.5%;\"><b>W</b></th><th style=\"width: 7.5%;\"><b>A</b></th><th style=\"width: 7.5%;\"><b>L</b></th><th style=\"width: 7.5%;\"><b>Sv</b></th>\n",
       "        </tr>\n",
       "        <tr><td>Illic Nightspear</td><td>7\"</td><td>2+</td><td>2+</td><td>3</td><td>3</td><td>5</td><td>4</td><td>9</td><td>5+</td></tr>\n",
       "    </table> Unit contains x of y, x of y with a,b,c<br>\n",
       "    <table style=\"width:75%\">\n",
       "        <tr>\n",
       "            <th style=\"width: 30.0%;\"><b>Weapon</b></th><th style=\"width: 5.0%;\"><b>Range</b></th><th style=\"width: 10.0%;\"><b>Type</b></th><th style=\"width: 5.0%;\"><b>S</b></th><th style=\"width: 5.0%;\"><b>AP</b></th><th style=\"width: 5.0%;\"><b>D</b></th><th style=\"width: 40.0%;\"><b>Abilities</b></th>\n",
       "        </tr>\n",
       "        <tr><td>Shuriken pistol</td><td>12\"</td><td>Pistol 1</td><td>4</td><td>0</td><td>1</td><td>Each time you make a wound roll of 6+ for this weapon, that hit is resolved with an AP of -3 instead of 0.</td></tr><tr><td>Voidbringer</td><td>48\"</td><td>Heavy 1</td><td>4</td><td>-3</td><td>3</td><td>This weapon can target an enemy CHARACTER even if they are not the closest enemy unit. This weapon wounds on a 2+, unless it is targeting a VEHICLE. Each time you roll a wound roll of 6+ for this weapon, it inflicts a mortal wound in addition to any other damage.</td></tr>\n",
       "    </table> <b>Abilities:</b><ul><li><b>Bringer of the True Death</b> You can re-roll hit and wound rolls of 1 for Illic Nightspear's attacks when they target a NECRON unit.</li><br><li><b>Hunter Unseen</b> Your opponent must subtract 1 from their hit rolls for attacks that target this unit. In addition, add 2 to this model's saving throws for being in cover instead of 1.</li><br><li><b>Appear Unbidden</b> During deployment, you can set up Illic Nightspear walking the winding paths of the webway instead of placing him on the battlefield. At the end of one of your Movement phases, this unit can emerge from the webway – set this unit up anywhere on the battlefield that is more than 9\" away from any enemy models.</li><br><li><b>Alaitoc: Puritanical Leader</b> As long as all friendly units within 6\" of your Warlord are ALAITOC units, those units automatically pass Morale tests.</li></ul><b>Faction Keywords:</b> Aeldari, Asuryani, Warhost, Alaitoc<br><b>Keywords:</b> Infantry, Character, Illic Nightspear, Ranger"
      ],
      "text/plain": [
       "<IPython.core.display.HTML object>"
      ]
     },
     "metadata": {},
     "output_type": "display_data"
    },
    {
     "name": "stderr",
     "output_type": "stream",
     "text": [
      "WARNING:root:Could not get troop type []\n"
     ]
    },
    {
     "data": {
      "text/html": [
       "<h1>Asurmen</h1><p>[unknown] [ PL:9, pts:150]</p>\n",
       "    <table style=\"width:75%\">\n",
       "        <tr>\n",
       "            <th style=\"width: 30.0%;\"><b>Name</b></th><th style=\"width: 10.0%;\"><b>Move</b></th><th style=\"width: 7.5%;\"><b>WS</b></th><th style=\"width: 7.5%;\"><b>BS</b></th><th style=\"width: 7.5%;\"><b>S</b></th><th style=\"width: 7.5%;\"><b>T</b></th><th style=\"width: 7.5%;\"><b>W</b></th><th style=\"width: 7.5%;\"><b>A</b></th><th style=\"width: 7.5%;\"><b>L</b></th><th style=\"width: 7.5%;\"><b>Sv</b></th>\n",
       "        </tr>\n",
       "        <tr><td>Asurmen</td><td>7\"</td><td>2+</td><td>2+</td><td>4</td><td>4</td><td>6</td><td>5</td><td>9</td><td>2+</td></tr>\n",
       "    </table> Unit contains x of y, x of y with a,b,c<br>\n",
       "    <table style=\"width:75%\">\n",
       "        <tr>\n",
       "            <th style=\"width: 30.0%;\"><b>Weapon</b></th><th style=\"width: 5.0%;\"><b>Range</b></th><th style=\"width: 10.0%;\"><b>Type</b></th><th style=\"width: 5.0%;\"><b>S</b></th><th style=\"width: 5.0%;\"><b>AP</b></th><th style=\"width: 5.0%;\"><b>D</b></th><th style=\"width: 40.0%;\"><b>Abilities</b></th>\n",
       "        </tr>\n",
       "        <tr><td>Avenger Shuriken Catapult</td><td>18\"</td><td>Assault 2</td><td>4</td><td>0</td><td>1</td><td>Each time you make a wound roll of 6+ for this weapon, that hit is resolved with an AP of -3 instead of 0.</td></tr><tr><td>The Sword of Asur</td><td>Melee</td><td>Melee</td><td>+1</td><td>-3</td><td>D3</td><td>Each time you make a wound roll of 6+ for this weapon, the target suffers D3 mortal wounds in addition to any other damage.</td></tr>\n",
       "    </table> <b>Abilities:</b><ul><li><b>Shield of Grace</b> Asurmen has a 4+ invulnerable save against ranged weapons and a 3+ invulnerable save against melee weapons.</li><br><li><b>Hand of Asuryan</b> Friendly ASPECT WARRIOR units within 6\" have a 5+ invulnerable save. Friendly DIRE AVENGERS units have a 4+ invulnerable save instead.</li><br><li><b>Defence Tactics</b> When this unit fires Overwatch, it hits successfully on a roll of 5 or 6, instead of only 6.</li></ul><b>Faction Keywords:</b> Aspect Warrior, Aeldari<br><b>Keywords:</b> Infantry, Character, HQ, Phoenix Lord, Asurmen"
      ],
      "text/plain": [
       "<IPython.core.display.HTML object>"
      ]
     },
     "metadata": {},
     "output_type": "display_data"
    },
    {
     "name": "stderr",
     "output_type": "stream",
     "text": [
      "WARNING:root:Could not get troop type []\n"
     ]
    },
    {
     "data": {
      "text/html": [
       "<h1>Jain Zar</h1><p>[unknown] [ PL:7, pts:115]</p>\n",
       "    <table style=\"width:75%\">\n",
       "        <tr>\n",
       "            <th style=\"width: 30.0%;\"><b>Name</b></th><th style=\"width: 10.0%;\"><b>Move</b></th><th style=\"width: 7.5%;\"><b>WS</b></th><th style=\"width: 7.5%;\"><b>BS</b></th><th style=\"width: 7.5%;\"><b>S</b></th><th style=\"width: 7.5%;\"><b>T</b></th><th style=\"width: 7.5%;\"><b>W</b></th><th style=\"width: 7.5%;\"><b>A</b></th><th style=\"width: 7.5%;\"><b>L</b></th><th style=\"width: 7.5%;\"><b>Sv</b></th>\n",
       "        </tr>\n",
       "        <tr><td>Jain Zar</td><td>8\"</td><td>2+</td><td>2+</td><td>4</td><td>4</td><td>6</td><td>4</td><td>9</td><td>2+</td></tr>\n",
       "    </table> Unit contains x of y, x of y with a,b,c<br>\n",
       "    <table style=\"width:75%\">\n",
       "        <tr>\n",
       "            <th style=\"width: 30.0%;\"><b>Weapon</b></th><th style=\"width: 5.0%;\"><b>Range</b></th><th style=\"width: 10.0%;\"><b>Type</b></th><th style=\"width: 5.0%;\"><b>S</b></th><th style=\"width: 5.0%;\"><b>AP</b></th><th style=\"width: 5.0%;\"><b>D</b></th><th style=\"width: 40.0%;\"><b>Abilities</b></th>\n",
       "        </tr>\n",
       "        <tr><td>Blade of Destruction</td><td>Melee</td><td>Melee</td><td>+2</td><td>-3</td><td>D3</td><td>When resolving an attack made with this weapon, you can re-roll the wound roll.</td></tr><tr><td>Silent Death</td><td>12\"</td><td>Assault 4</td><td>User</td><td>-3</td><td>1</td><td>-</td></tr>\n",
       "    </table> <b>Abilities:</b><ul><li><b>Cry of War Unending</b> This model, and friendly HOWLING BANSHEES units that are within 6\" of it at the start of the Fight phase, always fight first in the Fight phase, even if they did not charge. If the enemy has units that have charged, or that have a similar ability, then alternate choosing units to fight with, starting with the player whose turn is taking place.</li><br><li><b>Banshee Mask</b> Enemy units cannot fire Overwatch at this model.</li><br><li><b>Acrobatic</b> This model can be chosen to charge with even if it Advanced this turn. If this model Advanced this turn, you can choose it to charge with if it is within 15\" of any enemy units instead of 12\", and you can add 3 to the charge roll.</li><br><li><b>The Storm of Silence</b> When this model fights, you can choose for its Attacks characteristic to be equal to the number of enemy models within 2\" of it after any pile-in moves have been made.</li><br><li><b>War Shout</b> When resolving an attack made with a melee weapon against this model, subtract 1 from the hit roll.</li></ul><b>Faction Keywords:</b> Aeldari, Aspect Warrior, Asuryani<br><b>Keywords:</b> Character, HQ, Infantry, Phoenix Lord, Jain Zar"
      ],
      "text/plain": [
       "<IPython.core.display.HTML object>"
      ]
     },
     "metadata": {},
     "output_type": "display_data"
    },
    {
     "name": "stderr",
     "output_type": "stream",
     "text": [
      "WARNING:root:Could not get troop type []\n"
     ]
    },
    {
     "data": {
      "text/html": [
       "<h1>Karandras</h1><p>[unknown] [ PL:8, pts:125]</p>\n",
       "    <table style=\"width:75%\">\n",
       "        <tr>\n",
       "            <th style=\"width: 30.0%;\"><b>Name</b></th><th style=\"width: 10.0%;\"><b>Move</b></th><th style=\"width: 7.5%;\"><b>WS</b></th><th style=\"width: 7.5%;\"><b>BS</b></th><th style=\"width: 7.5%;\"><b>S</b></th><th style=\"width: 7.5%;\"><b>T</b></th><th style=\"width: 7.5%;\"><b>W</b></th><th style=\"width: 7.5%;\"><b>A</b></th><th style=\"width: 7.5%;\"><b>L</b></th><th style=\"width: 7.5%;\"><b>Sv</b></th>\n",
       "        </tr>\n",
       "        <tr><td>Karandras</td><td>7\"</td><td>2+</td><td>2+</td><td>4</td><td>4</td><td>6</td><td>4</td><td>9</td><td>2+</td></tr>\n",
       "    </table> Unit contains x of y, x of y with a,b,c<br>\n",
       "    <table style=\"width:75%\">\n",
       "        <tr>\n",
       "            <th style=\"width: 30.0%;\"><b>Weapon</b></th><th style=\"width: 5.0%;\"><b>Range</b></th><th style=\"width: 10.0%;\"><b>Type</b></th><th style=\"width: 5.0%;\"><b>S</b></th><th style=\"width: 5.0%;\"><b>AP</b></th><th style=\"width: 5.0%;\"><b>D</b></th><th style=\"width: 40.0%;\"><b>Abilities</b></th>\n",
       "        </tr>\n",
       "        <tr><td>Scorpion Chainsword</td><td>Melee</td><td>Melee</td><td>+1</td><td>0</td><td>1</td><td>-</td></tr><tr><td>Scorpion's Claw (melee)</td><td>Melee</td><td>Melee</td><td>x2</td><td>-3</td><td>D3</td><td>-</td></tr><tr><td>Plasma Grenade</td><td>6\"</td><td>Grenade D6</td><td>4</td><td>-1</td><td>1</td><td>-</td></tr><tr><td>Scorpion's Claw (shooting)</td><td>12\"</td><td>Assault 2</td><td>4</td><td>0</td><td>1</td><td>Each time you make a wound roll of 6+ for this weapon, that hit is resolved with an AP of -3 instead of 0.</td></tr>\n",
       "    </table> <b>Abilities:</b><ul><li><b>The Scorpion's Bite</b> At the beginning of each Fight phase, you can pick a single enemy INFANTRY unit within 1\" of Karandras and roll four dice. For each roll of 5 or 6, that unit suffers a mortal wound.</li><br><li><b>Death by a Thousand Stings</b> Each time you roll a hit roll of 6+ when making a close combat attack for Karandras, or a model from a friendly STRIKING SCORPIONS unit within 6\" of him, that model can immediately make another close combat attack using the same weapon. These extra attacks cannot generate any additional attacks.</li><br><li><b>Master of Stealth</b> During deployment, you can set up Karandras in the shadows instead of placing him on the battlefield. At the end of any of your Movement phases Karandras can stalk from his hiding place - set him up anywhere on the battlefield that is more than 9\" away from any enemy models.</li><br><li><b>Shadow Strike</b> Add 1 to hit rolls for attacks for this unit that target a unit in cover.</li></ul><b>Faction Keywords:</b> Aeldari, Aspect Warrior, Asuryani<br><b>Keywords:</b> Character, HQ, Infantry, Karandras, Phoenix Lord"
      ],
      "text/plain": [
       "<IPython.core.display.HTML object>"
      ]
     },
     "metadata": {},
     "output_type": "display_data"
    },
    {
     "name": "stderr",
     "output_type": "stream",
     "text": [
      "WARNING:root:Could not get troop type []\n"
     ]
    },
    {
     "data": {
      "text/html": [
       "<h1>Fuegan</h1><p>[unknown] [ PL:8, pts:125]</p>\n",
       "    <table style=\"width:75%\">\n",
       "        <tr>\n",
       "            <th style=\"width: 30.0%;\"><b>Name</b></th><th style=\"width: 10.0%;\"><b>Move</b></th><th style=\"width: 7.5%;\"><b>WS</b></th><th style=\"width: 7.5%;\"><b>BS</b></th><th style=\"width: 7.5%;\"><b>S</b></th><th style=\"width: 7.5%;\"><b>T</b></th><th style=\"width: 7.5%;\"><b>W</b></th><th style=\"width: 7.5%;\"><b>A</b></th><th style=\"width: 7.5%;\"><b>L</b></th><th style=\"width: 7.5%;\"><b>Sv</b></th>\n",
       "        </tr>\n",
       "        <tr><td>Fuegan</td><td>7\"</td><td>2+</td><td>2+</td><td>5</td><td>4</td><td>6</td><td>4</td><td>9</td><td>2+</td></tr>\n",
       "    </table> Unit contains x of y, x of y with a,b,c<br>\n",
       "    <table style=\"width:75%\">\n",
       "        <tr>\n",
       "            <th style=\"width: 30.0%;\"><b>Weapon</b></th><th style=\"width: 5.0%;\"><b>Range</b></th><th style=\"width: 10.0%;\"><b>Type</b></th><th style=\"width: 5.0%;\"><b>S</b></th><th style=\"width: 5.0%;\"><b>AP</b></th><th style=\"width: 5.0%;\"><b>D</b></th><th style=\"width: 40.0%;\"><b>Abilities</b></th>\n",
       "        </tr>\n",
       "        <tr><td>Melta bomb</td><td>4\"</td><td>Grenade 1</td><td>8</td><td>-4</td><td>D6</td><td>You can re-roll failed wound rolls for this weapon when targeting a VEHICLE.</td></tr><tr><td>Fire Axe</td><td>Melee</td><td>Melee</td><td>User</td><td>-4</td><td>D3</td><td>-</td></tr><tr><td>Firepike</td><td>18\"</td><td>Assault 1</td><td>8</td><td>-4</td><td>D6</td><td>If the target is within half range of this weapon, roll two dice when inflicting damage with it and discard the lowest result.</td></tr>\n",
       "    </table> <b>Abilities:</b><ul><li><b>Unflinching Focus</b> You can re-roll hit rolls of 1 for Fuegan's ranged weapons, and for those of friendly FIRE DRAGONS units within 6\".</li><br><li><b>Last to Fall</b> Roll a D6 whenever Fuegan suffers a wound or mortal wound. On a 5+ that wound is ignored.</li><br><li><b>Unquenchable Resolve</b> At the end of the first Fight phase in which Fuegan suffers one or more unsaved wounds, his Strength and Attacks characteristics increase by 2. These bonuses last for the rest of the game.</li><br><li><b>Assured Destruction</b> You can re-roll wound rolls of 1 in the shooting phase for attacks Fuegan makes that target a MONSTER or VEHICLE.</li></ul><b>Faction Keywords:</b> Aeldari, Aspect Warrior, Asuryani<br><b>Keywords:</b> Character, Fuegan, HQ, Infantry, Phoenix Lord"
      ],
      "text/plain": [
       "<IPython.core.display.HTML object>"
      ]
     },
     "metadata": {},
     "output_type": "display_data"
    },
    {
     "name": "stderr",
     "output_type": "stream",
     "text": [
      "WARNING:root:Could not get troop type []\n"
     ]
    },
    {
     "data": {
      "text/html": [
       "<h1>Baharroth</h1><p>[unknown] [ PL:6, pts:110]</p>\n",
       "    <table style=\"width:75%\">\n",
       "        <tr>\n",
       "            <th style=\"width: 30.0%;\"><b>Name</b></th><th style=\"width: 10.0%;\"><b>Move</b></th><th style=\"width: 7.5%;\"><b>WS</b></th><th style=\"width: 7.5%;\"><b>BS</b></th><th style=\"width: 7.5%;\"><b>S</b></th><th style=\"width: 7.5%;\"><b>T</b></th><th style=\"width: 7.5%;\"><b>W</b></th><th style=\"width: 7.5%;\"><b>A</b></th><th style=\"width: 7.5%;\"><b>L</b></th><th style=\"width: 7.5%;\"><b>Sv</b></th>\n",
       "        </tr>\n",
       "        <tr><td>Baharroth</td><td>14\"</td><td>2+</td><td>2+</td><td>4</td><td>4</td><td>6</td><td>4</td><td>9</td><td>2+</td></tr>\n",
       "    </table> Unit contains x of y, x of y with a,b,c<br>\n",
       "    <table style=\"width:75%\">\n",
       "        <tr>\n",
       "            <th style=\"width: 30.0%;\"><b>Weapon</b></th><th style=\"width: 5.0%;\"><b>Range</b></th><th style=\"width: 10.0%;\"><b>Type</b></th><th style=\"width: 5.0%;\"><b>S</b></th><th style=\"width: 5.0%;\"><b>AP</b></th><th style=\"width: 5.0%;\"><b>D</b></th><th style=\"width: 40.0%;\"><b>Abilities</b></th>\n",
       "        </tr>\n",
       "        <tr><td>The Shining Blade</td><td>Melee</td><td>Melee</td><td>+1</td><td>-3</td><td>D3</td><td>If a unit suffers any unsaved wounds from this weapon, your opponent must subtract 1 from that unit's hit rolls until the end of the turn.</td></tr><tr><td>Hawk's Talon</td><td>24\"</td><td>Assault 4</td><td>5</td><td>0</td><td>1</td><td>-</td></tr>\n",
       "    </table> <b>Abilities:</b><ul><li><b>Skyleap</b> At the beginning of your Movement phase, if Baharroth is not within 1\" of an enemy model he can leap back into the skies. Remove him from the battlefield. He can return to the battlefield as described in the Cry of the Wind ability. He may not both Skyleap and descend in the same turn. If the battle ends while Baharroth is in the skies, he is considered to be slain.</li><br><li><b>Cry of the Wind</b> During deployment, you can set up Baharroth in the skies instead of on the battlefield. At the end of any of your Movement phases Baharroth can descend - set him up anywhere on the battlefield that is more than 9\" away from any enemy models.</li><br><li><b>Baharroth's Grenade Pack</b> Baharroth can fire a spread of grenades when he is set up on the battlefield using the Cry of the Wind ability and as he flies over enemy units in his Movement phase. To do so after he had been set up using the Cry of the Wind ability, pick an enemy unit within 12\" of him. To do so after he has moved, pick one enemy unit that he flew over. Then, in either case, roll one dice for each model in the enemy unit (up to a maximum of 3 dice). Each time you roll a 4+, the target unit suffers 1 mortal wound.</li><br><li><b>The Brilliant Sun</b> You can add 1 to the Leadership of friendly ASPECT WARRIOR units within 6\" of Baharroth. Add 2 to the Leadership of friendly SWOOPING HAWKS units instead.</li><br><li><b>Blazing Fury</b> You can re-roll hit rolls of 1 for friendly SWOOPING HAWKS units within 6\" of Baharroth.</li></ul><b>Faction Keywords:</b> Aeldari, Aspect Warrior<br><b>Keywords:</b> Baharroth, Character, Fly, HQ, Infantry, Jump Pack, Phoenix Lord"
      ],
      "text/plain": [
       "<IPython.core.display.HTML object>"
      ]
     },
     "metadata": {},
     "output_type": "display_data"
    },
    {
     "name": "stderr",
     "output_type": "stream",
     "text": [
      "WARNING:root:Could not get troop type []\n"
     ]
    },
    {
     "data": {
      "text/html": [
       "<h1>Maugan Ra</h1><p>[unknown] [ PL:7, pts:140]</p>\n",
       "    <table style=\"width:75%\">\n",
       "        <tr>\n",
       "            <th style=\"width: 30.0%;\"><b>Name</b></th><th style=\"width: 10.0%;\"><b>Move</b></th><th style=\"width: 7.5%;\"><b>WS</b></th><th style=\"width: 7.5%;\"><b>BS</b></th><th style=\"width: 7.5%;\"><b>S</b></th><th style=\"width: 7.5%;\"><b>T</b></th><th style=\"width: 7.5%;\"><b>W</b></th><th style=\"width: 7.5%;\"><b>A</b></th><th style=\"width: 7.5%;\"><b>L</b></th><th style=\"width: 7.5%;\"><b>Sv</b></th>\n",
       "        </tr>\n",
       "        <tr><td>Maugan Ra</td><td>6\"</td><td>2+</td><td>2+</td><td>4</td><td>4</td><td>6</td><td>4</td><td>9</td><td>2+</td></tr>\n",
       "    </table> Unit contains x of y, x of y with a,b,c<br>\n",
       "    <table style=\"width:75%\">\n",
       "        <tr>\n",
       "            <th style=\"width: 30.0%;\"><b>Weapon</b></th><th style=\"width: 5.0%;\"><b>Range</b></th><th style=\"width: 10.0%;\"><b>Type</b></th><th style=\"width: 5.0%;\"><b>S</b></th><th style=\"width: 5.0%;\"><b>AP</b></th><th style=\"width: 5.0%;\"><b>D</b></th><th style=\"width: 40.0%;\"><b>Abilities</b></th>\n",
       "        </tr>\n",
       "        <tr><td>The Maugetar (shooting) - Shuriken</td><td>36\"</td><td>Assault 4</td><td>6</td><td>-1</td><td>1</td><td>-</td></tr><tr><td>The Maugetar (shooting) - Shrieker</td><td>36\"</td><td>Assault 1</td><td>6</td><td>-1</td><td>1</td><td>If an INFANTRY model is slain by an attack made with this weapon, its unit suffers D3 mortal wounds.</td></tr><tr><td>The Maugetar (shooting)</td><td>None</td><td>None</td><td>None</td><td>None</td><td>None</td><td>When attacking with this weapon, choose one of the profiles below. Each time you make a wound roll of 6+ for this weapon, that hit is resolved with an AP of -3 instead of -1.</td></tr><tr><td>The Maugetar - Scythe Blade</td><td>Melee</td><td>Melee</td><td>+2</td><td>-2</td><td>D3</td><td>-</td></tr>\n",
       "    </table> <b>Abilities:</b><ul><li><b>Whirlwind of Death</b> Maugan Ra can fire the Maugetar twice in each shooting phase.</li><br><li><b>The Harvester</b> You can re-roll hit rolls of 1 for Maugan Ra's ranged weapons, and for those of friendly DARK REAPERS units within 6\".</li><br><li><b>Inescapable Death</b> Maugan Ra always hits on a 2+ when firing a ranged weapon in the Shooting phase, regardless of any modifiers.</li><br><li><b>Legacy of Altansar</b> You can re-roll wound rolls of 1 for Maugan Ra's attacks that target CHAOS units.</li></ul><b>Faction Keywords:</b> Aeldari, Aspect Warrior, Asuryani<br><b>Keywords:</b> Character, HQ, Infantry, Maugan Ra, Phoenix Lord"
      ],
      "text/plain": [
       "<IPython.core.display.HTML object>"
      ]
     },
     "metadata": {},
     "output_type": "display_data"
    },
    {
     "name": "stderr",
     "output_type": "stream",
     "text": [
      "WARNING:root:Unknown reference selectionEntry Is A Custom Character 43c4-8968-c599-ad5f\n",
      "WARNING:root:Unknown reference selectionEntryGroup Custom Character Selections 8774-e003-4a50-56c7\n",
      "WARNING:root:Unknown reference selectionEntry Ynnari Warlord 75e4-e07c-3a6d-46c5\n",
      "WARNING:root:Unknown reference selectionEntryGroup Warlord Traits (Ynnari) 2fc3-8ba7-0594-29f6\n",
      "WARNING:root:Could not get troop type []\n"
     ]
    },
    {
     "data": {
      "text/html": [
       "<h1>Autarch (Legends)</h1><p>[unknown] [ PL:4, pts:65]</p>\n",
       "    <table style=\"width:75%\">\n",
       "        <tr>\n",
       "            <th style=\"width: 30.0%;\"><b>Name</b></th><th style=\"width: 10.0%;\"><b>Move</b></th><th style=\"width: 7.5%;\"><b>WS</b></th><th style=\"width: 7.5%;\"><b>BS</b></th><th style=\"width: 7.5%;\"><b>S</b></th><th style=\"width: 7.5%;\"><b>T</b></th><th style=\"width: 7.5%;\"><b>W</b></th><th style=\"width: 7.5%;\"><b>A</b></th><th style=\"width: 7.5%;\"><b>L</b></th><th style=\"width: 7.5%;\"><b>Sv</b></th>\n",
       "        </tr>\n",
       "        <tr><td>Autarch</td><td>7\"</td><td>2+</td><td>2+</td><td>3</td><td>3</td><td>5</td><td>4</td><td>9</td><td>3+</td></tr>\n",
       "    </table> Unit contains x of y, x of y with a,b,c<br>\n",
       "    <table style=\"width:75%\">\n",
       "        <tr>\n",
       "            <th style=\"width: 30.0%;\"><b>Weapon</b></th><th style=\"width: 5.0%;\"><b>Range</b></th><th style=\"width: 10.0%;\"><b>Type</b></th><th style=\"width: 5.0%;\"><b>S</b></th><th style=\"width: 5.0%;\"><b>AP</b></th><th style=\"width: 5.0%;\"><b>D</b></th><th style=\"width: 40.0%;\"><b>Abilities</b></th>\n",
       "        </tr>\n",
       "        <tr><td>Plasma Grenade</td><td>6\"</td><td>Grenade D6</td><td>4</td><td>-1</td><td>1</td><td>-</td></tr><tr><td>Warp-Spawn Bane</td><td>Melee</td><td>Melee</td><td>User</td><td>0</td><td>2</td><td>This weapon always wounds on a roll of 2+. In addition, ignore invulnerable saves for attacks made by this weapon that target enemy PSYKERS or DAEMONS.</td></tr><tr><td>The Novalance of Saim-Hann (shooting)</td><td>12\"</td><td>Assault 1</td><td>6</td><td>-4</td><td>2</td><td>-</td></tr><tr><td>Kurnous' Bow</td><td>12\"</td><td>Pistol 1</td><td>4</td><td>0</td><td>2</td><td>Each time you make a wound roll of 4+ for this weapon, that hit is resolved with an AP of -3 instead of 0.</td></tr><tr><td>Firesabre</td><td>Melee</td><td>Melee</td><td>+1</td><td>-4</td><td>1</td><td>Each time you make a wound roll of 6+ for this weapon, it inflicts a mortal wound on the target instead of the normal damage.</td></tr><tr><td>Shard of Anaris</td><td>Melee</td><td>Melee</td><td>User</td><td>-3</td><td>D3</td><td>You can re-roll failed wound rolls for this weapon.</td></tr><tr><td>The Burnished Blade of Elliarna</td><td>Melee</td><td>Melee</td><td>User</td><td>-3</td><td>2</td><td>Add 1 to this weapon's Strength and Damage characteristics for any attack made for it that targets an ORK unit.</td></tr><tr><td>Howling Skysword of Galaleth</td><td>Melee</td><td>Melee</td><td>User</td><td>0</td><td>3</td><td>This weapon always wounds on a roll of 2+.</td></tr><tr><td>The Novalance of Saim-Hann (melee)</td><td>Melee</td><td>Melee</td><td>+2</td><td>-4</td><td>2</td><td>Attacks with this weapon in the Fight phase are made at Strength 8 if the bearer charged in the same turn. In addition, if the wound roll for an attack made with this weapon is 6+, add 2 to the damage inflicted by that attack.</td></tr>\n",
       "    </table> <b>Abilities:</b><ul><li><b>Forceshield</b> This model has a 4+ invulnerable save.</li><br><li><b>Kurnous' Bow</b> Model with a shuriken pistol only. Kurnous' Bow replaces this model's shuriken pistol and has the following profile.</li><br><li><b>The Phoenix Gem</b> The first time this model is slain, roll a D6 for each unit (friend or foe) within 3\" of this model. On a roll of 2 or more, that unit suffers D3 mortal wounds. If at least one mortal wound is inflicted as a result of this, then this model is not slain, but remains in play with a single wound remaining. If no mortal wounds are inflicted, this model is slain.</li><br><li><b>Shard of Anaris</b> Model with a power sword only. The Shard of Anaris replaces this model's power sword and has the following profile:</li><br><li><b>Faolchu's Wing</b> INFANTRY model only. The bearer of Faolchu's Wing has a Move characteristic of 12\" and can FLY.</li><br><li><b>Firesabre</b> Model with a power sword only. The Shard of Anaris replaces this model's power sword and has the following profile</li><br><li><b>The Spirit Stone of Anath'lan</b> BIEL-TAN PSYKER models only. You can re-roll any failed Psychic tests for the bearer. However, should this result in a second failure, then this model is overwhelmed by waves of grief and cannot attempt to manifest any more psychic powers this phase.</li><br><li><b>Shiftshroud of Alanssair</b> ALAITOC INFANTRY model only. Your opponent must subtract 1 from their rolls for attacks that target the bearer in the Shooting phase. In addition, during deployment, you may set up this model in hiding instead of placing it on the battlefield. At the end of any of your Movement phases, this unit can emerge from the webway – set this unit up anywhere on the battlefield that is more than 9\" away from any enemy models.</li><br><li><b>The Burnished Blade of Elliarna</b> BIEL-TAN model with a power sword only. The Burnished Blade of Elliarna replaces the model's power sword.</li><br><li><b>Psytronome of Iyanden</b> IYANDEN PSYKER only. Once during the battle, at the start of a Fight phase, you can declare that this model will activate the Psytronome of Iyanden. If you do so, for the rest of that Fight phase the Attacks characteristics of all friendly IYANDEN WRAITH CONSTRUCT  units that are within 6\" of this model are doubled. However, at the end of the Fight phase, each IYANDEN WRAITH CONSTRUCT unit that was affected by the Psytronome suffers D3 mortal wounds.</li><br><li><b>The Novalance of Saim-Hann</b> SAIM-HANN model with a laser lance only.</li><br><li><b>Ghosthelm of Alishazier</b> ULTHWE PSYKER only. The wearer adds 1 to any Psychic test when attempting to manifest the Smite power.</li><br><li><b>Blazing Star of Vaul</b> Model with a shuriken pistol or twin shuriken catapult only. One shuriken weapon carried by the model is a Blazing Star of Vaul. Add 2 to the number of attacks that the weapon can make.</li><br><li><b>Shimmerplume of Achillrial</b> AUTARCH only. Subtract 1 from all hit rolls that target this model.</li></ul><b>Faction Keywords:</b> Aeldari, Warhost<br><b>Keywords:</b> Autarch, Character, HQ, Infantry"
      ],
      "text/plain": [
       "<IPython.core.display.HTML object>"
      ]
     },
     "metadata": {},
     "output_type": "display_data"
    },
    {
     "name": "stderr",
     "output_type": "stream",
     "text": [
      "WARNING:root:Unknown reference selectionEntry Is A Custom Character 43c4-8968-c599-ad5f\n",
      "WARNING:root:Unknown reference selectionEntryGroup Custom Character Selections 8774-e003-4a50-56c7\n",
      "WARNING:root:Unknown reference selectionEntry Ynnari Warlord 75e4-e07c-3a6d-46c5\n",
      "WARNING:root:Unknown reference selectionEntryGroup Warlord Traits (Ynnari) 2fc3-8ba7-0594-29f6\n",
      "WARNING:root:Could not get troop type []\n"
     ]
    },
    {
     "data": {
      "text/html": [
       "<h1>Autarch with Swooping Hawk Wings (Legends)</h1><p>[unknown] [ PL:5, pts:80]</p>\n",
       "    <table style=\"width:75%\">\n",
       "        <tr>\n",
       "            <th style=\"width: 30.0%;\"><b>Name</b></th><th style=\"width: 10.0%;\"><b>Move</b></th><th style=\"width: 7.5%;\"><b>WS</b></th><th style=\"width: 7.5%;\"><b>BS</b></th><th style=\"width: 7.5%;\"><b>S</b></th><th style=\"width: 7.5%;\"><b>T</b></th><th style=\"width: 7.5%;\"><b>W</b></th><th style=\"width: 7.5%;\"><b>A</b></th><th style=\"width: 7.5%;\"><b>L</b></th><th style=\"width: 7.5%;\"><b>Sv</b></th>\n",
       "        </tr>\n",
       "        <tr><td>Autarch with Swooping Hawk Wings</td><td>14\"</td><td>2+</td><td>2+</td><td>3</td><td>3</td><td>5</td><td>4</td><td>9</td><td>3+</td></tr>\n",
       "    </table> Unit contains x of y, x of y with a,b,c<br>\n",
       "    <table style=\"width:75%\">\n",
       "        <tr>\n",
       "            <th style=\"width: 30.0%;\"><b>Weapon</b></th><th style=\"width: 5.0%;\"><b>Range</b></th><th style=\"width: 10.0%;\"><b>Type</b></th><th style=\"width: 5.0%;\"><b>S</b></th><th style=\"width: 5.0%;\"><b>AP</b></th><th style=\"width: 5.0%;\"><b>D</b></th><th style=\"width: 40.0%;\"><b>Abilities</b></th>\n",
       "        </tr>\n",
       "        <tr><td>Plasma Grenade</td><td>6\"</td><td>Grenade D6</td><td>4</td><td>-1</td><td>1</td><td>-</td></tr><tr><td>Warp-Spawn Bane</td><td>Melee</td><td>Melee</td><td>User</td><td>0</td><td>2</td><td>This weapon always wounds on a roll of 2+. In addition, ignore invulnerable saves for attacks made by this weapon that target enemy PSYKERS or DAEMONS.</td></tr><tr><td>The Novalance of Saim-Hann (shooting)</td><td>12\"</td><td>Assault 1</td><td>6</td><td>-4</td><td>2</td><td>-</td></tr><tr><td>Kurnous' Bow</td><td>12\"</td><td>Pistol 1</td><td>4</td><td>0</td><td>2</td><td>Each time you make a wound roll of 4+ for this weapon, that hit is resolved with an AP of -3 instead of 0.</td></tr><tr><td>Firesabre</td><td>Melee</td><td>Melee</td><td>+1</td><td>-4</td><td>1</td><td>Each time you make a wound roll of 6+ for this weapon, it inflicts a mortal wound on the target instead of the normal damage.</td></tr><tr><td>Shard of Anaris</td><td>Melee</td><td>Melee</td><td>User</td><td>-3</td><td>D3</td><td>You can re-roll failed wound rolls for this weapon.</td></tr><tr><td>The Burnished Blade of Elliarna</td><td>Melee</td><td>Melee</td><td>User</td><td>-3</td><td>2</td><td>Add 1 to this weapon's Strength and Damage characteristics for any attack made for it that targets an ORK unit.</td></tr><tr><td>Howling Skysword of Galaleth</td><td>Melee</td><td>Melee</td><td>User</td><td>0</td><td>3</td><td>This weapon always wounds on a roll of 2+.</td></tr><tr><td>The Novalance of Saim-Hann (melee)</td><td>Melee</td><td>Melee</td><td>+2</td><td>-4</td><td>2</td><td>Attacks with this weapon in the Fight phase are made at Strength 8 if the bearer charged in the same turn. In addition, if the wound roll for an attack made with this weapon is 6+, add 2 to the damage inflicted by that attack.</td></tr>\n",
       "    </table> <b>Abilities:</b><ul><li><b>Children of Baharroth</b> During deployment, you can set up this model in the skies instead of on the battlefield. At the end of any of your Movement phases this model can descend - set it up anywhere on the battlefield that is more than 9\" away from any enemy models.</li><br><li><b>Skyleap</b> At the beginning of your Movement phase, if this model is not within 1\" of an enemy model it can leap back into the skies. Remove this model from the battlefield. It can return to the battlefield as described in the Children of Baharroth ability. This model may not both Skyleap and descend on Swooping Hawk wings in the same turn. If the battle ends while this model is in the skies, it is considered to be slain.</li><br><li><b>Forceshield</b> This model has a 4+ invulnerable save.</li><br><li><b>Kurnous' Bow</b> Model with a shuriken pistol only. Kurnous' Bow replaces this model's shuriken pistol and has the following profile.</li><br><li><b>The Phoenix Gem</b> The first time this model is slain, roll a D6 for each unit (friend or foe) within 3\" of this model. On a roll of 2 or more, that unit suffers D3 mortal wounds. If at least one mortal wound is inflicted as a result of this, then this model is not slain, but remains in play with a single wound remaining. If no mortal wounds are inflicted, this model is slain.</li><br><li><b>Shard of Anaris</b> Model with a power sword only. The Shard of Anaris replaces this model's power sword and has the following profile:</li><br><li><b>Faolchu's Wing</b> INFANTRY model only. The bearer of Faolchu's Wing has a Move characteristic of 12\" and can FLY.</li><br><li><b>Firesabre</b> Model with a power sword only. The Shard of Anaris replaces this model's power sword and has the following profile</li><br><li><b>The Spirit Stone of Anath'lan</b> BIEL-TAN PSYKER models only. You can re-roll any failed Psychic tests for the bearer. However, should this result in a second failure, then this model is overwhelmed by waves of grief and cannot attempt to manifest any more psychic powers this phase.</li><br><li><b>Shiftshroud of Alanssair</b> ALAITOC INFANTRY model only. Your opponent must subtract 1 from their rolls for attacks that target the bearer in the Shooting phase. In addition, during deployment, you may set up this model in hiding instead of placing it on the battlefield. At the end of any of your Movement phases, this unit can emerge from the webway – set this unit up anywhere on the battlefield that is more than 9\" away from any enemy models.</li><br><li><b>The Burnished Blade of Elliarna</b> BIEL-TAN model with a power sword only. The Burnished Blade of Elliarna replaces the model's power sword.</li><br><li><b>Psytronome of Iyanden</b> IYANDEN PSYKER only. Once during the battle, at the start of a Fight phase, you can declare that this model will activate the Psytronome of Iyanden. If you do so, for the rest of that Fight phase the Attacks characteristics of all friendly IYANDEN WRAITH CONSTRUCT  units that are within 6\" of this model are doubled. However, at the end of the Fight phase, each IYANDEN WRAITH CONSTRUCT unit that was affected by the Psytronome suffers D3 mortal wounds.</li><br><li><b>The Novalance of Saim-Hann</b> SAIM-HANN model with a laser lance only.</li><br><li><b>Ghosthelm of Alishazier</b> ULTHWE PSYKER only. The wearer adds 1 to any Psychic test when attempting to manifest the Smite power.</li><br><li><b>Blazing Star of Vaul</b> Model with a shuriken pistol or twin shuriken catapult only. One shuriken weapon carried by the model is a Blazing Star of Vaul. Add 2 to the number of attacks that the weapon can make.</li><br><li><b>Shimmerplume of Achillrial</b> AUTARCH only. Subtract 1 from all hit rolls that target this model.</li></ul><b>Faction Keywords:</b> Aeldari, Warhost<br><b>Keywords:</b> Autarch, Character, Fly, HQ, Infantry, Jump Pack"
      ],
      "text/plain": [
       "<IPython.core.display.HTML object>"
      ]
     },
     "metadata": {},
     "output_type": "display_data"
    },
    {
     "name": "stderr",
     "output_type": "stream",
     "text": [
      "WARNING:root:Unknown reference selectionEntry Is A Custom Character 43c4-8968-c599-ad5f\n",
      "WARNING:root:Unknown reference selectionEntryGroup Custom Character Selections 8774-e003-4a50-56c7\n",
      "WARNING:root:Unknown reference selectionEntry Ynnari Warlord 75e4-e07c-3a6d-46c5\n",
      "WARNING:root:Unknown reference selectionEntryGroup Warlord Traits (Ynnari) 2fc3-8ba7-0594-29f6\n",
      "WARNING:root:Could not get troop type []\n"
     ]
    },
    {
     "data": {
      "text/html": [
       "<h1>Autarch with Warp Jump Generator</h1><p>[unknown] [ PL:5, pts:73]</p>\n",
       "    <table style=\"width:75%\">\n",
       "        <tr>\n",
       "            <th style=\"width: 30.0%;\"><b>Name</b></th><th style=\"width: 10.0%;\"><b>Move</b></th><th style=\"width: 7.5%;\"><b>WS</b></th><th style=\"width: 7.5%;\"><b>BS</b></th><th style=\"width: 7.5%;\"><b>S</b></th><th style=\"width: 7.5%;\"><b>T</b></th><th style=\"width: 7.5%;\"><b>W</b></th><th style=\"width: 7.5%;\"><b>A</b></th><th style=\"width: 7.5%;\"><b>L</b></th><th style=\"width: 7.5%;\"><b>Sv</b></th>\n",
       "        </tr>\n",
       "        <tr><td>Autarch with Warp Jump Generator</td><td>7\"</td><td>2+</td><td>2+</td><td>3</td><td>3</td><td>5</td><td>4</td><td>9</td><td>3+</td></tr>\n",
       "    </table> Unit contains x of y, x of y with a,b,c<br>\n",
       "    <table style=\"width:75%\">\n",
       "        <tr>\n",
       "            <th style=\"width: 30.0%;\"><b>Weapon</b></th><th style=\"width: 5.0%;\"><b>Range</b></th><th style=\"width: 10.0%;\"><b>Type</b></th><th style=\"width: 5.0%;\"><b>S</b></th><th style=\"width: 5.0%;\"><b>AP</b></th><th style=\"width: 5.0%;\"><b>D</b></th><th style=\"width: 40.0%;\"><b>Abilities</b></th>\n",
       "        </tr>\n",
       "        <tr><td>Warp-Spawn Bane</td><td>Melee</td><td>Melee</td><td>User</td><td>0</td><td>2</td><td>This weapon always wounds on a roll of 2+. In addition, ignore invulnerable saves for attacks made by this weapon that target enemy PSYKERS or DAEMONS.</td></tr><tr><td>Kurnous' Bow</td><td>12\"</td><td>Pistol 1</td><td>4</td><td>0</td><td>2</td><td>Each time you make a wound roll of 4+ for this weapon, that hit is resolved with an AP of -3 instead of 0.</td></tr><tr><td>The Novalance of Saim-Hann (shooting)</td><td>12\"</td><td>Assault 1</td><td>6</td><td>-4</td><td>2</td><td>-</td></tr><tr><td>Firesabre</td><td>Melee</td><td>Melee</td><td>+1</td><td>-4</td><td>1</td><td>Each time you make a wound roll of 6+ for this weapon, it inflicts a mortal wound on the target instead of the normal damage.</td></tr><tr><td>Shard of Anaris</td><td>Melee</td><td>Melee</td><td>User</td><td>-3</td><td>D3</td><td>You can re-roll failed wound rolls for this weapon.</td></tr><tr><td>Sunburst Grenade</td><td>6\"</td><td>Grenade D6</td><td>4</td><td>-1</td><td>1</td><td>-</td></tr><tr><td>The Burnished Blade of Elliarna</td><td>Melee</td><td>Melee</td><td>User</td><td>-3</td><td>2</td><td>Add 1 to this weapon's Strength and Damage characteristics for any attack made for it that targets an ORK unit.</td></tr><tr><td>Howling Skysword of Galaleth</td><td>Melee</td><td>Melee</td><td>User</td><td>0</td><td>3</td><td>This weapon always wounds on a roll of 2+.</td></tr><tr><td>The Novalance of Saim-Hann (melee)</td><td>Melee</td><td>Melee</td><td>+2</td><td>-4</td><td>2</td><td>Attacks with this weapon in the Fight phase are made at Strength 8 if the bearer charged in the same turn. In addition, if the wound roll for an attack made with this weapon is 6+, add 2 to the damage inflicted by that attack.</td></tr>\n",
       "    </table> <b>Abilities:</b><ul><li><b>Warp Jump Generator</b> When this model moves in the Movement phase, it can do so normally or using its warp jump generator. If it uses its warp jump generator it cannot Advance or Charge this turn, but its Move characteristic is increased by 4D6\" and it can FLY until the end of the phase.</li><br><li><b>Forceshield</b> This model has a 4+ invulnerable save.</li><br><li><b>Kurnous' Bow</b> Model with a shuriken pistol only. Kurnous' Bow replaces this model's shuriken pistol and has the following profile.</li><br><li><b>The Phoenix Gem</b> The first time this model is slain, roll a D6 for each unit (friend or foe) within 3\" of this model. On a roll of 2 or more, that unit suffers D3 mortal wounds. If at least one mortal wound is inflicted as a result of this, then this model is not slain, but remains in play with a single wound remaining. If no mortal wounds are inflicted, this model is slain.</li><br><li><b>Shard of Anaris</b> Model with a power sword only. The Shard of Anaris replaces this model's power sword and has the following profile:</li><br><li><b>Faolchu's Wing</b> INFANTRY model only. The bearer of Faolchu's Wing has a Move characteristic of 12\" and can FLY.</li><br><li><b>Firesabre</b> Model with a power sword only. The Shard of Anaris replaces this model's power sword and has the following profile</li><br><li><b>The Spirit Stone of Anath'lan</b> BIEL-TAN PSYKER models only. You can re-roll any failed Psychic tests for the bearer. However, should this result in a second failure, then this model is overwhelmed by waves of grief and cannot attempt to manifest any more psychic powers this phase.</li><br><li><b>Shiftshroud of Alanssair</b> ALAITOC INFANTRY model only. Your opponent must subtract 1 from their rolls for attacks that target the bearer in the Shooting phase. In addition, during deployment, you may set up this model in hiding instead of placing it on the battlefield. At the end of any of your Movement phases, this unit can emerge from the webway – set this unit up anywhere on the battlefield that is more than 9\" away from any enemy models.</li><br><li><b>The Burnished Blade of Elliarna</b> BIEL-TAN model with a power sword only. The Burnished Blade of Elliarna replaces the model's power sword.</li><br><li><b>Psytronome of Iyanden</b> IYANDEN PSYKER only. Once during the battle, at the start of a Fight phase, you can declare that this model will activate the Psytronome of Iyanden. If you do so, for the rest of that Fight phase the Attacks characteristics of all friendly IYANDEN WRAITH CONSTRUCT  units that are within 6\" of this model are doubled. However, at the end of the Fight phase, each IYANDEN WRAITH CONSTRUCT unit that was affected by the Psytronome suffers D3 mortal wounds.</li><br><li><b>The Novalance of Saim-Hann</b> SAIM-HANN model with a laser lance only.</li><br><li><b>Ghosthelm of Alishazier</b> ULTHWE PSYKER only. The wearer adds 1 to any Psychic test when attempting to manifest the Smite power.</li><br><li><b>Blazing Star of Vaul</b> Model with a shuriken pistol or twin shuriken catapult only. One shuriken weapon carried by the model is a Blazing Star of Vaul. Add 2 to the number of attacks that the weapon can make.</li><br><li><b>Shimmerplume of Achillrial</b> AUTARCH only. Subtract 1 from all hit rolls that target this model.</li></ul><b>Faction Keywords:</b> Aeldari, Warhost<br><b>Keywords:</b> Autarch, Character, HQ, Infantry, Jump Pack"
      ],
      "text/plain": [
       "<IPython.core.display.HTML object>"
      ]
     },
     "metadata": {},
     "output_type": "display_data"
    },
    {
     "name": "stderr",
     "output_type": "stream",
     "text": [
      "WARNING:root:Unknown reference selectionEntry Is A Custom Character 43c4-8968-c599-ad5f\n",
      "WARNING:root:Unknown reference selectionEntryGroup Custom Character Selections 8774-e003-4a50-56c7\n",
      "WARNING:root:Unknown reference selectionEntry Stratagem: Field Commander d043-3847-e963-fb5d\n",
      "WARNING:root:Unknown reference selectionEntry Ynnari Warlord 75e4-e07c-3a6d-46c5\n",
      "WARNING:root:Unknown reference selectionEntryGroup Warlord Traits (Ynnari) 2fc3-8ba7-0594-29f6\n",
      "WARNING:root:Could not get troop type []\n"
     ]
    },
    {
     "data": {
      "text/html": [
       "<h1>Autarch Skyrunner (Legends)</h1><p>[unknown] [ PL:6, pts:95]</p>\n",
       "    <table style=\"width:75%\">\n",
       "        <tr>\n",
       "            <th style=\"width: 30.0%;\"><b>Name</b></th><th style=\"width: 10.0%;\"><b>Move</b></th><th style=\"width: 7.5%;\"><b>WS</b></th><th style=\"width: 7.5%;\"><b>BS</b></th><th style=\"width: 7.5%;\"><b>S</b></th><th style=\"width: 7.5%;\"><b>T</b></th><th style=\"width: 7.5%;\"><b>W</b></th><th style=\"width: 7.5%;\"><b>A</b></th><th style=\"width: 7.5%;\"><b>L</b></th><th style=\"width: 7.5%;\"><b>Sv</b></th>\n",
       "        </tr>\n",
       "        <tr><td>Autarch Skyrunner</td><td>16\"</td><td>2+</td><td>2+</td><td>3</td><td>4</td><td>6</td><td>4</td><td>9</td><td>3+</td></tr>\n",
       "    </table> Unit contains x of y, x of y with a,b,c<br>\n",
       "    <table style=\"width:75%\">\n",
       "        <tr>\n",
       "            <th style=\"width: 30.0%;\"><b>Weapon</b></th><th style=\"width: 5.0%;\"><b>Range</b></th><th style=\"width: 10.0%;\"><b>Type</b></th><th style=\"width: 5.0%;\"><b>S</b></th><th style=\"width: 5.0%;\"><b>AP</b></th><th style=\"width: 5.0%;\"><b>D</b></th><th style=\"width: 40.0%;\"><b>Abilities</b></th>\n",
       "        </tr>\n",
       "        <tr><td>Warp-Spawn Bane</td><td>Melee</td><td>Melee</td><td>User</td><td>0</td><td>2</td><td>This weapon always wounds on a roll of 2+. In addition, ignore invulnerable saves for attacks made by this weapon that target enemy PSYKERS or DAEMONS.</td></tr><tr><td>Kurnous' Bow</td><td>12\"</td><td>Pistol 1</td><td>4</td><td>0</td><td>2</td><td>Each time you make a wound roll of 4+ for this weapon, that hit is resolved with an AP of -3 instead of 0.</td></tr><tr><td>The Novalance of Saim-Hann (shooting)</td><td>12\"</td><td>Assault 1</td><td>6</td><td>-4</td><td>2</td><td>-</td></tr><tr><td>Firesabre</td><td>Melee</td><td>Melee</td><td>+1</td><td>-4</td><td>1</td><td>Each time you make a wound roll of 6+ for this weapon, it inflicts a mortal wound on the target instead of the normal damage.</td></tr><tr><td>Shard of Anaris</td><td>Melee</td><td>Melee</td><td>User</td><td>-3</td><td>D3</td><td>You can re-roll failed wound rolls for this weapon.</td></tr><tr><td>Twin Shuriken Catapult</td><td>12\"</td><td>Assault 4</td><td>4</td><td>0</td><td>1</td><td>Each time you make a wound roll of 6+ for this weapon, that hit is resolved with an AP of -3 instead of 0.</td></tr><tr><td>The Burnished Blade of Elliarna</td><td>Melee</td><td>Melee</td><td>User</td><td>-3</td><td>2</td><td>Add 1 to this weapon's Strength and Damage characteristics for any attack made for it that targets an ORK unit.</td></tr><tr><td>Howling Skysword of Galaleth</td><td>Melee</td><td>Melee</td><td>User</td><td>0</td><td>3</td><td>This weapon always wounds on a roll of 2+.</td></tr><tr><td>The Novalance of Saim-Hann (melee)</td><td>Melee</td><td>Melee</td><td>+2</td><td>-4</td><td>2</td><td>Attacks with this weapon in the Fight phase are made at Strength 8 if the bearer charged in the same turn. In addition, if the wound roll for an attack made with this weapon is 6+, add 2 to the damage inflicted by that attack.</td></tr>\n",
       "    </table> <b>Abilities:</b><ul><li><b>Peerless Agility</b> This model has a 4+ invulnerable save.</li><br><li><b>Ride the Wind</b> When this model Advances, add 6\" to its Move characteristic for that Movement phase instead of rolling a dice.</li><br><li><b>Kurnous' Bow</b> Model with a shuriken pistol only. Kurnous' Bow replaces this model's shuriken pistol and has the following profile.</li><br><li><b>The Phoenix Gem</b> The first time this model is slain, roll a D6 for each unit (friend or foe) within 3\" of this model. On a roll of 2 or more, that unit suffers D3 mortal wounds. If at least one mortal wound is inflicted as a result of this, then this model is not slain, but remains in play with a single wound remaining. If no mortal wounds are inflicted, this model is slain.</li><br><li><b>Shard of Anaris</b> Model with a power sword only. The Shard of Anaris replaces this model's power sword and has the following profile:</li><br><li><b>Faolchu's Wing</b> INFANTRY model only. The bearer of Faolchu's Wing has a Move characteristic of 12\" and can FLY.</li><br><li><b>Firesabre</b> Model with a power sword only. The Shard of Anaris replaces this model's power sword and has the following profile</li><br><li><b>The Spirit Stone of Anath'lan</b> BIEL-TAN PSYKER models only. You can re-roll any failed Psychic tests for the bearer. However, should this result in a second failure, then this model is overwhelmed by waves of grief and cannot attempt to manifest any more psychic powers this phase.</li><br><li><b>Shiftshroud of Alanssair</b> ALAITOC INFANTRY model only. Your opponent must subtract 1 from their rolls for attacks that target the bearer in the Shooting phase. In addition, during deployment, you may set up this model in hiding instead of placing it on the battlefield. At the end of any of your Movement phases, this unit can emerge from the webway – set this unit up anywhere on the battlefield that is more than 9\" away from any enemy models.</li><br><li><b>The Burnished Blade of Elliarna</b> BIEL-TAN model with a power sword only. The Burnished Blade of Elliarna replaces the model's power sword.</li><br><li><b>Psytronome of Iyanden</b> IYANDEN PSYKER only. Once during the battle, at the start of a Fight phase, you can declare that this model will activate the Psytronome of Iyanden. If you do so, for the rest of that Fight phase the Attacks characteristics of all friendly IYANDEN WRAITH CONSTRUCT  units that are within 6\" of this model are doubled. However, at the end of the Fight phase, each IYANDEN WRAITH CONSTRUCT unit that was affected by the Psytronome suffers D3 mortal wounds.</li><br><li><b>The Novalance of Saim-Hann</b> SAIM-HANN model with a laser lance only.</li><br><li><b>Ghosthelm of Alishazier</b> ULTHWE PSYKER only. The wearer adds 1 to any Psychic test when attempting to manifest the Smite power.</li><br><li><b>Blazing Star of Vaul</b> Model with a shuriken pistol or twin shuriken catapult only. One shuriken weapon carried by the model is a Blazing Star of Vaul. Add 2 to the number of attacks that the weapon can make.</li><br><li><b>Shimmerplume of Achillrial</b> AUTARCH only. Subtract 1 from all hit rolls that target this model.</li></ul><b>Faction Keywords:</b> Aeldari, Warhost<br><b>Keywords:</b> Autarch, Character, Fly, HQ, Biker, Autarch Skyrunner"
      ],
      "text/plain": [
       "<IPython.core.display.HTML object>"
      ]
     },
     "metadata": {},
     "output_type": "display_data"
    },
    {
     "name": "stderr",
     "output_type": "stream",
     "text": [
      "WARNING:root:Could not get troop type []\n"
     ]
    },
    {
     "data": {
      "text/html": [
       "<h1>Avatar of Khaine</h1><p>[unknown] [ PL:13, pts:220]</p>\n",
       "    <table style=\"width:75%\">\n",
       "        <tr>\n",
       "            <th style=\"width: 30.0%;\"><b>Name</b></th><th style=\"width: 10.0%;\"><b>Move</b></th><th style=\"width: 7.5%;\"><b>WS</b></th><th style=\"width: 7.5%;\"><b>BS</b></th><th style=\"width: 7.5%;\"><b>S</b></th><th style=\"width: 7.5%;\"><b>T</b></th><th style=\"width: 7.5%;\"><b>W</b></th><th style=\"width: 7.5%;\"><b>A</b></th><th style=\"width: 7.5%;\"><b>L</b></th><th style=\"width: 7.5%;\"><b>Sv</b></th>\n",
       "        </tr>\n",
       "        <tr><td>Avatar of Khaine</td><td>7\"</td><td>2+</td><td>2+</td><td>6</td><td>6</td><td>8</td><td>5</td><td>9</td><td>3+</td></tr>\n",
       "    </table> Unit contains x of y, x of y with a,b,c<br>\n",
       "    <table style=\"width:75%\">\n",
       "        <tr>\n",
       "            <th style=\"width: 30.0%;\"><b>Weapon</b></th><th style=\"width: 5.0%;\"><b>Range</b></th><th style=\"width: 10.0%;\"><b>Type</b></th><th style=\"width: 5.0%;\"><b>S</b></th><th style=\"width: 5.0%;\"><b>AP</b></th><th style=\"width: 5.0%;\"><b>D</b></th><th style=\"width: 40.0%;\"><b>Abilities</b></th>\n",
       "        </tr>\n",
       "        <tr><td>The Wailing Doom (melee)</td><td>Melee</td><td>Melee</td><td>+2</td><td>-4</td><td>D6</td><td>Roll two dice when inflicting damage with this weapon and discard the lowest result.</td></tr><tr><td>The Wailing Doom (shooting)</td><td>12\"</td><td>Assault 1</td><td>8</td><td>-4</td><td>D6</td><td>Roll two dice when inflicting damage with this weapon and discard the lowest result.</td></tr>\n",
       "    </table> <b>Abilities:</b><ul><li><b>Molten Body</b> Roll a D6 whenever the Avatar of Khaine suffers a wound or mortal wound. On a 5+ that wound is ignored.</li><br><li><b>Khaine Awakened</b> Friendly ASURYANI units within 12\" of the Avatar of Khaine do not take Morale tests, and you can re-roll failed charge rolls for these units.</li><br><li><b>Daemon</b> The Avatar of Khaine has a 5+ invulnerable save.</li></ul><b>Faction Keywords:</b> Aeldari, Aspect Warrior<br><b>Keywords:</b> Avatar of Khaine, Character, Daemon, HQ, Monster"
      ],
      "text/plain": [
       "<IPython.core.display.HTML object>"
      ]
     },
     "metadata": {},
     "output_type": "display_data"
    },
    {
     "name": "stderr",
     "output_type": "stream",
     "text": [
      "WARNING:root:Unknown reference selectionEntry Is A Custom Character 43c4-8968-c599-ad5f\n",
      "WARNING:root:Unknown reference selectionEntryGroup Custom Character Selections 8774-e003-4a50-56c7\n",
      "WARNING:root:Unknown reference selectionEntry Ynnari Warlord 75e4-e07c-3a6d-46c5\n",
      "WARNING:root:Unknown reference selectionEntryGroup Warlord Traits (Ynnari) 2fc3-8ba7-0594-29f6\n",
      "WARNING:root:Unknown reference selectionEntryGroup Revenant Discipline 7f93-a621-fdeb-0426\n",
      "WARNING:root:Could not get troop type []\n"
     ]
    },
    {
     "data": {
      "text/html": [
       "<h1>Farseer</h1><p>[unknown] [ PL:6, pts:110]</p>\n",
       "    <table style=\"width:75%\">\n",
       "        <tr>\n",
       "            <th style=\"width: 30.0%;\"><b>Name</b></th><th style=\"width: 10.0%;\"><b>Move</b></th><th style=\"width: 7.5%;\"><b>WS</b></th><th style=\"width: 7.5%;\"><b>BS</b></th><th style=\"width: 7.5%;\"><b>S</b></th><th style=\"width: 7.5%;\"><b>T</b></th><th style=\"width: 7.5%;\"><b>W</b></th><th style=\"width: 7.5%;\"><b>A</b></th><th style=\"width: 7.5%;\"><b>L</b></th><th style=\"width: 7.5%;\"><b>Sv</b></th>\n",
       "        </tr>\n",
       "        <tr><td>Farseer</td><td>7\"</td><td>2+</td><td>2+</td><td>3</td><td>3</td><td>5</td><td>2</td><td>9</td><td>6+</td></tr>\n",
       "    </table> Unit contains x of y, x of y with a,b,c<br>\n",
       "    <table style=\"width:75%\">\n",
       "        <tr>\n",
       "            <th style=\"width: 30.0%;\"><b>Weapon</b></th><th style=\"width: 5.0%;\"><b>Range</b></th><th style=\"width: 10.0%;\"><b>Type</b></th><th style=\"width: 5.0%;\"><b>S</b></th><th style=\"width: 5.0%;\"><b>AP</b></th><th style=\"width: 5.0%;\"><b>D</b></th><th style=\"width: 40.0%;\"><b>Abilities</b></th>\n",
       "        </tr>\n",
       "        <tr><td>Shuriken pistol</td><td>12\"</td><td>Pistol 1</td><td>4</td><td>0</td><td>1</td><td>Each time you make a wound roll of 6+ for this weapon, that hit is resolved with an AP of -3 instead of 0.</td></tr><tr><td>Warp-Spawn Bane</td><td>Melee</td><td>Melee</td><td>User</td><td>0</td><td>2</td><td>This weapon always wounds on a roll of 2+. In addition, ignore invulnerable saves for attacks made by this weapon that target enemy PSYKERS or DAEMONS.</td></tr><tr><td>Kurnous' Bow</td><td>12\"</td><td>Pistol 1</td><td>4</td><td>0</td><td>2</td><td>Each time you make a wound roll of 4+ for this weapon, that hit is resolved with an AP of -3 instead of 0.</td></tr><tr><td>The Novalance of Saim-Hann (shooting)</td><td>12\"</td><td>Assault 1</td><td>6</td><td>-4</td><td>2</td><td>-</td></tr><tr><td>Firesabre</td><td>Melee</td><td>Melee</td><td>+1</td><td>-4</td><td>1</td><td>Each time you make a wound roll of 6+ for this weapon, it inflicts a mortal wound on the target instead of the normal damage.</td></tr><tr><td>Shard of Anaris</td><td>Melee</td><td>Melee</td><td>User</td><td>-3</td><td>D3</td><td>You can re-roll failed wound rolls for this weapon.</td></tr><tr><td>The Burnished Blade of Elliarna</td><td>Melee</td><td>Melee</td><td>User</td><td>-3</td><td>2</td><td>Add 1 to this weapon's Strength and Damage characteristics for any attack made for it that targets an ORK unit.</td></tr><tr><td>Howling Skysword of Galaleth</td><td>Melee</td><td>Melee</td><td>User</td><td>0</td><td>3</td><td>This weapon always wounds on a roll of 2+.</td></tr><tr><td>The Novalance of Saim-Hann (melee)</td><td>Melee</td><td>Melee</td><td>+2</td><td>-4</td><td>2</td><td>Attacks with this weapon in the Fight phase are made at Strength 8 if the bearer charged in the same turn. In addition, if the wound roll for an attack made with this weapon is 6+, add 2 to the damage inflicted by that attack.</td></tr>\n",
       "    </table> <b>Abilities:</b><ul><li><b>Runes of the Farseer</b> Once in each Psychic phase, you can re-roll any number of dice used for this model's attempt to manifest or deny a psychic power.</li><br><li><b>Ghosthelm</b> Roll a D6 whenever this model suffers a mortal wound, adding 3 to the roll if the mortal wound was inflicted as a result of the psyker suffering Perils of the Warp. On a roll of 5+, that wound is ignored.</li><br><li><b>Rune Armour</b> This model has a 4+ invulnerable save.</li><br><li><b>Kurnous' Bow</b> Model with a shuriken pistol only. Kurnous' Bow replaces this model's shuriken pistol and has the following profile.</li><br><li><b>The Phoenix Gem</b> The first time this model is slain, roll a D6 for each unit (friend or foe) within 3\" of this model. On a roll of 2 or more, that unit suffers D3 mortal wounds. If at least one mortal wound is inflicted as a result of this, then this model is not slain, but remains in play with a single wound remaining. If no mortal wounds are inflicted, this model is slain.</li><br><li><b>Shard of Anaris</b> Model with a power sword only. The Shard of Anaris replaces this model's power sword and has the following profile:</li><br><li><b>Faolchu's Wing</b> INFANTRY model only. The bearer of Faolchu's Wing has a Move characteristic of 12\" and can FLY.</li><br><li><b>Firesabre</b> Model with a power sword only. The Shard of Anaris replaces this model's power sword and has the following profile</li><br><li><b>The Spirit Stone of Anath'lan</b> BIEL-TAN PSYKER models only. You can re-roll any failed Psychic tests for the bearer. However, should this result in a second failure, then this model is overwhelmed by waves of grief and cannot attempt to manifest any more psychic powers this phase.</li><br><li><b>Shiftshroud of Alanssair</b> ALAITOC INFANTRY model only. Your opponent must subtract 1 from their rolls for attacks that target the bearer in the Shooting phase. In addition, during deployment, you may set up this model in hiding instead of placing it on the battlefield. At the end of any of your Movement phases, this unit can emerge from the webway – set this unit up anywhere on the battlefield that is more than 9\" away from any enemy models.</li><br><li><b>The Burnished Blade of Elliarna</b> BIEL-TAN model with a power sword only. The Burnished Blade of Elliarna replaces the model's power sword.</li><br><li><b>Psytronome of Iyanden</b> IYANDEN PSYKER only. Once during the battle, at the start of a Fight phase, you can declare that this model will activate the Psytronome of Iyanden. If you do so, for the rest of that Fight phase the Attacks characteristics of all friendly IYANDEN WRAITH CONSTRUCT  units that are within 6\" of this model are doubled. However, at the end of the Fight phase, each IYANDEN WRAITH CONSTRUCT unit that was affected by the Psytronome suffers D3 mortal wounds.</li><br><li><b>The Novalance of Saim-Hann</b> SAIM-HANN model with a laser lance only.</li><br><li><b>Ghosthelm of Alishazier</b> ULTHWE PSYKER only. The wearer adds 1 to any Psychic test when attempting to manifest the Smite power.</li><br><li><b>Blazing Star of Vaul</b> Model with a shuriken pistol or twin shuriken catapult only. One shuriken weapon carried by the model is a Blazing Star of Vaul. Add 2 to the number of attacks that the weapon can make.</li><br><li><b>Shimmerplume of Achillrial</b> AUTARCH only. Subtract 1 from all hit rolls that target this model.</li></ul><b>Faction Keywords:</b> Aeldari, Warhost<br><b>Keywords:</b> Character, Farseer, HQ, Infantry, Psyker"
      ],
      "text/plain": [
       "<IPython.core.display.HTML object>"
      ]
     },
     "metadata": {},
     "output_type": "display_data"
    },
    {
     "name": "stderr",
     "output_type": "stream",
     "text": [
      "WARNING:root:Unknown reference selectionEntry Is A Custom Character 43c4-8968-c599-ad5f\n",
      "WARNING:root:Unknown reference selectionEntryGroup Custom Character Selections 8774-e003-4a50-56c7\n",
      "WARNING:root:Unknown reference selectionEntry Stratagem: Field Commander d043-3847-e963-fb5d\n",
      "WARNING:root:Unknown reference selectionEntry Ynnari Warlord 75e4-e07c-3a6d-46c5\n",
      "WARNING:root:Unknown reference selectionEntryGroup Warlord Traits (Ynnari) 2fc3-8ba7-0594-29f6\n",
      "WARNING:root:Unknown reference selectionEntryGroup Revenant Discipline 7f93-a621-fdeb-0426\n",
      "WARNING:root:Could not get troop type []\n"
     ]
    },
    {
     "data": {
      "text/html": [
       "<h1>Farseer Skyrunner</h1><p>[unknown] [ PL:7, pts:130]</p>\n",
       "    <table style=\"width:75%\">\n",
       "        <tr>\n",
       "            <th style=\"width: 30.0%;\"><b>Name</b></th><th style=\"width: 10.0%;\"><b>Move</b></th><th style=\"width: 7.5%;\"><b>WS</b></th><th style=\"width: 7.5%;\"><b>BS</b></th><th style=\"width: 7.5%;\"><b>S</b></th><th style=\"width: 7.5%;\"><b>T</b></th><th style=\"width: 7.5%;\"><b>W</b></th><th style=\"width: 7.5%;\"><b>A</b></th><th style=\"width: 7.5%;\"><b>L</b></th><th style=\"width: 7.5%;\"><b>Sv</b></th>\n",
       "        </tr>\n",
       "        <tr><td>Farseer Skyrunner</td><td>16\"</td><td>2+</td><td>2+</td><td>3</td><td>4</td><td>6</td><td>2</td><td>9</td><td>4+</td></tr>\n",
       "    </table> Unit contains x of y, x of y with a,b,c<br>\n",
       "    <table style=\"width:75%\">\n",
       "        <tr>\n",
       "            <th style=\"width: 30.0%;\"><b>Weapon</b></th><th style=\"width: 5.0%;\"><b>Range</b></th><th style=\"width: 10.0%;\"><b>Type</b></th><th style=\"width: 5.0%;\"><b>S</b></th><th style=\"width: 5.0%;\"><b>AP</b></th><th style=\"width: 5.0%;\"><b>D</b></th><th style=\"width: 40.0%;\"><b>Abilities</b></th>\n",
       "        </tr>\n",
       "        <tr><td>Shuriken pistol</td><td>12\"</td><td>Pistol 1</td><td>4</td><td>0</td><td>1</td><td>Each time you make a wound roll of 6+ for this weapon, that hit is resolved with an AP of -3 instead of 0.</td></tr><tr><td>Warp-Spawn Bane</td><td>Melee</td><td>Melee</td><td>User</td><td>0</td><td>2</td><td>This weapon always wounds on a roll of 2+. In addition, ignore invulnerable saves for attacks made by this weapon that target enemy PSYKERS or DAEMONS.</td></tr><tr><td>Kurnous' Bow</td><td>12\"</td><td>Pistol 1</td><td>4</td><td>0</td><td>2</td><td>Each time you make a wound roll of 4+ for this weapon, that hit is resolved with an AP of -3 instead of 0.</td></tr><tr><td>The Novalance of Saim-Hann (shooting)</td><td>12\"</td><td>Assault 1</td><td>6</td><td>-4</td><td>2</td><td>-</td></tr><tr><td>Firesabre</td><td>Melee</td><td>Melee</td><td>+1</td><td>-4</td><td>1</td><td>Each time you make a wound roll of 6+ for this weapon, it inflicts a mortal wound on the target instead of the normal damage.</td></tr><tr><td>Shard of Anaris</td><td>Melee</td><td>Melee</td><td>User</td><td>-3</td><td>D3</td><td>You can re-roll failed wound rolls for this weapon.</td></tr><tr><td>Twin Shuriken Catapult</td><td>12\"</td><td>Assault 4</td><td>4</td><td>0</td><td>1</td><td>Each time you make a wound roll of 6+ for this weapon, that hit is resolved with an AP of -3 instead of 0.</td></tr><tr><td>The Burnished Blade of Elliarna</td><td>Melee</td><td>Melee</td><td>User</td><td>-3</td><td>2</td><td>Add 1 to this weapon's Strength and Damage characteristics for any attack made for it that targets an ORK unit.</td></tr><tr><td>Howling Skysword of Galaleth</td><td>Melee</td><td>Melee</td><td>User</td><td>0</td><td>3</td><td>This weapon always wounds on a roll of 2+.</td></tr><tr><td>The Novalance of Saim-Hann (melee)</td><td>Melee</td><td>Melee</td><td>+2</td><td>-4</td><td>2</td><td>Attacks with this weapon in the Fight phase are made at Strength 8 if the bearer charged in the same turn. In addition, if the wound roll for an attack made with this weapon is 6+, add 2 to the damage inflicted by that attack.</td></tr>\n",
       "    </table> <b>Abilities:</b><ul><li><b>Ride the Wind</b> When this model Advances, add 6\" to its Move characteristic for that Movement phase instead of rolling a dice.</li><br><li><b>Runes of the Farseer</b> Once in each Psychic phase, you can re-roll any number of dice used for this model's attempt to manifest or deny a psychic power.</li><br><li><b>Rune Armour</b> This model has a 4+ invulnerable save.</li><br><li><b>Ghosthelm</b> Roll a D6 whenever this model suffers a mortal wound, adding 3 to the roll if the mortal wound was inflicted as a result of the psyker suffering Perils of the Warp. On a roll of 5+, that wound is ignored.</li><br><li><b>Kurnous' Bow</b> Model with a shuriken pistol only. Kurnous' Bow replaces this model's shuriken pistol and has the following profile.</li><br><li><b>The Phoenix Gem</b> The first time this model is slain, roll a D6 for each unit (friend or foe) within 3\" of this model. On a roll of 2 or more, that unit suffers D3 mortal wounds. If at least one mortal wound is inflicted as a result of this, then this model is not slain, but remains in play with a single wound remaining. If no mortal wounds are inflicted, this model is slain.</li><br><li><b>Shard of Anaris</b> Model with a power sword only. The Shard of Anaris replaces this model's power sword and has the following profile:</li><br><li><b>Faolchu's Wing</b> INFANTRY model only. The bearer of Faolchu's Wing has a Move characteristic of 12\" and can FLY.</li><br><li><b>Firesabre</b> Model with a power sword only. The Shard of Anaris replaces this model's power sword and has the following profile</li><br><li><b>The Spirit Stone of Anath'lan</b> BIEL-TAN PSYKER models only. You can re-roll any failed Psychic tests for the bearer. However, should this result in a second failure, then this model is overwhelmed by waves of grief and cannot attempt to manifest any more psychic powers this phase.</li><br><li><b>Shiftshroud of Alanssair</b> ALAITOC INFANTRY model only. Your opponent must subtract 1 from their rolls for attacks that target the bearer in the Shooting phase. In addition, during deployment, you may set up this model in hiding instead of placing it on the battlefield. At the end of any of your Movement phases, this unit can emerge from the webway – set this unit up anywhere on the battlefield that is more than 9\" away from any enemy models.</li><br><li><b>The Burnished Blade of Elliarna</b> BIEL-TAN model with a power sword only. The Burnished Blade of Elliarna replaces the model's power sword.</li><br><li><b>Psytronome of Iyanden</b> IYANDEN PSYKER only. Once during the battle, at the start of a Fight phase, you can declare that this model will activate the Psytronome of Iyanden. If you do so, for the rest of that Fight phase the Attacks characteristics of all friendly IYANDEN WRAITH CONSTRUCT  units that are within 6\" of this model are doubled. However, at the end of the Fight phase, each IYANDEN WRAITH CONSTRUCT unit that was affected by the Psytronome suffers D3 mortal wounds.</li><br><li><b>The Novalance of Saim-Hann</b> SAIM-HANN model with a laser lance only.</li><br><li><b>Ghosthelm of Alishazier</b> ULTHWE PSYKER only. The wearer adds 1 to any Psychic test when attempting to manifest the Smite power.</li><br><li><b>Blazing Star of Vaul</b> Model with a shuriken pistol or twin shuriken catapult only. One shuriken weapon carried by the model is a Blazing Star of Vaul. Add 2 to the number of attacks that the weapon can make.</li><br><li><b>Shimmerplume of Achillrial</b> AUTARCH only. Subtract 1 from all hit rolls that target this model.</li></ul><b>Faction Keywords:</b> Aeldari, Warhost<br><b>Keywords:</b> Character, Biker, Farseer Skyrunner, Fly, HQ, Psyker"
      ],
      "text/plain": [
       "<IPython.core.display.HTML object>"
      ]
     },
     "metadata": {},
     "output_type": "display_data"
    },
    {
     "name": "stderr",
     "output_type": "stream",
     "text": [
      "WARNING:root:Unknown reference selectionEntry Unit has battle honors? 4763-757f-499f-d998\n",
      "WARNING:root:Unknown reference selectionEntryGroup Battle Honors 5518-d0f5-a880-d71c\n",
      "WARNING:root:Unknown reference selectionEntryGroup Revenant Discipline 7f93-a621-fdeb-0426\n",
      "WARNING:root:Could not get troop type []\n"
     ]
    },
    {
     "data": {
      "text/html": [
       "<h1>Warlock Conclave</h1><p>[unknown] []</p>\n",
       "    <table style=\"width:75%\">\n",
       "        <tr>\n",
       "            <th style=\"width: 30.0%;\"><b>Name</b></th><th style=\"width: 10.0%;\"><b>Move</b></th><th style=\"width: 7.5%;\"><b>WS</b></th><th style=\"width: 7.5%;\"><b>BS</b></th><th style=\"width: 7.5%;\"><b>S</b></th><th style=\"width: 7.5%;\"><b>T</b></th><th style=\"width: 7.5%;\"><b>W</b></th><th style=\"width: 7.5%;\"><b>A</b></th><th style=\"width: 7.5%;\"><b>L</b></th><th style=\"width: 7.5%;\"><b>Sv</b></th>\n",
       "        </tr>\n",
       "        \n",
       "    </table> Unit contains x of y, x of y with a,b,c<br>\n",
       "    <table style=\"width:75%\">\n",
       "        <tr>\n",
       "            <th style=\"width: 30.0%;\"><b>Weapon</b></th><th style=\"width: 5.0%;\"><b>Range</b></th><th style=\"width: 10.0%;\"><b>Type</b></th><th style=\"width: 5.0%;\"><b>S</b></th><th style=\"width: 5.0%;\"><b>AP</b></th><th style=\"width: 5.0%;\"><b>D</b></th><th style=\"width: 40.0%;\"><b>Abilities</b></th>\n",
       "        </tr>\n",
       "        <tr><td>Shuriken pistol</td><td>12\"</td><td>Pistol 1</td><td>4</td><td>0</td><td>1</td><td>Each time you make a wound roll of 6+ for this weapon, that hit is resolved with an AP of -3 instead of 0.</td></tr>\n",
       "    </table> <b>Abilities:</b><ul><li><b>Rune Armour</b> This model has a 4+ invulnerable save.</li></ul><b>Faction Keywords:</b> <Craftworld>, Aeldari, Asuryani, Warhost<br><b>Keywords:</b> HQ, Infantry, Psyker, Warlock Conclave"
      ],
      "text/plain": [
       "<IPython.core.display.HTML object>"
      ]
     },
     "metadata": {},
     "output_type": "display_data"
    },
    {
     "name": "stderr",
     "output_type": "stream",
     "text": [
      "WARNING:root:Unknown reference selectionEntry Is A Custom Character 43c4-8968-c599-ad5f\n",
      "WARNING:root:Unknown reference selectionEntryGroup Custom Character Selections 8774-e003-4a50-56c7\n",
      "WARNING:root:Unknown reference selectionEntryGroup Warlord Traits (Ynnari) 2fc3-8ba7-0594-29f6\n",
      "WARNING:root:Unknown reference selectionEntry Ynnari Warlord 75e4-e07c-3a6d-46c5\n",
      "WARNING:root:Unknown reference selectionEntryGroup Revenant Discipline 7f93-a621-fdeb-0426\n",
      "WARNING:root:Could not get troop type []\n"
     ]
    },
    {
     "data": {
      "text/html": [
       "<h1>Warlock</h1><p>[unknown] [ PL:2, pts:45]</p>\n",
       "    <table style=\"width:75%\">\n",
       "        <tr>\n",
       "            <th style=\"width: 30.0%;\"><b>Name</b></th><th style=\"width: 10.0%;\"><b>Move</b></th><th style=\"width: 7.5%;\"><b>WS</b></th><th style=\"width: 7.5%;\"><b>BS</b></th><th style=\"width: 7.5%;\"><b>S</b></th><th style=\"width: 7.5%;\"><b>T</b></th><th style=\"width: 7.5%;\"><b>W</b></th><th style=\"width: 7.5%;\"><b>A</b></th><th style=\"width: 7.5%;\"><b>L</b></th><th style=\"width: 7.5%;\"><b>Sv</b></th>\n",
       "        </tr>\n",
       "        \n",
       "    </table> Unit contains x of y, x of y with a,b,c<br>\n",
       "    <table style=\"width:75%\">\n",
       "        <tr>\n",
       "            <th style=\"width: 30.0%;\"><b>Weapon</b></th><th style=\"width: 5.0%;\"><b>Range</b></th><th style=\"width: 10.0%;\"><b>Type</b></th><th style=\"width: 5.0%;\"><b>S</b></th><th style=\"width: 5.0%;\"><b>AP</b></th><th style=\"width: 5.0%;\"><b>D</b></th><th style=\"width: 40.0%;\"><b>Abilities</b></th>\n",
       "        </tr>\n",
       "        <tr><td>Shuriken pistol</td><td>12\"</td><td>Pistol 1</td><td>4</td><td>0</td><td>1</td><td>Each time you make a wound roll of 6+ for this weapon, that hit is resolved with an AP of -3 instead of 0.</td></tr><tr><td>Warp-Spawn Bane</td><td>Melee</td><td>Melee</td><td>User</td><td>0</td><td>2</td><td>This weapon always wounds on a roll of 2+. In addition, ignore invulnerable saves for attacks made by this weapon that target enemy PSYKERS or DAEMONS.</td></tr><tr><td>Kurnous' Bow</td><td>12\"</td><td>Pistol 1</td><td>4</td><td>0</td><td>2</td><td>Each time you make a wound roll of 4+ for this weapon, that hit is resolved with an AP of -3 instead of 0.</td></tr><tr><td>The Novalance of Saim-Hann (shooting)</td><td>12\"</td><td>Assault 1</td><td>6</td><td>-4</td><td>2</td><td>-</td></tr><tr><td>Firesabre</td><td>Melee</td><td>Melee</td><td>+1</td><td>-4</td><td>1</td><td>Each time you make a wound roll of 6+ for this weapon, it inflicts a mortal wound on the target instead of the normal damage.</td></tr><tr><td>Shard of Anaris</td><td>Melee</td><td>Melee</td><td>User</td><td>-3</td><td>D3</td><td>You can re-roll failed wound rolls for this weapon.</td></tr><tr><td>The Burnished Blade of Elliarna</td><td>Melee</td><td>Melee</td><td>User</td><td>-3</td><td>2</td><td>Add 1 to this weapon's Strength and Damage characteristics for any attack made for it that targets an ORK unit.</td></tr><tr><td>Howling Skysword of Galaleth</td><td>Melee</td><td>Melee</td><td>User</td><td>0</td><td>3</td><td>This weapon always wounds on a roll of 2+.</td></tr><tr><td>The Novalance of Saim-Hann (melee)</td><td>Melee</td><td>Melee</td><td>+2</td><td>-4</td><td>2</td><td>Attacks with this weapon in the Fight phase are made at Strength 8 if the bearer charged in the same turn. In addition, if the wound roll for an attack made with this weapon is 6+, add 2 to the damage inflicted by that attack.</td></tr>\n",
       "    </table> <b>Abilities:</b><ul><li><b>Rune Armour</b> This model has a 4+ invulnerable save.</li><br><li><b>Kurnous' Bow</b> Model with a shuriken pistol only. Kurnous' Bow replaces this model's shuriken pistol and has the following profile.</li><br><li><b>The Phoenix Gem</b> The first time this model is slain, roll a D6 for each unit (friend or foe) within 3\" of this model. On a roll of 2 or more, that unit suffers D3 mortal wounds. If at least one mortal wound is inflicted as a result of this, then this model is not slain, but remains in play with a single wound remaining. If no mortal wounds are inflicted, this model is slain.</li><br><li><b>Shard of Anaris</b> Model with a power sword only. The Shard of Anaris replaces this model's power sword and has the following profile:</li><br><li><b>Faolchu's Wing</b> INFANTRY model only. The bearer of Faolchu's Wing has a Move characteristic of 12\" and can FLY.</li><br><li><b>Firesabre</b> Model with a power sword only. The Shard of Anaris replaces this model's power sword and has the following profile</li><br><li><b>The Spirit Stone of Anath'lan</b> BIEL-TAN PSYKER models only. You can re-roll any failed Psychic tests for the bearer. However, should this result in a second failure, then this model is overwhelmed by waves of grief and cannot attempt to manifest any more psychic powers this phase.</li><br><li><b>Shiftshroud of Alanssair</b> ALAITOC INFANTRY model only. Your opponent must subtract 1 from their rolls for attacks that target the bearer in the Shooting phase. In addition, during deployment, you may set up this model in hiding instead of placing it on the battlefield. At the end of any of your Movement phases, this unit can emerge from the webway – set this unit up anywhere on the battlefield that is more than 9\" away from any enemy models.</li><br><li><b>The Burnished Blade of Elliarna</b> BIEL-TAN model with a power sword only. The Burnished Blade of Elliarna replaces the model's power sword.</li><br><li><b>Psytronome of Iyanden</b> IYANDEN PSYKER only. Once during the battle, at the start of a Fight phase, you can declare that this model will activate the Psytronome of Iyanden. If you do so, for the rest of that Fight phase the Attacks characteristics of all friendly IYANDEN WRAITH CONSTRUCT  units that are within 6\" of this model are doubled. However, at the end of the Fight phase, each IYANDEN WRAITH CONSTRUCT unit that was affected by the Psytronome suffers D3 mortal wounds.</li><br><li><b>The Novalance of Saim-Hann</b> SAIM-HANN model with a laser lance only.</li><br><li><b>Ghosthelm of Alishazier</b> ULTHWE PSYKER only. The wearer adds 1 to any Psychic test when attempting to manifest the Smite power.</li><br><li><b>Blazing Star of Vaul</b> Model with a shuriken pistol or twin shuriken catapult only. One shuriken weapon carried by the model is a Blazing Star of Vaul. Add 2 to the number of attacks that the weapon can make.</li><br><li><b>Shimmerplume of Achillrial</b> AUTARCH only. Subtract 1 from all hit rolls that target this model.</li></ul><b>Faction Keywords:</b> <Craftworld>, Aeldari, Asuryani, Warhost<br><b>Keywords:</b> Character, HQ, Infantry, Psyker, Warlock"
      ],
      "text/plain": [
       "<IPython.core.display.HTML object>"
      ]
     },
     "metadata": {},
     "output_type": "display_data"
    },
    {
     "name": "stderr",
     "output_type": "stream",
     "text": [
      "WARNING:root:Unknown reference selectionEntry Unit has battle honors? 4763-757f-499f-d998\n",
      "WARNING:root:Unknown reference selectionEntryGroup Battle Honors 5518-d0f5-a880-d71c\n",
      "WARNING:root:Unknown reference selectionEntryGroup Revenant Discipline 7f93-a621-fdeb-0426\n",
      "WARNING:root:Could not get troop type []\n"
     ]
    },
    {
     "data": {
      "text/html": [
       "<h1>Warlock Skyrunner Conclave</h1><p>[unknown] []</p>\n",
       "    <table style=\"width:75%\">\n",
       "        <tr>\n",
       "            <th style=\"width: 30.0%;\"><b>Name</b></th><th style=\"width: 10.0%;\"><b>Move</b></th><th style=\"width: 7.5%;\"><b>WS</b></th><th style=\"width: 7.5%;\"><b>BS</b></th><th style=\"width: 7.5%;\"><b>S</b></th><th style=\"width: 7.5%;\"><b>T</b></th><th style=\"width: 7.5%;\"><b>W</b></th><th style=\"width: 7.5%;\"><b>A</b></th><th style=\"width: 7.5%;\"><b>L</b></th><th style=\"width: 7.5%;\"><b>Sv</b></th>\n",
       "        </tr>\n",
       "        \n",
       "    </table> Unit contains x of y, x of y with a,b,c<br>\n",
       "    <table style=\"width:75%\">\n",
       "        <tr>\n",
       "            <th style=\"width: 30.0%;\"><b>Weapon</b></th><th style=\"width: 5.0%;\"><b>Range</b></th><th style=\"width: 10.0%;\"><b>Type</b></th><th style=\"width: 5.0%;\"><b>S</b></th><th style=\"width: 5.0%;\"><b>AP</b></th><th style=\"width: 5.0%;\"><b>D</b></th><th style=\"width: 40.0%;\"><b>Abilities</b></th>\n",
       "        </tr>\n",
       "        <tr><td>Twin Shuriken Catapult</td><td>12\"</td><td>Assault 4</td><td>4</td><td>0</td><td>1</td><td>Each time you make a wound roll of 6+ for this weapon, that hit is resolved with an AP of -3 instead of 0.</td></tr><tr><td>Shuriken pistol</td><td>12\"</td><td>Pistol 1</td><td>4</td><td>0</td><td>1</td><td>Each time you make a wound roll of 6+ for this weapon, that hit is resolved with an AP of -3 instead of 0.</td></tr>\n",
       "    </table> <b>Abilities:</b><ul><li><b>Rune Armour</b> This model has a 4+ invulnerable save.</li><br><li><b>Ride the Wind</b> When this model Advances, add 6\" to its Move characteristic for that Movement phase instead of rolling a dice.</li></ul><b>Faction Keywords:</b> <Craftworld>, Aeldari, Asuryani, Warhost<br><b>Keywords:</b> Biker, Fly, HQ, Psyker, Warlock Skyrunner Conclave"
      ],
      "text/plain": [
       "<IPython.core.display.HTML object>"
      ]
     },
     "metadata": {},
     "output_type": "display_data"
    },
    {
     "name": "stderr",
     "output_type": "stream",
     "text": [
      "WARNING:root:Unknown reference selectionEntry Is A Custom Character 43c4-8968-c599-ad5f\n",
      "WARNING:root:Unknown reference selectionEntryGroup Custom Character Selections 8774-e003-4a50-56c7\n",
      "WARNING:root:Unknown reference selectionEntry Stratagem: Field Commander d043-3847-e963-fb5d\n",
      "WARNING:root:Unknown reference selectionEntryGroup Warlord Traits (Ynnari) 2fc3-8ba7-0594-29f6\n",
      "WARNING:root:Unknown reference selectionEntry Ynnari Warlord 75e4-e07c-3a6d-46c5\n",
      "WARNING:root:Unknown reference selectionEntryGroup Revenant Discipline 7f93-a621-fdeb-0426\n",
      "WARNING:root:Could not get troop type []\n"
     ]
    },
    {
     "data": {
      "text/html": [
       "<h1>Warlock Skyrunner</h1><p>[unknown] [ PL:4, pts:60]</p>\n",
       "    <table style=\"width:75%\">\n",
       "        <tr>\n",
       "            <th style=\"width: 30.0%;\"><b>Name</b></th><th style=\"width: 10.0%;\"><b>Move</b></th><th style=\"width: 7.5%;\"><b>WS</b></th><th style=\"width: 7.5%;\"><b>BS</b></th><th style=\"width: 7.5%;\"><b>S</b></th><th style=\"width: 7.5%;\"><b>T</b></th><th style=\"width: 7.5%;\"><b>W</b></th><th style=\"width: 7.5%;\"><b>A</b></th><th style=\"width: 7.5%;\"><b>L</b></th><th style=\"width: 7.5%;\"><b>Sv</b></th>\n",
       "        </tr>\n",
       "        \n",
       "    </table> Unit contains x of y, x of y with a,b,c<br>\n",
       "    <table style=\"width:75%\">\n",
       "        <tr>\n",
       "            <th style=\"width: 30.0%;\"><b>Weapon</b></th><th style=\"width: 5.0%;\"><b>Range</b></th><th style=\"width: 10.0%;\"><b>Type</b></th><th style=\"width: 5.0%;\"><b>S</b></th><th style=\"width: 5.0%;\"><b>AP</b></th><th style=\"width: 5.0%;\"><b>D</b></th><th style=\"width: 40.0%;\"><b>Abilities</b></th>\n",
       "        </tr>\n",
       "        <tr><td>Shuriken pistol</td><td>12\"</td><td>Pistol 1</td><td>4</td><td>0</td><td>1</td><td>Each time you make a wound roll of 6+ for this weapon, that hit is resolved with an AP of -3 instead of 0.</td></tr><tr><td>Warp-Spawn Bane</td><td>Melee</td><td>Melee</td><td>User</td><td>0</td><td>2</td><td>This weapon always wounds on a roll of 2+. In addition, ignore invulnerable saves for attacks made by this weapon that target enemy PSYKERS or DAEMONS.</td></tr><tr><td>Kurnous' Bow</td><td>12\"</td><td>Pistol 1</td><td>4</td><td>0</td><td>2</td><td>Each time you make a wound roll of 4+ for this weapon, that hit is resolved with an AP of -3 instead of 0.</td></tr><tr><td>The Novalance of Saim-Hann (shooting)</td><td>12\"</td><td>Assault 1</td><td>6</td><td>-4</td><td>2</td><td>-</td></tr><tr><td>Firesabre</td><td>Melee</td><td>Melee</td><td>+1</td><td>-4</td><td>1</td><td>Each time you make a wound roll of 6+ for this weapon, it inflicts a mortal wound on the target instead of the normal damage.</td></tr><tr><td>Shard of Anaris</td><td>Melee</td><td>Melee</td><td>User</td><td>-3</td><td>D3</td><td>You can re-roll failed wound rolls for this weapon.</td></tr><tr><td>Twin Shuriken Catapult</td><td>12\"</td><td>Assault 4</td><td>4</td><td>0</td><td>1</td><td>Each time you make a wound roll of 6+ for this weapon, that hit is resolved with an AP of -3 instead of 0.</td></tr><tr><td>The Burnished Blade of Elliarna</td><td>Melee</td><td>Melee</td><td>User</td><td>-3</td><td>2</td><td>Add 1 to this weapon's Strength and Damage characteristics for any attack made for it that targets an ORK unit.</td></tr><tr><td>Howling Skysword of Galaleth</td><td>Melee</td><td>Melee</td><td>User</td><td>0</td><td>3</td><td>This weapon always wounds on a roll of 2+.</td></tr><tr><td>The Novalance of Saim-Hann (melee)</td><td>Melee</td><td>Melee</td><td>+2</td><td>-4</td><td>2</td><td>Attacks with this weapon in the Fight phase are made at Strength 8 if the bearer charged in the same turn. In addition, if the wound roll for an attack made with this weapon is 6+, add 2 to the damage inflicted by that attack.</td></tr>\n",
       "    </table> <b>Abilities:</b><ul><li><b>Ride the Wind</b> When this model Advances, add 6\" to its Move characteristic for that Movement phase instead of rolling a dice.</li><br><li><b>Rune Armour</b> This model has a 4+ invulnerable save.</li><br><li><b>Kurnous' Bow</b> Model with a shuriken pistol only. Kurnous' Bow replaces this model's shuriken pistol and has the following profile.</li><br><li><b>The Phoenix Gem</b> The first time this model is slain, roll a D6 for each unit (friend or foe) within 3\" of this model. On a roll of 2 or more, that unit suffers D3 mortal wounds. If at least one mortal wound is inflicted as a result of this, then this model is not slain, but remains in play with a single wound remaining. If no mortal wounds are inflicted, this model is slain.</li><br><li><b>Shard of Anaris</b> Model with a power sword only. The Shard of Anaris replaces this model's power sword and has the following profile:</li><br><li><b>Faolchu's Wing</b> INFANTRY model only. The bearer of Faolchu's Wing has a Move characteristic of 12\" and can FLY.</li><br><li><b>Firesabre</b> Model with a power sword only. The Shard of Anaris replaces this model's power sword and has the following profile</li><br><li><b>The Spirit Stone of Anath'lan</b> BIEL-TAN PSYKER models only. You can re-roll any failed Psychic tests for the bearer. However, should this result in a second failure, then this model is overwhelmed by waves of grief and cannot attempt to manifest any more psychic powers this phase.</li><br><li><b>Shiftshroud of Alanssair</b> ALAITOC INFANTRY model only. Your opponent must subtract 1 from their rolls for attacks that target the bearer in the Shooting phase. In addition, during deployment, you may set up this model in hiding instead of placing it on the battlefield. At the end of any of your Movement phases, this unit can emerge from the webway – set this unit up anywhere on the battlefield that is more than 9\" away from any enemy models.</li><br><li><b>The Burnished Blade of Elliarna</b> BIEL-TAN model with a power sword only. The Burnished Blade of Elliarna replaces the model's power sword.</li><br><li><b>Psytronome of Iyanden</b> IYANDEN PSYKER only. Once during the battle, at the start of a Fight phase, you can declare that this model will activate the Psytronome of Iyanden. If you do so, for the rest of that Fight phase the Attacks characteristics of all friendly IYANDEN WRAITH CONSTRUCT  units that are within 6\" of this model are doubled. However, at the end of the Fight phase, each IYANDEN WRAITH CONSTRUCT unit that was affected by the Psytronome suffers D3 mortal wounds.</li><br><li><b>The Novalance of Saim-Hann</b> SAIM-HANN model with a laser lance only.</li><br><li><b>Ghosthelm of Alishazier</b> ULTHWE PSYKER only. The wearer adds 1 to any Psychic test when attempting to manifest the Smite power.</li><br><li><b>Blazing Star of Vaul</b> Model with a shuriken pistol or twin shuriken catapult only. One shuriken weapon carried by the model is a Blazing Star of Vaul. Add 2 to the number of attacks that the weapon can make.</li><br><li><b>Shimmerplume of Achillrial</b> AUTARCH only. Subtract 1 from all hit rolls that target this model.</li></ul><b>Faction Keywords:</b> <Craftworld>, Aeldari, Asuryani, Warhost<br><b>Keywords:</b> Biker, Character, Fly, HQ, Psyker, Warlock Skyrunner"
      ],
      "text/plain": [
       "<IPython.core.display.HTML object>"
      ]
     },
     "metadata": {},
     "output_type": "display_data"
    },
    {
     "name": "stderr",
     "output_type": "stream",
     "text": [
      "WARNING:root:Unknown reference selectionEntry Is A Custom Character 43c4-8968-c599-ad5f\n",
      "WARNING:root:Unknown reference selectionEntryGroup Custom Character Selections 8774-e003-4a50-56c7\n",
      "WARNING:root:Unknown reference selectionEntry Stratagem: Field Commander d043-3847-e963-fb5d\n",
      "WARNING:root:Unknown reference selectionEntryGroup Revenant Discipline 7f93-a621-fdeb-0426\n",
      "WARNING:root:Unknown reference selectionEntryGroup Warlord Traits (Ynnari) 2fc3-8ba7-0594-29f6\n",
      "WARNING:root:Unknown reference selectionEntry Ynnari Warlord 75e4-e07c-3a6d-46c5\n",
      "WARNING:root:Could not get troop type []\n"
     ]
    },
    {
     "data": {
      "text/html": [
       "<h1>Spiritseer</h1><p>[unknown] [ PL:3, pts:55]</p>\n",
       "    <table style=\"width:75%\">\n",
       "        <tr>\n",
       "            <th style=\"width: 30.0%;\"><b>Name</b></th><th style=\"width: 10.0%;\"><b>Move</b></th><th style=\"width: 7.5%;\"><b>WS</b></th><th style=\"width: 7.5%;\"><b>BS</b></th><th style=\"width: 7.5%;\"><b>S</b></th><th style=\"width: 7.5%;\"><b>T</b></th><th style=\"width: 7.5%;\"><b>W</b></th><th style=\"width: 7.5%;\"><b>A</b></th><th style=\"width: 7.5%;\"><b>L</b></th><th style=\"width: 7.5%;\"><b>Sv</b></th>\n",
       "        </tr>\n",
       "        <tr><td>Spiritseer</td><td>7\"</td><td>2+</td><td>2+</td><td>3</td><td>3</td><td>4</td><td>2</td><td>8</td><td>6+</td></tr>\n",
       "    </table> Unit contains x of y, x of y with a,b,c<br>\n",
       "    <table style=\"width:75%\">\n",
       "        <tr>\n",
       "            <th style=\"width: 30.0%;\"><b>Weapon</b></th><th style=\"width: 5.0%;\"><b>Range</b></th><th style=\"width: 10.0%;\"><b>Type</b></th><th style=\"width: 5.0%;\"><b>S</b></th><th style=\"width: 5.0%;\"><b>AP</b></th><th style=\"width: 5.0%;\"><b>D</b></th><th style=\"width: 40.0%;\"><b>Abilities</b></th>\n",
       "        </tr>\n",
       "        <tr><td>Shuriken pistol</td><td>12\"</td><td>Pistol 1</td><td>4</td><td>0</td><td>1</td><td>Each time you make a wound roll of 6+ for this weapon, that hit is resolved with an AP of -3 instead of 0.</td></tr><tr><td>Warp-Spawn Bane</td><td>Melee</td><td>Melee</td><td>User</td><td>0</td><td>2</td><td>This weapon always wounds on a roll of 2+. In addition, ignore invulnerable saves for attacks made by this weapon that target enemy PSYKERS or DAEMONS.</td></tr><tr><td>Kurnous' Bow</td><td>12\"</td><td>Pistol 1</td><td>4</td><td>0</td><td>2</td><td>Each time you make a wound roll of 4+ for this weapon, that hit is resolved with an AP of -3 instead of 0.</td></tr><tr><td>The Novalance of Saim-Hann (shooting)</td><td>12\"</td><td>Assault 1</td><td>6</td><td>-4</td><td>2</td><td>-</td></tr><tr><td>Firesabre</td><td>Melee</td><td>Melee</td><td>+1</td><td>-4</td><td>1</td><td>Each time you make a wound roll of 6+ for this weapon, it inflicts a mortal wound on the target instead of the normal damage.</td></tr><tr><td>Witch Staff</td><td>Melee</td><td>Melee</td><td>User</td><td>0</td><td>2</td><td>This weapon always wounds on the roll of 2+.</td></tr><tr><td>Shard of Anaris</td><td>Melee</td><td>Melee</td><td>User</td><td>-3</td><td>D3</td><td>You can re-roll failed wound rolls for this weapon.</td></tr><tr><td>The Burnished Blade of Elliarna</td><td>Melee</td><td>Melee</td><td>User</td><td>-3</td><td>2</td><td>Add 1 to this weapon's Strength and Damage characteristics for any attack made for it that targets an ORK unit.</td></tr><tr><td>Howling Skysword of Galaleth</td><td>Melee</td><td>Melee</td><td>User</td><td>0</td><td>3</td><td>This weapon always wounds on a roll of 2+.</td></tr><tr><td>The Novalance of Saim-Hann (melee)</td><td>Melee</td><td>Melee</td><td>+2</td><td>-4</td><td>2</td><td>Attacks with this weapon in the Fight phase are made at Strength 8 if the bearer charged in the same turn. In addition, if the wound roll for an attack made with this weapon is 6+, add 2 to the damage inflicted by that attack.</td></tr>\n",
       "    </table> <b>Abilities:</b><ul><li><b>Spirit Mark</b> You can re-roll hit rolls of 1 for friendly <CRAFTWORLD> SPIRIT HOST units' attacks against enemy units that are within 6\" of this model.</li><br><li><b>Rune Armour</b> This model has a 4+ invulnerable save.</li><br><li><b>Kurnous' Bow</b> Model with a shuriken pistol only. Kurnous' Bow replaces this model's shuriken pistol and has the following profile.</li><br><li><b>The Phoenix Gem</b> The first time this model is slain, roll a D6 for each unit (friend or foe) within 3\" of this model. On a roll of 2 or more, that unit suffers D3 mortal wounds. If at least one mortal wound is inflicted as a result of this, then this model is not slain, but remains in play with a single wound remaining. If no mortal wounds are inflicted, this model is slain.</li><br><li><b>Shard of Anaris</b> Model with a power sword only. The Shard of Anaris replaces this model's power sword and has the following profile:</li><br><li><b>Faolchu's Wing</b> INFANTRY model only. The bearer of Faolchu's Wing has a Move characteristic of 12\" and can FLY.</li><br><li><b>Firesabre</b> Model with a power sword only. The Shard of Anaris replaces this model's power sword and has the following profile</li><br><li><b>The Spirit Stone of Anath'lan</b> BIEL-TAN PSYKER models only. You can re-roll any failed Psychic tests for the bearer. However, should this result in a second failure, then this model is overwhelmed by waves of grief and cannot attempt to manifest any more psychic powers this phase.</li><br><li><b>Shiftshroud of Alanssair</b> ALAITOC INFANTRY model only. Your opponent must subtract 1 from their rolls for attacks that target the bearer in the Shooting phase. In addition, during deployment, you may set up this model in hiding instead of placing it on the battlefield. At the end of any of your Movement phases, this unit can emerge from the webway – set this unit up anywhere on the battlefield that is more than 9\" away from any enemy models.</li><br><li><b>The Burnished Blade of Elliarna</b> BIEL-TAN model with a power sword only. The Burnished Blade of Elliarna replaces the model's power sword.</li><br><li><b>Psytronome of Iyanden</b> IYANDEN PSYKER only. Once during the battle, at the start of a Fight phase, you can declare that this model will activate the Psytronome of Iyanden. If you do so, for the rest of that Fight phase the Attacks characteristics of all friendly IYANDEN WRAITH CONSTRUCT  units that are within 6\" of this model are doubled. However, at the end of the Fight phase, each IYANDEN WRAITH CONSTRUCT unit that was affected by the Psytronome suffers D3 mortal wounds.</li><br><li><b>The Novalance of Saim-Hann</b> SAIM-HANN model with a laser lance only.</li><br><li><b>Ghosthelm of Alishazier</b> ULTHWE PSYKER only. The wearer adds 1 to any Psychic test when attempting to manifest the Smite power.</li><br><li><b>Blazing Star of Vaul</b> Model with a shuriken pistol or twin shuriken catapult only. One shuriken weapon carried by the model is a Blazing Star of Vaul. Add 2 to the number of attacks that the weapon can make.</li><br><li><b>Shimmerplume of Achillrial</b> AUTARCH only. Subtract 1 from all hit rolls that target this model.</li></ul><b>Faction Keywords:</b> <Craftworld>, Aeldari, Asuryani, Spirit Host<br><b>Keywords:</b> Character, HQ, Infantry, Psyker, Spiritseer"
      ],
      "text/plain": [
       "<IPython.core.display.HTML object>"
      ]
     },
     "metadata": {},
     "output_type": "display_data"
    },
    {
     "name": "stderr",
     "output_type": "stream",
     "text": [
      "WARNING:root:Unknown reference selectionEntry Unit has battle honors? 4763-757f-499f-d998\n",
      "WARNING:root:Unknown reference selectionEntryGroup Battle Honors 5518-d0f5-a880-d71c\n",
      "WARNING:root:Could not get troop type []\n"
     ]
    },
    {
     "data": {
      "text/html": [
       "<h1>Guardian Defenders</h1><p>[unknown] [ PL:5]</p>\n",
       "    <table style=\"width:75%\">\n",
       "        <tr>\n",
       "            <th style=\"width: 30.0%;\"><b>Name</b></th><th style=\"width: 10.0%;\"><b>Move</b></th><th style=\"width: 7.5%;\"><b>WS</b></th><th style=\"width: 7.5%;\"><b>BS</b></th><th style=\"width: 7.5%;\"><b>S</b></th><th style=\"width: 7.5%;\"><b>T</b></th><th style=\"width: 7.5%;\"><b>W</b></th><th style=\"width: 7.5%;\"><b>A</b></th><th style=\"width: 7.5%;\"><b>L</b></th><th style=\"width: 7.5%;\"><b>Sv</b></th>\n",
       "        </tr>\n",
       "        <tr><td>Guardian Defender</td><td>7\"</td><td>3+</td><td>3+</td><td>3</td><td>3</td><td>1</td><td>1</td><td>7</td><td>5+</td></tr><tr><td>Guardian Heavy Weapons Platform</td><td>7\"</td><td>6+</td><td>3+</td><td>3</td><td>3</td><td>2</td><td>1</td><td>7</td><td>3+</td></tr>\n",
       "    </table> Unit contains x of y, x of y with a,b,c<br>\n",
       "    <table style=\"width:75%\">\n",
       "        <tr>\n",
       "            <th style=\"width: 30.0%;\"><b>Weapon</b></th><th style=\"width: 5.0%;\"><b>Range</b></th><th style=\"width: 10.0%;\"><b>Type</b></th><th style=\"width: 5.0%;\"><b>S</b></th><th style=\"width: 5.0%;\"><b>AP</b></th><th style=\"width: 5.0%;\"><b>D</b></th><th style=\"width: 40.0%;\"><b>Abilities</b></th>\n",
       "        </tr>\n",
       "        <tr><td>Shuriken Catapult</td><td>12\"</td><td>Assault 2</td><td>4</td><td>0</td><td>1</td><td>Each time you make a wound roll of 6+ for this weapon, that hit is resolved with an AP of -3 instead of 0.</td></tr><tr><td>Plasma Grenade</td><td>6\"</td><td>Grenade D6</td><td>4</td><td>-1</td><td>1</td><td>-</td></tr>\n",
       "    </table> <b>Abilities:</b><ul><li><b>Crewed Weapon</b> A Heavy Weapon Platform can only fire its ranged weapon if a Guardian from this unit is within 3\" and 'fires' it instead of shooting any of their own weapons. A single Guardian cannot operate multiple Heavy Weapon Platforms in this way in a single turn.</li></ul><b>Faction Keywords:</b> <Craftworld>, Aeldari, Asuryani, Warhost<br><b>Keywords:</b> Infantry, Troops, Guardian"
      ],
      "text/plain": [
       "<IPython.core.display.HTML object>"
      ]
     },
     "metadata": {},
     "output_type": "display_data"
    },
    {
     "name": "stderr",
     "output_type": "stream",
     "text": [
      "WARNING:root:Unknown reference selectionEntry Unit has battle honors? 4763-757f-499f-d998\n",
      "WARNING:root:Unknown reference selectionEntryGroup Battle Honors 5518-d0f5-a880-d71c\n",
      "WARNING:root:Could not get troop type []\n"
     ]
    },
    {
     "data": {
      "text/html": [
       "<h1>Storm Guardians</h1><p>[unknown] [ PL:3]</p>\n",
       "    <table style=\"width:75%\">\n",
       "        <tr>\n",
       "            <th style=\"width: 30.0%;\"><b>Name</b></th><th style=\"width: 10.0%;\"><b>Move</b></th><th style=\"width: 7.5%;\"><b>WS</b></th><th style=\"width: 7.5%;\"><b>BS</b></th><th style=\"width: 7.5%;\"><b>S</b></th><th style=\"width: 7.5%;\"><b>T</b></th><th style=\"width: 7.5%;\"><b>W</b></th><th style=\"width: 7.5%;\"><b>A</b></th><th style=\"width: 7.5%;\"><b>L</b></th><th style=\"width: 7.5%;\"><b>Sv</b></th>\n",
       "        </tr>\n",
       "        <tr><td>Storm Guardian</td><td>7\"</td><td>3+</td><td>3+</td><td>3</td><td>3</td><td>1</td><td>1</td><td>7</td><td>5+</td></tr>\n",
       "    </table> Unit contains x of y, x of y with a,b,c<br>\n",
       "    <table style=\"width:75%\">\n",
       "        <tr>\n",
       "            <th style=\"width: 30.0%;\"><b>Weapon</b></th><th style=\"width: 5.0%;\"><b>Range</b></th><th style=\"width: 10.0%;\"><b>Type</b></th><th style=\"width: 5.0%;\"><b>S</b></th><th style=\"width: 5.0%;\"><b>AP</b></th><th style=\"width: 5.0%;\"><b>D</b></th><th style=\"width: 40.0%;\"><b>Abilities</b></th>\n",
       "        </tr>\n",
       "        \n",
       "    </table> <b>Abilities:</b><ul></ul><b>Faction Keywords:</b> <Craftworld>, Aeldari, Asuryani, Warhost<br><b>Keywords:</b> Infantry, Storm Guardians, Troops"
      ],
      "text/plain": [
       "<IPython.core.display.HTML object>"
      ]
     },
     "metadata": {},
     "output_type": "display_data"
    },
    {
     "name": "stderr",
     "output_type": "stream",
     "text": [
      "WARNING:root:Unknown reference selectionEntry Unit has battle honors? 4763-757f-499f-d998\n",
      "WARNING:root:Unknown reference selectionEntryGroup Battle Honors 5518-d0f5-a880-d71c\n",
      "WARNING:root:Could not get troop type []\n"
     ]
    },
    {
     "data": {
      "text/html": [
       "<h1>Windriders</h1><p>[unknown] [ PL:4]</p>\n",
       "    <table style=\"width:75%\">\n",
       "        <tr>\n",
       "            <th style=\"width: 30.0%;\"><b>Name</b></th><th style=\"width: 10.0%;\"><b>Move</b></th><th style=\"width: 7.5%;\"><b>WS</b></th><th style=\"width: 7.5%;\"><b>BS</b></th><th style=\"width: 7.5%;\"><b>S</b></th><th style=\"width: 7.5%;\"><b>T</b></th><th style=\"width: 7.5%;\"><b>W</b></th><th style=\"width: 7.5%;\"><b>A</b></th><th style=\"width: 7.5%;\"><b>L</b></th><th style=\"width: 7.5%;\"><b>Sv</b></th>\n",
       "        </tr>\n",
       "        \n",
       "    </table> Unit contains x of y, x of y with a,b,c<br>\n",
       "    <table style=\"width:75%\">\n",
       "        <tr>\n",
       "            <th style=\"width: 30.0%;\"><b>Weapon</b></th><th style=\"width: 5.0%;\"><b>Range</b></th><th style=\"width: 10.0%;\"><b>Type</b></th><th style=\"width: 5.0%;\"><b>S</b></th><th style=\"width: 5.0%;\"><b>AP</b></th><th style=\"width: 5.0%;\"><b>D</b></th><th style=\"width: 40.0%;\"><b>Abilities</b></th>\n",
       "        </tr>\n",
       "        \n",
       "    </table> <b>Abilities:</b><ul><li><b>Ride the Wind</b> When this model Advances, add 6\" to its Move characteristic for that Movement phase instead of rolling a dice.</li></ul><b>Faction Keywords:</b> <Craftworld>, Aeldari, Asuryani, Warhost<br><b>Keywords:</b> Biker, Fly, Fast Attack, Windriders"
      ],
      "text/plain": [
       "<IPython.core.display.HTML object>"
      ]
     },
     "metadata": {},
     "output_type": "display_data"
    },
    {
     "name": "stderr",
     "output_type": "stream",
     "text": [
      "WARNING:root:Unknown reference selectionEntry Unit has battle honors? 4763-757f-499f-d998\n",
      "WARNING:root:Unknown reference selectionEntryGroup Battle Honors 5518-d0f5-a880-d71c\n",
      "WARNING:root:Could not get troop type []\n"
     ]
    },
    {
     "data": {
      "text/html": [
       "<h1>Rangers</h1><p>[unknown] [ PL:3]</p>\n",
       "    <table style=\"width:75%\">\n",
       "        <tr>\n",
       "            <th style=\"width: 30.0%;\"><b>Name</b></th><th style=\"width: 10.0%;\"><b>Move</b></th><th style=\"width: 7.5%;\"><b>WS</b></th><th style=\"width: 7.5%;\"><b>BS</b></th><th style=\"width: 7.5%;\"><b>S</b></th><th style=\"width: 7.5%;\"><b>T</b></th><th style=\"width: 7.5%;\"><b>W</b></th><th style=\"width: 7.5%;\"><b>A</b></th><th style=\"width: 7.5%;\"><b>L</b></th><th style=\"width: 7.5%;\"><b>Sv</b></th>\n",
       "        </tr>\n",
       "        <tr><td>Ranger</td><td>7\"</td><td>3+</td><td>3+</td><td>3</td><td>3</td><td>1</td><td>1</td><td>7</td><td>5+</td></tr>\n",
       "    </table> Unit contains x of y, x of y with a,b,c<br>\n",
       "    <table style=\"width:75%\">\n",
       "        <tr>\n",
       "            <th style=\"width: 30.0%;\"><b>Weapon</b></th><th style=\"width: 5.0%;\"><b>Range</b></th><th style=\"width: 10.0%;\"><b>Type</b></th><th style=\"width: 5.0%;\"><b>S</b></th><th style=\"width: 5.0%;\"><b>AP</b></th><th style=\"width: 5.0%;\"><b>D</b></th><th style=\"width: 40.0%;\"><b>Abilities</b></th>\n",
       "        </tr>\n",
       "        <tr><td>Shuriken pistol</td><td>12\"</td><td>Pistol 1</td><td>4</td><td>0</td><td>1</td><td>Each time you make a wound roll of 6+ for this weapon, that hit is resolved with an AP of -3 instead of 0.</td></tr><tr><td>Ranger Long Rifle</td><td>36\"</td><td>Heavy 1</td><td>4</td><td>0</td><td>1</td><td>This weapon may target a CHARACTER even if it is not the closest enemy unit. Each time you roll a wound roll of 6+ for this weapon, it inflicts a mortal wound in addition to any other damage.</td></tr>\n",
       "    </table> <b>Abilities:</b><ul><li><b>Cameleoline Cloaks</b> Your opponent must subract 1 from their hit rolls for ranged weapons that target this unit. In addition, add 2 instead of 1 to saving throws made for models from this unit that are in cover.</li><br><li><b>Appear Unbidden</b> During deployment, you can set up this unit walking the winding paths of the webway instead of placing it on the battlefield. At the end of any of your Movement phases, this unit can emerge from the webway – set this unit up anywhere on the battlefield that is more than 9\" away from any enemy models.</li></ul><b>Faction Keywords:</b> <Craftworld>, Aeldari, Asuryani, Warhost<br><b>Keywords:</b> Infantry, Rangers, Troops"
      ],
      "text/plain": [
       "<IPython.core.display.HTML object>"
      ]
     },
     "metadata": {},
     "output_type": "display_data"
    },
    {
     "name": "stderr",
     "output_type": "stream",
     "text": [
      "WARNING:root:Unknown reference selectionEntry Unit has battle honors? 4763-757f-499f-d998\n",
      "WARNING:root:Unknown reference selectionEntryGroup Battle Honors 5518-d0f5-a880-d71c\n",
      "WARNING:root:Could not get troop type []\n"
     ]
    },
    {
     "data": {
      "text/html": [
       "<h1>Dire Avengers</h1><p>[unknown] [ PL:3]</p>\n",
       "    <table style=\"width:75%\">\n",
       "        <tr>\n",
       "            <th style=\"width: 30.0%;\"><b>Name</b></th><th style=\"width: 10.0%;\"><b>Move</b></th><th style=\"width: 7.5%;\"><b>WS</b></th><th style=\"width: 7.5%;\"><b>BS</b></th><th style=\"width: 7.5%;\"><b>S</b></th><th style=\"width: 7.5%;\"><b>T</b></th><th style=\"width: 7.5%;\"><b>W</b></th><th style=\"width: 7.5%;\"><b>A</b></th><th style=\"width: 7.5%;\"><b>L</b></th><th style=\"width: 7.5%;\"><b>Sv</b></th>\n",
       "        </tr>\n",
       "        \n",
       "    </table> Unit contains x of y, x of y with a,b,c<br>\n",
       "    <table style=\"width:75%\">\n",
       "        <tr>\n",
       "            <th style=\"width: 30.0%;\"><b>Weapon</b></th><th style=\"width: 5.0%;\"><b>Range</b></th><th style=\"width: 10.0%;\"><b>Type</b></th><th style=\"width: 5.0%;\"><b>S</b></th><th style=\"width: 5.0%;\"><b>AP</b></th><th style=\"width: 5.0%;\"><b>D</b></th><th style=\"width: 40.0%;\"><b>Abilities</b></th>\n",
       "        </tr>\n",
       "        \n",
       "    </table> <b>Abilities:</b><ul><li><b>Defence Tactics</b> When this unit fires Overwatch, it hits successfully on a roll of 5 or 6, instead of only 6.</li></ul><b>Faction Keywords:</b> Aeldari, Aspect Warrior<br><b>Keywords:</b> Dire Avengers, Infantry, Troops"
      ],
      "text/plain": [
       "<IPython.core.display.HTML object>"
      ]
     },
     "metadata": {},
     "output_type": "display_data"
    },
    {
     "name": "stderr",
     "output_type": "stream",
     "text": [
      "WARNING:root:Unknown reference selectionEntry Unit has battle honors? 4763-757f-499f-d998\n",
      "WARNING:root:Unknown reference selectionEntryGroup Battle Honors 5518-d0f5-a880-d71c\n",
      "WARNING:root:Could not get troop type []\n"
     ]
    },
    {
     "data": {
      "text/html": [
       "<h1>Howling Banshees</h1><p>[unknown] [ PL:3]</p>\n",
       "    <table style=\"width:75%\">\n",
       "        <tr>\n",
       "            <th style=\"width: 30.0%;\"><b>Name</b></th><th style=\"width: 10.0%;\"><b>Move</b></th><th style=\"width: 7.5%;\"><b>WS</b></th><th style=\"width: 7.5%;\"><b>BS</b></th><th style=\"width: 7.5%;\"><b>S</b></th><th style=\"width: 7.5%;\"><b>T</b></th><th style=\"width: 7.5%;\"><b>W</b></th><th style=\"width: 7.5%;\"><b>A</b></th><th style=\"width: 7.5%;\"><b>L</b></th><th style=\"width: 7.5%;\"><b>Sv</b></th>\n",
       "        </tr>\n",
       "        \n",
       "    </table> Unit contains x of y, x of y with a,b,c<br>\n",
       "    <table style=\"width:75%\">\n",
       "        <tr>\n",
       "            <th style=\"width: 30.0%;\"><b>Weapon</b></th><th style=\"width: 5.0%;\"><b>Range</b></th><th style=\"width: 10.0%;\"><b>Type</b></th><th style=\"width: 5.0%;\"><b>S</b></th><th style=\"width: 5.0%;\"><b>AP</b></th><th style=\"width: 5.0%;\"><b>D</b></th><th style=\"width: 40.0%;\"><b>Abilities</b></th>\n",
       "        </tr>\n",
       "        \n",
       "    </table> <b>Abilities:</b><ul><li><b>Banshee Mask</b> Enemy units cannot fire Overwatch at this unit.</li><br><li><b>Acrobatic</b> This unit can Advance and charge in the same turn. In a turn in which it Advanced, you can declare a charge move for this unit if there are any enemy units within 15\" of it, and you can add 3 to the resulting charge roll.</li></ul><b>Faction Keywords:</b> <Craftworld>, Aeldari, Aspect Warrior, Asuryani<br><b>Keywords:</b> Infantry, Howling Banshees, Elites"
      ],
      "text/plain": [
       "<IPython.core.display.HTML object>"
      ]
     },
     "metadata": {},
     "output_type": "display_data"
    },
    {
     "name": "stderr",
     "output_type": "stream",
     "text": [
      "WARNING:root:Unknown reference selectionEntry Unit has battle honors? 4763-757f-499f-d998\n",
      "WARNING:root:Unknown reference selectionEntryGroup Battle Honors 5518-d0f5-a880-d71c\n",
      "WARNING:root:Could not get troop type []\n"
     ]
    },
    {
     "data": {
      "text/html": [
       "<h1>Striking Scorpions</h1><p>[unknown] [ PL:4]</p>\n",
       "    <table style=\"width:75%\">\n",
       "        <tr>\n",
       "            <th style=\"width: 30.0%;\"><b>Name</b></th><th style=\"width: 10.0%;\"><b>Move</b></th><th style=\"width: 7.5%;\"><b>WS</b></th><th style=\"width: 7.5%;\"><b>BS</b></th><th style=\"width: 7.5%;\"><b>S</b></th><th style=\"width: 7.5%;\"><b>T</b></th><th style=\"width: 7.5%;\"><b>W</b></th><th style=\"width: 7.5%;\"><b>A</b></th><th style=\"width: 7.5%;\"><b>L</b></th><th style=\"width: 7.5%;\"><b>Sv</b></th>\n",
       "        </tr>\n",
       "        \n",
       "    </table> Unit contains x of y, x of y with a,b,c<br>\n",
       "    <table style=\"width:75%\">\n",
       "        <tr>\n",
       "            <th style=\"width: 30.0%;\"><b>Weapon</b></th><th style=\"width: 5.0%;\"><b>Range</b></th><th style=\"width: 10.0%;\"><b>Type</b></th><th style=\"width: 5.0%;\"><b>S</b></th><th style=\"width: 5.0%;\"><b>AP</b></th><th style=\"width: 5.0%;\"><b>D</b></th><th style=\"width: 40.0%;\"><b>Abilities</b></th>\n",
       "        </tr>\n",
       "        \n",
       "    </table> <b>Abilities:</b><ul><li><b>Shadow Strike</b> Add 1 to hit rolls for attacks for this unit that target a unit in cover.</li><br><li><b>Masters of Stealth</b> During deployment, you can set up this unit in the shadows instead of placing it on the battlefield. At the end of any of your Movement phases this unit can stalk from their hiding place - set it up anywhere on the battlefield that is more than 9\" away from enemy models.</li><br><li><b>Mandiblasters</b> At the beginning of each Fight phase, you can pick a single enemy INFANTRY unit within 1\" of this unit. Roll a D6 for each model in this unit; for each roll of a 6, the enemy unit suffers a mortal wound.</li></ul><b>Faction Keywords:</b> <Craftworld>, Aeldari, Aspect Warrior, Asuryani<br><b>Keywords:</b> Elites, Infantry, Striking Scorpions"
      ],
      "text/plain": [
       "<IPython.core.display.HTML object>"
      ]
     },
     "metadata": {},
     "output_type": "display_data"
    },
    {
     "name": "stderr",
     "output_type": "stream",
     "text": [
      "WARNING:root:Unknown reference selectionEntry Unit has battle honors? 4763-757f-499f-d998\n",
      "WARNING:root:Unknown reference selectionEntryGroup Battle Honors 5518-d0f5-a880-d71c\n",
      "WARNING:root:Could not get troop type []\n"
     ]
    },
    {
     "data": {
      "text/html": [
       "<h1>Fire Dragons</h1><p>[unknown] [ PL:6]</p>\n",
       "    <table style=\"width:75%\">\n",
       "        <tr>\n",
       "            <th style=\"width: 30.0%;\"><b>Name</b></th><th style=\"width: 10.0%;\"><b>Move</b></th><th style=\"width: 7.5%;\"><b>WS</b></th><th style=\"width: 7.5%;\"><b>BS</b></th><th style=\"width: 7.5%;\"><b>S</b></th><th style=\"width: 7.5%;\"><b>T</b></th><th style=\"width: 7.5%;\"><b>W</b></th><th style=\"width: 7.5%;\"><b>A</b></th><th style=\"width: 7.5%;\"><b>L</b></th><th style=\"width: 7.5%;\"><b>Sv</b></th>\n",
       "        </tr>\n",
       "        \n",
       "    </table> Unit contains x of y, x of y with a,b,c<br>\n",
       "    <table style=\"width:75%\">\n",
       "        <tr>\n",
       "            <th style=\"width: 30.0%;\"><b>Weapon</b></th><th style=\"width: 5.0%;\"><b>Range</b></th><th style=\"width: 10.0%;\"><b>Type</b></th><th style=\"width: 5.0%;\"><b>S</b></th><th style=\"width: 5.0%;\"><b>AP</b></th><th style=\"width: 5.0%;\"><b>D</b></th><th style=\"width: 40.0%;\"><b>Abilities</b></th>\n",
       "        </tr>\n",
       "        \n",
       "    </table> <b>Abilities:</b><ul><li><b>Assured Destruction</b> You can re-roll wound rolls of 1 in the Shooting phase for attacks this unit makes that target a MONSTER or VEHICLE.</li></ul><b>Faction Keywords:</b> Aeldari, Aspect Warrior<br><b>Keywords:</b> Infantry, Elites, Fire Dragons"
      ],
      "text/plain": [
       "<IPython.core.display.HTML object>"
      ]
     },
     "metadata": {},
     "output_type": "display_data"
    },
    {
     "name": "stderr",
     "output_type": "stream",
     "text": [
      "WARNING:root:Unknown reference selectionEntry Unit has battle honors? 4763-757f-499f-d998\n",
      "WARNING:root:Unknown reference selectionEntryGroup Battle Honors 5518-d0f5-a880-d71c\n",
      "WARNING:root:Could not get troop type []\n"
     ]
    },
    {
     "data": {
      "text/html": [
       "<h1>Wraithguard</h1><p>[unknown] [ PL:11]</p>\n",
       "    <table style=\"width:75%\">\n",
       "        <tr>\n",
       "            <th style=\"width: 30.0%;\"><b>Name</b></th><th style=\"width: 10.0%;\"><b>Move</b></th><th style=\"width: 7.5%;\"><b>WS</b></th><th style=\"width: 7.5%;\"><b>BS</b></th><th style=\"width: 7.5%;\"><b>S</b></th><th style=\"width: 7.5%;\"><b>T</b></th><th style=\"width: 7.5%;\"><b>W</b></th><th style=\"width: 7.5%;\"><b>A</b></th><th style=\"width: 7.5%;\"><b>L</b></th><th style=\"width: 7.5%;\"><b>Sv</b></th>\n",
       "        </tr>\n",
       "        <tr><td>Wraithguard</td><td>5\"</td><td>3+</td><td>3+</td><td>5</td><td>6</td><td>3</td><td>1</td><td>9</td><td>3+</td></tr>\n",
       "    </table> Unit contains x of y, x of y with a,b,c<br>\n",
       "    <table style=\"width:75%\">\n",
       "        <tr>\n",
       "            <th style=\"width: 30.0%;\"><b>Weapon</b></th><th style=\"width: 5.0%;\"><b>Range</b></th><th style=\"width: 10.0%;\"><b>Type</b></th><th style=\"width: 5.0%;\"><b>S</b></th><th style=\"width: 5.0%;\"><b>AP</b></th><th style=\"width: 5.0%;\"><b>D</b></th><th style=\"width: 40.0%;\"><b>Abilities</b></th>\n",
       "        </tr>\n",
       "        <tr><td>Wraithguard Fists</td><td>Melee</td><td>Melee</td><td>User</td><td>-1</td><td>D3</td><td>-</td></tr>\n",
       "    </table> <b>Abilities:</b><ul><li><b>Implacable</b> This unit can Fall Back and still shoot in a turn that it does so.</li></ul><b>Faction Keywords:</b> <Craftworld>, Aeldari, Asuryani, Spirit Host<br><b>Keywords:</b> Elites, Infantry, Wraithguard, Spirit Host"
      ],
      "text/plain": [
       "<IPython.core.display.HTML object>"
      ]
     },
     "metadata": {},
     "output_type": "display_data"
    },
    {
     "name": "stderr",
     "output_type": "stream",
     "text": [
      "WARNING:root:Unknown reference selectionEntry Unit has battle honors? 4763-757f-499f-d998\n",
      "WARNING:root:Unknown reference selectionEntryGroup Battle Honors 5518-d0f5-a880-d71c\n",
      "WARNING:root:Could not get troop type []\n"
     ]
    },
    {
     "data": {
      "text/html": [
       "<h1>Wraithblades</h1><p>[unknown] [ PL:10]</p>\n",
       "    <table style=\"width:75%\">\n",
       "        <tr>\n",
       "            <th style=\"width: 30.0%;\"><b>Name</b></th><th style=\"width: 10.0%;\"><b>Move</b></th><th style=\"width: 7.5%;\"><b>WS</b></th><th style=\"width: 7.5%;\"><b>BS</b></th><th style=\"width: 7.5%;\"><b>S</b></th><th style=\"width: 7.5%;\"><b>T</b></th><th style=\"width: 7.5%;\"><b>W</b></th><th style=\"width: 7.5%;\"><b>A</b></th><th style=\"width: 7.5%;\"><b>L</b></th><th style=\"width: 7.5%;\"><b>Sv</b></th>\n",
       "        </tr>\n",
       "        <tr><td>Wraithblade</td><td>5\"</td><td>3+</td><td>3+</td><td>5</td><td>6</td><td>3</td><td>2</td><td>9</td><td>3+</td></tr>\n",
       "    </table> Unit contains x of y, x of y with a,b,c<br>\n",
       "    <table style=\"width:75%\">\n",
       "        <tr>\n",
       "            <th style=\"width: 30.0%;\"><b>Weapon</b></th><th style=\"width: 5.0%;\"><b>Range</b></th><th style=\"width: 10.0%;\"><b>Type</b></th><th style=\"width: 5.0%;\"><b>S</b></th><th style=\"width: 5.0%;\"><b>AP</b></th><th style=\"width: 5.0%;\"><b>D</b></th><th style=\"width: 40.0%;\"><b>Abilities</b></th>\n",
       "        </tr>\n",
       "        \n",
       "    </table> <b>Abilities:</b><ul><li><b>Fires of Wrath</b> Add 1 to the Attacks characteristic of models in this unit in a turn in which it charges.</li></ul><b>Faction Keywords:</b> <Craftworld>, Aeldari, Asuryani, Spirit Host, <Craftworld>, Aeldari, Asuryani, Spirit Host<br><b>Keywords:</b> Elites, Infantry, Wraithblades, Elites, Infantry, Wraith Construct"
      ],
      "text/plain": [
       "<IPython.core.display.HTML object>"
      ]
     },
     "metadata": {},
     "output_type": "display_data"
    },
    {
     "name": "stderr",
     "output_type": "stream",
     "text": [
      "WARNING:root:Unknown reference selectionEntry Unit has battle honors? 4763-757f-499f-d998\n",
      "WARNING:root:Unknown reference selectionEntryGroup Battle Honors 5518-d0f5-a880-d71c\n",
      "WARNING:root:Could not get troop type []\n"
     ]
    },
    {
     "data": {
      "text/html": [
       "<h1>Wave Serpent</h1><p>[unknown] [ PL:9, pts:120]</p>\n",
       "    <table style=\"width:75%\">\n",
       "        <tr>\n",
       "            <th style=\"width: 30.0%;\"><b>Name</b></th><th style=\"width: 10.0%;\"><b>Move</b></th><th style=\"width: 7.5%;\"><b>WS</b></th><th style=\"width: 7.5%;\"><b>BS</b></th><th style=\"width: 7.5%;\"><b>S</b></th><th style=\"width: 7.5%;\"><b>T</b></th><th style=\"width: 7.5%;\"><b>W</b></th><th style=\"width: 7.5%;\"><b>A</b></th><th style=\"width: 7.5%;\"><b>L</b></th><th style=\"width: 7.5%;\"><b>Sv</b></th>\n",
       "        </tr>\n",
       "        <tr><td>Wave Serpent</td><td>*</td><td>6+</td><td>*</td><td>6</td><td>7</td><td>13</td><td>*</td><td>8</td><td>3+</td></tr>\n",
       "    </table> Unit contains x of y, x of y with a,b,c<br>\n",
       "    <table style=\"width:75%\">\n",
       "        <tr>\n",
       "            <th style=\"width: 30.0%;\"><b>Weapon</b></th><th style=\"width: 5.0%;\"><b>Range</b></th><th style=\"width: 10.0%;\"><b>Type</b></th><th style=\"width: 5.0%;\"><b>S</b></th><th style=\"width: 5.0%;\"><b>AP</b></th><th style=\"width: 5.0%;\"><b>D</b></th><th style=\"width: 40.0%;\"><b>Abilities</b></th>\n",
       "        </tr>\n",
       "        \n",
       "    </table> <b>Abilities:</b><ul><li><b>Serpent Shield</b> Any damage suffered by a Wave Serpent from a ranged weapon is reduced by 1, to a minimum of 1. In addition, once per battle, in your Shooting phase, a Wave Serpent can discharge its serpent shield in its Shooting phase by rolling a D6. On a 2+ the nearest visible enemy unit within 24\" suffers D3 mortal wounds. The Wave Serpent then gains no benefit from this ability for the remainder of the battle.</li><br><li><b>Explodes (Hover Tank)</b> If this model is reduced to 0 wounds, roll a D6 before removing it from the battlefield. On a 6 it explodes, and each unit within 6\" suffers D3 mortal wounds.</li><br><li><b>Hover Tank</b> Distance and ranges are always measured to and from this model's hull, even though it has a base.</li></ul><b>Faction Keywords:</b> <Craftworld>, Aeldari, Asuryani, Warhost, <Craftworld>, Aeldari, Asuryani, Warhost<br><b>Keywords:</b> Dedicated Transport, Fly, Transport, Vehicle, Wave Serpent, Fly, Transport, Vehicle"
      ],
      "text/plain": [
       "<IPython.core.display.HTML object>"
      ]
     },
     "metadata": {},
     "output_type": "display_data"
    },
    {
     "name": "stderr",
     "output_type": "stream",
     "text": [
      "WARNING:root:Unknown reference selectionEntry Unit has battle honors? 4763-757f-499f-d998\n",
      "WARNING:root:Unknown reference selectionEntryGroup Battle Honors 5518-d0f5-a880-d71c\n",
      "WARNING:root:Could not get troop type []\n"
     ]
    },
    {
     "data": {
      "text/html": [
       "<h1>Swooping Hawks</h1><p>[unknown] [ PL:3]</p>\n",
       "    <table style=\"width:75%\">\n",
       "        <tr>\n",
       "            <th style=\"width: 30.0%;\"><b>Name</b></th><th style=\"width: 10.0%;\"><b>Move</b></th><th style=\"width: 7.5%;\"><b>WS</b></th><th style=\"width: 7.5%;\"><b>BS</b></th><th style=\"width: 7.5%;\"><b>S</b></th><th style=\"width: 7.5%;\"><b>T</b></th><th style=\"width: 7.5%;\"><b>W</b></th><th style=\"width: 7.5%;\"><b>A</b></th><th style=\"width: 7.5%;\"><b>L</b></th><th style=\"width: 7.5%;\"><b>Sv</b></th>\n",
       "        </tr>\n",
       "        \n",
       "    </table> Unit contains x of y, x of y with a,b,c<br>\n",
       "    <table style=\"width:75%\">\n",
       "        <tr>\n",
       "            <th style=\"width: 30.0%;\"><b>Weapon</b></th><th style=\"width: 5.0%;\"><b>Range</b></th><th style=\"width: 10.0%;\"><b>Type</b></th><th style=\"width: 5.0%;\"><b>S</b></th><th style=\"width: 5.0%;\"><b>AP</b></th><th style=\"width: 5.0%;\"><b>D</b></th><th style=\"width: 40.0%;\"><b>Abilities</b></th>\n",
       "        </tr>\n",
       "        \n",
       "    </table> <b>Abilities:</b><ul><li><b>Skyleap</b> At the beginning of your Movement phase, if this unit is not within 1\" of an enemy model they can leap back into the skies. Remove this unit from the battlefield. They can return to the battlefield as described in the Children of Baharroth ability. This unit may not both Skyleap and descend in the same turn. If the battle ends while this unit is in the skies, they are considered to be slain.</li><br><li><b>Children of Baharroth</b> During deployment, you can set up a Swooping Hawks unit in the skies instead of on the battlefield. At the end of any of your Movement phases the unit can descend - set them up anywhere on the battlefield that is more than 9\" away from any enemy models.</li><br><li><b>Swooping Hawk Grenade Pack</b> Swooping Hawks can fire a spread of grenades when they are set up on the battlefield using the Children of Baharroth ability and as they fly over enemy units in their Movement phase. To do so after the unit has been set up using the Children of Baharroth ability, pick an enemy unit within 12\" of them. To do so after the unit has moved, pick one enemy unit that they flew over. Then, in either case, roll one dice for each model in the enemy unit (up to a maximum of one dice for each model in the Swooping Hawks unit). Each time you roll a 6 the target unit suffers a mortal wound.</li></ul><b>Faction Keywords:</b> <Craftworld>, Aeldari, Aspect Warrior, Asuryani<br><b>Keywords:</b> Fast Attack, Fly, Infantry, Jump Pack, Swooping Hawks"
      ],
      "text/plain": [
       "<IPython.core.display.HTML object>"
      ]
     },
     "metadata": {},
     "output_type": "display_data"
    },
    {
     "name": "stderr",
     "output_type": "stream",
     "text": [
      "WARNING:root:Unknown reference selectionEntry Unit has battle honors? 4763-757f-499f-d998\n",
      "WARNING:root:Unknown reference selectionEntryGroup Battle Honors 5518-d0f5-a880-d71c\n",
      "WARNING:root:Could not get troop type []\n"
     ]
    },
    {
     "data": {
      "text/html": [
       "<h1>Warp Spiders</h1><p>[unknown] [ PL:5]</p>\n",
       "    <table style=\"width:75%\">\n",
       "        <tr>\n",
       "            <th style=\"width: 30.0%;\"><b>Name</b></th><th style=\"width: 10.0%;\"><b>Move</b></th><th style=\"width: 7.5%;\"><b>WS</b></th><th style=\"width: 7.5%;\"><b>BS</b></th><th style=\"width: 7.5%;\"><b>S</b></th><th style=\"width: 7.5%;\"><b>T</b></th><th style=\"width: 7.5%;\"><b>W</b></th><th style=\"width: 7.5%;\"><b>A</b></th><th style=\"width: 7.5%;\"><b>L</b></th><th style=\"width: 7.5%;\"><b>Sv</b></th>\n",
       "        </tr>\n",
       "        \n",
       "    </table> Unit contains x of y, x of y with a,b,c<br>\n",
       "    <table style=\"width:75%\">\n",
       "        <tr>\n",
       "            <th style=\"width: 30.0%;\"><b>Weapon</b></th><th style=\"width: 5.0%;\"><b>Range</b></th><th style=\"width: 10.0%;\"><b>Type</b></th><th style=\"width: 5.0%;\"><b>S</b></th><th style=\"width: 5.0%;\"><b>AP</b></th><th style=\"width: 5.0%;\"><b>D</b></th><th style=\"width: 40.0%;\"><b>Abilities</b></th>\n",
       "        </tr>\n",
       "        \n",
       "    </table> <b>Abilities:</b><ul><li><b>Warp Jump Generator</b> When this unit moves in the Movement phase, they can use their warp jump generators. If they they do, they cannot Advance or Charge this turn, but their Move characteristic is increased by 4D6\" and they can FLY until the end of the phase. A unit that uses warp jump generators to Fall Back can still shoot in its Shooting phase.</li><br><li><b>Flicker Jump</b> When this unit is targeted by a ranged weapon, you can declare that they will make a flickerjump - your opponent must subtract 1 from hit rolls for attacks that target this unit until the end of the phase. You must then immediately roll 2D6; on a 2, one model from the Warp Spiders unit is slain.</li><br><li><b>Warp Strike</b> During deployment, you can set up this unit in preparation to launch a warp strike instead of placing it on the battlefield. At the end of any of your Movement phases this unit can use their warp jump generators to enter the battlefield - set it up anywhere on the battlefield that is more than 9\" away from any enemy models. You must then immediately roll 2D6; on a 2, one model from the unit is slain.</li></ul><b>Faction Keywords:</b> <Craftworld>, Aeldari, Aspect Warrior, Asuryani<br><b>Keywords:</b> Fast Attack, Infantry, Jump Pack, Warp Spiders"
      ],
      "text/plain": [
       "<IPython.core.display.HTML object>"
      ]
     },
     "metadata": {},
     "output_type": "display_data"
    },
    {
     "name": "stderr",
     "output_type": "stream",
     "text": [
      "WARNING:root:Unknown reference selectionEntry Unit has battle honors? 4763-757f-499f-d998\n",
      "WARNING:root:Unknown reference selectionEntryGroup Battle Honors 5518-d0f5-a880-d71c\n",
      "WARNING:root:Could not get troop type []\n"
     ]
    },
    {
     "data": {
      "text/html": [
       "<h1>Shining Spears</h1><p>[unknown] [ PL:5]</p>\n",
       "    <table style=\"width:75%\">\n",
       "        <tr>\n",
       "            <th style=\"width: 30.0%;\"><b>Name</b></th><th style=\"width: 10.0%;\"><b>Move</b></th><th style=\"width: 7.5%;\"><b>WS</b></th><th style=\"width: 7.5%;\"><b>BS</b></th><th style=\"width: 7.5%;\"><b>S</b></th><th style=\"width: 7.5%;\"><b>T</b></th><th style=\"width: 7.5%;\"><b>W</b></th><th style=\"width: 7.5%;\"><b>A</b></th><th style=\"width: 7.5%;\"><b>L</b></th><th style=\"width: 7.5%;\"><b>Sv</b></th>\n",
       "        </tr>\n",
       "        \n",
       "    </table> Unit contains x of y, x of y with a,b,c<br>\n",
       "    <table style=\"width:75%\">\n",
       "        <tr>\n",
       "            <th style=\"width: 30.0%;\"><b>Weapon</b></th><th style=\"width: 5.0%;\"><b>Range</b></th><th style=\"width: 10.0%;\"><b>Type</b></th><th style=\"width: 5.0%;\"><b>S</b></th><th style=\"width: 5.0%;\"><b>AP</b></th><th style=\"width: 5.0%;\"><b>D</b></th><th style=\"width: 40.0%;\"><b>Abilities</b></th>\n",
       "        </tr>\n",
       "        \n",
       "    </table> <b>Abilities:</b><ul><li><b>Aerobatic Grace</b> Models in this unit have a 4+ invulnerable save against ranged weapons.</li><br><li><b>Ride the Wind</b> When this model Advances, add 6\" to its Move characteristic for that Movement phase instead of rolling a dice.</li></ul><b>Faction Keywords:</b> <Craftworld>, Aeldari, Aspect Warrior, Asuryani<br><b>Keywords:</b> Biker, Fast Attack, Fly, Shining Spears"
      ],
      "text/plain": [
       "<IPython.core.display.HTML object>"
      ]
     },
     "metadata": {},
     "output_type": "display_data"
    },
    {
     "name": "stderr",
     "output_type": "stream",
     "text": [
      "WARNING:root:Unknown reference selectionEntry Unit has battle honors? 4763-757f-499f-d998\n",
      "WARNING:root:Unknown reference selectionEntryGroup Battle Honors 5518-d0f5-a880-d71c\n",
      "WARNING:root:Could not get troop type []\n"
     ]
    },
    {
     "data": {
      "text/html": [
       "<h1>Crimson Hunter</h1><p>[unknown] [ PL:8, pts:128]</p>\n",
       "    <table style=\"width:75%\">\n",
       "        <tr>\n",
       "            <th style=\"width: 30.0%;\"><b>Name</b></th><th style=\"width: 10.0%;\"><b>Move</b></th><th style=\"width: 7.5%;\"><b>WS</b></th><th style=\"width: 7.5%;\"><b>BS</b></th><th style=\"width: 7.5%;\"><b>S</b></th><th style=\"width: 7.5%;\"><b>T</b></th><th style=\"width: 7.5%;\"><b>W</b></th><th style=\"width: 7.5%;\"><b>A</b></th><th style=\"width: 7.5%;\"><b>L</b></th><th style=\"width: 7.5%;\"><b>Sv</b></th>\n",
       "        </tr>\n",
       "        <tr><td>Crimson Hunter</td><td>*</td><td>6+</td><td>*</td><td>6</td><td>6</td><td>12</td><td>3</td><td>8</td><td>3+</td></tr>\n",
       "    </table> Unit contains x of y, x of y with a,b,c<br>\n",
       "    <table style=\"width:75%\">\n",
       "        <tr>\n",
       "            <th style=\"width: 30.0%;\"><b>Weapon</b></th><th style=\"width: 5.0%;\"><b>Range</b></th><th style=\"width: 10.0%;\"><b>Type</b></th><th style=\"width: 5.0%;\"><b>S</b></th><th style=\"width: 5.0%;\"><b>AP</b></th><th style=\"width: 5.0%;\"><b>D</b></th><th style=\"width: 40.0%;\"><b>Abilities</b></th>\n",
       "        </tr>\n",
       "        <tr><td>Bright Lance</td><td>36\"</td><td>Heavy 1</td><td>8</td><td>-4</td><td>D6</td><td>-</td></tr><tr><td>Pulse Laser</td><td>48\"</td><td>Heavy 2</td><td>8</td><td>-3</td><td>3</td><td>-</td></tr>\n",
       "    </table> <b>Abilities:</b><ul><li><b>Airborne</b> This model cannot charge, can only be charged by units that can FLY, and can only attack or be attacked in the Fight phase by units that can FLY.</li><br><li><b>Wings of Khaine</b> When this model Advances, add 20\" to its Move characteristic for that Movement phase instead of rolling a dice. Each time this model moves, first pivot it on the spot up to 90 degrees (this does not contribute to how far the model moves), and then move the model straight forwards. Once its move has finished, you can pivot it a further 90 degrees as before.</li><br><li><b>Hard To Hit</b> Your opponent must subtract 1 from hit rolls for attacks that target this model in the Shooting phase.</li><br><li><b>Skyhunters</b> You can re-roll all failed wound rolls for this model's ranged weapons that target units that can FLY.</li><br><li><b>Crash and Burn</b> If this model is reduced to 0 wounds, roll a D6 before removing it from the battlefield. On a 6 it crashes in a fiery explosion and each unit within 6\" suffers D3 mortal wounds.</li></ul><b>Faction Keywords:</b> Aeldari, Aspect Warrior<br><b>Keywords:</b> Crimson Hunter, Fly, Flyer, Vehicle, Aircraft"
      ],
      "text/plain": [
       "<IPython.core.display.HTML object>"
      ]
     },
     "metadata": {},
     "output_type": "display_data"
    },
    {
     "name": "stderr",
     "output_type": "stream",
     "text": [
      "WARNING:root:Unknown reference selectionEntry Unit has battle honors? 4763-757f-499f-d998\n",
      "WARNING:root:Unknown reference selectionEntryGroup Battle Honors 5518-d0f5-a880-d71c\n",
      "WARNING:root:Could not get troop type []\n"
     ]
    },
    {
     "data": {
      "text/html": [
       "<h1>Crimson Hunter Exarch</h1><p>[unknown] [ PL:9, pts:150]</p>\n",
       "    <table style=\"width:75%\">\n",
       "        <tr>\n",
       "            <th style=\"width: 30.0%;\"><b>Name</b></th><th style=\"width: 10.0%;\"><b>Move</b></th><th style=\"width: 7.5%;\"><b>WS</b></th><th style=\"width: 7.5%;\"><b>BS</b></th><th style=\"width: 7.5%;\"><b>S</b></th><th style=\"width: 7.5%;\"><b>T</b></th><th style=\"width: 7.5%;\"><b>W</b></th><th style=\"width: 7.5%;\"><b>A</b></th><th style=\"width: 7.5%;\"><b>L</b></th><th style=\"width: 7.5%;\"><b>Sv</b></th>\n",
       "        </tr>\n",
       "        <tr><td>Crimson Hunter Exarch</td><td>*</td><td>6+</td><td>*</td><td>6</td><td>6</td><td>12</td><td>3</td><td>8</td><td>3+</td></tr>\n",
       "    </table> Unit contains x of y, x of y with a,b,c<br>\n",
       "    <table style=\"width:75%\">\n",
       "        <tr>\n",
       "            <th style=\"width: 30.0%;\"><b>Weapon</b></th><th style=\"width: 5.0%;\"><b>Range</b></th><th style=\"width: 10.0%;\"><b>Type</b></th><th style=\"width: 5.0%;\"><b>S</b></th><th style=\"width: 5.0%;\"><b>AP</b></th><th style=\"width: 5.0%;\"><b>D</b></th><th style=\"width: 40.0%;\"><b>Abilities</b></th>\n",
       "        </tr>\n",
       "        <tr><td>Pulse Laser</td><td>48\"</td><td>Heavy 2</td><td>8</td><td>-3</td><td>3</td><td>-</td></tr>\n",
       "    </table> <b>Abilities:</b><ul><li><b>Marksman's Eye</b> You can re-roll hit rolls of 1 for this model's ranged weapons.</li><br><li><b>Airborne</b> This model cannot charge, can only be charged by units that can FLY, and can only attack or be attacked in the Fight phase by units that can FLY.</li><br><li><b>Crash and Burn</b> If this model is reduced to 0 wounds, roll a D6 before removing it from the battlefield. On a 6 it crashes in a fiery explosion and each unit within 6\" suffers D3 mortal wounds.</li><br><li><b>Hard To Hit</b> Your opponent must subtract 1 from hit rolls for attacks that target this model in the Shooting phase.</li><br><li><b>Skyhunters</b> You can re-roll all failed wound rolls for this model's ranged weapons that target units that can FLY.</li><br><li><b>Wings of Khaine</b> When this model Advances, add 20\" to its Move characteristic for that Movement phase instead of rolling a dice. Each time this model moves, first pivot it on the spot up to 90 degrees (this does not contribute to how far the model moves), and then move the model straight forwards. Once its move has finished, you can pivot it a further 90 degrees as before.</li></ul><b>Faction Keywords:</b> Aeldari, Aspect Warrior<br><b>Keywords:</b> Crimson Hunter, Fly, Flyer, Vehicle, Aircraft"
      ],
      "text/plain": [
       "<IPython.core.display.HTML object>"
      ]
     },
     "metadata": {},
     "output_type": "display_data"
    },
    {
     "name": "stderr",
     "output_type": "stream",
     "text": [
      "WARNING:root:Unknown reference selectionEntry Unit has battle honors? 4763-757f-499f-d998\n",
      "WARNING:root:Unknown reference selectionEntryGroup Battle Honors 5518-d0f5-a880-d71c\n",
      "WARNING:root:Could not get troop type []\n"
     ]
    },
    {
     "data": {
      "text/html": [
       "<h1>Vypers</h1><p>[unknown] []</p>\n",
       "    <table style=\"width:75%\">\n",
       "        <tr>\n",
       "            <th style=\"width: 30.0%;\"><b>Name</b></th><th style=\"width: 10.0%;\"><b>Move</b></th><th style=\"width: 7.5%;\"><b>WS</b></th><th style=\"width: 7.5%;\"><b>BS</b></th><th style=\"width: 7.5%;\"><b>S</b></th><th style=\"width: 7.5%;\"><b>T</b></th><th style=\"width: 7.5%;\"><b>W</b></th><th style=\"width: 7.5%;\"><b>A</b></th><th style=\"width: 7.5%;\"><b>L</b></th><th style=\"width: 7.5%;\"><b>Sv</b></th>\n",
       "        </tr>\n",
       "        <tr><td>Vyper</td><td>16\"</td><td>6+</td><td>3+</td><td>4</td><td>5</td><td>6</td><td>1</td><td>8</td><td>3+</td></tr>\n",
       "    </table> Unit contains x of y, x of y with a,b,c<br>\n",
       "    <table style=\"width:75%\">\n",
       "        <tr>\n",
       "            <th style=\"width: 30.0%;\"><b>Weapon</b></th><th style=\"width: 5.0%;\"><b>Range</b></th><th style=\"width: 10.0%;\"><b>Type</b></th><th style=\"width: 5.0%;\"><b>S</b></th><th style=\"width: 5.0%;\"><b>AP</b></th><th style=\"width: 5.0%;\"><b>D</b></th><th style=\"width: 40.0%;\"><b>Abilities</b></th>\n",
       "        </tr>\n",
       "        \n",
       "    </table> <b>Abilities:</b><ul><li><b>Blade Wind</b> This unit has a Move characteristic of 20\" instead of 16\" whilst it contains 3 models.</li><br><li><b>Explodes (Vyper)</b> If this model is reduced to 0 wounds, roll a D6 before removing it from the battlefield. On a 6 it explodes, and each unit within 3\" suffers a mortal wound.</li></ul><b>Faction Keywords:</b> <Craftworld>, Aeldari, Asuryani, Warhost<br><b>Keywords:</b> Fast Attack, Fly, Vehicle, Vypers, Biker"
      ],
      "text/plain": [
       "<IPython.core.display.HTML object>"
      ]
     },
     "metadata": {},
     "output_type": "display_data"
    },
    {
     "name": "stderr",
     "output_type": "stream",
     "text": [
      "WARNING:root:Unknown reference selectionEntry Unit has battle honors? 4763-757f-499f-d998\n",
      "WARNING:root:Unknown reference selectionEntryGroup Battle Honors 5518-d0f5-a880-d71c\n",
      "WARNING:root:Unknown reference selectionEntryGroup Revenant Discipline 7f93-a621-fdeb-0426\n",
      "WARNING:root:Could not get troop type []\n"
     ]
    },
    {
     "data": {
      "text/html": [
       "<h1>Hemlock Wraithfighter</h1><p>[unknown] [ PL:10, pts:200]</p>\n",
       "    <table style=\"width:75%\">\n",
       "        <tr>\n",
       "            <th style=\"width: 30.0%;\"><b>Name</b></th><th style=\"width: 10.0%;\"><b>Move</b></th><th style=\"width: 7.5%;\"><b>WS</b></th><th style=\"width: 7.5%;\"><b>BS</b></th><th style=\"width: 7.5%;\"><b>S</b></th><th style=\"width: 7.5%;\"><b>T</b></th><th style=\"width: 7.5%;\"><b>W</b></th><th style=\"width: 7.5%;\"><b>A</b></th><th style=\"width: 7.5%;\"><b>L</b></th><th style=\"width: 7.5%;\"><b>Sv</b></th>\n",
       "        </tr>\n",
       "        <tr><td>Hemlock Wraithfighter</td><td>*</td><td>6+</td><td>3+</td><td>6</td><td>6</td><td>12</td><td>3</td><td>8</td><td>3+</td></tr>\n",
       "    </table> Unit contains x of y, x of y with a,b,c<br>\n",
       "    <table style=\"width:75%\">\n",
       "        <tr>\n",
       "            <th style=\"width: 30.0%;\"><b>Weapon</b></th><th style=\"width: 5.0%;\"><b>Range</b></th><th style=\"width: 10.0%;\"><b>Type</b></th><th style=\"width: 5.0%;\"><b>S</b></th><th style=\"width: 5.0%;\"><b>AP</b></th><th style=\"width: 5.0%;\"><b>D</b></th><th style=\"width: 40.0%;\"><b>Abilities</b></th>\n",
       "        </tr>\n",
       "        <tr><td>Heavy D-scythe</td><td>16\"</td><td>Assault D3</td><td>12</td><td>-4</td><td>2</td><td>This weapon automatically hits its target.</td></tr>\n",
       "    </table> <b>Abilities:</b><ul><li><b>Mindshock Pod</b> Units must subtract 2 from their Leadership characteristic whilst they are within 12\" of any enemy Hemlock Wraithfighters.</li><br><li><b>Wings of Khaine</b> When this model Advances, add 20\" to its Move characteristic for that Movement phase instead of rolling a dice. Each time this model moves, first pivot it on the spot up to 90 degrees (this does not contribute to how far the model moves), and then move the model straight forwards. Once its move has finished, you can pivot it a further 90 degrees as before.</li><br><li><b>Airborne</b> This model cannot charge, can only be charged by units that can FLY, and can only attack or be attacked in the Fight phase by units that can FLY.</li><br><li><b>Crash and Burn</b> If this model is reduced to 0 wounds, roll a D6 before removing it from the battlefield. On a 6 it crashes in a fiery explosion and each unit within 6\" suffers D3 mortal wounds.</li><br><li><b>Hard To Hit</b> Your opponent must subtract 1 from hit rolls for attacks that target this model in the Shooting phase.</li><br><li><b>Spirit Stones</b> Roll a D6 each time a model with spirit stones suffers an unsaved wound or mortal wound: on a 6 the wound is ignored.</li><br><li><b>Twilight Gloom</b> Twilight Gloom has a warp charge value of 6. If manifested, pick a friendly WRAITH HOST unit within 18\" of the psyker. Until the start of your next turn, that unit receives the benefit to their saving throws for being in cover, even while they are not wholly on or within a terrain feature. </li></ul><b>Faction Keywords:</b> <Craftworld>, Aeldari, Asuryani, Spirit Host<br><b>Keywords:</b> Fly, Flyer, Hemlock Wraithfighter, Psyker, Vehicle, Wraith Construct, Aircraft"
      ],
      "text/plain": [
       "<IPython.core.display.HTML object>"
      ]
     },
     "metadata": {},
     "output_type": "display_data"
    },
    {
     "name": "stderr",
     "output_type": "stream",
     "text": [
      "WARNING:root:Unknown reference selectionEntry Unit has battle honors? 4763-757f-499f-d998\n",
      "WARNING:root:Unknown reference selectionEntryGroup Battle Honors 5518-d0f5-a880-d71c\n",
      "WARNING:root:Could not get troop type []\n"
     ]
    },
    {
     "data": {
      "text/html": [
       "<h1>Dark Reapers</h1><p>[unknown] [ PL:4]</p>\n",
       "    <table style=\"width:75%\">\n",
       "        <tr>\n",
       "            <th style=\"width: 30.0%;\"><b>Name</b></th><th style=\"width: 10.0%;\"><b>Move</b></th><th style=\"width: 7.5%;\"><b>WS</b></th><th style=\"width: 7.5%;\"><b>BS</b></th><th style=\"width: 7.5%;\"><b>S</b></th><th style=\"width: 7.5%;\"><b>T</b></th><th style=\"width: 7.5%;\"><b>W</b></th><th style=\"width: 7.5%;\"><b>A</b></th><th style=\"width: 7.5%;\"><b>L</b></th><th style=\"width: 7.5%;\"><b>Sv</b></th>\n",
       "        </tr>\n",
       "        \n",
       "    </table> Unit contains x of y, x of y with a,b,c<br>\n",
       "    <table style=\"width:75%\">\n",
       "        <tr>\n",
       "            <th style=\"width: 30.0%;\"><b>Weapon</b></th><th style=\"width: 5.0%;\"><b>Range</b></th><th style=\"width: 10.0%;\"><b>Type</b></th><th style=\"width: 5.0%;\"><b>S</b></th><th style=\"width: 5.0%;\"><b>AP</b></th><th style=\"width: 5.0%;\"><b>D</b></th><th style=\"width: 40.0%;\"><b>Abilities</b></th>\n",
       "        </tr>\n",
       "        \n",
       "    </table> <b>Abilities:</b><ul><li><b>Inescapable Accuracy</b> Models in this unit always hit on a 3+ when firing a ranged weapon in the Shooting phase, regardless of any modifiers.</li></ul><b>Faction Keywords:</b> Aeldari, Aspect Warrior<br><b>Keywords:</b> Heavy Support, Infantry, Dark Reapers"
      ],
      "text/plain": [
       "<IPython.core.display.HTML object>"
      ]
     },
     "metadata": {},
     "output_type": "display_data"
    },
    {
     "name": "stderr",
     "output_type": "stream",
     "text": [
      "WARNING:root:Unknown reference selectionEntry Unit has battle honors? 4763-757f-499f-d998\n",
      "WARNING:root:Unknown reference selectionEntryGroup Battle Honors 5518-d0f5-a880-d71c\n",
      "WARNING:root:Could not get troop type []\n"
     ]
    },
    {
     "data": {
      "text/html": [
       "<h1>Support Weapons</h1><p>[unknown] []</p>\n",
       "    <table style=\"width:75%\">\n",
       "        <tr>\n",
       "            <th style=\"width: 30.0%;\"><b>Name</b></th><th style=\"width: 10.0%;\"><b>Move</b></th><th style=\"width: 7.5%;\"><b>WS</b></th><th style=\"width: 7.5%;\"><b>BS</b></th><th style=\"width: 7.5%;\"><b>S</b></th><th style=\"width: 7.5%;\"><b>T</b></th><th style=\"width: 7.5%;\"><b>W</b></th><th style=\"width: 7.5%;\"><b>A</b></th><th style=\"width: 7.5%;\"><b>L</b></th><th style=\"width: 7.5%;\"><b>Sv</b></th>\n",
       "        </tr>\n",
       "        <tr><td>Support Weapon</td><td>6\"</td><td>3+</td><td>3+</td><td>3</td><td>5</td><td>5</td><td>2</td><td>7</td><td>4+</td></tr>\n",
       "    </table> Unit contains x of y, x of y with a,b,c<br>\n",
       "    <table style=\"width:75%\">\n",
       "        <tr>\n",
       "            <th style=\"width: 30.0%;\"><b>Weapon</b></th><th style=\"width: 5.0%;\"><b>Range</b></th><th style=\"width: 10.0%;\"><b>Type</b></th><th style=\"width: 5.0%;\"><b>S</b></th><th style=\"width: 5.0%;\"><b>AP</b></th><th style=\"width: 5.0%;\"><b>D</b></th><th style=\"width: 40.0%;\"><b>Abilities</b></th>\n",
       "        </tr>\n",
       "        <tr><td>Shuriken Catapult</td><td>12\"</td><td>Assault 2</td><td>4</td><td>0</td><td>1</td><td>Each time you make a wound roll of 6+ for this weapon, that hit is resolved with an AP of -3 instead of 0.</td></tr>\n",
       "    </table> <b>Abilities:</b><ul><li><b>Support Weapons</b> The first time this unit is set up, all Support Weapons in this unit must be placed within 6\" of each other, and with each crew within 1\" of their Support Weapon. From that point on each Support Weapon acts as a single unit.</li><br><li><b>Guardian Crew</b> Each Support Weapon and its crew are treated as a single model for all rules purposes. The crew must remain within 1\" of their Support Weapon and cannot be targeted or attacked separately. The range and visibility of all attacks made by a Support Weapon and its crew are measured from the Support Weapon, not the crew.</li></ul><b>Faction Keywords:</b> <Craftworld>, Aeldari, Asuryani, Warhost<br><b>Keywords:</b> Heavy Support, Vehicle, Support Weapon, Artillery, Guardian"
      ],
      "text/plain": [
       "<IPython.core.display.HTML object>"
      ]
     },
     "metadata": {},
     "output_type": "display_data"
    },
    {
     "name": "stderr",
     "output_type": "stream",
     "text": [
      "WARNING:root:Unknown reference selectionEntry Unit has battle honors? 4763-757f-499f-d998\n",
      "WARNING:root:Unknown reference selectionEntryGroup Battle Honors 5518-d0f5-a880-d71c\n",
      "WARNING:root:Could not get troop type []\n"
     ]
    },
    {
     "data": {
      "text/html": [
       "<h1>Falcon</h1><p>[unknown] [ PL:9, pts:100]</p>\n",
       "    <table style=\"width:75%\">\n",
       "        <tr>\n",
       "            <th style=\"width: 30.0%;\"><b>Name</b></th><th style=\"width: 10.0%;\"><b>Move</b></th><th style=\"width: 7.5%;\"><b>WS</b></th><th style=\"width: 7.5%;\"><b>BS</b></th><th style=\"width: 7.5%;\"><b>S</b></th><th style=\"width: 7.5%;\"><b>T</b></th><th style=\"width: 7.5%;\"><b>W</b></th><th style=\"width: 7.5%;\"><b>A</b></th><th style=\"width: 7.5%;\"><b>L</b></th><th style=\"width: 7.5%;\"><b>Sv</b></th>\n",
       "        </tr>\n",
       "        <tr><td>Falcon</td><td>*</td><td>6+</td><td>*</td><td>6</td><td>7</td><td>12</td><td>*</td><td>8</td><td>3+</td></tr>\n",
       "    </table> Unit contains x of y, x of y with a,b,c<br>\n",
       "    <table style=\"width:75%\">\n",
       "        <tr>\n",
       "            <th style=\"width: 30.0%;\"><b>Weapon</b></th><th style=\"width: 5.0%;\"><b>Range</b></th><th style=\"width: 10.0%;\"><b>Type</b></th><th style=\"width: 5.0%;\"><b>S</b></th><th style=\"width: 5.0%;\"><b>AP</b></th><th style=\"width: 5.0%;\"><b>D</b></th><th style=\"width: 40.0%;\"><b>Abilities</b></th>\n",
       "        </tr>\n",
       "        <tr><td>Pulse Laser</td><td>48\"</td><td>Heavy 2</td><td>8</td><td>-3</td><td>3</td><td>-</td></tr>\n",
       "    </table> <b>Abilities:</b><ul><li><b>Hover Tank</b> Distance and ranges are always measured to and from this model's hull, even though it has a base.</li><br><li><b>Explodes (Hover Tank)</b> If this model is reduced to 0 wounds, roll a D6 before removing it from the battlefield. On a 6 it explodes, and each unit within 6\" suffers D3 mortal wounds.</li></ul><b>Faction Keywords:</b> Aeldari, Warhost<br><b>Keywords:</b> Falcon, Fly, Heavy Support, Transport, Vehicle"
      ],
      "text/plain": [
       "<IPython.core.display.HTML object>"
      ]
     },
     "metadata": {},
     "output_type": "display_data"
    },
    {
     "name": "stderr",
     "output_type": "stream",
     "text": [
      "WARNING:root:Unknown reference selectionEntry Unit has battle honors? 4763-757f-499f-d998\n",
      "WARNING:root:Unknown reference selectionEntryGroup Battle Honors 5518-d0f5-a880-d71c\n",
      "WARNING:root:Could not get troop type []\n"
     ]
    },
    {
     "data": {
      "text/html": [
       "<h1>Fire Prism</h1><p>[unknown] [ PL:9, pts:140]</p>\n",
       "    <table style=\"width:75%\">\n",
       "        <tr>\n",
       "            <th style=\"width: 30.0%;\"><b>Name</b></th><th style=\"width: 10.0%;\"><b>Move</b></th><th style=\"width: 7.5%;\"><b>WS</b></th><th style=\"width: 7.5%;\"><b>BS</b></th><th style=\"width: 7.5%;\"><b>S</b></th><th style=\"width: 7.5%;\"><b>T</b></th><th style=\"width: 7.5%;\"><b>W</b></th><th style=\"width: 7.5%;\"><b>A</b></th><th style=\"width: 7.5%;\"><b>L</b></th><th style=\"width: 7.5%;\"><b>Sv</b></th>\n",
       "        </tr>\n",
       "        <tr><td>Fire Prism</td><td>*</td><td>6+</td><td>*</td><td>6</td><td>7</td><td>12</td><td>*</td><td>8</td><td>3+</td></tr>\n",
       "    </table> Unit contains x of y, x of y with a,b,c<br>\n",
       "    <table style=\"width:75%\">\n",
       "        <tr>\n",
       "            <th style=\"width: 30.0%;\"><b>Weapon</b></th><th style=\"width: 5.0%;\"><b>Range</b></th><th style=\"width: 10.0%;\"><b>Type</b></th><th style=\"width: 5.0%;\"><b>S</b></th><th style=\"width: 5.0%;\"><b>AP</b></th><th style=\"width: 5.0%;\"><b>D</b></th><th style=\"width: 40.0%;\"><b>Abilities</b></th>\n",
       "        </tr>\n",
       "        <tr><td>Prism Cannon (Lance)</td><td>60\"</td><td>Heavy 1</td><td>12</td><td>-5</td><td>D6</td><td>-</td></tr><tr><td>Prism Cannon (Focused)</td><td>60\"</td><td>Heavy D3</td><td>9</td><td>-4</td><td>D3</td><td>-</td></tr><tr><td>Prism Cannon (Dispersed)</td><td>60\"</td><td>Heavy D6</td><td>6</td><td>-3</td><td>1</td><td>-</td></tr>\n",
       "    </table> <b>Abilities:</b><ul><li><b>Pulsed Laser Discharge</b> If this model remains stationary or moves under half speed in its Movement phase (i.e. it moves a distance in inches less than half of its current Move characteristic) it can shoot its prism cannon twice in its next Shooting phase (the prism cannon must use the same profile and target the same unit both times it is fired).</li><br><li><b>Explodes (Hover Tank)</b> If this model is reduced to 0 wounds, roll a D6 before removing it from the battlefield. On a 6 it explodes, and each unit within 6\" suffers D3 mortal wounds.</li><br><li><b>Hover Tank</b> Distance and ranges are always measured to and from this model's hull, even though it has a base.</li></ul><b>Faction Keywords:</b> Warhost, Warhost, Aeldari<br><b>Keywords:</b> Heavy Support, Fire Prism, Fly, Heavy Support, Vehicle"
      ],
      "text/plain": [
       "<IPython.core.display.HTML object>"
      ]
     },
     "metadata": {},
     "output_type": "display_data"
    },
    {
     "name": "stderr",
     "output_type": "stream",
     "text": [
      "WARNING:root:Unknown reference selectionEntry Unit has battle honors? 4763-757f-499f-d998\n",
      "WARNING:root:Unknown reference selectionEntryGroup Battle Honors 5518-d0f5-a880-d71c\n",
      "WARNING:root:Could not get troop type []\n"
     ]
    },
    {
     "data": {
      "text/html": [
       "<h1>Night Spinner</h1><p>[unknown] [ PL:8, pts:110]</p>\n",
       "    <table style=\"width:75%\">\n",
       "        <tr>\n",
       "            <th style=\"width: 30.0%;\"><b>Name</b></th><th style=\"width: 10.0%;\"><b>Move</b></th><th style=\"width: 7.5%;\"><b>WS</b></th><th style=\"width: 7.5%;\"><b>BS</b></th><th style=\"width: 7.5%;\"><b>S</b></th><th style=\"width: 7.5%;\"><b>T</b></th><th style=\"width: 7.5%;\"><b>W</b></th><th style=\"width: 7.5%;\"><b>A</b></th><th style=\"width: 7.5%;\"><b>L</b></th><th style=\"width: 7.5%;\"><b>Sv</b></th>\n",
       "        </tr>\n",
       "        <tr><td>Night Spinner</td><td>*</td><td>6+</td><td>*</td><td>6</td><td>7</td><td>12</td><td>*</td><td>8</td><td>3+</td></tr>\n",
       "    </table> Unit contains x of y, x of y with a,b,c<br>\n",
       "    <table style=\"width:75%\">\n",
       "        <tr>\n",
       "            <th style=\"width: 30.0%;\"><b>Weapon</b></th><th style=\"width: 5.0%;\"><b>Range</b></th><th style=\"width: 10.0%;\"><b>Type</b></th><th style=\"width: 5.0%;\"><b>S</b></th><th style=\"width: 5.0%;\"><b>AP</b></th><th style=\"width: 5.0%;\"><b>D</b></th><th style=\"width: 40.0%;\"><b>Abilities</b></th>\n",
       "        </tr>\n",
       "        <tr><td>Doomweaver</td><td>48\"</td><td>Heavy 2D6</td><td>7</td><td>0</td><td>2</td><td>Wound rolls of 6+ for this weapon are resolved at AP -4 instead of AP 0. This weapon can target units that are not visible to the bearer.</td></tr>\n",
       "    </table> <b>Abilities:</b><ul><li><b>Explodes (Hover Tank)</b> If this model is reduced to 0 wounds, roll a D6 before removing it from the battlefield. On a 6 it explodes, and each unit within 6\" suffers D3 mortal wounds.</li><br><li><b>Hover Tank</b> Distance and ranges are always measured to and from this model's hull, even though it has a base.</li></ul><b>Faction Keywords:</b> <Craftworld>, Aeldari, Asuryani, Warhost, <Craftworld>, Aeldari, Asuryani, Warhost<br><b>Keywords:</b> Fly, Heavy Support, Vehicle, Night Spinner, Fly, Heavy Support, Vehicle"
      ],
      "text/plain": [
       "<IPython.core.display.HTML object>"
      ]
     },
     "metadata": {},
     "output_type": "display_data"
    },
    {
     "name": "stderr",
     "output_type": "stream",
     "text": [
      "WARNING:root:Unknown reference selectionEntry Unit has battle honors? 4763-757f-499f-d998\n",
      "WARNING:root:Unknown reference selectionEntryGroup Battle Honors 5518-d0f5-a880-d71c\n",
      "WARNING:root:Could not get troop type []\n"
     ]
    },
    {
     "data": {
      "text/html": [
       "<h1>War Walkers</h1><p>[unknown] []</p>\n",
       "    <table style=\"width:75%\">\n",
       "        <tr>\n",
       "            <th style=\"width: 30.0%;\"><b>Name</b></th><th style=\"width: 10.0%;\"><b>Move</b></th><th style=\"width: 7.5%;\"><b>WS</b></th><th style=\"width: 7.5%;\"><b>BS</b></th><th style=\"width: 7.5%;\"><b>S</b></th><th style=\"width: 7.5%;\"><b>T</b></th><th style=\"width: 7.5%;\"><b>W</b></th><th style=\"width: 7.5%;\"><b>A</b></th><th style=\"width: 7.5%;\"><b>L</b></th><th style=\"width: 7.5%;\"><b>Sv</b></th>\n",
       "        </tr>\n",
       "        <tr><td>War Walker</td><td>10\"</td><td>3+</td><td>3+</td><td>5</td><td>6</td><td>6</td><td>2</td><td>8</td><td>4+</td></tr>\n",
       "    </table> Unit contains x of y, x of y with a,b,c<br>\n",
       "    <table style=\"width:75%\">\n",
       "        <tr>\n",
       "            <th style=\"width: 30.0%;\"><b>Weapon</b></th><th style=\"width: 5.0%;\"><b>Range</b></th><th style=\"width: 10.0%;\"><b>Type</b></th><th style=\"width: 5.0%;\"><b>S</b></th><th style=\"width: 5.0%;\"><b>AP</b></th><th style=\"width: 5.0%;\"><b>D</b></th><th style=\"width: 40.0%;\"><b>Abilities</b></th>\n",
       "        </tr>\n",
       "        \n",
       "    </table> <b>Abilities:</b><ul><li><b>Scout Vehicle</b> During deployment, you can set up this unit on the enemy's flanks instead of placing it on the battlefield. At the end of any of your Movement phases the unit can join battle - set it up so that all models in the unit are within 3\" of a battlefield edge of your choice and more than 9\" away from any enemy models.</li><br><li><b>Power Field</b> Models in this unit have a 5+ invulnerable save.</li><br><li><b>Explodes (War Walker)</b> If this model is reduced to 0 wounds, roll a D6 before removing it from the battlefield. On a 6 it explodes, and each unit within 3\" suffers a mortal wound.</li></ul><b>Faction Keywords:</b> <Craftworld>, Aeldari, Asuryani, Warhost<br><b>Keywords:</b> Heavy Support, Vehicle, War Walker"
      ],
      "text/plain": [
       "<IPython.core.display.HTML object>"
      ]
     },
     "metadata": {},
     "output_type": "display_data"
    },
    {
     "name": "stderr",
     "output_type": "stream",
     "text": [
      "WARNING:root:Unknown reference selectionEntry Unit has battle honors? 4763-757f-499f-d998\n",
      "WARNING:root:Unknown reference selectionEntryGroup Battle Honors 5518-d0f5-a880-d71c\n",
      "WARNING:root:Could not get troop type []\n"
     ]
    },
    {
     "data": {
      "text/html": [
       "<h1>Wraithlord</h1><p>[unknown] [ PL:8, pts:80]</p>\n",
       "    <table style=\"width:75%\">\n",
       "        <tr>\n",
       "            <th style=\"width: 30.0%;\"><b>Name</b></th><th style=\"width: 10.0%;\"><b>Move</b></th><th style=\"width: 7.5%;\"><b>WS</b></th><th style=\"width: 7.5%;\"><b>BS</b></th><th style=\"width: 7.5%;\"><b>S</b></th><th style=\"width: 7.5%;\"><b>T</b></th><th style=\"width: 7.5%;\"><b>W</b></th><th style=\"width: 7.5%;\"><b>A</b></th><th style=\"width: 7.5%;\"><b>L</b></th><th style=\"width: 7.5%;\"><b>Sv</b></th>\n",
       "        </tr>\n",
       "        <tr><td>Wraithlord</td><td>*</td><td>*</td><td>*</td><td>7</td><td>8</td><td>10</td><td>4</td><td>9</td><td>3+</td></tr>\n",
       "    </table> Unit contains x of y, x of y with a,b,c<br>\n",
       "    <table style=\"width:75%\">\n",
       "        <tr>\n",
       "            <th style=\"width: 30.0%;\"><b>Weapon</b></th><th style=\"width: 5.0%;\"><b>Range</b></th><th style=\"width: 10.0%;\"><b>Type</b></th><th style=\"width: 5.0%;\"><b>S</b></th><th style=\"width: 5.0%;\"><b>AP</b></th><th style=\"width: 5.0%;\"><b>D</b></th><th style=\"width: 40.0%;\"><b>Abilities</b></th>\n",
       "        </tr>\n",
       "        <tr><td>Wraithbone Fists</td><td>Melee</td><td>Melee</td><td>User</td><td>-3</td><td>3</td><td>-</td></tr><tr><td>Ghostglaive</td><td>Melee</td><td>Melee</td><td>+2</td><td>-4</td><td>D6</td><td>-</td></tr>\n",
       "    </table> <b>Abilities:</b><ul></ul><b>Faction Keywords:</b> <Craftworld>, Aeldari, Asuryani, Spirit Host<br><b>Keywords:</b> Heavy Support, Monster, Wraithlord, Wraith Construct"
      ],
      "text/plain": [
       "<IPython.core.display.HTML object>"
      ]
     },
     "metadata": {},
     "output_type": "display_data"
    },
    {
     "name": "stderr",
     "output_type": "stream",
     "text": [
      "WARNING:root:Unknown reference selectionEntry Unit has battle honors? 4763-757f-499f-d998\n",
      "WARNING:root:Unknown reference selectionEntryGroup Battle Honors 5518-d0f5-a880-d71c\n",
      "WARNING:root:Could not get troop type []\n"
     ]
    },
    {
     "data": {
      "text/html": [
       "<h1>Wraithknight</h1><p>[unknown] [ PL:27, pts:285]</p>\n",
       "    <table style=\"width:75%\">\n",
       "        <tr>\n",
       "            <th style=\"width: 30.0%;\"><b>Name</b></th><th style=\"width: 10.0%;\"><b>Move</b></th><th style=\"width: 7.5%;\"><b>WS</b></th><th style=\"width: 7.5%;\"><b>BS</b></th><th style=\"width: 7.5%;\"><b>S</b></th><th style=\"width: 7.5%;\"><b>T</b></th><th style=\"width: 7.5%;\"><b>W</b></th><th style=\"width: 7.5%;\"><b>A</b></th><th style=\"width: 7.5%;\"><b>L</b></th><th style=\"width: 7.5%;\"><b>Sv</b></th>\n",
       "        </tr>\n",
       "        <tr><td>Wraithknight</td><td>*</td><td>*</td><td>*</td><td>8</td><td>8</td><td>24</td><td>4</td><td>9</td><td>3+</td></tr>\n",
       "    </table> Unit contains x of y, x of y with a,b,c<br>\n",
       "    <table style=\"width:75%\">\n",
       "        <tr>\n",
       "            <th style=\"width: 30.0%;\"><b>Weapon</b></th><th style=\"width: 5.0%;\"><b>Range</b></th><th style=\"width: 10.0%;\"><b>Type</b></th><th style=\"width: 5.0%;\"><b>S</b></th><th style=\"width: 5.0%;\"><b>AP</b></th><th style=\"width: 5.0%;\"><b>D</b></th><th style=\"width: 40.0%;\"><b>Abilities</b></th>\n",
       "        </tr>\n",
       "        <tr><td>Titanic Wraithbone Fists</td><td>Melee</td><td>Melee</td><td>User</td><td>-3</td><td>D6</td><td>-</td></tr><tr><td>Titanic Feet</td><td>Melee</td><td>Melee</td><td>User</td><td>-2</td><td>D3</td><td>When you make an attack with this weapon, roll three dice instead of 1.</td></tr>\n",
       "    </table> <b>Abilities:</b><ul><li><b>Catastrophic Collapse</b> If this model is reduced to 0 wounds, roll a D6 before removing it from the battlefield. On a 6 it collapses with catastrophic effect, and each unit within 2D6\" suffers D6 mortal wounds.</li><br><li><b>Unstoppable Revenant (Wraithknight)</b> A Wraithknight can Fall Back in the Movement phase and still shoot and/or charge during its turn. When a Wraithknight Falls Back, it can even move over enemy INFANTRY models, though at the end of its move it must be more than 1\" from all enemy units. In addition, a Wraithknight can move and fire Heavy weapons without suffering the penalty to its hit rolls. Finally, a Wraithknight only gains a bonus to its save in cover if at least half of the model is obsured from the firer.</li></ul><b>Faction Keywords:</b> <Craftworld>, Aeldari, Asuryani, Spirit Host<br><b>Keywords:</b> Lord of War, Monster, Wraithknight, Titanic, Wraith Construct"
      ],
      "text/plain": [
       "<IPython.core.display.HTML object>"
      ]
     },
     "metadata": {},
     "output_type": "display_data"
    },
    {
     "name": "stderr",
     "output_type": "stream",
     "text": [
      "WARNING:root:Unknown reference selectionEntry Unit has battle honors? 4763-757f-499f-d998\n",
      "WARNING:root:Unknown reference selectionEntryGroup Battle Honors 5518-d0f5-a880-d71c\n",
      "WARNING:root:Could not get troop type []\n"
     ]
    },
    {
     "data": {
      "text/html": [
       "<h1>Phantom Titan</h1><p>[unknown] [ PL:140, pts:2370]</p>\n",
       "    <table style=\"width:75%\">\n",
       "        <tr>\n",
       "            <th style=\"width: 30.0%;\"><b>Name</b></th><th style=\"width: 10.0%;\"><b>Move</b></th><th style=\"width: 7.5%;\"><b>WS</b></th><th style=\"width: 7.5%;\"><b>BS</b></th><th style=\"width: 7.5%;\"><b>S</b></th><th style=\"width: 7.5%;\"><b>T</b></th><th style=\"width: 7.5%;\"><b>W</b></th><th style=\"width: 7.5%;\"><b>A</b></th><th style=\"width: 7.5%;\"><b>L</b></th><th style=\"width: 7.5%;\"><b>Sv</b></th>\n",
       "        </tr>\n",
       "        <tr><td>Phantom Titan</td><td>*</td><td>*</td><td>*</td><td>9</td><td>9</td><td>60</td><td>6</td><td>10</td><td>3+</td></tr>\n",
       "    </table> Unit contains x of y, x of y with a,b,c<br>\n",
       "    <table style=\"width:75%\">\n",
       "        <tr>\n",
       "            <th style=\"width: 30.0%;\"><b>Weapon</b></th><th style=\"width: 5.0%;\"><b>Range</b></th><th style=\"width: 10.0%;\"><b>Type</b></th><th style=\"width: 5.0%;\"><b>S</b></th><th style=\"width: 5.0%;\"><b>AP</b></th><th style=\"width: 5.0%;\"><b>D</b></th><th style=\"width: 40.0%;\"><b>Abilities</b></th>\n",
       "        </tr>\n",
       "        <tr><td>Voidstorm Missile Launcher</td><td>72\"</td><td>Heavy 2D6</td><td>8</td><td>-3</td><td>D3</td><td>This weapon gains +1 on hit rolls when targeting enemy units with the FLY keyword.</td></tr><tr><td>Titanic Stride</td><td>Melee</td><td>Melee</td><td>User</td><td>-3</td><td>3</td><td>Make 3 hit rolls for each attack made with this weapon instead of 1.</td></tr>\n",
       "    </table> <b>Abilities:</b><ul><li><b>Catastrophic Collapse (Phantom)</b> If this model is reduced to 0 wounds, roll a D6 before removing it from the battlefield. On a 5+ it collapes with catastrophic effect, and each unit within 3D6\" suffers 2D6 mortal wounds.</li><br><li><b>Steersman Prime</b> Once per turn, any friendly model with the <CONCLAVE> keyword that is within 24\" of a model with this ability may have its first failed hit roll of each turn re-rolled.</li><br><li><b>Unstoppable Wraith-Titan (Phantom)</b> A Phantom Titan can Fall Back in the Movement phase and still shoot and/or charge during its turn. When a Phantom Titan Falls Back, it can even move over enemy INFANTRY models, though at the end of its move it must be more than 1\" from all enemy units. In addition, a Phantom Titan can move and fire Heavy weapons without suffering the penalty to its hit rolls. Finally, a Phantom Titan only gains a bonus to its save in cover if at least half of the model is obscured from the bearer.</li><br><li><b>Phantom Stride</b> When this model Advances, increase its Move characteristic by 12\", do not roll a dice.</li></ul><b>Faction Keywords:</b> <Conclave>, Aeldari, Asuryani, Spirit Host<br><b>Keywords:</b> Lord of War, Monster, Phantom Titan, Titanic, Wraith-Titan"
      ],
      "text/plain": [
       "<IPython.core.display.HTML object>"
      ]
     },
     "metadata": {},
     "output_type": "display_data"
    },
    {
     "name": "stderr",
     "output_type": "stream",
     "text": [
      "WARNING:root:Could not get troop type []\n"
     ]
    },
    {
     "data": {
      "text/html": [
       "<h1>Irillyth</h1><p>[unknown] [ PL:8, pts:130]</p>\n",
       "    <table style=\"width:75%\">\n",
       "        <tr>\n",
       "            <th style=\"width: 30.0%;\"><b>Name</b></th><th style=\"width: 10.0%;\"><b>Move</b></th><th style=\"width: 7.5%;\"><b>WS</b></th><th style=\"width: 7.5%;\"><b>BS</b></th><th style=\"width: 7.5%;\"><b>S</b></th><th style=\"width: 7.5%;\"><b>T</b></th><th style=\"width: 7.5%;\"><b>W</b></th><th style=\"width: 7.5%;\"><b>A</b></th><th style=\"width: 7.5%;\"><b>L</b></th><th style=\"width: 7.5%;\"><b>Sv</b></th>\n",
       "        </tr>\n",
       "        <tr><td>Irillyth</td><td>12\"</td><td>2+</td><td>2+</td><td>4</td><td>4</td><td>6</td><td>4</td><td>9</td><td>2+</td></tr>\n",
       "    </table> Unit contains x of y, x of y with a,b,c<br>\n",
       "    <table style=\"width:75%\">\n",
       "        <tr>\n",
       "            <th style=\"width: 30.0%;\"><b>Weapon</b></th><th style=\"width: 5.0%;\"><b>Range</b></th><th style=\"width: 10.0%;\"><b>Type</b></th><th style=\"width: 5.0%;\"><b>S</b></th><th style=\"width: 5.0%;\"><b>AP</b></th><th style=\"width: 5.0%;\"><b>D</b></th><th style=\"width: 40.0%;\"><b>Abilities</b></th>\n",
       "        </tr>\n",
       "        <tr><td>Spear of Starlight (melee)</td><td>Melee</td><td>Melee</td><td>+1</td><td>-3</td><td>2</td><td>If the bearer has charged in the current turn, this weapon inflicts D3+1 damage instead of 2.</td></tr><tr><td>Spear of Starlight (shooting)</td><td>24\"</td><td>Assault 1</td><td>6</td><td>-3</td><td>2</td><td>Each hit inflicted with this weapon allows an additional attack to be made with it. As long as each following attack hits, the controlling player may keep making attacks until a total of 4 hits have been inflicted with this weapon.</td></tr>\n",
       "    </table> <b>Abilities:</b><ul><li><b>The Shade of Twilight</b> During deployment, you can set up Irillyth in the shadows instead of placing him on the battlefield. If you do so, at the end of any of your Movement phases, Irillyth can strike from the shadows. When he does so, set him up anywhere on the battlefield that is more than 9\" away from enemy models.</li><br><li><b>Reaper of Souls</b> Re-roll wound rolls of 1 in the Shooting phase for attacks Irillyth makes that target INFANTRY.</li><br><li><b>The Spectre of Death</b> All enemy models within 18\" of Irillyth or any friendly units of SHADOW SPECTRES must roll an additional dice when making Morale tests, discarding the lowest dice rolled before determining the results.</li><br><li><b>Spectre Holo-Field</b> Enemy units must subtract 1 from hit rolls made against a unit with this ability.</li></ul><b>Faction Keywords:</b> Aspect Warrior, Aeldari, Asuryani<br><b>Keywords:</b> Fly, HQ, Infantry, Irillyth, Phoenix Lord, Jet Pack, Jump Pack, Character"
      ],
      "text/plain": [
       "<IPython.core.display.HTML object>"
      ]
     },
     "metadata": {},
     "output_type": "display_data"
    },
    {
     "name": "stderr",
     "output_type": "stream",
     "text": [
      "WARNING:root:Unknown reference selectionEntry Unit has battle honors? 4763-757f-499f-d998\n",
      "WARNING:root:Unknown reference selectionEntryGroup Battle Honors 5518-d0f5-a880-d71c\n",
      "WARNING:root:Could not get troop type []\n"
     ]
    },
    {
     "data": {
      "text/html": [
       "<h1>Revenant Titan</h1><p>[unknown] [ PL:60, pts:2000]</p>\n",
       "    <table style=\"width:75%\">\n",
       "        <tr>\n",
       "            <th style=\"width: 30.0%;\"><b>Name</b></th><th style=\"width: 10.0%;\"><b>Move</b></th><th style=\"width: 7.5%;\"><b>WS</b></th><th style=\"width: 7.5%;\"><b>BS</b></th><th style=\"width: 7.5%;\"><b>S</b></th><th style=\"width: 7.5%;\"><b>T</b></th><th style=\"width: 7.5%;\"><b>W</b></th><th style=\"width: 7.5%;\"><b>A</b></th><th style=\"width: 7.5%;\"><b>L</b></th><th style=\"width: 7.5%;\"><b>Sv</b></th>\n",
       "        </tr>\n",
       "        <tr><td>Revenant Titan</td><td>*</td><td>*</td><td>*</td><td>9</td><td>9</td><td>32</td><td>4</td><td>10</td><td>3+</td></tr>\n",
       "    </table> Unit contains x of y, x of y with a,b,c<br>\n",
       "    <table style=\"width:75%\">\n",
       "        <tr>\n",
       "            <th style=\"width: 30.0%;\"><b>Weapon</b></th><th style=\"width: 5.0%;\"><b>Range</b></th><th style=\"width: 10.0%;\"><b>Type</b></th><th style=\"width: 5.0%;\"><b>S</b></th><th style=\"width: 5.0%;\"><b>AP</b></th><th style=\"width: 5.0%;\"><b>D</b></th><th style=\"width: 40.0%;\"><b>Abilities</b></th>\n",
       "        </tr>\n",
       "        <tr><td>Cloudburst Missile Launcher</td><td>48\"</td><td>Heavy 2D6</td><td>8</td><td>-2</td><td>D3</td><td>This weapon gains +1 on hit rolls when targeting enemy units with the FLY keyword.</td></tr><tr><td>Titanic Stride</td><td>Melee</td><td>Melee</td><td>User</td><td>-3</td><td>3</td><td>Make 3 hit rolls for each attack made with this weapon instead of 1.</td></tr>\n",
       "    </table> <b>Abilities:</b><ul><li><b>Catastrophic Collapse (Revenant)</b> If this model is reduced to 0 wounds, roll a D6 before removing it from the battlefield. On a 5+ it collapes with catastrophic effect, and each unit within 3D6\" suffers D6 mortal wounds.</li><br><li><b>Unstoppable Wraith-Titan (Revenant)</b> A Revenant Titan can Fall Back in the Movement phase and still shoot and/or charge during its turn. When a Revenant Titan Falls Back, it can even move over enemy INFANTRY models, though at the end of its move it must be more than 1\" from all enemy units. In addition, a Revenant Titan can move and fire Heavy weapons without suffering the penalty to its hit rolls. Finally, a Revenant Titan only gains a bonus to its save in cover if at least half of the model is obscured from the bearer.</li><br><li><b>Revenant Jet Pack</b> When this model Advances, increase its Move characteristic by 18\", do not roll a dice.</li></ul><b>Faction Keywords:</b> <Conclave>, Aeldari, Asuryani, Spirit Host<br><b>Keywords:</b> Fly, Jet Pack, Lord of War, Monster, Revenant Titan, Titanic"
      ],
      "text/plain": [
       "<IPython.core.display.HTML object>"
      ]
     },
     "metadata": {},
     "output_type": "display_data"
    },
    {
     "name": "stderr",
     "output_type": "stream",
     "text": [
      "WARNING:root:Unknown reference selectionEntry Unit has battle honors? 4763-757f-499f-d998\n",
      "WARNING:root:Unknown reference selectionEntryGroup Battle Honors 5518-d0f5-a880-d71c\n",
      "WARNING:root:Could not get troop type []\n"
     ]
    },
    {
     "data": {
      "text/html": [
       "<h1>Skathach Wraithknight</h1><p>[unknown] [ PL:32, pts:420]</p>\n",
       "    <table style=\"width:75%\">\n",
       "        <tr>\n",
       "            <th style=\"width: 30.0%;\"><b>Name</b></th><th style=\"width: 10.0%;\"><b>Move</b></th><th style=\"width: 7.5%;\"><b>WS</b></th><th style=\"width: 7.5%;\"><b>BS</b></th><th style=\"width: 7.5%;\"><b>S</b></th><th style=\"width: 7.5%;\"><b>T</b></th><th style=\"width: 7.5%;\"><b>W</b></th><th style=\"width: 7.5%;\"><b>A</b></th><th style=\"width: 7.5%;\"><b>L</b></th><th style=\"width: 7.5%;\"><b>Sv</b></th>\n",
       "        </tr>\n",
       "        <tr><td>Skathach Wraithknight</td><td>*</td><td>*</td><td>*</td><td>8</td><td>8</td><td>24</td><td>4</td><td>9</td><td>3+</td></tr>\n",
       "    </table> Unit contains x of y, x of y with a,b,c<br>\n",
       "    <table style=\"width:75%\">\n",
       "        <tr>\n",
       "            <th style=\"width: 30.0%;\"><b>Weapon</b></th><th style=\"width: 5.0%;\"><b>Range</b></th><th style=\"width: 10.0%;\"><b>Type</b></th><th style=\"width: 5.0%;\"><b>S</b></th><th style=\"width: 5.0%;\"><b>AP</b></th><th style=\"width: 5.0%;\"><b>D</b></th><th style=\"width: 40.0%;\"><b>Abilities</b></th>\n",
       "        </tr>\n",
       "        <tr><td>Titanic Wraithbone Fists</td><td>Melee</td><td>Melee</td><td>User</td><td>-3</td><td>D6</td><td>-</td></tr><tr><td>Titanic Feet</td><td>Melee</td><td>Melee</td><td>User</td><td>-2</td><td>D3</td><td>When you make an attack with this weapon, roll three dice instead of 1.</td></tr>\n",
       "    </table> <b>Abilities:</b><ul><li><b>Webway Rupture</b> During deployment, you can set up the Skathach Wraithknight in the depths of the webway instead of placing it on the battlefield. At the end of any of your Movement phases, the unit can force a webway rupture to appear on the battlefield - set the Skathach Wraithknight up anywhere on the battlefield that is more than 9\" away from any enemy models.</li><br><li><b>Catastrophic Collapse (Skathach)</b> If this model is reduced to 0 wounds, roll a D6 before removing it from the battlefield. On a 5+ it collapes with catastrophic effect, and each unit within 2D6\" suffers D6 mortal wounds.</li><br><li><b>Webway Shunt Generator</b> At the beginning of your Movement phase, if this unit is not within 1\" of an enemy model it can activate the shunt generator and return to the depths of the webway. Remove this unit from the battlefield. It can return to the battlefield as described in the Webway Rupture ability above. This unit may not use both the Webway Rupture and Webway Shunt Generator abilities in the same turn. If the battle ends while this unit is in the depths of the webway, it is considered to be slain.</li><br><li><b>Unstoppable Revenant (Skathach)</b> A Skathach Wraithknight can Fall Back in the Movement phase and still shoot and/or charge during its turn. When a Skathach Wraithknight Falls Back, it can even move over enemy INFANTRY models, though at the end of its move it must be more than 1\" from all enemy units. In addition, a Skathach Wraithknight can move and fire Heavy weapons without suffering the penalty to its hit rolls. Finally, a Skathach Wraithknight only gains a bonus to its save in cover if at least half of the model is obsured from the firer.</li></ul><b>Faction Keywords:</b> <Craftworld>, Aeldari, Asuryani, Spirit Host<br><b>Keywords:</b> Lord of War, Monster, Skathach Wraithknight, Titanic, Wraith Construct"
      ],
      "text/plain": [
       "<IPython.core.display.HTML object>"
      ]
     },
     "metadata": {},
     "output_type": "display_data"
    },
    {
     "name": "stderr",
     "output_type": "stream",
     "text": [
      "WARNING:root:Unknown reference selectionEntry Unit has battle honors? 4763-757f-499f-d998\n",
      "WARNING:root:Unknown reference selectionEntryGroup Battle Honors 5518-d0f5-a880-d71c\n",
      "WARNING:root:Could not get troop type []\n"
     ]
    },
    {
     "data": {
      "text/html": [
       "<h1>Vampire Hunter</h1><p>[unknown] [ PL:45, pts:1500]</p>\n",
       "    <table style=\"width:75%\">\n",
       "        <tr>\n",
       "            <th style=\"width: 30.0%;\"><b>Name</b></th><th style=\"width: 10.0%;\"><b>Move</b></th><th style=\"width: 7.5%;\"><b>WS</b></th><th style=\"width: 7.5%;\"><b>BS</b></th><th style=\"width: 7.5%;\"><b>S</b></th><th style=\"width: 7.5%;\"><b>T</b></th><th style=\"width: 7.5%;\"><b>W</b></th><th style=\"width: 7.5%;\"><b>A</b></th><th style=\"width: 7.5%;\"><b>L</b></th><th style=\"width: 7.5%;\"><b>Sv</b></th>\n",
       "        </tr>\n",
       "        <tr><td>Vampire Hunter</td><td>*</td><td>6+</td><td>*</td><td>9</td><td>8</td><td>32</td><td>*</td><td>9</td><td>3+</td></tr>\n",
       "    </table> Unit contains x of y, x of y with a,b,c<br>\n",
       "    <table style=\"width:75%\">\n",
       "        <tr>\n",
       "            <th style=\"width: 30.0%;\"><b>Weapon</b></th><th style=\"width: 5.0%;\"><b>Range</b></th><th style=\"width: 10.0%;\"><b>Type</b></th><th style=\"width: 5.0%;\"><b>S</b></th><th style=\"width: 5.0%;\"><b>AP</b></th><th style=\"width: 5.0%;\"><b>D</b></th><th style=\"width: 40.0%;\"><b>Abilities</b></th>\n",
       "        </tr>\n",
       "        <tr><td>Scatter Laser</td><td>36\"</td><td>Heavy 4</td><td>6</td><td>0</td><td>1</td><td>-</td></tr><tr><td>Twin Pulse Lasers</td><td>48\"</td><td>Heavy 4</td><td>8</td><td>-3</td><td>3</td><td>-</td></tr><tr><td>Twin Vampire Pulsar</td><td>60\"</td><td>Heavy 4D6</td><td>12</td><td>-4</td><td>D6</td><td>Any Wound rolls of 6+ made with this weapon are resolved with a Damage characteristic of 2D6 rather than D6.</td></tr>\n",
       "    </table> <b>Abilities:</b><ul><li><b>Airborne</b> This model cannot charge, can only be charged by units that can FLY, and can only attack or be attacked in the Fight phase by units that can FLY.</li><br><li><b>Crash and Burn</b> If this model is reduced to 0 wounds, roll a D6 before removing it from the battlefield. On a 6 it crashes in a fiery explosion and each unit within 6\" suffers D3 mortal wounds.</li><br><li><b>Hard To Hit</b> Your opponent must subtract 1 from hit rolls for attacks that target this model in the Shooting phase.</li><br><li><b>Wings of Khaine</b> When this model Advances, add 20\" to its Move characteristic for that Movement phase instead of rolling a dice. Each time this model moves, first pivot it on the spot up to 90 degrees (this does not contribute to how far the model moves), and then move the model straight forwards. Once its move has finished, you can pivot it a further 90 degrees as before.</li><br><li><b>Hover Jets</b> Before this model moves in your Movement phase, you can declare it will hover. Its Move characteristic becomes 20\" until the end of the phase and it loses the Airbourne, Hard to Hit and Wings of Khaine abilities until the beginning of your next Movement phase.</li><br><li><b>Spirit Stones</b> Roll a D6 each time a model with spirit stones suffers an unsaved wound or mortal wound: on a 6 the wound is ignored.</li><br><li><b>Crystal Targeting Matrix</b> A model with a crystal targeting matrix does not suffer the penalty for firing a heavy weapon after moving when targeting the closest enemy unit.</li><br><li><b>Colossal Flyer</b> When targeting this model with shooting attacks and psychic powers, always measure to the model’s hull where it would be at tabletop level, even if it is on a flying base. In addition, unless the attacking model has the FLY keyword, add 12\" to the measured distance to determine the range when making shooting attacks against this model. Note that this means many short-ranged shooting weapons will not be able to hit this model. Also, this model does not suffer the penalty for moving and firing Heavy weapons.’</li></ul><b>Faction Keywords:</b> <Craftworld>, Aeldari, Asuryani, Warhost<br><b>Keywords:</b> Fly, Lord of War, Titanic, Vampire, Vampire Hunter, Vehicle, Aircraft"
      ],
      "text/plain": [
       "<IPython.core.display.HTML object>"
      ]
     },
     "metadata": {},
     "output_type": "display_data"
    },
    {
     "name": "stderr",
     "output_type": "stream",
     "text": [
      "WARNING:root:Unknown reference selectionEntry Unit has battle honors? 4763-757f-499f-d998\n",
      "WARNING:root:Unknown reference selectionEntryGroup Battle Honors 5518-d0f5-a880-d71c\n",
      "WARNING:root:Could not get troop type []\n"
     ]
    },
    {
     "data": {
      "text/html": [
       "<h1>Vampire Raider</h1><p>[unknown] [ PL:42, pts:850]</p>\n",
       "    <table style=\"width:75%\">\n",
       "        <tr>\n",
       "            <th style=\"width: 30.0%;\"><b>Name</b></th><th style=\"width: 10.0%;\"><b>Move</b></th><th style=\"width: 7.5%;\"><b>WS</b></th><th style=\"width: 7.5%;\"><b>BS</b></th><th style=\"width: 7.5%;\"><b>S</b></th><th style=\"width: 7.5%;\"><b>T</b></th><th style=\"width: 7.5%;\"><b>W</b></th><th style=\"width: 7.5%;\"><b>A</b></th><th style=\"width: 7.5%;\"><b>L</b></th><th style=\"width: 7.5%;\"><b>Sv</b></th>\n",
       "        </tr>\n",
       "        <tr><td>Vampire Raider</td><td>*</td><td>6+</td><td>*</td><td>9</td><td>8</td><td>32</td><td>*</td><td>9</td><td>3+</td></tr>\n",
       "    </table> Unit contains x of y, x of y with a,b,c<br>\n",
       "    <table style=\"width:75%\">\n",
       "        <tr>\n",
       "            <th style=\"width: 30.0%;\"><b>Weapon</b></th><th style=\"width: 5.0%;\"><b>Range</b></th><th style=\"width: 10.0%;\"><b>Type</b></th><th style=\"width: 5.0%;\"><b>S</b></th><th style=\"width: 5.0%;\"><b>AP</b></th><th style=\"width: 5.0%;\"><b>D</b></th><th style=\"width: 40.0%;\"><b>Abilities</b></th>\n",
       "        </tr>\n",
       "        <tr><td>Scatter Laser</td><td>36\"</td><td>Heavy 4</td><td>6</td><td>0</td><td>1</td><td>-</td></tr><tr><td>Twin Pulse Lasers</td><td>48\"</td><td>Heavy 4</td><td>8</td><td>-3</td><td>3</td><td>-</td></tr>\n",
       "    </table> <b>Abilities:</b><ul><li><b>Airborne</b> This model cannot charge, can only be charged by units that can FLY, and can only attack or be attacked in the Fight phase by units that can FLY.</li><br><li><b>Crash and Burn</b> If this model is reduced to 0 wounds, roll a D6 before removing it from the battlefield. On a 6 it crashes in a fiery explosion and each unit within 6\" suffers D3 mortal wounds.</li><br><li><b>Hard To Hit</b> Your opponent must subtract 1 from hit rolls for attacks that target this model in the Shooting phase.</li><br><li><b>Wings of Khaine</b> When this model Advances, add 20\" to its Move characteristic for that Movement phase instead of rolling a dice. Each time this model moves, first pivot it on the spot up to 90 degrees (this does not contribute to how far the model moves), and then move the model straight forwards. Once its move has finished, you can pivot it a further 90 degrees as before.</li><br><li><b>Hover Jets</b> Before this model moves in your Movement phase, you can declare it will hover. Its Move characteristic becomes 20\" until the end of the phase and it loses the Airbourne, Hard to Hit and Wings of Khaine abilities until the beginning of your next Movement phase.</li><br><li><b>Spirit Stones</b> Roll a D6 each time a model with spirit stones suffers an unsaved wound or mortal wound: on a 6 the wound is ignored.</li><br><li><b>Crystal Targeting Matrix</b> A model with a crystal targeting matrix does not suffer the penalty for firing a heavy weapon after moving when targeting the closest enemy unit.</li><br><li><b>Colossal Flyer</b> When targeting this model with shooting attacks and psychic powers, always measure to the model’s hull where it would be at tabletop level, even if it is on a flying base. In addition, unless the attacking model has the FLY keyword, add 12\" to the measured distance to determine the range when making shooting attacks against this model. Note that this means many short-ranged shooting weapons will not be able to hit this model. Also, this model does not suffer the penalty for moving and firing Heavy weapons.’</li></ul><b>Faction Keywords:</b> <Craftworld>, Aeldari, Asuryani, Warhost<br><b>Keywords:</b> Fly, Lord of War, Titanic, Vampire, Vehicle, Vampire Raider, Transport, Aircraft"
      ],
      "text/plain": [
       "<IPython.core.display.HTML object>"
      ]
     },
     "metadata": {},
     "output_type": "display_data"
    },
    {
     "name": "stderr",
     "output_type": "stream",
     "text": [
      "WARNING:root:Unknown reference selectionEntry Unit has battle honors? 4763-757f-499f-d998\n",
      "WARNING:root:Unknown reference selectionEntryGroup Battle Honors 5518-d0f5-a880-d71c\n",
      "WARNING:root:Could not get troop type []\n"
     ]
    },
    {
     "data": {
      "text/html": [
       "<h1>Phoenix</h1><p>[unknown] [ PL:10, pts:183]</p>\n",
       "    <table style=\"width:75%\">\n",
       "        <tr>\n",
       "            <th style=\"width: 30.0%;\"><b>Name</b></th><th style=\"width: 10.0%;\"><b>Move</b></th><th style=\"width: 7.5%;\"><b>WS</b></th><th style=\"width: 7.5%;\"><b>BS</b></th><th style=\"width: 7.5%;\"><b>S</b></th><th style=\"width: 7.5%;\"><b>T</b></th><th style=\"width: 7.5%;\"><b>W</b></th><th style=\"width: 7.5%;\"><b>A</b></th><th style=\"width: 7.5%;\"><b>L</b></th><th style=\"width: 7.5%;\"><b>Sv</b></th>\n",
       "        </tr>\n",
       "        <tr><td>Phoenix</td><td>*</td><td>6+</td><td>*</td><td>6</td><td>6</td><td>16</td><td>3</td><td>8</td><td>3+</td></tr>\n",
       "    </table> Unit contains x of y, x of y with a,b,c<br>\n",
       "    <table style=\"width:75%\">\n",
       "        <tr>\n",
       "            <th style=\"width: 30.0%;\"><b>Weapon</b></th><th style=\"width: 5.0%;\"><b>Range</b></th><th style=\"width: 10.0%;\"><b>Type</b></th><th style=\"width: 5.0%;\"><b>S</b></th><th style=\"width: 5.0%;\"><b>AP</b></th><th style=\"width: 5.0%;\"><b>D</b></th><th style=\"width: 40.0%;\"><b>Abilities</b></th>\n",
       "        </tr>\n",
       "        <tr><td>Twin Shuriken Cannon</td><td>24\"</td><td>Assault 6</td><td>6</td><td>0</td><td>1</td><td>Each time you make a wound roll of 6+ for this weapon, that hit is resolved with an AP of -3 instead of 0.</td></tr>\n",
       "    </table> <b>Abilities:</b><ul><li><b>Wings of Khaine</b> When this model Advances, add 20\" to its Move characteristic for that Movement phase instead of rolling a dice. Each time this model moves, first pivot it on the spot up to 90 degrees (this does not contribute to how far the model moves), and then move the model straight forwards. Once its move has finished, you can pivot it a further 90 degrees as before.</li><br><li><b>Hard To Hit</b> Your opponent must subtract 1 from hit rolls for attacks that target this model in the Shooting phase.</li><br><li><b>Airborne</b> This model cannot charge, can only be charged by units that can FLY, and can only attack or be attacked in the Fight phase by units that can FLY.</li><br><li><b>Crash and Burn</b> If this model is reduced to 0 wounds, roll a D6 before removing it from the battlefield. On a 6 it crashes in a fiery explosion and each unit within 6\" suffers D3 mortal wounds.</li><br><li><b>Crystal Targeting Matrix</b> A model with a crystal targeting matrix does not suffer the penalty for firing a heavy weapon after moving when targeting the closest enemy unit.</li></ul><b>Faction Keywords:</b> <Craftworld>, Aeldari, Asuryani, Warhost<br><b>Keywords:</b> Fly, Phoenix, Vehicle, Flyer, Aircraft"
      ],
      "text/plain": [
       "<IPython.core.display.HTML object>"
      ]
     },
     "metadata": {},
     "output_type": "display_data"
    },
    {
     "name": "stderr",
     "output_type": "stream",
     "text": [
      "WARNING:root:Unknown reference selectionEntry Unit has battle honors? 4763-757f-499f-d998\n",
      "WARNING:root:Unknown reference selectionEntryGroup Battle Honors 5518-d0f5-a880-d71c\n",
      "WARNING:root:Could not get troop type []\n"
     ]
    },
    {
     "data": {
      "text/html": [
       "<h1>Nightwing</h1><p>[unknown] [ PL:8, pts:76]</p>\n",
       "    <table style=\"width:75%\">\n",
       "        <tr>\n",
       "            <th style=\"width: 30.0%;\"><b>Name</b></th><th style=\"width: 10.0%;\"><b>Move</b></th><th style=\"width: 7.5%;\"><b>WS</b></th><th style=\"width: 7.5%;\"><b>BS</b></th><th style=\"width: 7.5%;\"><b>S</b></th><th style=\"width: 7.5%;\"><b>T</b></th><th style=\"width: 7.5%;\"><b>W</b></th><th style=\"width: 7.5%;\"><b>A</b></th><th style=\"width: 7.5%;\"><b>L</b></th><th style=\"width: 7.5%;\"><b>Sv</b></th>\n",
       "        </tr>\n",
       "        <tr><td>Nightwing</td><td>*</td><td>6+</td><td>*</td><td>6</td><td>6</td><td>12</td><td>3</td><td>8</td><td>3+</td></tr>\n",
       "    </table> Unit contains x of y, x of y with a,b,c<br>\n",
       "    <table style=\"width:75%\">\n",
       "        <tr>\n",
       "            <th style=\"width: 30.0%;\"><b>Weapon</b></th><th style=\"width: 5.0%;\"><b>Range</b></th><th style=\"width: 10.0%;\"><b>Type</b></th><th style=\"width: 5.0%;\"><b>S</b></th><th style=\"width: 5.0%;\"><b>AP</b></th><th style=\"width: 5.0%;\"><b>D</b></th><th style=\"width: 40.0%;\"><b>Abilities</b></th>\n",
       "        </tr>\n",
       "        <tr><td>Twin Shuriken Cannon</td><td>24\"</td><td>Assault 6</td><td>6</td><td>0</td><td>1</td><td>Each time you make a wound roll of 6+ for this weapon, that hit is resolved with an AP of -3 instead of 0.</td></tr><tr><td>Twin Bright Lance</td><td>36\"</td><td>Heavy 2</td><td>8</td><td>-4</td><td>D6</td><td>-</td></tr>\n",
       "    </table> <b>Abilities:</b><ul><li><b>Vector Shift</b> At the start of the Movement phase, before this model is moved, the controlling player must declare if it is operating with either Extended Wings or Retracted Wings. When operating with Retracted Wings and this model Advances, add 24\" to its Move characteristic for that Movement phase instead of rolling a dice - it also gains a 5+ invulnerable save until it switches to operating with Extended Wings. While operating with Extended Wings, this model may be turned to face directly towards any one enemy model it has line of sight to instead of performing its first pivot in the Movement phase (as per the Wings of Khaine ability), this model then adds 1 when making hit rolls against the chosen enemy model for the following shooting phase, but also loses the Hard to Hit ability until it switches to operating with Retracted Wings.</li><br><li><b>Wings of Khaine</b> When this model Advances, add 20\" to its Move characteristic for that Movement phase instead of rolling a dice. Each time this model moves, first pivot it on the spot up to 90 degrees (this does not contribute to how far the model moves), and then move the model straight forwards. Once its move has finished, you can pivot it a further 90 degrees as before.</li><br><li><b>Hard To Hit</b> Your opponent must subtract 1 from hit rolls for attacks that target this model in the Shooting phase.</li><br><li><b>Airborne</b> This model cannot charge, can only be charged by units that can FLY, and can only attack or be attacked in the Fight phase by units that can FLY.</li><br><li><b>Crash and Burn</b> If this model is reduced to 0 wounds, roll a D6 before removing it from the battlefield. On a 6 it crashes in a fiery explosion and each unit within 6\" suffers D3 mortal wounds.</li><br><li><b>Crystal Targeting Matrix</b> A model with a crystal targeting matrix does not suffer the penalty for firing a heavy weapon after moving when targeting the closest enemy unit.</li></ul><b>Faction Keywords:</b> <Craftworld>, Aeldari, Asuryani, Warhost<br><b>Keywords:</b> Fly, Nightwing, Vehicle, Flyer, Aircraft"
      ],
      "text/plain": [
       "<IPython.core.display.HTML object>"
      ]
     },
     "metadata": {},
     "output_type": "display_data"
    },
    {
     "name": "stderr",
     "output_type": "stream",
     "text": [
      "WARNING:root:Unknown reference selectionEntry Unit has battle honors? 4763-757f-499f-d998\n",
      "WARNING:root:Unknown reference selectionEntryGroup Battle Honors 5518-d0f5-a880-d71c\n",
      "WARNING:root:Could not get troop type []\n"
     ]
    },
    {
     "data": {
      "text/html": [
       "<h1>Cobra</h1><p>[unknown] [ PL:28, pts:550]</p>\n",
       "    <table style=\"width:75%\">\n",
       "        <tr>\n",
       "            <th style=\"width: 30.0%;\"><b>Name</b></th><th style=\"width: 10.0%;\"><b>Move</b></th><th style=\"width: 7.5%;\"><b>WS</b></th><th style=\"width: 7.5%;\"><b>BS</b></th><th style=\"width: 7.5%;\"><b>S</b></th><th style=\"width: 7.5%;\"><b>T</b></th><th style=\"width: 7.5%;\"><b>W</b></th><th style=\"width: 7.5%;\"><b>A</b></th><th style=\"width: 7.5%;\"><b>L</b></th><th style=\"width: 7.5%;\"><b>Sv</b></th>\n",
       "        </tr>\n",
       "        <tr><td>Cobra</td><td>*</td><td>6+</td><td>*</td><td>8</td><td>8</td><td>26</td><td>*</td><td>9</td><td>3+</td></tr>\n",
       "    </table> Unit contains x of y, x of y with a,b,c<br>\n",
       "    <table style=\"width:75%\">\n",
       "        <tr>\n",
       "            <th style=\"width: 30.0%;\"><b>Weapon</b></th><th style=\"width: 5.0%;\"><b>Range</b></th><th style=\"width: 10.0%;\"><b>Type</b></th><th style=\"width: 5.0%;\"><b>S</b></th><th style=\"width: 5.0%;\"><b>AP</b></th><th style=\"width: 5.0%;\"><b>D</b></th><th style=\"width: 40.0%;\"><b>Abilities</b></th>\n",
       "        </tr>\n",
       "        <tr><td>D-impaler</td><td>36\"</td><td>Heavy D6</td><td>16</td><td>-5</td><td>2D6</td><td>Each wound of 6+ made for this weapon inflicts D3 mortal wounds to the target in addition to all damage.</td></tr>\n",
       "    </table> <b>Abilities:</b><ul><li><b>D-Rift</b> If this model is reduced to 0 wounds, roll a D6 before removing it from the battlefield. On a 4 or more it implodes, leaving a short-lived rift into the warp in its place. Each unit within 2D6\" suffers D6 mortal wounds.</li><br><li><b>Hover Tank</b> Distance and ranges are always measured to and from this model's hull, even though it has a base.</li></ul><b>Faction Keywords:</b> Aeldari, Warhost<br><b>Keywords:</b> Cobra, Fly, Titanic, Vehicle, Lord of War"
      ],
      "text/plain": [
       "<IPython.core.display.HTML object>"
      ]
     },
     "metadata": {},
     "output_type": "display_data"
    },
    {
     "name": "stderr",
     "output_type": "stream",
     "text": [
      "WARNING:root:Unknown reference selectionEntry Has Battle Honours 4763-757f-499f-d998\n",
      "WARNING:root:Unknown reference selectionEntryGroup Battle Honours 5518-d0f5-a880-d71c\n",
      "WARNING:root:Could not get troop type []\n"
     ]
    },
    {
     "data": {
      "text/html": [
       "<h1>Scorpion</h1><p>[unknown] [ PL:32, pts:700]</p>\n",
       "    <table style=\"width:75%\">\n",
       "        <tr>\n",
       "            <th style=\"width: 30.0%;\"><b>Name</b></th><th style=\"width: 10.0%;\"><b>Move</b></th><th style=\"width: 7.5%;\"><b>WS</b></th><th style=\"width: 7.5%;\"><b>BS</b></th><th style=\"width: 7.5%;\"><b>S</b></th><th style=\"width: 7.5%;\"><b>T</b></th><th style=\"width: 7.5%;\"><b>W</b></th><th style=\"width: 7.5%;\"><b>A</b></th><th style=\"width: 7.5%;\"><b>L</b></th><th style=\"width: 7.5%;\"><b>Sv</b></th>\n",
       "        </tr>\n",
       "        <tr><td>Scorpion</td><td>*</td><td>6+</td><td>*</td><td>8</td><td>8</td><td>26</td><td>*</td><td>9</td><td>3+</td></tr>\n",
       "    </table> Unit contains x of y, x of y with a,b,c<br>\n",
       "    <table style=\"width:75%\">\n",
       "        <tr>\n",
       "            <th style=\"width: 30.0%;\"><b>Weapon</b></th><th style=\"width: 5.0%;\"><b>Range</b></th><th style=\"width: 10.0%;\"><b>Type</b></th><th style=\"width: 5.0%;\"><b>S</b></th><th style=\"width: 5.0%;\"><b>AP</b></th><th style=\"width: 5.0%;\"><b>D</b></th><th style=\"width: 40.0%;\"><b>Abilities</b></th>\n",
       "        </tr>\n",
       "        <tr><td>Twin Scorpion Pulsar</td><td>60\"</td><td>Heavy 4D6</td><td>12</td><td>-4</td><td>3</td><td>Any wound rolls of 6+ made with this weapon are resolved with a Damage characteristic of 6 rather than 3.</td></tr>\n",
       "    </table> <b>Abilities:</b><ul><li><b>Catastrophic Explosion</b> If this model is reduced to 0 wounds, roll a D6 before removing it from the battlefield; on a 5+ it explodes and each unit within 6\" suffers D6 mortal wounds.</li><br><li><b>Hover Tank</b> Distance and ranges are always measured to and from this model's hull, even though it has a base.</li></ul><b>Faction Keywords:</b> <Craftworld>, Aeldari, Asuryani, Warhost<br><b>Keywords:</b> Fly, Lord of War, Scorpion, Titanic, Vehicle"
      ],
      "text/plain": [
       "<IPython.core.display.HTML object>"
      ]
     },
     "metadata": {},
     "output_type": "display_data"
    },
    {
     "name": "stderr",
     "output_type": "stream",
     "text": [
      "WARNING:root:Unknown reference selectionEntry Unit has battle honors? 4763-757f-499f-d998\n",
      "WARNING:root:Unknown reference selectionEntryGroup Battle Honors 5518-d0f5-a880-d71c\n",
      "WARNING:root:Could not get troop type []\n"
     ]
    },
    {
     "data": {
      "text/html": [
       "<h1>Lynx</h1><p>[unknown] [ PL:20, pts:325]</p>\n",
       "    <table style=\"width:75%\">\n",
       "        <tr>\n",
       "            <th style=\"width: 30.0%;\"><b>Name</b></th><th style=\"width: 10.0%;\"><b>Move</b></th><th style=\"width: 7.5%;\"><b>WS</b></th><th style=\"width: 7.5%;\"><b>BS</b></th><th style=\"width: 7.5%;\"><b>S</b></th><th style=\"width: 7.5%;\"><b>T</b></th><th style=\"width: 7.5%;\"><b>W</b></th><th style=\"width: 7.5%;\"><b>A</b></th><th style=\"width: 7.5%;\"><b>L</b></th><th style=\"width: 7.5%;\"><b>Sv</b></th>\n",
       "        </tr>\n",
       "        <tr><td>Lynx</td><td>*</td><td>6+</td><td>*</td><td>6</td><td>7</td><td>16</td><td>3</td><td>8</td><td>3+</td></tr>\n",
       "    </table> Unit contains x of y, x of y with a,b,c<br>\n",
       "    <table style=\"width:75%\">\n",
       "        <tr>\n",
       "            <th style=\"width: 30.0%;\"><b>Weapon</b></th><th style=\"width: 5.0%;\"><b>Range</b></th><th style=\"width: 10.0%;\"><b>Type</b></th><th style=\"width: 5.0%;\"><b>S</b></th><th style=\"width: 5.0%;\"><b>AP</b></th><th style=\"width: 5.0%;\"><b>D</b></th><th style=\"width: 40.0%;\"><b>Abilities</b></th>\n",
       "        </tr>\n",
       "        \n",
       "    </table> <b>Abilities:</b><ul><li><b>Sky Hunter</b> At the start of any of your turns, before the beginning of the Movement phase, this vehicle may activate the Sky Hunter ability. When activated, this unit gains the Airborne and Lumbering Flyer abilities and uses the Movement characteristic for Sky Hunter instead of its regular Movement (see Damage table). The effects of this ability last until you choose to end them, which may be done at the beginning of any of your own Movement phases, at which point the vehicle loses the Airborne and Lumbering Flyer abilities until Sky Hunter is activated again.</li><br><li><b>Lumbering Flyer (Sky Hunter Ability)</b> When this model Advances, add 20\" to its Move characteristic for that Movement phase instead of rolling a dice. When this model moves, first pivot it on the spot up to 90 degrees (this does not contribute to how far the model moves) and then move the model straight forwards at least as much as its minimum Move and not more than its maximum.</li><br><li><b>Hover Tank</b> Distance and ranges are always measured to and from this model's hull, even though it has a base.</li><br><li><b>Airborne</b> This model cannot charge, can only be charged by units that can FLY, and can only attack or be attacked in the Fight phase by units that can FLY.</li><br><li><b>Explodes (Hover Tank)</b> If this model is reduced to 0 wounds, roll a D6 before removing it from the battlefield. On a 6 it explodes, and each unit within 6\" suffers D3 mortal wounds.</li></ul><b>Faction Keywords:</b> <Craftworld>, Aeldari, Asuryani, Warhost<br><b>Keywords:</b> Fly, Heavy Support, Lynx, Vehicle"
      ],
      "text/plain": [
       "<IPython.core.display.HTML object>"
      ]
     },
     "metadata": {},
     "output_type": "display_data"
    },
    {
     "name": "stderr",
     "output_type": "stream",
     "text": [
      "WARNING:root:Unknown reference selectionEntry Unit has battle honors? 4763-757f-499f-d998\n",
      "WARNING:root:Unknown reference selectionEntryGroup Battle Honors 5518-d0f5-a880-d71c\n",
      "WARNING:root:Could not get troop type []\n"
     ]
    },
    {
     "data": {
      "text/html": [
       "<h1>Warp Hunter</h1><p>[unknown] [ PL:12, pts:175]</p>\n",
       "    <table style=\"width:75%\">\n",
       "        <tr>\n",
       "            <th style=\"width: 30.0%;\"><b>Name</b></th><th style=\"width: 10.0%;\"><b>Move</b></th><th style=\"width: 7.5%;\"><b>WS</b></th><th style=\"width: 7.5%;\"><b>BS</b></th><th style=\"width: 7.5%;\"><b>S</b></th><th style=\"width: 7.5%;\"><b>T</b></th><th style=\"width: 7.5%;\"><b>W</b></th><th style=\"width: 7.5%;\"><b>A</b></th><th style=\"width: 7.5%;\"><b>L</b></th><th style=\"width: 7.5%;\"><b>Sv</b></th>\n",
       "        </tr>\n",
       "        <tr><td>Warp Hunter</td><td>*</td><td>6+</td><td>*</td><td>6</td><td>7</td><td>12</td><td>*</td><td>8</td><td>3+</td></tr>\n",
       "    </table> Unit contains x of y, x of y with a,b,c<br>\n",
       "    <table style=\"width:75%\">\n",
       "        <tr>\n",
       "            <th style=\"width: 30.0%;\"><b>Weapon</b></th><th style=\"width: 5.0%;\"><b>Range</b></th><th style=\"width: 10.0%;\"><b>Type</b></th><th style=\"width: 5.0%;\"><b>S</b></th><th style=\"width: 5.0%;\"><b>AP</b></th><th style=\"width: 5.0%;\"><b>D</b></th><th style=\"width: 40.0%;\"><b>Abilities</b></th>\n",
       "        </tr>\n",
       "        <tr><td>D-flail (Blast)</td><td>36\"</td><td>Heavy D3</td><td>10</td><td>-4</td><td>D6</td><td>This weapon may target enemy units that are not visible to the bearer. When targeting an enemy unit that has 10 or more models, increase the number of hit rolls made to 2D3.</td></tr><tr><td>D-flail (Rift)</td><td>12\"</td><td>Heavy D6</td><td>10</td><td>-4</td><td>D6</td><td>This weapon hits its targets automatically.</td></tr>\n",
       "    </table> <b>Abilities:</b><ul><li><b>Explodes (Hover Tank)</b> If this model is reduced to 0 wounds, roll a D6 before removing it from the battlefield. On a 6 it explodes, and each unit within 6\" suffers D3 mortal wounds.</li><br><li><b>Hover Tank</b> Distance and ranges are always measured to and from this model's hull, even though it has a base.</li></ul><b>Faction Keywords:</b> <Craftworld>, Aeldari, Asuryani, Warhost<br><b>Keywords:</b> Fly, Heavy Support, Vehicle, Warp Hunter"
      ],
      "text/plain": [
       "<IPython.core.display.HTML object>"
      ]
     },
     "metadata": {},
     "output_type": "display_data"
    },
    {
     "name": "stderr",
     "output_type": "stream",
     "text": [
      "WARNING:root:Unknown reference selectionEntry Unit has battle honors? 4763-757f-499f-d998\n",
      "WARNING:root:Unknown reference selectionEntryGroup Battle Honors 5518-d0f5-a880-d71c\n",
      "WARNING:root:Could not get troop type []\n"
     ]
    },
    {
     "data": {
      "text/html": [
       "<h1>Hornet</h1><p>[unknown] []</p>\n",
       "    <table style=\"width:75%\">\n",
       "        <tr>\n",
       "            <th style=\"width: 30.0%;\"><b>Name</b></th><th style=\"width: 10.0%;\"><b>Move</b></th><th style=\"width: 7.5%;\"><b>WS</b></th><th style=\"width: 7.5%;\"><b>BS</b></th><th style=\"width: 7.5%;\"><b>S</b></th><th style=\"width: 7.5%;\"><b>T</b></th><th style=\"width: 7.5%;\"><b>W</b></th><th style=\"width: 7.5%;\"><b>A</b></th><th style=\"width: 7.5%;\"><b>L</b></th><th style=\"width: 7.5%;\"><b>Sv</b></th>\n",
       "        </tr>\n",
       "        <tr><td>Hornet</td><td>18\"</td><td>6+</td><td>3+</td><td>4</td><td>6</td><td>8</td><td>2</td><td>8</td><td>3+</td></tr>\n",
       "    </table> Unit contains x of y, x of y with a,b,c<br>\n",
       "    <table style=\"width:75%\">\n",
       "        <tr>\n",
       "            <th style=\"width: 30.0%;\"><b>Weapon</b></th><th style=\"width: 5.0%;\"><b>Range</b></th><th style=\"width: 10.0%;\"><b>Type</b></th><th style=\"width: 5.0%;\"><b>S</b></th><th style=\"width: 5.0%;\"><b>AP</b></th><th style=\"width: 5.0%;\"><b>D</b></th><th style=\"width: 40.0%;\"><b>Abilities</b></th>\n",
       "        </tr>\n",
       "        \n",
       "    </table> <b>Abilities:</b><ul><li><b>Explodes (Hornet)</b> If this model is reduced to 0 wounds, roll a D6 before removing it from the battlefield; on a 6 it explodes and each unt within 3\" suffers a mortal wound.</li><br><li><b>Lightning Assault</b> On any turn in which this model Advances, your opponent must subtract 1 from hit rolls for attacks that target this model in the Shooting phase.</li><br><li><b>Hover Tank</b> Distance and ranges are always measured to and from this model's hull, even though it has a base.</li></ul><b>Faction Keywords:</b> <Craftworld>, Aeldari, Asuryani, Warhost<br><b>Keywords:</b> Fly, Fast Attack, Hornet, Vehicle"
      ],
      "text/plain": [
       "<IPython.core.display.HTML object>"
      ]
     },
     "metadata": {},
     "output_type": "display_data"
    },
    {
     "name": "stderr",
     "output_type": "stream",
     "text": [
      "WARNING:root:Unknown reference selectionEntry Is A Custom Character 43c4-8968-c599-ad5f\n",
      "WARNING:root:Unknown reference selectionEntryGroup Custom Character Selections 8774-e003-4a50-56c7\n",
      "WARNING:root:Unknown reference selectionEntry Stratagem: Field Commander d043-3847-e963-fb5d\n",
      "WARNING:root:Unknown reference selectionEntryGroup Warlord Traits (Ynnari) 2fc3-8ba7-0594-29f6\n",
      "WARNING:root:Unknown reference selectionEntry Ynnari Warlord 75e4-e07c-3a6d-46c5\n",
      "WARNING:root:Could not get troop type []\n"
     ]
    },
    {
     "data": {
      "text/html": [
       "<h1>Wraithseer</h1><p>[unknown] [ PL:9, pts:100]</p>\n",
       "    <table style=\"width:75%\">\n",
       "        <tr>\n",
       "            <th style=\"width: 30.0%;\"><b>Name</b></th><th style=\"width: 10.0%;\"><b>Move</b></th><th style=\"width: 7.5%;\"><b>WS</b></th><th style=\"width: 7.5%;\"><b>BS</b></th><th style=\"width: 7.5%;\"><b>S</b></th><th style=\"width: 7.5%;\"><b>T</b></th><th style=\"width: 7.5%;\"><b>W</b></th><th style=\"width: 7.5%;\"><b>A</b></th><th style=\"width: 7.5%;\"><b>L</b></th><th style=\"width: 7.5%;\"><b>Sv</b></th>\n",
       "        </tr>\n",
       "        <tr><td>Wraithseer</td><td>*</td><td>*</td><td>*</td><td>7</td><td>8</td><td>12</td><td>4</td><td>9</td><td>3+</td></tr>\n",
       "    </table> Unit contains x of y, x of y with a,b,c<br>\n",
       "    <table style=\"width:75%\">\n",
       "        <tr>\n",
       "            <th style=\"width: 30.0%;\"><b>Weapon</b></th><th style=\"width: 5.0%;\"><b>Range</b></th><th style=\"width: 10.0%;\"><b>Type</b></th><th style=\"width: 5.0%;\"><b>S</b></th><th style=\"width: 5.0%;\"><b>AP</b></th><th style=\"width: 5.0%;\"><b>D</b></th><th style=\"width: 40.0%;\"><b>Abilities</b></th>\n",
       "        </tr>\n",
       "        <tr><td>Warp-Spawn Bane</td><td>Melee</td><td>Melee</td><td>User</td><td>0</td><td>2</td><td>This weapon always wounds on a roll of 2+. In addition, ignore invulnerable saves for attacks made by this weapon that target enemy PSYKERS or DAEMONS.</td></tr><tr><td>Kurnous' Bow</td><td>12\"</td><td>Pistol 1</td><td>4</td><td>0</td><td>2</td><td>Each time you make a wound roll of 4+ for this weapon, that hit is resolved with an AP of -3 instead of 0.</td></tr><tr><td>The Novalance of Saim-Hann (shooting)</td><td>12\"</td><td>Assault 1</td><td>6</td><td>-4</td><td>2</td><td>-</td></tr><tr><td>Firesabre</td><td>Melee</td><td>Melee</td><td>+1</td><td>-4</td><td>1</td><td>Each time you make a wound roll of 6+ for this weapon, it inflicts a mortal wound on the target instead of the normal damage.</td></tr><tr><td>Shard of Anaris</td><td>Melee</td><td>Melee</td><td>User</td><td>-3</td><td>D3</td><td>You can re-roll failed wound rolls for this weapon.</td></tr><tr><td>The Burnished Blade of Elliarna</td><td>Melee</td><td>Melee</td><td>User</td><td>-3</td><td>2</td><td>Add 1 to this weapon's Strength and Damage characteristics for any attack made for it that targets an ORK unit.</td></tr><tr><td>Howling Skysword of Galaleth</td><td>Melee</td><td>Melee</td><td>User</td><td>0</td><td>3</td><td>This weapon always wounds on a roll of 2+.</td></tr><tr><td>The Novalance of Saim-Hann (melee)</td><td>Melee</td><td>Melee</td><td>+2</td><td>-4</td><td>2</td><td>Attacks with this weapon in the Fight phase are made at Strength 8 if the bearer charged in the same turn. In addition, if the wound roll for an attack made with this weapon is 6+, add 2 to the damage inflicted by that attack.</td></tr><tr><td>Ghostspear</td><td>Melee</td><td>Melee</td><td>+2</td><td>-4</td><td>D6</td><td>When making wound rolls for hits inflicted with this weapon upon a VEHICLE, re-roll any results of '1'.</td></tr>\n",
       "    </table> <b>Abilities:</b><ul><li><b>Wraithshield</b> A Wraithseer has a 5+ invulnerable save.</li><br><li><b>Kurnous' Bow</b> Model with a shuriken pistol only. Kurnous' Bow replaces this model's shuriken pistol and has the following profile.</li><br><li><b>The Phoenix Gem</b> The first time this model is slain, roll a D6 for each unit (friend or foe) within 3\" of this model. On a roll of 2 or more, that unit suffers D3 mortal wounds. If at least one mortal wound is inflicted as a result of this, then this model is not slain, but remains in play with a single wound remaining. If no mortal wounds are inflicted, this model is slain.</li><br><li><b>Shard of Anaris</b> Model with a power sword only. The Shard of Anaris replaces this model's power sword and has the following profile:</li><br><li><b>Faolchu's Wing</b> INFANTRY model only. The bearer of Faolchu's Wing has a Move characteristic of 12\" and can FLY.</li><br><li><b>Firesabre</b> Model with a power sword only. The Shard of Anaris replaces this model's power sword and has the following profile</li><br><li><b>The Spirit Stone of Anath'lan</b> BIEL-TAN PSYKER models only. You can re-roll any failed Psychic tests for the bearer. However, should this result in a second failure, then this model is overwhelmed by waves of grief and cannot attempt to manifest any more psychic powers this phase.</li><br><li><b>Shiftshroud of Alanssair</b> ALAITOC INFANTRY model only. Your opponent must subtract 1 from their rolls for attacks that target the bearer in the Shooting phase. In addition, during deployment, you may set up this model in hiding instead of placing it on the battlefield. At the end of any of your Movement phases, this unit can emerge from the webway – set this unit up anywhere on the battlefield that is more than 9\" away from any enemy models.</li><br><li><b>The Burnished Blade of Elliarna</b> BIEL-TAN model with a power sword only. The Burnished Blade of Elliarna replaces the model's power sword.</li><br><li><b>Psytronome of Iyanden</b> IYANDEN PSYKER only. Once during the battle, at the start of a Fight phase, you can declare that this model will activate the Psytronome of Iyanden. If you do so, for the rest of that Fight phase the Attacks characteristics of all friendly IYANDEN WRAITH CONSTRUCT  units that are within 6\" of this model are doubled. However, at the end of the Fight phase, each IYANDEN WRAITH CONSTRUCT unit that was affected by the Psytronome suffers D3 mortal wounds.</li><br><li><b>The Novalance of Saim-Hann</b> SAIM-HANN model with a laser lance only.</li><br><li><b>Ghosthelm of Alishazier</b> ULTHWE PSYKER only. The wearer adds 1 to any Psychic test when attempting to manifest the Smite power.</li><br><li><b>Blazing Star of Vaul</b> Model with a shuriken pistol or twin shuriken catapult only. One shuriken weapon carried by the model is a Blazing Star of Vaul. Add 2 to the number of attacks that the weapon can make.</li><br><li><b>Shimmerplume of Achillrial</b> AUTARCH only. Subtract 1 from all hit rolls that target this model.</li><br><li><b>Twilight Gloom</b> Twilight Gloom has a warp charge value of 6. If manifested, pick a friendly WRAITH HOST unit within 18\" of the psyker. Until the start of your next turn, that unit receives the benefit to their saving throws for being in cover, even while they are not wholly on or within a terrain feature. </li></ul><b>Faction Keywords:</b> Aeldari, Spirit Host<br><b>Keywords:</b> Character, HQ, Monster, Psyker, Wraithseer, Wraith Construct"
      ],
      "text/plain": [
       "<IPython.core.display.HTML object>"
      ]
     },
     "metadata": {},
     "output_type": "display_data"
    },
    {
     "name": "stderr",
     "output_type": "stream",
     "text": [
      "WARNING:root:Unknown reference selectionEntry Unit has battle honors? 4763-757f-499f-d998\n",
      "WARNING:root:Unknown reference selectionEntryGroup Battle Honors 5518-d0f5-a880-d71c\n",
      "WARNING:root:Could not get troop type []\n"
     ]
    },
    {
     "data": {
      "text/html": [
       "<h1>Wasp Assault Walkers</h1><p>[unknown] []</p>\n",
       "    <table style=\"width:75%\">\n",
       "        <tr>\n",
       "            <th style=\"width: 30.0%;\"><b>Name</b></th><th style=\"width: 10.0%;\"><b>Move</b></th><th style=\"width: 7.5%;\"><b>WS</b></th><th style=\"width: 7.5%;\"><b>BS</b></th><th style=\"width: 7.5%;\"><b>S</b></th><th style=\"width: 7.5%;\"><b>T</b></th><th style=\"width: 7.5%;\"><b>W</b></th><th style=\"width: 7.5%;\"><b>A</b></th><th style=\"width: 7.5%;\"><b>L</b></th><th style=\"width: 7.5%;\"><b>Sv</b></th>\n",
       "        </tr>\n",
       "        <tr><td>Wasp Assault Walker</td><td>10\"</td><td>3+</td><td>3+</td><td>5</td><td>6</td><td>7</td><td>2</td><td>8</td><td>4+</td></tr>\n",
       "    </table> Unit contains x of y, x of y with a,b,c<br>\n",
       "    <table style=\"width:75%\">\n",
       "        <tr>\n",
       "            <th style=\"width: 30.0%;\"><b>Weapon</b></th><th style=\"width: 5.0%;\"><b>Range</b></th><th style=\"width: 10.0%;\"><b>Type</b></th><th style=\"width: 5.0%;\"><b>S</b></th><th style=\"width: 5.0%;\"><b>AP</b></th><th style=\"width: 5.0%;\"><b>D</b></th><th style=\"width: 40.0%;\"><b>Abilities</b></th>\n",
       "        </tr>\n",
       "        \n",
       "    </table> <b>Abilities:</b><ul><li><b>Explodes (Wasp)</b> If this model is reduced to 0 wounds, roll a D6 before removing it from the battlefield; on a 6 it explodes and each unt within 3\" suffers a mortal wound.</li><br><li><b>Power Field</b> Models in this unit have a 5+ invulnerable save.</li><br><li><b>Cloudbreaker</b> During deployment, you can set up a Wasp Assault Walker unit in an orbital transport instead of placing it on the battlefield. At the end of any of your Movement phases, the unit can descend using their jump packs - set them up anywhere on the battlefield that is more than 9\" away from any enemy models.</li></ul><b>Faction Keywords:</b> <Craftworld>, Aeldari, Asuryani, Warhost<br><b>Keywords:</b> Fast Attack, Fly, Vehicle, Wasp Assault Walker"
      ],
      "text/plain": [
       "<IPython.core.display.HTML object>"
      ]
     },
     "metadata": {},
     "output_type": "display_data"
    },
    {
     "name": "stderr",
     "output_type": "stream",
     "text": [
      "WARNING:root:Unknown reference selectionEntry Unit has battle honors? 4763-757f-499f-d998\n",
      "WARNING:root:Unknown reference selectionEntryGroup Battle Honors 5518-d0f5-a880-d71c\n",
      "WARNING:root:Could not get troop type []\n"
     ]
    },
    {
     "data": {
      "text/html": [
       "<h1>Shadow Spectres</h1><p>[unknown] [ PL:6]</p>\n",
       "    <table style=\"width:75%\">\n",
       "        <tr>\n",
       "            <th style=\"width: 30.0%;\"><b>Name</b></th><th style=\"width: 10.0%;\"><b>Move</b></th><th style=\"width: 7.5%;\"><b>WS</b></th><th style=\"width: 7.5%;\"><b>BS</b></th><th style=\"width: 7.5%;\"><b>S</b></th><th style=\"width: 7.5%;\"><b>T</b></th><th style=\"width: 7.5%;\"><b>W</b></th><th style=\"width: 7.5%;\"><b>A</b></th><th style=\"width: 7.5%;\"><b>L</b></th><th style=\"width: 7.5%;\"><b>Sv</b></th>\n",
       "        </tr>\n",
       "        \n",
       "    </table> Unit contains x of y, x of y with a,b,c<br>\n",
       "    <table style=\"width:75%\">\n",
       "        <tr>\n",
       "            <th style=\"width: 30.0%;\"><b>Weapon</b></th><th style=\"width: 5.0%;\"><b>Range</b></th><th style=\"width: 10.0%;\"><b>Type</b></th><th style=\"width: 5.0%;\"><b>S</b></th><th style=\"width: 5.0%;\"><b>AP</b></th><th style=\"width: 5.0%;\"><b>D</b></th><th style=\"width: 40.0%;\"><b>Abilities</b></th>\n",
       "        </tr>\n",
       "        \n",
       "    </table> <b>Abilities:</b><ul><li><b>Spectre Holo-field</b> Enemy units must subtract 1 from hit rolls made against a unit with this ability.</li></ul><b>Faction Keywords:</b> <Craftworld>, Aeldari, Aspect Warrior, Asuryani<br><b>Keywords:</b> Elites, Fly, Infantry, Jet Pack, Shadow Spectres, Jump Pack"
      ],
      "text/plain": [
       "<IPython.core.display.HTML object>"
      ]
     },
     "metadata": {},
     "output_type": "display_data"
    },
    {
     "name": "stderr",
     "output_type": "stream",
     "text": [
      "WARNING:root:Could not get troop type []\n"
     ]
    },
    {
     "data": {
      "text/html": [
       "<h1>Craftworld Attribute</h1><p>[unknown] []</p>\n",
       "    <table style=\"width:75%\">\n",
       "        <tr>\n",
       "            <th style=\"width: 30.0%;\"><b>Name</b></th><th style=\"width: 10.0%;\"><b>Move</b></th><th style=\"width: 7.5%;\"><b>WS</b></th><th style=\"width: 7.5%;\"><b>BS</b></th><th style=\"width: 7.5%;\"><b>S</b></th><th style=\"width: 7.5%;\"><b>T</b></th><th style=\"width: 7.5%;\"><b>W</b></th><th style=\"width: 7.5%;\"><b>A</b></th><th style=\"width: 7.5%;\"><b>L</b></th><th style=\"width: 7.5%;\"><b>Sv</b></th>\n",
       "        </tr>\n",
       "        \n",
       "    </table> Unit contains x of y, x of y with a,b,c<br>\n",
       "    <table style=\"width:75%\">\n",
       "        <tr>\n",
       "            <th style=\"width: 30.0%;\"><b>Weapon</b></th><th style=\"width: 5.0%;\"><b>Range</b></th><th style=\"width: 10.0%;\"><b>Type</b></th><th style=\"width: 5.0%;\"><b>S</b></th><th style=\"width: 5.0%;\"><b>AP</b></th><th style=\"width: 5.0%;\"><b>D</b></th><th style=\"width: 40.0%;\"><b>Abilities</b></th>\n",
       "        </tr>\n",
       "        \n",
       "    </table> <b>Abilities:</b><ul><li><b>Alaitoc: Fieldcraft</b> Your opponent must subtract 1 from any hit rolls for attacks that target a unit with this attribute at a range of more than 12\".</li><br><li><b>Biel-Tan: Swordwind</b> Add 1 to the leadership characteristicof ASPECT WARRIORS with this attribute. In addition, you can re-roll hit rolls of 1 for shuriken weapons used by units with this attribute. A shuriken weapon is any weapon profile whose name includes the word \"shuriken\" (e.g. shuriken pistol, Avenger shuriken catapult etc.) Kurnous' Bow, the Blazing Star of Vaul, and Scorpion's Claw are also shuriken weapons.</li><br><li><b>Iyanden: Stoic Endurance</b> A unit with this attribute can never lose more than one model as a result of any single failed Morale test. In addition, if a unit with a damage chart has this attribute, double the number of wounds it actually has remaining whenever you are consulting the chart to determine its characteristics.</li><br><li><b>Saim-Hann: Wild Host</b> You can re-roll failed charge rolls for units with this attribute. In addition, BIKER units with this attribute do not suffer the penalty to their hit rolls for moving and firing heavy weapons.</li><br><li><b>Ulthwe: Foresight of the Damned</b> Roll a D6 each time a model with this attribute loses a wound; on a 6 that wound is ignored. If a model has a similar ability (e.g. the Hemlock Wraithfighter's Spirit Stones ability, or the Farseer's Ghosthelm ability) you can choose which ability to use when a model loses a wound, but you cannot choose both.</li><br><li><b>Ynnari</b> Requires a Ynnari Character in Detachment. Detachment loses subfaction keywords and gains the REBORN keyword instead, and my not be the target of original subfaction stratagems.</li></ul><b>Faction Keywords:</b> <Craftworld>, Asuryani<br><b>Keywords:</b> Configuration"
      ],
      "text/plain": [
       "<IPython.core.display.HTML object>"
      ]
     },
     "metadata": {},
     "output_type": "display_data"
    },
    {
     "name": "stderr",
     "output_type": "stream",
     "text": [
      "WARNING:root:Could not get troop type []\n"
     ]
    },
    {
     "data": {
      "text/html": [
       "<h1>The Path of War</h1><p>[unknown] []</p>\n",
       "    <table style=\"width:75%\">\n",
       "        <tr>\n",
       "            <th style=\"width: 30.0%;\"><b>Name</b></th><th style=\"width: 10.0%;\"><b>Move</b></th><th style=\"width: 7.5%;\"><b>WS</b></th><th style=\"width: 7.5%;\"><b>BS</b></th><th style=\"width: 7.5%;\"><b>S</b></th><th style=\"width: 7.5%;\"><b>T</b></th><th style=\"width: 7.5%;\"><b>W</b></th><th style=\"width: 7.5%;\"><b>A</b></th><th style=\"width: 7.5%;\"><b>L</b></th><th style=\"width: 7.5%;\"><b>Sv</b></th>\n",
       "        </tr>\n",
       "        \n",
       "    </table> Unit contains x of y, x of y with a,b,c<br>\n",
       "    <table style=\"width:75%\">\n",
       "        <tr>\n",
       "            <th style=\"width: 30.0%;\"><b>Weapon</b></th><th style=\"width: 5.0%;\"><b>Range</b></th><th style=\"width: 10.0%;\"><b>Type</b></th><th style=\"width: 5.0%;\"><b>S</b></th><th style=\"width: 5.0%;\"><b>AP</b></th><th style=\"width: 5.0%;\"><b>D</b></th><th style=\"width: 40.0%;\"><b>Abilities</b></th>\n",
       "        </tr>\n",
       "        \n",
       "    </table> <b>Abilities:</b><ul><li><b>The Path of War</b> If your army is battle-forged, all Troops units in Craftworlds Detachments gain this ability. Such a unit that is within range of an objective marker (as specified in the mission) controls that objective marker even if there are more enemy models within range of it. If an enemy unit has a similar ability, then the objective marker is controlled by the player who has the most models within range as normal.</li></ul><b>Faction Keywords:</b> <Craftworld>, Asuryani<br><b>Keywords:</b> Configuration"
      ],
      "text/plain": [
       "<IPython.core.display.HTML object>"
      ]
     },
     "metadata": {},
     "output_type": "display_data"
    },
    {
     "name": "stderr",
     "output_type": "stream",
     "text": [
      "WARNING:root:Unknown reference selectionEntry Is A Custom Character 43c4-8968-c599-ad5f\n",
      "WARNING:root:Unknown reference selectionEntryGroup Custom Character Selections 8774-e003-4a50-56c7\n",
      "WARNING:root:Unknown reference selectionEntry Ynnari Warlord 75e4-e07c-3a6d-46c5\n",
      "WARNING:root:Unknown reference selectionEntryGroup Warlord Traits (Ynnari) 2fc3-8ba7-0594-29f6\n",
      "WARNING:root:Could not get troop type []\n"
     ]
    },
    {
     "data": {
      "text/html": [
       "<h1>Bonesinger</h1><p>[unknown] [ PL:4, pts:55]</p>\n",
       "    <table style=\"width:75%\">\n",
       "        <tr>\n",
       "            <th style=\"width: 30.0%;\"><b>Name</b></th><th style=\"width: 10.0%;\"><b>Move</b></th><th style=\"width: 7.5%;\"><b>WS</b></th><th style=\"width: 7.5%;\"><b>BS</b></th><th style=\"width: 7.5%;\"><b>S</b></th><th style=\"width: 7.5%;\"><b>T</b></th><th style=\"width: 7.5%;\"><b>W</b></th><th style=\"width: 7.5%;\"><b>A</b></th><th style=\"width: 7.5%;\"><b>L</b></th><th style=\"width: 7.5%;\"><b>Sv</b></th>\n",
       "        </tr>\n",
       "        <tr><td>Bonesinger</td><td>7\"</td><td>3+</td><td>3+</td><td>3</td><td>3</td><td>4</td><td>1</td><td>7</td><td>6+</td></tr>\n",
       "    </table> Unit contains x of y, x of y with a,b,c<br>\n",
       "    <table style=\"width:75%\">\n",
       "        <tr>\n",
       "            <th style=\"width: 30.0%;\"><b>Weapon</b></th><th style=\"width: 5.0%;\"><b>Range</b></th><th style=\"width: 10.0%;\"><b>Type</b></th><th style=\"width: 5.0%;\"><b>S</b></th><th style=\"width: 5.0%;\"><b>AP</b></th><th style=\"width: 5.0%;\"><b>D</b></th><th style=\"width: 40.0%;\"><b>Abilities</b></th>\n",
       "        </tr>\n",
       "        <tr><td>Warp-Spawn Bane</td><td>Melee</td><td>Melee</td><td>User</td><td>0</td><td>2</td><td>This weapon always wounds on a roll of 2+. In addition, ignore invulnerable saves for attacks made by this weapon that target enemy PSYKERS or DAEMONS.</td></tr><tr><td>Kurnous' Bow</td><td>12\"</td><td>Pistol 1</td><td>4</td><td>0</td><td>2</td><td>Each time you make a wound roll of 4+ for this weapon, that hit is resolved with an AP of -3 instead of 0.</td></tr><tr><td>The Novalance of Saim-Hann (shooting)</td><td>12\"</td><td>Assault 1</td><td>6</td><td>-4</td><td>2</td><td>-</td></tr><tr><td>Firesabre</td><td>Melee</td><td>Melee</td><td>+1</td><td>-4</td><td>1</td><td>Each time you make a wound roll of 6+ for this weapon, it inflicts a mortal wound on the target instead of the normal damage.</td></tr><tr><td>Shard of Anaris</td><td>Melee</td><td>Melee</td><td>User</td><td>-3</td><td>D3</td><td>You can re-roll failed wound rolls for this weapon.</td></tr><tr><td>Psytronome shaper</td><td>Melee</td><td>Melee</td><td>User</td><td>0</td><td>D3</td><td>-</td></tr><tr><td>The Burnished Blade of Elliarna</td><td>Melee</td><td>Melee</td><td>User</td><td>-3</td><td>2</td><td>Add 1 to this weapon's Strength and Damage characteristics for any attack made for it that targets an ORK unit.</td></tr><tr><td>Howling Skysword of Galaleth</td><td>Melee</td><td>Melee</td><td>User</td><td>0</td><td>3</td><td>This weapon always wounds on a roll of 2+.</td></tr><tr><td>The Novalance of Saim-Hann (melee)</td><td>Melee</td><td>Melee</td><td>+2</td><td>-4</td><td>2</td><td>Attacks with this weapon in the Fight phase are made at Strength 8 if the bearer charged in the same turn. In addition, if the wound roll for an attack made with this weapon is 6+, add 2 to the damage inflicted by that attack.</td></tr>\n",
       "    </table> <b>Abilities:</b><ul><li><b>Path of the Shaper</b> In your Psychic phase, this model can reknit wraithbone instead of attempting to manifest any psychic powers. If it does so, select a single <CRAFTWORLD> VEHICLE or WRAITH CONSTRUCT model within 3\". That model regains D3 lost wounds. A model can only be healed by this ability once per turn.</li><br><li><b>Rune Armour</b> This model has a 4+ invulnerable save.</li><br><li><b>Kurnous' Bow</b> Model with a shuriken pistol only. Kurnous' Bow replaces this model's shuriken pistol and has the following profile.</li><br><li><b>The Phoenix Gem</b> The first time this model is slain, roll a D6 for each unit (friend or foe) within 3\" of this model. On a roll of 2 or more, that unit suffers D3 mortal wounds. If at least one mortal wound is inflicted as a result of this, then this model is not slain, but remains in play with a single wound remaining. If no mortal wounds are inflicted, this model is slain.</li><br><li><b>Shard of Anaris</b> Model with a power sword only. The Shard of Anaris replaces this model's power sword and has the following profile:</li><br><li><b>Faolchu's Wing</b> INFANTRY model only. The bearer of Faolchu's Wing has a Move characteristic of 12\" and can FLY.</li><br><li><b>Firesabre</b> Model with a power sword only. The Shard of Anaris replaces this model's power sword and has the following profile</li><br><li><b>The Spirit Stone of Anath'lan</b> BIEL-TAN PSYKER models only. You can re-roll any failed Psychic tests for the bearer. However, should this result in a second failure, then this model is overwhelmed by waves of grief and cannot attempt to manifest any more psychic powers this phase.</li><br><li><b>Shiftshroud of Alanssair</b> ALAITOC INFANTRY model only. Your opponent must subtract 1 from their rolls for attacks that target the bearer in the Shooting phase. In addition, during deployment, you may set up this model in hiding instead of placing it on the battlefield. At the end of any of your Movement phases, this unit can emerge from the webway – set this unit up anywhere on the battlefield that is more than 9\" away from any enemy models.</li><br><li><b>The Burnished Blade of Elliarna</b> BIEL-TAN model with a power sword only. The Burnished Blade of Elliarna replaces the model's power sword.</li><br><li><b>Psytronome of Iyanden</b> IYANDEN PSYKER only. Once during the battle, at the start of a Fight phase, you can declare that this model will activate the Psytronome of Iyanden. If you do so, for the rest of that Fight phase the Attacks characteristics of all friendly IYANDEN WRAITH CONSTRUCT  units that are within 6\" of this model are doubled. However, at the end of the Fight phase, each IYANDEN WRAITH CONSTRUCT unit that was affected by the Psytronome suffers D3 mortal wounds.</li><br><li><b>The Novalance of Saim-Hann</b> SAIM-HANN model with a laser lance only.</li><br><li><b>Ghosthelm of Alishazier</b> ULTHWE PSYKER only. The wearer adds 1 to any Psychic test when attempting to manifest the Smite power.</li><br><li><b>Blazing Star of Vaul</b> Model with a shuriken pistol or twin shuriken catapult only. One shuriken weapon carried by the model is a Blazing Star of Vaul. Add 2 to the number of attacks that the weapon can make.</li><br><li><b>Shimmerplume of Achillrial</b> AUTARCH only. Subtract 1 from all hit rolls that target this model.</li></ul><b>Faction Keywords:</b> Aeldari, Warhost<br><b>Keywords:</b> Bonesinger, Character, Infantry, Psyker, Elites"
      ],
      "text/plain": [
       "<IPython.core.display.HTML object>"
      ]
     },
     "metadata": {},
     "output_type": "display_data"
    },
    {
     "name": "stderr",
     "output_type": "stream",
     "text": [
      "WARNING:root:Could not get troop type []\n"
     ]
    },
    {
     "data": {
      "text/html": [
       "<h1>Treasures of the Craftworld (1 Relic)</h1><p>[unknown] []</p>\n",
       "    <table style=\"width:75%\">\n",
       "        <tr>\n",
       "            <th style=\"width: 30.0%;\"><b>Name</b></th><th style=\"width: 10.0%;\"><b>Move</b></th><th style=\"width: 7.5%;\"><b>WS</b></th><th style=\"width: 7.5%;\"><b>BS</b></th><th style=\"width: 7.5%;\"><b>S</b></th><th style=\"width: 7.5%;\"><b>T</b></th><th style=\"width: 7.5%;\"><b>W</b></th><th style=\"width: 7.5%;\"><b>A</b></th><th style=\"width: 7.5%;\"><b>L</b></th><th style=\"width: 7.5%;\"><b>Sv</b></th>\n",
       "        </tr>\n",
       "        \n",
       "    </table> Unit contains x of y, x of y with a,b,c<br>\n",
       "    <table style=\"width:75%\">\n",
       "        <tr>\n",
       "            <th style=\"width: 30.0%;\"><b>Weapon</b></th><th style=\"width: 5.0%;\"><b>Range</b></th><th style=\"width: 10.0%;\"><b>Type</b></th><th style=\"width: 5.0%;\"><b>S</b></th><th style=\"width: 5.0%;\"><b>AP</b></th><th style=\"width: 5.0%;\"><b>D</b></th><th style=\"width: 40.0%;\"><b>Abilities</b></th>\n",
       "        </tr>\n",
       "        \n",
       "    </table> <b>Abilities:</b><ul></ul><b>Faction Keywords:</b> <br><b>Keywords:</b> Stratagems"
      ],
      "text/plain": [
       "<IPython.core.display.HTML object>"
      ]
     },
     "metadata": {},
     "output_type": "display_data"
    },
    {
     "name": "stderr",
     "output_type": "stream",
     "text": [
      "WARNING:root:Could not get troop type []\n"
     ]
    },
    {
     "data": {
      "text/html": [
       "<h1>Treasures of the Craftworld (2 Relics)</h1><p>[unknown] []</p>\n",
       "    <table style=\"width:75%\">\n",
       "        <tr>\n",
       "            <th style=\"width: 30.0%;\"><b>Name</b></th><th style=\"width: 10.0%;\"><b>Move</b></th><th style=\"width: 7.5%;\"><b>WS</b></th><th style=\"width: 7.5%;\"><b>BS</b></th><th style=\"width: 7.5%;\"><b>S</b></th><th style=\"width: 7.5%;\"><b>T</b></th><th style=\"width: 7.5%;\"><b>W</b></th><th style=\"width: 7.5%;\"><b>A</b></th><th style=\"width: 7.5%;\"><b>L</b></th><th style=\"width: 7.5%;\"><b>Sv</b></th>\n",
       "        </tr>\n",
       "        \n",
       "    </table> Unit contains x of y, x of y with a,b,c<br>\n",
       "    <table style=\"width:75%\">\n",
       "        <tr>\n",
       "            <th style=\"width: 30.0%;\"><b>Weapon</b></th><th style=\"width: 5.0%;\"><b>Range</b></th><th style=\"width: 10.0%;\"><b>Type</b></th><th style=\"width: 5.0%;\"><b>S</b></th><th style=\"width: 5.0%;\"><b>AP</b></th><th style=\"width: 5.0%;\"><b>D</b></th><th style=\"width: 40.0%;\"><b>Abilities</b></th>\n",
       "        </tr>\n",
       "        \n",
       "    </table> <b>Abilities:</b><ul></ul><b>Faction Keywords:</b> <br><b>Keywords:</b> Stratagems"
      ],
      "text/plain": [
       "<IPython.core.display.HTML object>"
      ]
     },
     "metadata": {},
     "output_type": "display_data"
    },
    {
     "name": "stderr",
     "output_type": "stream",
     "text": [
      "WARNING:root:Could not get troop type []\n"
     ]
    },
    {
     "data": {
      "text/html": [
       "<h1>Amallyn Shadowguide</h1><p>[unknown] [ PL:3, pts:50]</p>\n",
       "    <table style=\"width:75%\">\n",
       "        <tr>\n",
       "            <th style=\"width: 30.0%;\"><b>Name</b></th><th style=\"width: 10.0%;\"><b>Move</b></th><th style=\"width: 7.5%;\"><b>WS</b></th><th style=\"width: 7.5%;\"><b>BS</b></th><th style=\"width: 7.5%;\"><b>S</b></th><th style=\"width: 7.5%;\"><b>T</b></th><th style=\"width: 7.5%;\"><b>W</b></th><th style=\"width: 7.5%;\"><b>A</b></th><th style=\"width: 7.5%;\"><b>L</b></th><th style=\"width: 7.5%;\"><b>Sv</b></th>\n",
       "        </tr>\n",
       "        <tr><td>Amallyn Shadowguide</td><td>7\"</td><td>3+</td><td>2+</td><td>3</td><td>3</td><td>3</td><td>2</td><td>7</td><td>5+</td></tr>\n",
       "    </table> Unit contains x of y, x of y with a,b,c<br>\n",
       "    <table style=\"width:75%\">\n",
       "        <tr>\n",
       "            <th style=\"width: 30.0%;\"><b>Weapon</b></th><th style=\"width: 5.0%;\"><b>Range</b></th><th style=\"width: 10.0%;\"><b>Type</b></th><th style=\"width: 5.0%;\"><b>S</b></th><th style=\"width: 5.0%;\"><b>AP</b></th><th style=\"width: 5.0%;\"><b>D</b></th><th style=\"width: 40.0%;\"><b>Abilities</b></th>\n",
       "        </tr>\n",
       "        <tr><td>Power blade</td><td>Melee</td><td>Melee</td><td>User</td><td>-2</td><td>1</td><td>-</td></tr><tr><td>Plasma Grenade</td><td>6\"</td><td>Grenade D6</td><td>4</td><td>-1</td><td>1</td><td>-</td></tr><tr><td>Ranger Long Rifle</td><td>36\"</td><td>Heavy 1</td><td>4</td><td>0</td><td>1</td><td>This weapon may target a CHARACTER even if it is not the closest enemy unit. Each time you roll a wound roll of 6+ for this weapon, it inflicts a mortal wound in addition to any other damage.</td></tr>\n",
       "    </table> <b>Abilities:</b><ul><li><b>Phase Crystal</b> Amallyn Shadowguide has a 4+ invulnerable save and can move across models and terrain as if they were not there.</li><br><li><b>Amallyn Shadowguide</b> None</li><br><li><b>Appear Unbidden</b> During deployment, you can set up Amallyn Shadowguide walking the winding paths of the webway instead of placing it on the battlefield. At the end of one of your Movement phases, this\n",
       "unit can emerge from the webway – set this unit up anywhere on the battlefield that is more than 9\" away from any enemy models.</li><br><li><b>Cameleoline Cloak</b> Your opponent must subract 1 from their hit rolls for ranged weapons that target Amallyn Shadowguide. In addition, if Amallyn Shadowguide is receiving the benefit of cover, add 2 to her saving throws instead of 1.</li></ul><b>Faction Keywords:</b> Aeldari, Warhost, Biel-Tan<br><b>Keywords:</b> Character, Infantry, Ranger, Elites"
      ],
      "text/plain": [
       "<IPython.core.display.HTML object>"
      ]
     },
     "metadata": {},
     "output_type": "display_data"
    },
    {
     "name": "stderr",
     "output_type": "stream",
     "text": [
      "WARNING:root:Could not get troop type []\n"
     ]
    },
    {
     "data": {
      "text/html": [
       "<h1>Specialist Detachment</h1><p>[unknown] []</p>\n",
       "    <table style=\"width:75%\">\n",
       "        <tr>\n",
       "            <th style=\"width: 30.0%;\"><b>Name</b></th><th style=\"width: 10.0%;\"><b>Move</b></th><th style=\"width: 7.5%;\"><b>WS</b></th><th style=\"width: 7.5%;\"><b>BS</b></th><th style=\"width: 7.5%;\"><b>S</b></th><th style=\"width: 7.5%;\"><b>T</b></th><th style=\"width: 7.5%;\"><b>W</b></th><th style=\"width: 7.5%;\"><b>A</b></th><th style=\"width: 7.5%;\"><b>L</b></th><th style=\"width: 7.5%;\"><b>Sv</b></th>\n",
       "        </tr>\n",
       "        \n",
       "    </table> Unit contains x of y, x of y with a,b,c<br>\n",
       "    <table style=\"width:75%\">\n",
       "        <tr>\n",
       "            <th style=\"width: 30.0%;\"><b>Weapon</b></th><th style=\"width: 5.0%;\"><b>Range</b></th><th style=\"width: 10.0%;\"><b>Type</b></th><th style=\"width: 5.0%;\"><b>S</b></th><th style=\"width: 5.0%;\"><b>AP</b></th><th style=\"width: 5.0%;\"><b>D</b></th><th style=\"width: 40.0%;\"><b>Abilities</b></th>\n",
       "        </tr>\n",
       "        \n",
       "    </table> <b>Abilities:</b><ul></ul><b>Faction Keywords:</b> <br><b>Keywords:</b> Stratagems"
      ],
      "text/plain": [
       "<IPython.core.display.HTML object>"
      ]
     },
     "metadata": {},
     "output_type": "display_data"
    },
    {
     "name": "stderr",
     "output_type": "stream",
     "text": [
      "WARNING:root:Unknown reference selectionEntry Has Battle Honours 4763-757f-499f-d998\n",
      "WARNING:root:Unknown reference selectionEntryGroup Battle Honours 5518-d0f5-a880-d71c\n",
      "WARNING:root:Could not get troop type []\n"
     ]
    },
    {
     "data": {
      "text/html": [
       "<h1>Storm Serpent (PTest)</h1><p>[unknown] [pts:380,  PL:28]</p>\n",
       "    <table style=\"width:75%\">\n",
       "        <tr>\n",
       "            <th style=\"width: 30.0%;\"><b>Name</b></th><th style=\"width: 10.0%;\"><b>Move</b></th><th style=\"width: 7.5%;\"><b>WS</b></th><th style=\"width: 7.5%;\"><b>BS</b></th><th style=\"width: 7.5%;\"><b>S</b></th><th style=\"width: 7.5%;\"><b>T</b></th><th style=\"width: 7.5%;\"><b>W</b></th><th style=\"width: 7.5%;\"><b>A</b></th><th style=\"width: 7.5%;\"><b>L</b></th><th style=\"width: 7.5%;\"><b>Sv</b></th>\n",
       "        </tr>\n",
       "        <tr><td>Storm Serpent</td><td>*</td><td>6+</td><td>*</td><td>8</td><td>8</td><td>26</td><td>*</td><td>9</td><td>3+</td></tr>\n",
       "    </table> Unit contains x of y, x of y with a,b,c<br>\n",
       "    <table style=\"width:75%\">\n",
       "        <tr>\n",
       "            <th style=\"width: 30.0%;\"><b>Weapon</b></th><th style=\"width: 5.0%;\"><b>Range</b></th><th style=\"width: 10.0%;\"><b>Type</b></th><th style=\"width: 5.0%;\"><b>S</b></th><th style=\"width: 5.0%;\"><b>AP</b></th><th style=\"width: 5.0%;\"><b>D</b></th><th style=\"width: 40.0%;\"><b>Abilities</b></th>\n",
       "        </tr>\n",
       "        <tr><td>Pulse Laser</td><td>48\"</td><td>Heavy 2</td><td>8</td><td>-3</td><td>3</td><td>-</td></tr>\n",
       "    </table> <b>Abilities:</b><ul><li><b>Catastrophic Explosion</b> If this model is reduced to 0 wounds, roll a D6 before removing it from the battlefield; on a 5+ it explodes and each unit within 6\" suffers D6 mortal wounds.</li><br><li><b>Eldritch Aura</b> This model has a 5+ Invulnerable save</li><br><li><b>Webway Strike</b> After you set up this model, any AELDARI units you have not yet set up during deployment, other than fortifications, can be set up in a webway spar rather than being set up on the battlefield. One unit in a webway spar can emerge from each friendly WEBWAY GATE at the end of each of your movement phases - Set them up wholly within 3\" of the webway gate and more than 9\" away from any enemy models. If all friendly WEBWAY GATES have been destroyed, any units that have not yet arrived from a webway spar are considered to be slain</li><br><li><b>Hover Tank</b> Distance and ranges are always measured to and from this model's hull, even though it has a base.</li></ul><b>Faction Keywords:</b> <Craftworld><br><b>Keywords:</b> New CategoryLink, Lord of War, Fly, Vehicle"
      ],
      "text/plain": [
       "<IPython.core.display.HTML object>"
      ]
     },
     "metadata": {},
     "output_type": "display_data"
    },
    {
     "name": "stderr",
     "output_type": "stream",
     "text": [
      "WARNING:root:Unknown reference selectionEntry Is A Custom Character 43c4-8968-c599-ad5f\n",
      "WARNING:root:Unknown reference selectionEntryGroup Custom Character Selections 8774-e003-4a50-56c7\n",
      "WARNING:root:Unknown reference selectionEntry Ynnari Warlord 75e4-e07c-3a6d-46c5\n",
      "WARNING:root:Unknown reference selectionEntryGroup Warlord Traits (Ynnari) 2fc3-8ba7-0594-29f6\n",
      "WARNING:root:Could not get troop type []\n"
     ]
    },
    {
     "data": {
      "text/html": [
       "<h1>Autarch</h1><p>[unknown] [ PL:4, pts:65]</p>\n",
       "    <table style=\"width:75%\">\n",
       "        <tr>\n",
       "            <th style=\"width: 30.0%;\"><b>Name</b></th><th style=\"width: 10.0%;\"><b>Move</b></th><th style=\"width: 7.5%;\"><b>WS</b></th><th style=\"width: 7.5%;\"><b>BS</b></th><th style=\"width: 7.5%;\"><b>S</b></th><th style=\"width: 7.5%;\"><b>T</b></th><th style=\"width: 7.5%;\"><b>W</b></th><th style=\"width: 7.5%;\"><b>A</b></th><th style=\"width: 7.5%;\"><b>L</b></th><th style=\"width: 7.5%;\"><b>Sv</b></th>\n",
       "        </tr>\n",
       "        <tr><td>Autarch</td><td>7\"</td><td>2+</td><td>2+</td><td>3</td><td>3</td><td>5</td><td>4</td><td>9</td><td>3+</td></tr>\n",
       "    </table> Unit contains x of y, x of y with a,b,c<br>\n",
       "    <table style=\"width:75%\">\n",
       "        <tr>\n",
       "            <th style=\"width: 30.0%;\"><b>Weapon</b></th><th style=\"width: 5.0%;\"><b>Range</b></th><th style=\"width: 10.0%;\"><b>Type</b></th><th style=\"width: 5.0%;\"><b>S</b></th><th style=\"width: 5.0%;\"><b>AP</b></th><th style=\"width: 5.0%;\"><b>D</b></th><th style=\"width: 40.0%;\"><b>Abilities</b></th>\n",
       "        </tr>\n",
       "        <tr><td>Plasma Grenade</td><td>6\"</td><td>Grenade D6</td><td>4</td><td>-1</td><td>1</td><td>-</td></tr><tr><td>Warp-Spawn Bane</td><td>Melee</td><td>Melee</td><td>User</td><td>0</td><td>2</td><td>This weapon always wounds on a roll of 2+. In addition, ignore invulnerable saves for attacks made by this weapon that target enemy PSYKERS or DAEMONS.</td></tr><tr><td>Kurnous' Bow</td><td>12\"</td><td>Pistol 1</td><td>4</td><td>0</td><td>2</td><td>Each time you make a wound roll of 4+ for this weapon, that hit is resolved with an AP of -3 instead of 0.</td></tr><tr><td>The Novalance of Saim-Hann (shooting)</td><td>12\"</td><td>Assault 1</td><td>6</td><td>-4</td><td>2</td><td>-</td></tr><tr><td>Firesabre</td><td>Melee</td><td>Melee</td><td>+1</td><td>-4</td><td>1</td><td>Each time you make a wound roll of 6+ for this weapon, it inflicts a mortal wound on the target instead of the normal damage.</td></tr><tr><td>Star Glaive</td><td>Melee</td><td>Melee</td><td>x2</td><td>-3</td><td>D3</td><td>When attacking with this weapon, you must subtract 1 from the hit roll.</td></tr><tr><td>Shard of Anaris</td><td>Melee</td><td>Melee</td><td>User</td><td>-3</td><td>D3</td><td>You can re-roll failed wound rolls for this weapon.</td></tr><tr><td>The Burnished Blade of Elliarna</td><td>Melee</td><td>Melee</td><td>User</td><td>-3</td><td>2</td><td>Add 1 to this weapon's Strength and Damage characteristics for any attack made for it that targets an ORK unit.</td></tr><tr><td>Howling Skysword of Galaleth</td><td>Melee</td><td>Melee</td><td>User</td><td>0</td><td>3</td><td>This weapon always wounds on a roll of 2+.</td></tr><tr><td>The Novalance of Saim-Hann (melee)</td><td>Melee</td><td>Melee</td><td>+2</td><td>-4</td><td>2</td><td>Attacks with this weapon in the Fight phase are made at Strength 8 if the bearer charged in the same turn. In addition, if the wound roll for an attack made with this weapon is 6+, add 2 to the damage inflicted by that attack.</td></tr>\n",
       "    </table> <b>Abilities:</b><ul><li><b>Forceshield</b> This model has a 4+ invulnerable save.</li><br><li><b>Kurnous' Bow</b> Model with a shuriken pistol only. Kurnous' Bow replaces this model's shuriken pistol and has the following profile.</li><br><li><b>The Phoenix Gem</b> The first time this model is slain, roll a D6 for each unit (friend or foe) within 3\" of this model. On a roll of 2 or more, that unit suffers D3 mortal wounds. If at least one mortal wound is inflicted as a result of this, then this model is not slain, but remains in play with a single wound remaining. If no mortal wounds are inflicted, this model is slain.</li><br><li><b>Shard of Anaris</b> Model with a power sword only. The Shard of Anaris replaces this model's power sword and has the following profile:</li><br><li><b>Faolchu's Wing</b> INFANTRY model only. The bearer of Faolchu's Wing has a Move characteristic of 12\" and can FLY.</li><br><li><b>Firesabre</b> Model with a power sword only. The Shard of Anaris replaces this model's power sword and has the following profile</li><br><li><b>The Spirit Stone of Anath'lan</b> BIEL-TAN PSYKER models only. You can re-roll any failed Psychic tests for the bearer. However, should this result in a second failure, then this model is overwhelmed by waves of grief and cannot attempt to manifest any more psychic powers this phase.</li><br><li><b>Shiftshroud of Alanssair</b> ALAITOC INFANTRY model only. Your opponent must subtract 1 from their rolls for attacks that target the bearer in the Shooting phase. In addition, during deployment, you may set up this model in hiding instead of placing it on the battlefield. At the end of any of your Movement phases, this unit can emerge from the webway – set this unit up anywhere on the battlefield that is more than 9\" away from any enemy models.</li><br><li><b>The Burnished Blade of Elliarna</b> BIEL-TAN model with a power sword only. The Burnished Blade of Elliarna replaces the model's power sword.</li><br><li><b>Psytronome of Iyanden</b> IYANDEN PSYKER only. Once during the battle, at the start of a Fight phase, you can declare that this model will activate the Psytronome of Iyanden. If you do so, for the rest of that Fight phase the Attacks characteristics of all friendly IYANDEN WRAITH CONSTRUCT  units that are within 6\" of this model are doubled. However, at the end of the Fight phase, each IYANDEN WRAITH CONSTRUCT unit that was affected by the Psytronome suffers D3 mortal wounds.</li><br><li><b>The Novalance of Saim-Hann</b> SAIM-HANN model with a laser lance only.</li><br><li><b>Ghosthelm of Alishazier</b> ULTHWE PSYKER only. The wearer adds 1 to any Psychic test when attempting to manifest the Smite power.</li><br><li><b>Blazing Star of Vaul</b> Model with a shuriken pistol or twin shuriken catapult only. One shuriken weapon carried by the model is a Blazing Star of Vaul. Add 2 to the number of attacks that the weapon can make.</li><br><li><b>Shimmerplume of Achillrial</b> AUTARCH only. Subtract 1 from all hit rolls that target this model.</li></ul><b>Faction Keywords:</b> Aeldari, Warhost<br><b>Keywords:</b> Autarch, Character, HQ, Infantry"
      ],
      "text/plain": [
       "<IPython.core.display.HTML object>"
      ]
     },
     "metadata": {},
     "output_type": "display_data"
    },
    {
     "name": "stderr",
     "output_type": "stream",
     "text": [
      "WARNING:root:Unknown reference selectionEntry Is A Custom Character 43c4-8968-c599-ad5f\n",
      "WARNING:root:Unknown reference selectionEntryGroup Custom Character Selections 8774-e003-4a50-56c7\n",
      "WARNING:root:Unknown reference selectionEntry Stratagem: Field Commander d043-3847-e963-fb5d\n",
      "WARNING:root:Unknown reference selectionEntry Ynnari Warlord 75e4-e07c-3a6d-46c5\n",
      "WARNING:root:Unknown reference selectionEntryGroup Warlord Traits (Ynnari) 2fc3-8ba7-0594-29f6\n",
      "WARNING:root:Could not get troop type []\n"
     ]
    },
    {
     "data": {
      "text/html": [
       "<h1>Autarch Skyrunner</h1><p>[unknown] [ PL:6, pts:95]</p>\n",
       "    <table style=\"width:75%\">\n",
       "        <tr>\n",
       "            <th style=\"width: 30.0%;\"><b>Name</b></th><th style=\"width: 10.0%;\"><b>Move</b></th><th style=\"width: 7.5%;\"><b>WS</b></th><th style=\"width: 7.5%;\"><b>BS</b></th><th style=\"width: 7.5%;\"><b>S</b></th><th style=\"width: 7.5%;\"><b>T</b></th><th style=\"width: 7.5%;\"><b>W</b></th><th style=\"width: 7.5%;\"><b>A</b></th><th style=\"width: 7.5%;\"><b>L</b></th><th style=\"width: 7.5%;\"><b>Sv</b></th>\n",
       "        </tr>\n",
       "        <tr><td>Autarch Skyrunner</td><td>16\"</td><td>2+</td><td>2+</td><td>3</td><td>4</td><td>6</td><td>4</td><td>9</td><td>3+</td></tr>\n",
       "    </table> Unit contains x of y, x of y with a,b,c<br>\n",
       "    <table style=\"width:75%\">\n",
       "        <tr>\n",
       "            <th style=\"width: 30.0%;\"><b>Weapon</b></th><th style=\"width: 5.0%;\"><b>Range</b></th><th style=\"width: 10.0%;\"><b>Type</b></th><th style=\"width: 5.0%;\"><b>S</b></th><th style=\"width: 5.0%;\"><b>AP</b></th><th style=\"width: 5.0%;\"><b>D</b></th><th style=\"width: 40.0%;\"><b>Abilities</b></th>\n",
       "        </tr>\n",
       "        <tr><td>Warp-Spawn Bane</td><td>Melee</td><td>Melee</td><td>User</td><td>0</td><td>2</td><td>This weapon always wounds on a roll of 2+. In addition, ignore invulnerable saves for attacks made by this weapon that target enemy PSYKERS or DAEMONS.</td></tr><tr><td>Kurnous' Bow</td><td>12\"</td><td>Pistol 1</td><td>4</td><td>0</td><td>2</td><td>Each time you make a wound roll of 4+ for this weapon, that hit is resolved with an AP of -3 instead of 0.</td></tr><tr><td>The Novalance of Saim-Hann (shooting)</td><td>12\"</td><td>Assault 1</td><td>6</td><td>-4</td><td>2</td><td>-</td></tr><tr><td>Firesabre</td><td>Melee</td><td>Melee</td><td>+1</td><td>-4</td><td>1</td><td>Each time you make a wound roll of 6+ for this weapon, it inflicts a mortal wound on the target instead of the normal damage.</td></tr><tr><td>Shard of Anaris</td><td>Melee</td><td>Melee</td><td>User</td><td>-3</td><td>D3</td><td>You can re-roll failed wound rolls for this weapon.</td></tr><tr><td>Twin Shuriken Catapult</td><td>12\"</td><td>Assault 4</td><td>4</td><td>0</td><td>1</td><td>Each time you make a wound roll of 6+ for this weapon, that hit is resolved with an AP of -3 instead of 0.</td></tr><tr><td>The Burnished Blade of Elliarna</td><td>Melee</td><td>Melee</td><td>User</td><td>-3</td><td>2</td><td>Add 1 to this weapon's Strength and Damage characteristics for any attack made for it that targets an ORK unit.</td></tr><tr><td>Howling Skysword of Galaleth</td><td>Melee</td><td>Melee</td><td>User</td><td>0</td><td>3</td><td>This weapon always wounds on a roll of 2+.</td></tr><tr><td>The Novalance of Saim-Hann (melee)</td><td>Melee</td><td>Melee</td><td>+2</td><td>-4</td><td>2</td><td>Attacks with this weapon in the Fight phase are made at Strength 8 if the bearer charged in the same turn. In addition, if the wound roll for an attack made with this weapon is 6+, add 2 to the damage inflicted by that attack.</td></tr>\n",
       "    </table> <b>Abilities:</b><ul><li><b>Peerless Agility</b> This model has a 4+ invulnerable save.</li><br><li><b>Ride the Wind</b> When this model Advances, add 6\" to its Move characteristic for that Movement phase instead of rolling a dice.</li><br><li><b>Kurnous' Bow</b> Model with a shuriken pistol only. Kurnous' Bow replaces this model's shuriken pistol and has the following profile.</li><br><li><b>The Phoenix Gem</b> The first time this model is slain, roll a D6 for each unit (friend or foe) within 3\" of this model. On a roll of 2 or more, that unit suffers D3 mortal wounds. If at least one mortal wound is inflicted as a result of this, then this model is not slain, but remains in play with a single wound remaining. If no mortal wounds are inflicted, this model is slain.</li><br><li><b>Shard of Anaris</b> Model with a power sword only. The Shard of Anaris replaces this model's power sword and has the following profile:</li><br><li><b>Faolchu's Wing</b> INFANTRY model only. The bearer of Faolchu's Wing has a Move characteristic of 12\" and can FLY.</li><br><li><b>Firesabre</b> Model with a power sword only. The Shard of Anaris replaces this model's power sword and has the following profile</li><br><li><b>The Spirit Stone of Anath'lan</b> BIEL-TAN PSYKER models only. You can re-roll any failed Psychic tests for the bearer. However, should this result in a second failure, then this model is overwhelmed by waves of grief and cannot attempt to manifest any more psychic powers this phase.</li><br><li><b>Shiftshroud of Alanssair</b> ALAITOC INFANTRY model only. Your opponent must subtract 1 from their rolls for attacks that target the bearer in the Shooting phase. In addition, during deployment, you may set up this model in hiding instead of placing it on the battlefield. At the end of any of your Movement phases, this unit can emerge from the webway – set this unit up anywhere on the battlefield that is more than 9\" away from any enemy models.</li><br><li><b>The Burnished Blade of Elliarna</b> BIEL-TAN model with a power sword only. The Burnished Blade of Elliarna replaces the model's power sword.</li><br><li><b>Psytronome of Iyanden</b> IYANDEN PSYKER only. Once during the battle, at the start of a Fight phase, you can declare that this model will activate the Psytronome of Iyanden. If you do so, for the rest of that Fight phase the Attacks characteristics of all friendly IYANDEN WRAITH CONSTRUCT  units that are within 6\" of this model are doubled. However, at the end of the Fight phase, each IYANDEN WRAITH CONSTRUCT unit that was affected by the Psytronome suffers D3 mortal wounds.</li><br><li><b>The Novalance of Saim-Hann</b> SAIM-HANN model with a laser lance only.</li><br><li><b>Ghosthelm of Alishazier</b> ULTHWE PSYKER only. The wearer adds 1 to any Psychic test when attempting to manifest the Smite power.</li><br><li><b>Blazing Star of Vaul</b> Model with a shuriken pistol or twin shuriken catapult only. One shuriken weapon carried by the model is a Blazing Star of Vaul. Add 2 to the number of attacks that the weapon can make.</li><br><li><b>Shimmerplume of Achillrial</b> AUTARCH only. Subtract 1 from all hit rolls that target this model.</li></ul><b>Faction Keywords:</b> Aeldari, Warhost<br><b>Keywords:</b> Autarch, Character, Fly, HQ, Biker, Autarch Skyrunner"
      ],
      "text/plain": [
       "<IPython.core.display.HTML object>"
      ]
     },
     "metadata": {},
     "output_type": "display_data"
    },
    {
     "name": "stderr",
     "output_type": "stream",
     "text": [
      "WARNING:root:Unknown reference selectionEntry Power sword bc9e-551d-9afb-78d5\n",
      "WARNING:root:Unknown reference selectionEntry Is A Custom Character 43c4-8968-c599-ad5f\n",
      "WARNING:root:Unknown reference selectionEntryGroup Custom Character Selections 8774-e003-4a50-56c7\n",
      "WARNING:root:Unknown reference selectionEntry Ynnari Warlord 75e4-e07c-3a6d-46c5\n",
      "WARNING:root:Unknown reference selectionEntryGroup Warlord Traits (Ynnari) 2fc3-8ba7-0594-29f6\n",
      "WARNING:root:Could not get troop type []\n"
     ]
    },
    {
     "data": {
      "text/html": [
       "<h1>Autarch with Swooping Hawk Wings</h1><p>[unknown] [ PL:5, pts:80]</p>\n",
       "    <table style=\"width:75%\">\n",
       "        <tr>\n",
       "            <th style=\"width: 30.0%;\"><b>Name</b></th><th style=\"width: 10.0%;\"><b>Move</b></th><th style=\"width: 7.5%;\"><b>WS</b></th><th style=\"width: 7.5%;\"><b>BS</b></th><th style=\"width: 7.5%;\"><b>S</b></th><th style=\"width: 7.5%;\"><b>T</b></th><th style=\"width: 7.5%;\"><b>W</b></th><th style=\"width: 7.5%;\"><b>A</b></th><th style=\"width: 7.5%;\"><b>L</b></th><th style=\"width: 7.5%;\"><b>Sv</b></th>\n",
       "        </tr>\n",
       "        <tr><td>Autarch with Swooping Hawk Wings</td><td>14\"</td><td>2+</td><td>2+</td><td>3</td><td>3</td><td>5</td><td>4</td><td>9</td><td>3+</td></tr>\n",
       "    </table> Unit contains x of y, x of y with a,b,c<br>\n",
       "    <table style=\"width:75%\">\n",
       "        <tr>\n",
       "            <th style=\"width: 30.0%;\"><b>Weapon</b></th><th style=\"width: 5.0%;\"><b>Range</b></th><th style=\"width: 10.0%;\"><b>Type</b></th><th style=\"width: 5.0%;\"><b>S</b></th><th style=\"width: 5.0%;\"><b>AP</b></th><th style=\"width: 5.0%;\"><b>D</b></th><th style=\"width: 40.0%;\"><b>Abilities</b></th>\n",
       "        </tr>\n",
       "        <tr><td>Plasma Grenade</td><td>6\"</td><td>Grenade D6</td><td>4</td><td>-1</td><td>1</td><td>-</td></tr><tr><td>Warp-Spawn Bane</td><td>Melee</td><td>Melee</td><td>User</td><td>0</td><td>2</td><td>This weapon always wounds on a roll of 2+. In addition, ignore invulnerable saves for attacks made by this weapon that target enemy PSYKERS or DAEMONS.</td></tr><tr><td>The Novalance of Saim-Hann (shooting)</td><td>12\"</td><td>Assault 1</td><td>6</td><td>-4</td><td>2</td><td>-</td></tr><tr><td>Kurnous' Bow</td><td>12\"</td><td>Pistol 1</td><td>4</td><td>0</td><td>2</td><td>Each time you make a wound roll of 4+ for this weapon, that hit is resolved with an AP of -3 instead of 0.</td></tr><tr><td>Firesabre</td><td>Melee</td><td>Melee</td><td>+1</td><td>-4</td><td>1</td><td>Each time you make a wound roll of 6+ for this weapon, it inflicts a mortal wound on the target instead of the normal damage.</td></tr><tr><td>Shard of Anaris</td><td>Melee</td><td>Melee</td><td>User</td><td>-3</td><td>D3</td><td>You can re-roll failed wound rolls for this weapon.</td></tr><tr><td>Fusion Pistol</td><td>6\"</td><td>Pistol 1</td><td>8</td><td>-4</td><td>D6</td><td>If the target is within half range of this weapon, roll two dice when inflicting damage with it and discard the lowest result.</td></tr><tr><td>The Burnished Blade of Elliarna</td><td>Melee</td><td>Melee</td><td>User</td><td>-3</td><td>2</td><td>Add 1 to this weapon's Strength and Damage characteristics for any attack made for it that targets an ORK unit.</td></tr><tr><td>Howling Skysword of Galaleth</td><td>Melee</td><td>Melee</td><td>User</td><td>0</td><td>3</td><td>This weapon always wounds on a roll of 2+.</td></tr><tr><td>The Novalance of Saim-Hann (melee)</td><td>Melee</td><td>Melee</td><td>+2</td><td>-4</td><td>2</td><td>Attacks with this weapon in the Fight phase are made at Strength 8 if the bearer charged in the same turn. In addition, if the wound roll for an attack made with this weapon is 6+, add 2 to the damage inflicted by that attack.</td></tr>\n",
       "    </table> <b>Abilities:</b><ul><li><b>Children of Baharroth</b> During deployment, you can set up this model in the skies instead of on the battlefield. At the end of any of your Movement phases this model can descend - set it up anywhere on the battlefield that is more than 9\" away from any enemy models.</li><br><li><b>Skyleap</b> At the beginning of your Movement phase, if this model is not within 1\" of an enemy model it can leap back into the skies. Remove this model from the battlefield. It can return to the battlefield as described in the Children of Baharroth ability. This model may not both Skyleap and descend on Swooping Hawk wings in the same turn. If the battle ends while this model is in the skies, it is considered to be slain.</li><br><li><b>Forceshield</b> This model has a 4+ invulnerable save.</li><br><li><b>Kurnous' Bow</b> Model with a shuriken pistol only. Kurnous' Bow replaces this model's shuriken pistol and has the following profile.</li><br><li><b>The Phoenix Gem</b> The first time this model is slain, roll a D6 for each unit (friend or foe) within 3\" of this model. On a roll of 2 or more, that unit suffers D3 mortal wounds. If at least one mortal wound is inflicted as a result of this, then this model is not slain, but remains in play with a single wound remaining. If no mortal wounds are inflicted, this model is slain.</li><br><li><b>Shard of Anaris</b> Model with a power sword only. The Shard of Anaris replaces this model's power sword and has the following profile:</li><br><li><b>Faolchu's Wing</b> INFANTRY model only. The bearer of Faolchu's Wing has a Move characteristic of 12\" and can FLY.</li><br><li><b>Firesabre</b> Model with a power sword only. The Shard of Anaris replaces this model's power sword and has the following profile</li><br><li><b>The Spirit Stone of Anath'lan</b> BIEL-TAN PSYKER models only. You can re-roll any failed Psychic tests for the bearer. However, should this result in a second failure, then this model is overwhelmed by waves of grief and cannot attempt to manifest any more psychic powers this phase.</li><br><li><b>Shiftshroud of Alanssair</b> ALAITOC INFANTRY model only. Your opponent must subtract 1 from their rolls for attacks that target the bearer in the Shooting phase. In addition, during deployment, you may set up this model in hiding instead of placing it on the battlefield. At the end of any of your Movement phases, this unit can emerge from the webway – set this unit up anywhere on the battlefield that is more than 9\" away from any enemy models.</li><br><li><b>The Burnished Blade of Elliarna</b> BIEL-TAN model with a power sword only. The Burnished Blade of Elliarna replaces the model's power sword.</li><br><li><b>Psytronome of Iyanden</b> IYANDEN PSYKER only. Once during the battle, at the start of a Fight phase, you can declare that this model will activate the Psytronome of Iyanden. If you do so, for the rest of that Fight phase the Attacks characteristics of all friendly IYANDEN WRAITH CONSTRUCT  units that are within 6\" of this model are doubled. However, at the end of the Fight phase, each IYANDEN WRAITH CONSTRUCT unit that was affected by the Psytronome suffers D3 mortal wounds.</li><br><li><b>The Novalance of Saim-Hann</b> SAIM-HANN model with a laser lance only.</li><br><li><b>Ghosthelm of Alishazier</b> ULTHWE PSYKER only. The wearer adds 1 to any Psychic test when attempting to manifest the Smite power.</li><br><li><b>Blazing Star of Vaul</b> Model with a shuriken pistol or twin shuriken catapult only. One shuriken weapon carried by the model is a Blazing Star of Vaul. Add 2 to the number of attacks that the weapon can make.</li><br><li><b>Shimmerplume of Achillrial</b> AUTARCH only. Subtract 1 from all hit rolls that target this model.</li><br><li><b>Mandiblasters (Autarch)</b> At the beginning of each Fight phase, you can pick a single enemy INFANTRY unit within 1\" of this model and roll a D6. On a roll of 6, that unit suffers a mortal wound.</li></ul><b>Faction Keywords:</b> Aeldari, Warhost<br><b>Keywords:</b> Autarch, Character, Fly, HQ, Infantry, Jump Pack"
      ],
      "text/plain": [
       "<IPython.core.display.HTML object>"
      ]
     },
     "metadata": {},
     "output_type": "display_data"
    }
   ],
   "source": [
    "def download_catalogue(filename):\n",
    "    path = 'https://raw.githubusercontent.com/BSData/wh40k/master/{}'.format(filename)\n",
    "    r = requests.get(path)\n",
    "    root = etree.fromstring(r.content, etree.XMLParser(remove_blank_text=True))\n",
    "    load_catalogue(root, base)\n",
    "    \n",
    "for c in catalogues[:1]:\n",
    "    download_catalogue(c)"
   ]
  },
  {
   "cell_type": "code",
   "execution_count": null,
   "metadata": {},
   "outputs": [],
   "source": []
  }
 ],
 "metadata": {
  "kernelspec": {
   "display_name": "Python 3",
   "language": "python",
   "name": "python3"
  },
  "language_info": {
   "codemirror_mode": {
    "name": "ipython",
    "version": 3
   },
   "file_extension": ".py",
   "mimetype": "text/x-python",
   "name": "python",
   "nbconvert_exporter": "python",
   "pygments_lexer": "ipython3",
   "version": "3.7.6"
  }
 },
 "nbformat": 4,
 "nbformat_minor": 4
}
